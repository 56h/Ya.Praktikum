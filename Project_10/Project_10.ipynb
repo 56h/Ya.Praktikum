{
 "cells": [
  {
   "cell_type": "markdown",
   "metadata": {},
   "source": [
    "# 1 Введение"
   ]
  },
  {
   "cell_type": "markdown",
   "metadata": {},
   "source": [
    "## 1.1 Постановка задачи"
   ]
  },
  {
   "cell_type": "markdown",
   "metadata": {},
   "source": [
    "**Заказчик** -- cервис по продаже автомобилей с пробегом  \n",
    "  \n",
    "**Задача** -- построить модель для определения стоимости автомобилей, которая будет использоваться в приложении для привлечения новых клиентов. В нём можно быстро узнать рыночную стоимость своего автомобиля.\n",
    "  \n",
    "Заказчику важны:\n",
    "- качество предсказания;\n",
    "- скорость предсказания;\n",
    "- время обучения."
   ]
  },
  {
   "cell_type": "markdown",
   "metadata": {},
   "source": [
    "## 1.2 Исходные данные"
   ]
  },
  {
   "cell_type": "markdown",
   "metadata": {},
   "source": [
    "### 1.2.1 Общее описание\n",
    "В нашем распоряжении исторические данные: технические характеристики, комплектации и цены автомобилей."
   ]
  },
  {
   "cell_type": "markdown",
   "metadata": {},
   "source": [
    "### 1.2.2 Переданные файлы\n",
    "- autos.csv"
   ]
  },
  {
   "cell_type": "markdown",
   "metadata": {},
   "source": [
    "### 1.2.3 Описание данных\n",
    "**Признаки**  \n",
    "- *DateCrawled* — дата скачивания анкеты из базы;\n",
    "- *VehicleType* — тип автомобильного кузова;\n",
    "- *RegistrationYear* — год регистрации автомобиля;\n",
    "- *Gearbox* — тип коробки передач;\n",
    "- *Power* — мощность (л. с.);\n",
    "- *Model* — модель автомобиля;\n",
    "- *Kilometer* — пробег (км);\n",
    "- *RegistrationMonth* — месяц регистрации автомобиля;\n",
    "- *FuelType* — тип топлива;\n",
    "- *Brand* — марка автомобиля;\n",
    "- *NotRepaired* — была машина в ремонте или нет;\n",
    "- *DateCreated* — дата создания анкеты;\n",
    "- *NumberOfPictures* — количество фотографий автомобиля;\n",
    "- *PostalCode* — почтовый индекс владельца анкеты (пользователя);\n",
    "- *LastSeen* — дата последней активности пользователя.\n",
    "  \n",
    "**Целевой признак**\n",
    "- *Price* — цена (евро)."
   ]
  },
  {
   "cell_type": "markdown",
   "metadata": {},
   "source": [
    "## 1.3 План обработки и анализа данных"
   ]
  },
  {
   "cell_type": "markdown",
   "metadata": {},
   "source": [
    "### 1.3.1 Предобработка данных\n",
    "- обзор данных;\n",
    "- корректировка имён столбцов (при необходимости);\n",
    "- обнаружение и удаление пропусков:\n",
    " - выявить пропуски;\n",
    " - проанализировать причины их появления;\n",
    " - заполнить пропуски (приняв решение по алгоритму заполнения), либо удалить их;\n",
    "- преобразование типов данных столбцов (при необходимости);\n",
    "- поиск и исправление ошибок (аномальных значений) в данных;\n",
    "- удаление дубликатов строк;\n",
    "- провести прямое кодирование категориальных признаков (при необходимости);\n",
    "- разбиение данных на обучающую и тестовые выборки, выделение целового признака."
   ]
  },
  {
   "cell_type": "markdown",
   "metadata": {},
   "source": [
    "### 1.3.2 Обучение различных моделей\n",
    "Обучить модели:\n",
    "- *Линейной регрессии*;\n",
    "- *LightGBM*;\n",
    "- *CatBoost*."
   ]
  },
  {
   "cell_type": "markdown",
   "metadata": {},
   "source": [
    "### 1.3.3 Анализ скорости работы и качества полученных моделей\n",
    "Для оценки качества моделей применить метрику *RMSE*"
   ]
  },
  {
   "cell_type": "markdown",
   "metadata": {},
   "source": [
    "### 1.3.6 Вывод"
   ]
  },
  {
   "cell_type": "markdown",
   "metadata": {},
   "source": [
    "## 1.4 Пользовательские функции"
   ]
  },
  {
   "cell_type": "code",
   "execution_count": 1,
   "metadata": {},
   "outputs": [],
   "source": [
    "import numpy as np\n",
    "import pandas as pd\n",
    "import matplotlib.pyplot as plt\n",
    "import seaborn as sns\n",
    "from IPython.core.display import HTML\n",
    "\n",
    "from sklearn.model_selection import train_test_split\n",
    "from sklearn.metrics import mean_squared_error\n",
    "\n",
    "pd.options.display.float_format = '{:.2f}'.format\n",
    "pd.options.display.max_rows = 10\n",
    "#pd.options.display.max_columns = 50\n",
    "pd.options.mode.chained_assignment = None"
   ]
  },
  {
   "cell_type": "code",
   "execution_count": 2,
   "metadata": {},
   "outputs": [],
   "source": [
    "def hist(col, label, bins=100, figsize=(16,5), xlim=None):\n",
    "    '''\n",
    "    Функция отрисовки гистограммы с линией распределения плотности вероятности и с boxplot-ом\n",
    "    '''\n",
    "    \n",
    "    fig, ax = plt.subplots(figsize=figsize)\n",
    "    \n",
    "    sns.set(style=\"whitegrid\")\n",
    "    sns.distplot(data[col], ax=ax, bins=bins, axlabel=label)\n",
    "    \n",
    "    ax2 = ax.twinx()\n",
    "    sns.boxplot(x=data[col], ax=ax2)\n",
    "    ax2.set(ylim=(-.5, 10))\n",
    "    \n",
    "    plt.axvline(data[col].mean(), color='green', linestyle='dashed', linewidth=2)\n",
    "    tx = \"mean: {:.2f}\".format(data[col].mean())\n",
    "    _, tx_x = plt.xlim()\n",
    "    _, tx_y = plt.ylim()\n",
    "    plt.text(data[col].mean()+tx_x/100, tx_y-5*tx_y/100, tx)\n",
    "    \n",
    "    if xlim:\n",
    "        ax.set(xlim=xlim)"
   ]
  },
  {
   "cell_type": "code",
   "execution_count": 3,
   "metadata": {},
   "outputs": [],
   "source": [
    "def RMSE(target_valid, predicted_valid):\n",
    "    '''\n",
    "    Функция расчёта RMSE\n",
    "    '''\n",
    "    \n",
    "    return mean_squared_error(target_valid, predicted_valid) ** 0.5"
   ]
  },
  {
   "cell_type": "markdown",
   "metadata": {},
   "source": [
    "# 2 Основная часть"
   ]
  },
  {
   "cell_type": "markdown",
   "metadata": {},
   "source": [
    "## 2.1 Предобработка данных"
   ]
  },
  {
   "cell_type": "markdown",
   "metadata": {},
   "source": [
    "**Обзор данных**"
   ]
  },
  {
   "cell_type": "code",
   "execution_count": 4,
   "metadata": {},
   "outputs": [],
   "source": [
    "data = pd.read_csv('autos.csv')"
   ]
  },
  {
   "cell_type": "code",
   "execution_count": 5,
   "metadata": {},
   "outputs": [
    {
     "data": {
      "text/html": [
       "<div>\n",
       "<style scoped>\n",
       "    .dataframe tbody tr th:only-of-type {\n",
       "        vertical-align: middle;\n",
       "    }\n",
       "\n",
       "    .dataframe tbody tr th {\n",
       "        vertical-align: top;\n",
       "    }\n",
       "\n",
       "    .dataframe thead th {\n",
       "        text-align: right;\n",
       "    }\n",
       "</style>\n",
       "<table border=\"1\" class=\"dataframe\">\n",
       "  <thead>\n",
       "    <tr style=\"text-align: right;\">\n",
       "      <th></th>\n",
       "      <th>DateCrawled</th>\n",
       "      <th>Price</th>\n",
       "      <th>VehicleType</th>\n",
       "      <th>RegistrationYear</th>\n",
       "      <th>Gearbox</th>\n",
       "      <th>Power</th>\n",
       "      <th>Model</th>\n",
       "      <th>Kilometer</th>\n",
       "      <th>RegistrationMonth</th>\n",
       "      <th>FuelType</th>\n",
       "      <th>Brand</th>\n",
       "      <th>NotRepaired</th>\n",
       "      <th>DateCreated</th>\n",
       "      <th>NumberOfPictures</th>\n",
       "      <th>PostalCode</th>\n",
       "      <th>LastSeen</th>\n",
       "    </tr>\n",
       "  </thead>\n",
       "  <tbody>\n",
       "    <tr>\n",
       "      <td>0</td>\n",
       "      <td>2016-03-24 11:52:17</td>\n",
       "      <td>480</td>\n",
       "      <td>NaN</td>\n",
       "      <td>1993</td>\n",
       "      <td>manual</td>\n",
       "      <td>0</td>\n",
       "      <td>golf</td>\n",
       "      <td>150000</td>\n",
       "      <td>0</td>\n",
       "      <td>petrol</td>\n",
       "      <td>volkswagen</td>\n",
       "      <td>NaN</td>\n",
       "      <td>2016-03-24 00:00:00</td>\n",
       "      <td>0</td>\n",
       "      <td>70435</td>\n",
       "      <td>2016-04-07 03:16:57</td>\n",
       "    </tr>\n",
       "    <tr>\n",
       "      <td>1</td>\n",
       "      <td>2016-03-24 10:58:45</td>\n",
       "      <td>18300</td>\n",
       "      <td>coupe</td>\n",
       "      <td>2011</td>\n",
       "      <td>manual</td>\n",
       "      <td>190</td>\n",
       "      <td>NaN</td>\n",
       "      <td>125000</td>\n",
       "      <td>5</td>\n",
       "      <td>gasoline</td>\n",
       "      <td>audi</td>\n",
       "      <td>yes</td>\n",
       "      <td>2016-03-24 00:00:00</td>\n",
       "      <td>0</td>\n",
       "      <td>66954</td>\n",
       "      <td>2016-04-07 01:46:50</td>\n",
       "    </tr>\n",
       "    <tr>\n",
       "      <td>2</td>\n",
       "      <td>2016-03-14 12:52:21</td>\n",
       "      <td>9800</td>\n",
       "      <td>suv</td>\n",
       "      <td>2004</td>\n",
       "      <td>auto</td>\n",
       "      <td>163</td>\n",
       "      <td>grand</td>\n",
       "      <td>125000</td>\n",
       "      <td>8</td>\n",
       "      <td>gasoline</td>\n",
       "      <td>jeep</td>\n",
       "      <td>NaN</td>\n",
       "      <td>2016-03-14 00:00:00</td>\n",
       "      <td>0</td>\n",
       "      <td>90480</td>\n",
       "      <td>2016-04-05 12:47:46</td>\n",
       "    </tr>\n",
       "    <tr>\n",
       "      <td>3</td>\n",
       "      <td>2016-03-17 16:54:04</td>\n",
       "      <td>1500</td>\n",
       "      <td>small</td>\n",
       "      <td>2001</td>\n",
       "      <td>manual</td>\n",
       "      <td>75</td>\n",
       "      <td>golf</td>\n",
       "      <td>150000</td>\n",
       "      <td>6</td>\n",
       "      <td>petrol</td>\n",
       "      <td>volkswagen</td>\n",
       "      <td>no</td>\n",
       "      <td>2016-03-17 00:00:00</td>\n",
       "      <td>0</td>\n",
       "      <td>91074</td>\n",
       "      <td>2016-03-17 17:40:17</td>\n",
       "    </tr>\n",
       "    <tr>\n",
       "      <td>4</td>\n",
       "      <td>2016-03-31 17:25:20</td>\n",
       "      <td>3600</td>\n",
       "      <td>small</td>\n",
       "      <td>2008</td>\n",
       "      <td>manual</td>\n",
       "      <td>69</td>\n",
       "      <td>fabia</td>\n",
       "      <td>90000</td>\n",
       "      <td>7</td>\n",
       "      <td>gasoline</td>\n",
       "      <td>skoda</td>\n",
       "      <td>no</td>\n",
       "      <td>2016-03-31 00:00:00</td>\n",
       "      <td>0</td>\n",
       "      <td>60437</td>\n",
       "      <td>2016-04-06 10:17:21</td>\n",
       "    </tr>\n",
       "    <tr>\n",
       "      <td>...</td>\n",
       "      <td>...</td>\n",
       "      <td>...</td>\n",
       "      <td>...</td>\n",
       "      <td>...</td>\n",
       "      <td>...</td>\n",
       "      <td>...</td>\n",
       "      <td>...</td>\n",
       "      <td>...</td>\n",
       "      <td>...</td>\n",
       "      <td>...</td>\n",
       "      <td>...</td>\n",
       "      <td>...</td>\n",
       "      <td>...</td>\n",
       "      <td>...</td>\n",
       "      <td>...</td>\n",
       "      <td>...</td>\n",
       "    </tr>\n",
       "    <tr>\n",
       "      <td>354364</td>\n",
       "      <td>2016-03-21 09:50:58</td>\n",
       "      <td>0</td>\n",
       "      <td>NaN</td>\n",
       "      <td>2005</td>\n",
       "      <td>manual</td>\n",
       "      <td>0</td>\n",
       "      <td>colt</td>\n",
       "      <td>150000</td>\n",
       "      <td>7</td>\n",
       "      <td>petrol</td>\n",
       "      <td>mitsubishi</td>\n",
       "      <td>yes</td>\n",
       "      <td>2016-03-21 00:00:00</td>\n",
       "      <td>0</td>\n",
       "      <td>2694</td>\n",
       "      <td>2016-03-21 10:42:49</td>\n",
       "    </tr>\n",
       "    <tr>\n",
       "      <td>354365</td>\n",
       "      <td>2016-03-14 17:48:27</td>\n",
       "      <td>2200</td>\n",
       "      <td>NaN</td>\n",
       "      <td>2005</td>\n",
       "      <td>NaN</td>\n",
       "      <td>0</td>\n",
       "      <td>NaN</td>\n",
       "      <td>20000</td>\n",
       "      <td>1</td>\n",
       "      <td>NaN</td>\n",
       "      <td>sonstige_autos</td>\n",
       "      <td>NaN</td>\n",
       "      <td>2016-03-14 00:00:00</td>\n",
       "      <td>0</td>\n",
       "      <td>39576</td>\n",
       "      <td>2016-04-06 00:46:52</td>\n",
       "    </tr>\n",
       "    <tr>\n",
       "      <td>354366</td>\n",
       "      <td>2016-03-05 19:56:21</td>\n",
       "      <td>1199</td>\n",
       "      <td>convertible</td>\n",
       "      <td>2000</td>\n",
       "      <td>auto</td>\n",
       "      <td>101</td>\n",
       "      <td>fortwo</td>\n",
       "      <td>125000</td>\n",
       "      <td>3</td>\n",
       "      <td>petrol</td>\n",
       "      <td>smart</td>\n",
       "      <td>no</td>\n",
       "      <td>2016-03-05 00:00:00</td>\n",
       "      <td>0</td>\n",
       "      <td>26135</td>\n",
       "      <td>2016-03-11 18:17:12</td>\n",
       "    </tr>\n",
       "    <tr>\n",
       "      <td>354367</td>\n",
       "      <td>2016-03-19 18:57:12</td>\n",
       "      <td>9200</td>\n",
       "      <td>bus</td>\n",
       "      <td>1996</td>\n",
       "      <td>manual</td>\n",
       "      <td>102</td>\n",
       "      <td>transporter</td>\n",
       "      <td>150000</td>\n",
       "      <td>3</td>\n",
       "      <td>gasoline</td>\n",
       "      <td>volkswagen</td>\n",
       "      <td>no</td>\n",
       "      <td>2016-03-19 00:00:00</td>\n",
       "      <td>0</td>\n",
       "      <td>87439</td>\n",
       "      <td>2016-04-07 07:15:26</td>\n",
       "    </tr>\n",
       "    <tr>\n",
       "      <td>354368</td>\n",
       "      <td>2016-03-20 19:41:08</td>\n",
       "      <td>3400</td>\n",
       "      <td>wagon</td>\n",
       "      <td>2002</td>\n",
       "      <td>manual</td>\n",
       "      <td>100</td>\n",
       "      <td>golf</td>\n",
       "      <td>150000</td>\n",
       "      <td>6</td>\n",
       "      <td>gasoline</td>\n",
       "      <td>volkswagen</td>\n",
       "      <td>NaN</td>\n",
       "      <td>2016-03-20 00:00:00</td>\n",
       "      <td>0</td>\n",
       "      <td>40764</td>\n",
       "      <td>2016-03-24 12:45:21</td>\n",
       "    </tr>\n",
       "  </tbody>\n",
       "</table>\n",
       "<p>354369 rows × 16 columns</p>\n",
       "</div>"
      ],
      "text/plain": [
       "                DateCrawled  Price  VehicleType  RegistrationYear Gearbox  \\\n",
       "0       2016-03-24 11:52:17    480          NaN              1993  manual   \n",
       "1       2016-03-24 10:58:45  18300        coupe              2011  manual   \n",
       "2       2016-03-14 12:52:21   9800          suv              2004    auto   \n",
       "3       2016-03-17 16:54:04   1500        small              2001  manual   \n",
       "4       2016-03-31 17:25:20   3600        small              2008  manual   \n",
       "...                     ...    ...          ...               ...     ...   \n",
       "354364  2016-03-21 09:50:58      0          NaN              2005  manual   \n",
       "354365  2016-03-14 17:48:27   2200          NaN              2005     NaN   \n",
       "354366  2016-03-05 19:56:21   1199  convertible              2000    auto   \n",
       "354367  2016-03-19 18:57:12   9200          bus              1996  manual   \n",
       "354368  2016-03-20 19:41:08   3400        wagon              2002  manual   \n",
       "\n",
       "        Power        Model  Kilometer  RegistrationMonth  FuelType  \\\n",
       "0           0         golf     150000                  0    petrol   \n",
       "1         190          NaN     125000                  5  gasoline   \n",
       "2         163        grand     125000                  8  gasoline   \n",
       "3          75         golf     150000                  6    petrol   \n",
       "4          69        fabia      90000                  7  gasoline   \n",
       "...       ...          ...        ...                ...       ...   \n",
       "354364      0         colt     150000                  7    petrol   \n",
       "354365      0          NaN      20000                  1       NaN   \n",
       "354366    101       fortwo     125000                  3    petrol   \n",
       "354367    102  transporter     150000                  3  gasoline   \n",
       "354368    100         golf     150000                  6  gasoline   \n",
       "\n",
       "                 Brand NotRepaired          DateCreated  NumberOfPictures  \\\n",
       "0           volkswagen         NaN  2016-03-24 00:00:00                 0   \n",
       "1                 audi         yes  2016-03-24 00:00:00                 0   \n",
       "2                 jeep         NaN  2016-03-14 00:00:00                 0   \n",
       "3           volkswagen          no  2016-03-17 00:00:00                 0   \n",
       "4                skoda          no  2016-03-31 00:00:00                 0   \n",
       "...                ...         ...                  ...               ...   \n",
       "354364      mitsubishi         yes  2016-03-21 00:00:00                 0   \n",
       "354365  sonstige_autos         NaN  2016-03-14 00:00:00                 0   \n",
       "354366           smart          no  2016-03-05 00:00:00                 0   \n",
       "354367      volkswagen          no  2016-03-19 00:00:00                 0   \n",
       "354368      volkswagen         NaN  2016-03-20 00:00:00                 0   \n",
       "\n",
       "        PostalCode             LastSeen  \n",
       "0            70435  2016-04-07 03:16:57  \n",
       "1            66954  2016-04-07 01:46:50  \n",
       "2            90480  2016-04-05 12:47:46  \n",
       "3            91074  2016-03-17 17:40:17  \n",
       "4            60437  2016-04-06 10:17:21  \n",
       "...            ...                  ...  \n",
       "354364        2694  2016-03-21 10:42:49  \n",
       "354365       39576  2016-04-06 00:46:52  \n",
       "354366       26135  2016-03-11 18:17:12  \n",
       "354367       87439  2016-04-07 07:15:26  \n",
       "354368       40764  2016-03-24 12:45:21  \n",
       "\n",
       "[354369 rows x 16 columns]"
      ]
     },
     "execution_count": 5,
     "metadata": {},
     "output_type": "execute_result"
    }
   ],
   "source": [
    "data"
   ]
  },
  {
   "cell_type": "code",
   "execution_count": 6,
   "metadata": {},
   "outputs": [
    {
     "name": "stdout",
     "output_type": "stream",
     "text": [
      "<class 'pandas.core.frame.DataFrame'>\n",
      "RangeIndex: 354369 entries, 0 to 354368\n",
      "Data columns (total 16 columns):\n",
      "DateCrawled          354369 non-null object\n",
      "Price                354369 non-null int64\n",
      "VehicleType          316879 non-null object\n",
      "RegistrationYear     354369 non-null int64\n",
      "Gearbox              334536 non-null object\n",
      "Power                354369 non-null int64\n",
      "Model                334664 non-null object\n",
      "Kilometer            354369 non-null int64\n",
      "RegistrationMonth    354369 non-null int64\n",
      "FuelType             321474 non-null object\n",
      "Brand                354369 non-null object\n",
      "NotRepaired          283215 non-null object\n",
      "DateCreated          354369 non-null object\n",
      "NumberOfPictures     354369 non-null int64\n",
      "PostalCode           354369 non-null int64\n",
      "LastSeen             354369 non-null object\n",
      "dtypes: int64(7), object(9)\n",
      "memory usage: 43.3+ MB\n"
     ]
    }
   ],
   "source": [
    "data.info()"
   ]
  },
  {
   "cell_type": "markdown",
   "metadata": {},
   "source": [
    "Прежде, чем проводить дальнейшую предобработку, удалим из рассмотрения столбцы данных не представляющих для нас интереса, а именно:\n",
    "- *DateCrawled* — дата скачивания анкеты из базы;\n",
    "- *RegistrationMonth* — месяц регистрации автомобиля;\n",
    "- *DateCreated* — дата создания анкеты;\n",
    "- *NumberOfPictures* — количество фотографий автомобиля;\n",
    "- *PostalCode* — почтовый индекс владельца анкеты (пользователя); по хорошему -- по почтовым индексам необходимо было бы определить регион, в котором продаётся автомобиль, потому что Toyota во Владивостоке будет отличаться в цене от аналогичной в Москве; однако по переданным данным нам не удасться восстановить регион пользователя;\n",
    "- *LastSeen* — дата последней активности пользователя."
   ]
  },
  {
   "cell_type": "code",
   "execution_count": 7,
   "metadata": {},
   "outputs": [],
   "source": [
    "data = data.drop(columns=['DateCrawled', 'RegistrationMonth', 'DateCreated', 'NumberOfPictures', 'PostalCode', 'LastSeen'],\n",
    "                 axis='columns')"
   ]
  },
  {
   "cell_type": "code",
   "execution_count": 8,
   "metadata": {},
   "outputs": [
    {
     "name": "stdout",
     "output_type": "stream",
     "text": [
      "<class 'pandas.core.frame.DataFrame'>\n",
      "RangeIndex: 354369 entries, 0 to 354368\n",
      "Data columns (total 10 columns):\n",
      "Price               354369 non-null int64\n",
      "VehicleType         316879 non-null object\n",
      "RegistrationYear    354369 non-null int64\n",
      "Gearbox             334536 non-null object\n",
      "Power               354369 non-null int64\n",
      "Model               334664 non-null object\n",
      "Kilometer           354369 non-null int64\n",
      "FuelType            321474 non-null object\n",
      "Brand               354369 non-null object\n",
      "NotRepaired         283215 non-null object\n",
      "dtypes: int64(4), object(6)\n",
      "memory usage: 27.0+ MB\n"
     ]
    }
   ],
   "source": [
    "data.info()"
   ]
  },
  {
   "cell_type": "code",
   "execution_count": 9,
   "metadata": {},
   "outputs": [
    {
     "data": {
      "text/plain": [
       "Price                   0\n",
       "VehicleType         37490\n",
       "RegistrationYear        0\n",
       "Gearbox             19833\n",
       "Power                   0\n",
       "Model               19705\n",
       "Kilometer               0\n",
       "FuelType            32895\n",
       "Brand                   0\n",
       "NotRepaired         71154\n",
       "dtype: int64"
      ]
     },
     "execution_count": 9,
     "metadata": {},
     "output_type": "execute_result"
    }
   ],
   "source": [
    "data.isna().sum()"
   ]
  },
  {
   "cell_type": "code",
   "execution_count": 10,
   "metadata": {},
   "outputs": [
    {
     "name": "stdout",
     "output_type": "stream",
     "text": [
      "Объем пропусков от общего объема данных -- 5.11%\n"
     ]
    }
   ],
   "source": [
    "data_amount = data.shape[0] * data.shape[1]\n",
    "nan_amount = data.isna().sum().sum()\n",
    "print('Объем пропусков от общего объема данных -- {:.2%}'.format(nan_amount / data_amount))"
   ]
  },
  {
   "cell_type": "code",
   "execution_count": 11,
   "metadata": {},
   "outputs": [
    {
     "name": "stdout",
     "output_type": "stream",
     "text": [
      "При удалении пропусков будет удалено 25.52% данных\n"
     ]
    }
   ],
   "source": [
    "data_whithout_nan = data.copy()\n",
    "data_whithout_nan.dropna(inplace = True)\n",
    "data_whithout_nan_amount = data_whithout_nan.shape[0] * data_whithout_nan.shape[1]\n",
    "print('При удалении пропусков будет удалено {:.2%} данных'.format((data_amount - data_whithout_nan_amount - nan_amount)\n",
    "                                                                   / data_amount))"
   ]
  },
  {
   "cell_type": "markdown",
   "metadata": {},
   "source": [
    "По итогам первого, общего взгляда на данные, можно сделать следующие выводы:\n",
    "\n",
    "- набор данных состоит из 10 столбцов и 354369 строк;\n",
    "- имена столбцов читабельны, но требуют приведения их к привычному виду (\"under_score\" нотации)]; вероятнее всего имя столбца *NotRepaired* не соответствувет данным, хранящимся в нём; столбец необходимо переименовать в *repaired*;\n",
    "- объем пропусков сравнительно невелик, но при их удалении будет удален значительный объем данных -- более 25%; поэтому, по возможности, пропуски необходимо заполнить;\n",
    "-  поскольку объем пропусков невелик, будем заполнять их на наиболее часто встречающиеся значения, как наиболее вероятные; пропуски имеются в данных столбцов:\n",
    " - *VehicleType*, *Gearbox*, *Model*, *FuelType*;\n",
    " - *NotRepaired* -- была машина в ремонте или нет, поэтому пропуск будем воспринимать, как отстутствие ремонта, т.е. равным значению _\"no\"_."
   ]
  },
  {
   "cell_type": "markdown",
   "metadata": {},
   "source": [
    "**Корректировка имён столбцов**"
   ]
  },
  {
   "cell_type": "code",
   "execution_count": 12,
   "metadata": {},
   "outputs": [
    {
     "data": {
      "text/plain": [
       "Index(['price', 'vehicle_type', 'registration_year', 'gearbox', 'power',\n",
       "       'model', 'kilometer', 'fuel_type', 'brand', 'repaired'],\n",
       "      dtype='object')"
      ]
     },
     "execution_count": 12,
     "metadata": {},
     "output_type": "execute_result"
    }
   ],
   "source": [
    "data.rename(columns={'Price': 'price',\n",
    "                     'VehicleType': 'vehicle_type',\n",
    "                     'RegistrationYear': 'registration_year',\n",
    "                     'Gearbox': 'gearbox',\n",
    "                     'Power': 'power',\n",
    "                     'Model': 'model',\n",
    "                     'Kilometer': 'kilometer',\n",
    "                     'FuelType': 'fuel_type',\n",
    "                     'Brand': 'brand',\n",
    "                     'NotRepaired': 'repaired',},\n",
    "            inplace=True)\n",
    "\n",
    "data.columns"
   ]
  },
  {
   "cell_type": "markdown",
   "metadata": {},
   "source": [
    "**Заполнение пропусков**"
   ]
  },
  {
   "cell_type": "code",
   "execution_count": 13,
   "metadata": {},
   "outputs": [],
   "source": [
    "data['repaired'].fillna('no', inplace=True)"
   ]
  },
  {
   "cell_type": "code",
   "execution_count": 14,
   "metadata": {},
   "outputs": [
    {
     "data": {
      "text/plain": [
       "sedan          91457\n",
       "small          79831\n",
       "wagon          65166\n",
       "bus            28775\n",
       "convertible    20203\n",
       "coupe          16163\n",
       "suv            11996\n",
       "other           3288\n",
       "Name: vehicle_type, dtype: int64"
      ]
     },
     "execution_count": 14,
     "metadata": {},
     "output_type": "execute_result"
    }
   ],
   "source": [
    "data['vehicle_type'].value_counts()"
   ]
  },
  {
   "cell_type": "code",
   "execution_count": 15,
   "metadata": {},
   "outputs": [],
   "source": [
    "data['vehicle_type'].fillna('sedan', inplace=True)"
   ]
  },
  {
   "cell_type": "code",
   "execution_count": 16,
   "metadata": {},
   "outputs": [
    {
     "data": {
      "text/plain": [
       "manual    268251\n",
       "auto       66285\n",
       "Name: gearbox, dtype: int64"
      ]
     },
     "execution_count": 16,
     "metadata": {},
     "output_type": "execute_result"
    }
   ],
   "source": [
    "data['gearbox'].value_counts()"
   ]
  },
  {
   "cell_type": "code",
   "execution_count": 17,
   "metadata": {},
   "outputs": [],
   "source": [
    "data['gearbox'].fillna('manual', inplace=True)"
   ]
  },
  {
   "cell_type": "code",
   "execution_count": 18,
   "metadata": {},
   "outputs": [
    {
     "data": {
      "text/plain": [
       "golf                  29232\n",
       "other                 24421\n",
       "3er                   19761\n",
       "polo                  13066\n",
       "corsa                 12570\n",
       "                      ...  \n",
       "serie_2                   8\n",
       "rangerover                4\n",
       "serie_3                   4\n",
       "range_rover_evoque        2\n",
       "serie_1                   2\n",
       "Name: model, Length: 250, dtype: int64"
      ]
     },
     "execution_count": 18,
     "metadata": {},
     "output_type": "execute_result"
    }
   ],
   "source": [
    "data['model'].value_counts()"
   ]
  },
  {
   "cell_type": "code",
   "execution_count": 19,
   "metadata": {},
   "outputs": [],
   "source": [
    "data['model'].fillna('other', inplace=True)"
   ]
  },
  {
   "cell_type": "code",
   "execution_count": 20,
   "metadata": {},
   "outputs": [
    {
     "data": {
      "text/plain": [
       "petrol      216352\n",
       "gasoline     98720\n",
       "lpg           5310\n",
       "cng            565\n",
       "hybrid         233\n",
       "other          204\n",
       "electric        90\n",
       "Name: fuel_type, dtype: int64"
      ]
     },
     "execution_count": 20,
     "metadata": {},
     "output_type": "execute_result"
    }
   ],
   "source": [
    "data['fuel_type'].value_counts()"
   ]
  },
  {
   "cell_type": "code",
   "execution_count": 21,
   "metadata": {},
   "outputs": [],
   "source": [
    "data['fuel_type'].fillna('petrol', inplace=True)"
   ]
  },
  {
   "cell_type": "code",
   "execution_count": 22,
   "metadata": {},
   "outputs": [
    {
     "data": {
      "text/plain": [
       "price                0\n",
       "vehicle_type         0\n",
       "registration_year    0\n",
       "gearbox              0\n",
       "power                0\n",
       "model                0\n",
       "kilometer            0\n",
       "fuel_type            0\n",
       "brand                0\n",
       "repaired             0\n",
       "dtype: int64"
      ]
     },
     "execution_count": 22,
     "metadata": {},
     "output_type": "execute_result"
    }
   ],
   "source": [
    "data.isna().sum()"
   ]
  },
  {
   "cell_type": "markdown",
   "metadata": {},
   "source": [
    "**Поиск и исправление ошибок (аномальных значений)**"
   ]
  },
  {
   "cell_type": "markdown",
   "metadata": {},
   "source": [
    "*Признак* ***price***"
   ]
  },
  {
   "cell_type": "code",
   "execution_count": 23,
   "metadata": {},
   "outputs": [
    {
     "data": {
      "image/png": "[encoded data removed]",
      "text/plain": [
       "<Figure size 1152x360 with 2 Axes>"
      ]
     },
     "metadata": {
      "needs_background": "light"
     },
     "output_type": "display_data"
    }
   ],
   "source": [
    "hist('price', 'Цена автомобиля')"
   ]
  },
  {
   "cell_type": "code",
   "execution_count": 24,
   "metadata": {},
   "outputs": [
    {
     "data": {
      "text/plain": [
       "count   354369.00\n",
       "mean      4416.66\n",
       "std       4514.16\n",
       "min          0.00\n",
       "25%       1050.00\n",
       "50%       2700.00\n",
       "75%       6400.00\n",
       "max      20000.00\n",
       "Name: price, dtype: float64"
      ]
     },
     "execution_count": 24,
     "metadata": {},
     "output_type": "execute_result"
    }
   ],
   "source": [
    "data['price'].describe()"
   ]
  },
  {
   "cell_type": "markdown",
   "metadata": {},
   "source": [
    "Аномальными значениями в признаке *price* являются нулевые значения. Поскольку восстановить их крайне затруднительно, удалим их"
   ]
  },
  {
   "cell_type": "code",
   "execution_count": 25,
   "metadata": {},
   "outputs": [],
   "source": [
    "data = data.loc[data['price'] > 0, :]"
   ]
  },
  {
   "cell_type": "markdown",
   "metadata": {},
   "source": [
    "*Признак* ***registration_year***"
   ]
  },
  {
   "cell_type": "code",
   "execution_count": 26,
   "metadata": {},
   "outputs": [
    {
     "data": {
      "image/png": "[encoded data removed]",
      "text/plain": [
       "<Figure size 1152x360 with 2 Axes>"
      ]
     },
     "metadata": {},
     "output_type": "display_data"
    }
   ],
   "source": [
    "hist('registration_year', 'Год регистрации автомобиля')"
   ]
  },
  {
   "cell_type": "code",
   "execution_count": 27,
   "metadata": {},
   "outputs": [
    {
     "data": {
      "text/plain": [
       "count   343597.00\n",
       "mean      2004.09\n",
       "std         78.41\n",
       "min       1000.00\n",
       "25%       1999.00\n",
       "50%       2003.00\n",
       "75%       2008.00\n",
       "max       9999.00\n",
       "Name: registration_year, dtype: float64"
      ]
     },
     "execution_count": 27,
     "metadata": {},
     "output_type": "execute_result"
    }
   ],
   "source": [
    "data['registration_year'].describe()"
   ]
  },
  {
   "cell_type": "code",
   "execution_count": 28,
   "metadata": {},
   "outputs": [
    {
     "name": "stdout",
     "output_type": "stream",
     "text": [
      "[1000, 1001, 1039, 1111, 1234, 1255, 1300, 1400, 1500, 1600, 1602, 1800, 1910, 1923, 1925, 1927, 1928, 1929, 1930, 1931, 1932, 1933, 1934, 1935, 1936, 1937, 1938, 1940, 1941, 1942, 1943, 1944, 1945, 1946, 1947, 1948, 1949, 1950, 1951, 1952, 1953, 1954, 1955, 1956, 1957, 1958, 1959, 1960, 1961, 1962, 1963, 1964, 1965, 1966, 1967, 1968, 1969, 1970, 1971, 1972, 1973, 1974, 1975, 1976, 1977, 1978, 1979, 1980, 1981, 1982, 1983, 1984, 1985, 1986, 1987, 1988, 1989, 1990, 1991, 1992, 1993, 1994, 1995, 1996, 1997, 1998, 1999, 2000, 2001, 2002, 2003, 2004, 2005, 2006, 2007, 2008, 2009, 2010, 2011, 2012, 2013, 2014, 2015, 2016, 2017, 2018, 2019, 2066, 2200, 2222, 2290, 2500, 2800, 2900, 3000, 3200, 3700, 3800, 4000, 4100, 4500, 4800, 5000, 5300, 5555, 5600, 5900, 5911, 6000, 6500, 7000, 7100, 7800, 8000, 8200, 8500, 8888, 9000, 9450, 9999]\n"
     ]
    }
   ],
   "source": [
    "print(sorted(data['registration_year'].unique()))"
   ]
  },
  {
   "cell_type": "markdown",
   "metadata": {},
   "source": [
    "Аномальные значения в признаке находятся ниже значения 1910 и выше 2019. Удалим их, поскольку восстановить их крайне затруднительно, а год регистрации автомобиля оказывает сильное влияние на цену автомобиля"
   ]
  },
  {
   "cell_type": "code",
   "execution_count": 29,
   "metadata": {},
   "outputs": [],
   "source": [
    "data = data.loc[(data['registration_year'] >= 1910) & (data['registration_year'] <= 2019), :]"
   ]
  },
  {
   "cell_type": "code",
   "execution_count": 30,
   "metadata": {},
   "outputs": [
    {
     "data": {
      "image/png": "[encoded data removed]",
      "text/plain": [
       "<Figure size 1152x360 with 2 Axes>"
      ]
     },
     "metadata": {},
     "output_type": "display_data"
    }
   ],
   "source": [
    "hist('registration_year', 'Год регистрации автомобиля')"
   ]
  },
  {
   "cell_type": "markdown",
   "metadata": {},
   "source": [
    "*Признак* ***power***"
   ]
  },
  {
   "cell_type": "code",
   "execution_count": 31,
   "metadata": {},
   "outputs": [
    {
     "data": {
      "image/png": "[encoded data removed]",
      "text/plain": [
       "<Figure size 1152x360 with 2 Axes>"
      ]
     },
     "metadata": {},
     "output_type": "display_data"
    }
   ],
   "source": [
    "hist('power', 'Мощность автомобиля')"
   ]
  },
  {
   "cell_type": "code",
   "execution_count": 32,
   "metadata": {},
   "outputs": [
    {
     "data": {
      "image/png": "[encoded data removed]",
      "text/plain": [
       "<Figure size 1152x360 with 2 Axes>"
      ]
     },
     "metadata": {},
     "output_type": "display_data"
    }
   ],
   "source": [
    "hist('power', 'Мощность автомобиля', xlim=(-10, 350))"
   ]
  },
  {
   "cell_type": "code",
   "execution_count": 33,
   "metadata": {},
   "outputs": [
    {
     "data": {
      "text/plain": [
       "count   343458.00\n",
       "mean       110.98\n",
       "std        187.86\n",
       "min          0.00\n",
       "25%         69.00\n",
       "50%        105.00\n",
       "75%        143.00\n",
       "max      20000.00\n",
       "Name: power, dtype: float64"
      ]
     },
     "execution_count": 33,
     "metadata": {},
     "output_type": "execute_result"
    }
   ],
   "source": [
    "data['power'].describe()"
   ]
  },
  {
   "cell_type": "code",
   "execution_count": 34,
   "metadata": {},
   "outputs": [
    {
     "name": "stdout",
     "output_type": "stream",
     "text": [
      "[0, 1, 2, 3, 4, 5, 6, 7, 8, 9, 10, 11, 12, 13, 14, 15, 16, 17, 18, 19, 20, 21, 22, 23, 24, 25, 26, 27, 28, 29, 30, 31, 32, 33, 34, 35, 36, 37, 38, 39, 40, 41, 42, 43, 44, 45, 46, 47, 48, 49, 50, 51, 52, 53, 54, 55, 56, 57, 58, 59, 60, 61, 62, 63, 64, 65, 66, 67, 68, 69, 70, 71, 72, 73, 74, 75, 76, 77, 78, 79, 80, 81, 82, 83, 84, 85, 86, 87, 88, 89, 90, 91, 92, 93, 94, 95, 96, 97, 98, 99, 100, 101, 102, 103, 104, 105, 106, 107, 108, 109, 110, 111, 112, 113, 114, 115, 116, 117, 118, 119, 120, 121, 122, 123, 124, 125, 126, 127, 128, 129, 130, 131, 132, 133, 134, 135, 136, 137, 138, 139, 140, 141, 142, 143, 144, 145, 146, 147, 148, 149, 150, 151, 152, 153, 154, 155, 156, 157, 158, 159, 160, 161, 162, 163, 164, 165, 166, 167, 168, 169, 170, 171, 172, 173, 174, 175, 176, 177, 178, 179, 180, 181, 182, 183, 184, 185, 186, 187, 188, 189, 190, 191, 192, 193, 194, 195, 196, 197, 198, 199, 200, 201, 202, 203, 204, 205, 206, 207, 208, 209, 210, 211, 212, 213, 214, 215, 216, 217, 218, 219, 220, 221, 222, 223, 224, 225, 226, 227, 228, 229, 230, 231, 232, 233, 234, 235, 236, 237, 238, 239, 240, 241, 242, 243, 244, 245, 246, 247, 248, 249, 250, 251, 252, 253, 254, 255, 256, 257, 258, 259, 260, 261, 262, 264, 265, 266, 267, 268, 269, 270, 271, 272, 273, 274, 275, 276, 277, 278, 279, 280, 281, 282, 283, 284, 285, 286, 287, 288, 289, 290, 292, 293, 294, 295, 296, 297, 298, 299, 300, 301, 303, 304, 305, 306, 307, 308, 309, 310, 311, 313, 314, 315, 316, 317, 318, 320, 321, 322, 323, 324, 325, 326, 327, 328, 329, 330, 331, 332, 333, 334, 335, 336, 337, 338, 339, 340, 341, 343, 344, 345, 346, 347, 348, 349, 350, 351, 352, 353, 354, 355, 356, 357, 358, 360, 361, 362, 363, 364, 365, 367, 368, 370, 371, 374, 375, 376, 377, 379, 380, 381, 382, 385, 386, 387, 388, 390, 392, 394, 396, 398, 399, 400, 401, 402, 405, 408, 409, 411, 416, 420, 421, 425, 426, 428, 430, 431, 435, 440, 442, 445, 449, 450, 454, 457, 459, 460, 475, 476, 487, 489, 490, 500, 504, 505, 507, 508, 510, 514, 515, 517, 519, 520, 521, 525, 540, 541, 544, 550, 551, 553, 560, 572, 574, 579, 580, 584, 585, 599, 600, 601, 602, 603, 604, 606, 607, 610, 612, 620, 640, 645, 650, 651, 671, 678, 682, 685, 696, 700, 702, 703, 732, 743, 750, 751, 754, 771, 776, 800, 805, 808, 850, 851, 871, 900, 901, 902, 903, 907, 909, 923, 950, 952, 953, 998, 999, 1000, 1001, 1002, 1003, 1004, 1005, 1011, 1012, 1016, 1017, 1021, 1024, 1054, 1055, 1056, 1062, 1079, 1082, 1090, 1100, 1103, 1105, 1115, 1120, 1149, 1151, 1158, 1160, 1162, 1164, 1199, 1200, 1202, 1221, 1223, 1230, 1239, 1240, 1241, 1250, 1252, 1256, 1275, 1288, 1299, 1300, 1312, 1317, 1324, 1339, 1351, 1360, 1362, 1363, 1367, 1390, 1394, 1398, 1399, 1400, 1401, 1403, 1405, 1416, 1432, 1433, 1436, 1500, 1501, 1502, 1503, 1506, 1521, 1548, 1595, 1596, 1597, 1598, 1600, 1625, 1631, 1653, 1659, 1689, 1700, 1701, 1703, 1704, 1707, 1753, 1771, 1779, 1780, 1781, 1783, 1793, 1796, 1799, 1800, 1801, 1870, 1895, 1896, 1900, 1920, 1922, 1933, 1937, 1968, 1986, 1988, 1992, 1993, 1995, 1998, 1999, 2000, 2004, 2005, 2007, 2009, 2016, 2017, 2018, 2172, 2201, 2331, 2340, 2389, 2402, 2461, 2598, 2729, 2789, 2792, 2799, 3199, 3454, 3500, 3750, 4400, 4507, 4700, 5411, 5420, 5575, 5809, 5815, 5867, 6006, 6010, 6011, 6012, 6018, 6045, 6062, 6226, 6512, 6920, 7508, 7511, 7512, 7515, 7518, 7529, 7544, 8259, 8404, 8500, 9000, 9007, 9010, 9011, 9012, 9013, 10000, 10110, 10218, 10311, 10520, 10522, 10710, 10910, 10912, 11011, 11025, 11111, 11509, 11530, 11635, 12012, 12510, 12512, 12684, 13616, 13636, 14009, 15001, 15017, 15020, 15033, 16011, 16051, 16311, 16312, 17011, 17019, 17410, 17700, 17932, 19208, 19211, 19312, 20000]\n"
     ]
    }
   ],
   "source": [
    "print(sorted(data['power'].unique()))"
   ]
  },
  {
   "cell_type": "markdown",
   "metadata": {},
   "source": [
    "Выбранный диапазон дат регистрации автомобилей захватывает период с 1910-го года по наши дни, поэтому малые значения мощностей вполне допустимы -- мощность автомобиля, зарегистрированного в начале прошлого века, вполне могла быть равна 1 л.с. Аномальные максимальные значения (> 250 л.с.) удалим"
   ]
  },
  {
   "cell_type": "code",
   "execution_count": 35,
   "metadata": {},
   "outputs": [],
   "source": [
    "data = data.loc[data['power'] <= 250, :]"
   ]
  },
  {
   "cell_type": "code",
   "execution_count": 36,
   "metadata": {},
   "outputs": [
    {
     "name": "stdout",
     "output_type": "stream",
     "text": [
      "[0, 1, 2, 3, 4, 5, 6, 7, 8, 9, 10, 11, 12, 13, 14, 15, 16, 17, 18, 19, 20, 21, 22, 23, 24, 25, 26, 27, 28, 29, 30, 31, 32, 33, 34, 35, 36, 37, 38, 39, 40, 41, 42, 43, 44, 45, 46, 47, 48, 49, 50, 51, 52, 53, 54, 55, 56, 57, 58, 59, 60, 61, 62, 63, 64, 65, 66, 67, 68, 69, 70, 71, 72, 73, 74, 75, 76, 77, 78, 79, 80, 81, 82, 83, 84, 85, 86, 87, 88, 89, 90, 91, 92, 93, 94, 95, 96, 97, 98, 99, 100, 101, 102, 103, 104, 105, 106, 107, 108, 109, 110, 111, 112, 113, 114, 115, 116, 117, 118, 119, 120, 121, 122, 123, 124, 125, 126, 127, 128, 129, 130, 131, 132, 133, 134, 135, 136, 137, 138, 139, 140, 141, 142, 143, 144, 145, 146, 147, 148, 149, 150, 151, 152, 153, 154, 155, 156, 157, 158, 159, 160, 161, 162, 163, 164, 165, 166, 167, 168, 169, 170, 171, 172, 173, 174, 175, 176, 177, 178, 179, 180, 181, 182, 183, 184, 185, 186, 187, 188, 189, 190, 191, 192, 193, 194, 195, 196, 197, 198, 199, 200, 201, 202, 203, 204, 205, 206, 207, 208, 209, 210, 211, 212, 213, 214, 215, 216, 217, 218, 219, 220, 221, 222, 223, 224, 225, 226, 227, 228, 229, 230, 231, 232, 233, 234, 235, 236, 237, 238, 239, 240, 241, 242, 243, 244, 245, 246, 247, 248, 249, 250]\n"
     ]
    }
   ],
   "source": [
    "print(sorted(data['power'].unique()))"
   ]
  },
  {
   "cell_type": "markdown",
   "metadata": {},
   "source": [
    "Нулевые значения мощности автомобиля абсолютно алогичны. Удалим их"
   ]
  },
  {
   "cell_type": "code",
   "execution_count": 37,
   "metadata": {},
   "outputs": [],
   "source": [
    "data = data.loc[data['power'] != 0, :]"
   ]
  },
  {
   "cell_type": "markdown",
   "metadata": {},
   "source": [
    "*Признак* ***kilometer***"
   ]
  },
  {
   "cell_type": "code",
   "execution_count": 38,
   "metadata": {},
   "outputs": [
    {
     "data": {
      "image/png": "[encoded data removed]",
      "text/plain": [
       "<Figure size 1152x360 with 2 Axes>"
      ]
     },
     "metadata": {},
     "output_type": "display_data"
    }
   ],
   "source": [
    "hist('kilometer', 'Пробег автомобиля')"
   ]
  },
  {
   "cell_type": "code",
   "execution_count": 39,
   "metadata": {},
   "outputs": [
    {
     "name": "stdout",
     "output_type": "stream",
     "text": [
      "[5000, 10000, 20000, 30000, 40000, 50000, 60000, 70000, 80000, 90000, 100000, 125000, 150000]\n"
     ]
    }
   ],
   "source": [
    "print(sorted(data['kilometer'].unique()))"
   ]
  },
  {
   "cell_type": "markdown",
   "metadata": {},
   "source": [
    "Признак предобработки не требует"
   ]
  },
  {
   "cell_type": "markdown",
   "metadata": {},
   "source": [
    "**Удаление полных дубликатов строк**"
   ]
  },
  {
   "cell_type": "code",
   "execution_count": 40,
   "metadata": {},
   "outputs": [
    {
     "data": {
      "text/plain": [
       "48566"
      ]
     },
     "execution_count": 40,
     "metadata": {},
     "output_type": "execute_result"
    }
   ],
   "source": [
    "data.duplicated().sum()"
   ]
  },
  {
   "cell_type": "code",
   "execution_count": 41,
   "metadata": {},
   "outputs": [],
   "source": [
    "data = data.drop_duplicates().reset_index(drop=True)"
   ]
  },
  {
   "cell_type": "code",
   "execution_count": 42,
   "metadata": {},
   "outputs": [
    {
     "name": "stdout",
     "output_type": "stream",
     "text": [
      "По итогам предобработки данных удалено 29.06% данных (вместе с пропусками)\n"
     ]
    }
   ],
   "source": [
    "print('По итогам предобработки данных удалено {:.2f}% данных (вместе с пропусками)'.format(100 - \n",
    "                                                                                          ((data.shape[0] * data.shape[1]) /\n",
    "                                                                                           data_amount)* 100))"
   ]
  },
  {
   "cell_type": "markdown",
   "metadata": {},
   "source": [
    "***Промежуточный итог***  \n",
    "  \n",
    "В ходе предобработки данных:\n",
    "- удалены из рассмотрения столбцы данных не представляющих для нас интереса, а именно:\n",
    " - *DateCrawled* — дата скачивания анкеты из базы;\n",
    " - *RegistrationMonth* — месяц регистрации автомобиля;\n",
    " - *DateCreated* — дата создания анкеты;\n",
    " - *NumberOfPictures* — количество фотографий автомобиля;\n",
    " - *PostalCode* — почтовый индекс владельца анкеты (пользователя);\n",
    " - *LastSeen* — дата последней активности пользователя.\n",
    "- скорректированы имена оставшихся столбцов;\n",
    "- заполнены пропуски:\n",
    " - в столбце *NotRepaired* -- значениями *'no'*;\n",
    " - в столбцах *VehicleType*, *Gearbox*, *Model*, *FuelType* -- наиболее часто встречающимися значениями, как наиболее вероятными;\n",
    "- удалены аномальные значения:\n",
    " - в признаке *price* -- нулевые значения;\n",
    " - в признаке *registration_year* -- значения ниже 1910 и выше 2019;\n",
    " - в признаке *power* -- нулевые значения <font color=Teal>и максимальные аномальные (> 250).\n",
    "~~- были заменены значения мощностей признака *power* на медианные значения в группах, отсортированных по значениям признака *model*;~~</font>\n",
    "- были удалены полные дубликаты строк."
   ]
  },
  {
   "cell_type": "markdown",
   "metadata": {},
   "source": [
    "## 2.2 Обучение различных моделей"
   ]
  },
  {
   "cell_type": "markdown",
   "metadata": {},
   "source": [
    "### 2.2.1 Подготовка обучающей и валидационной выборок"
   ]
  },
  {
   "cell_type": "code",
   "execution_count": 43,
   "metadata": {},
   "outputs": [],
   "source": [
    "from sklearn.preprocessing import OrdinalEncoder\n",
    "\n",
    "cat_feats = ['vehicle_type', 'gearbox', 'model', 'fuel_type', 'brand', 'repaired']\n",
    "num_feats = ['registration_year', 'power', 'kilometer']\n",
    "\n",
    "features = data.drop(columns=['price'], axis='columns')\n",
    "target = data['price']\n",
    "\n",
    "encoder = OrdinalEncoder()\n",
    "encoder.fit(features)\n",
    "\n",
    "OE_features = pd.DataFrame(encoder.transform(features), columns=features.columns, index=features.index)\n",
    "\n",
    "for i in cat_feats:\n",
    "    OE_features[i] = OE_features[i].astype('int')\n",
    "    \n",
    "OHE_features = pd.get_dummies(data[cat_feats], drop_first=True)\n",
    "\n",
    "for i in num_feats:\n",
    "    OE_features[i] = data[i]\n",
    "    OHE_features[i] = data[i]\n",
    "\n",
    "OE_features_train, OE_features_valid, \\\n",
    "OHE_features_train, OHE_features_valid, \\\n",
    "target_train, target_valid = train_test_split(OE_features, OHE_features, target, test_size=0.25, random_state=1457)"
   ]
  },
  {
   "cell_type": "markdown",
   "metadata": {},
   "source": [
    "### 2.2.2 Модель линейной регрессии"
   ]
  },
  {
   "cell_type": "code",
   "execution_count": 44,
   "metadata": {},
   "outputs": [],
   "source": [
    "from sklearn.linear_model import LinearRegression\n",
    "\n",
    "line_reg_model = LinearRegression()"
   ]
  },
  {
   "cell_type": "code",
   "execution_count": 45,
   "metadata": {},
   "outputs": [
    {
     "name": "stdout",
     "output_type": "stream",
     "text": [
      "CPU times: user 13.6 s, sys: 4.16 s, total: 17.7 s\n",
      "Wall time: 17.8 s\n"
     ]
    },
    {
     "data": {
      "text/plain": [
       "LinearRegression(copy_X=True, fit_intercept=True, n_jobs=None, normalize=False)"
      ]
     },
     "execution_count": 45,
     "metadata": {},
     "output_type": "execute_result"
    }
   ],
   "source": [
    "%%time\n",
    "line_reg_model.fit(OHE_features_train, target_train)"
   ]
  },
  {
   "cell_type": "markdown",
   "metadata": {},
   "source": [
    "### 2.2.3 Модель LightGBM"
   ]
  },
  {
   "cell_type": "code",
   "execution_count": 46,
   "metadata": {},
   "outputs": [
    {
     "name": "stdout",
     "output_type": "stream",
     "text": [
      "Лучшее значение RMSE: -1696.6032066631021\n",
      "Параметры при лучшем RMSE: {'learning_rate': 0.5, 'n_estimators': 100, 'num_leaves': 20}\n"
     ]
    }
   ],
   "source": [
    "import lightgbm\n",
    "from sklearn.model_selection import GridSearchCV\n",
    "from sklearn.metrics import make_scorer\n",
    "\n",
    "scorer = make_scorer(RMSE, greater_is_better = False)\n",
    "\n",
    "lightgbm_model = lightgbm.LGBMRegressor()\n",
    "\n",
    "params = {'num_leaves': [5,10,20],\n",
    "          'learning_rate': [0.01, 0.1, 0.5, 1], \n",
    "          'n_estimators': [100]}\n",
    "\n",
    "grid = GridSearchCV(estimator=lightgbm_model, param_grid = params, cv = 2, scoring=scorer)\n",
    "\n",
    "grid.fit(OE_features_train, target_train)\n",
    "\n",
    "print('Лучшее значение RMSE:', grid.best_score_)\n",
    "print('Параметры при лучшем RMSE:', grid.best_params_)"
   ]
  },
  {
   "cell_type": "code",
   "execution_count": 47,
   "metadata": {},
   "outputs": [
    {
     "name": "stdout",
     "output_type": "stream",
     "text": [
      "CPU times: user 5.13 s, sys: 26.7 ms, total: 5.16 s\n",
      "Wall time: 5.2 s\n"
     ]
    },
    {
     "data": {
      "text/plain": [
       "LGBMRegressor(boosting_type='gbdt', class_weight=None, colsample_bytree=1.0,\n",
       "              importance_type='split', learning_rate=0.5, max_depth=-1,\n",
       "              min_child_samples=20, min_child_weight=0.001, min_split_gain=0.0,\n",
       "              n_estimators=100, n_jobs=-1, num_leaves=20, objective=None,\n",
       "              random_state=None, reg_alpha=0.0, reg_lambda=0.0, silent=True,\n",
       "              subsample=1.0, subsample_for_bin=200000, subsample_freq=0)"
      ]
     },
     "execution_count": 47,
     "metadata": {},
     "output_type": "execute_result"
    }
   ],
   "source": [
    "%%time\n",
    "\n",
    "lightgbm_model = lightgbm.LGBMRegressor(learning_rate=0.5, n_estimators=100, num_leaves=20)\n",
    "lightgbm_model.fit(OE_features_train, target_train)"
   ]
  },
  {
   "cell_type": "markdown",
   "metadata": {},
   "source": [
    "### 2.2.4 Модель CatBoost"
   ]
  },
  {
   "cell_type": "code",
   "execution_count": 48,
   "metadata": {},
   "outputs": [],
   "source": [
    "from catboost import CatBoostRegressor\n",
    "\n",
    "catboost_model = CatBoostRegressor(cat_features=cat_feats, n_estimators=100)"
   ]
  },
  {
   "cell_type": "code",
   "execution_count": 49,
   "metadata": {},
   "outputs": [
    {
     "name": "stdout",
     "output_type": "stream",
     "text": [
      "0:\tlearn: 4445.3872098\ttotal: 330ms\tremaining: 32.7s\n",
      "1:\tlearn: 4360.8040386\ttotal: 539ms\tremaining: 26.4s\n",
      "2:\tlearn: 4281.4460430\ttotal: 837ms\tremaining: 27.1s\n",
      "3:\tlearn: 4206.4504567\ttotal: 1.13s\tremaining: 27.1s\n",
      "4:\tlearn: 4129.9754295\ttotal: 1.34s\tremaining: 25.4s\n",
      "5:\tlearn: 4055.5321544\ttotal: 1.63s\tremaining: 25.5s\n",
      "6:\tlearn: 3984.3494813\ttotal: 1.83s\tremaining: 24.4s\n",
      "7:\tlearn: 3916.3889975\ttotal: 2.13s\tremaining: 24.5s\n",
      "8:\tlearn: 3849.2670591\ttotal: 2.33s\tremaining: 23.6s\n",
      "9:\tlearn: 3785.8022817\ttotal: 2.63s\tremaining: 23.6s\n",
      "10:\tlearn: 3726.9397512\ttotal: 2.83s\tremaining: 22.9s\n",
      "11:\tlearn: 3666.2081081\ttotal: 3.12s\tremaining: 22.9s\n",
      "12:\tlearn: 3609.7395853\ttotal: 3.33s\tremaining: 22.3s\n",
      "13:\tlearn: 3555.5909680\ttotal: 3.62s\tremaining: 22.2s\n",
      "14:\tlearn: 3502.7138422\ttotal: 3.83s\tremaining: 21.7s\n",
      "15:\tlearn: 3451.2159192\ttotal: 4.04s\tremaining: 21.2s\n",
      "16:\tlearn: 3403.4390142\ttotal: 4.32s\tremaining: 21.1s\n",
      "17:\tlearn: 3358.2334003\ttotal: 4.53s\tremaining: 20.6s\n",
      "18:\tlearn: 3310.5899825\ttotal: 4.82s\tremaining: 20.6s\n",
      "19:\tlearn: 3264.9045601\ttotal: 5.02s\tremaining: 20.1s\n",
      "20:\tlearn: 3223.5472208\ttotal: 5.22s\tremaining: 19.7s\n",
      "21:\tlearn: 3182.2378973\ttotal: 5.52s\tremaining: 19.6s\n",
      "22:\tlearn: 3142.0279849\ttotal: 5.72s\tremaining: 19.2s\n",
      "23:\tlearn: 3103.6148614\ttotal: 6.01s\tremaining: 19s\n",
      "24:\tlearn: 3067.1907818\ttotal: 6.22s\tremaining: 18.7s\n",
      "25:\tlearn: 3031.1847262\ttotal: 6.51s\tremaining: 18.5s\n",
      "26:\tlearn: 2997.7452894\ttotal: 6.72s\tremaining: 18.2s\n",
      "27:\tlearn: 2964.8092064\ttotal: 7.02s\tremaining: 18s\n",
      "28:\tlearn: 2932.3203688\ttotal: 7.22s\tremaining: 17.7s\n",
      "29:\tlearn: 2901.6878025\ttotal: 7.51s\tremaining: 17.5s\n",
      "30:\tlearn: 2872.3054048\ttotal: 7.72s\tremaining: 17.2s\n",
      "31:\tlearn: 2842.6160786\ttotal: 8.01s\tremaining: 17s\n",
      "32:\tlearn: 2813.3619050\ttotal: 8.22s\tremaining: 16.7s\n",
      "33:\tlearn: 2787.4371357\ttotal: 8.51s\tremaining: 16.5s\n",
      "34:\tlearn: 2762.7740651\ttotal: 8.72s\tremaining: 16.2s\n",
      "35:\tlearn: 2737.0932030\ttotal: 9.01s\tremaining: 16s\n",
      "36:\tlearn: 2709.5817940\ttotal: 9.22s\tremaining: 15.7s\n",
      "37:\tlearn: 2683.4898336\ttotal: 9.52s\tremaining: 15.5s\n",
      "38:\tlearn: 2658.6804763\ttotal: 9.8s\tremaining: 15.3s\n",
      "39:\tlearn: 2634.6785433\ttotal: 10s\tremaining: 15s\n",
      "40:\tlearn: 2612.1757206\ttotal: 10.2s\tremaining: 14.7s\n",
      "41:\tlearn: 2590.5369192\ttotal: 10.5s\tremaining: 14.5s\n",
      "42:\tlearn: 2569.0133461\ttotal: 10.7s\tremaining: 14.2s\n",
      "43:\tlearn: 2547.0654585\ttotal: 11s\tremaining: 14s\n",
      "44:\tlearn: 2527.5044515\ttotal: 11.2s\tremaining: 13.7s\n",
      "45:\tlearn: 2508.2415315\ttotal: 11.5s\tremaining: 13.5s\n",
      "46:\tlearn: 2490.3383146\ttotal: 11.7s\tremaining: 13.2s\n",
      "47:\tlearn: 2472.1543187\ttotal: 12s\tremaining: 13s\n",
      "48:\tlearn: 2454.9418329\ttotal: 12.2s\tremaining: 12.7s\n",
      "49:\tlearn: 2437.8041394\ttotal: 12.4s\tremaining: 12.4s\n",
      "50:\tlearn: 2422.2360323\ttotal: 12.7s\tremaining: 12.2s\n",
      "51:\tlearn: 2407.0755701\ttotal: 12.9s\tremaining: 11.9s\n",
      "52:\tlearn: 2391.5284760\ttotal: 13.2s\tremaining: 11.7s\n",
      "53:\tlearn: 2376.6620672\ttotal: 13.5s\tremaining: 11.5s\n",
      "54:\tlearn: 2363.2621625\ttotal: 13.7s\tremaining: 11.2s\n",
      "55:\tlearn: 2350.2095827\ttotal: 13.9s\tremaining: 10.9s\n",
      "56:\tlearn: 2337.3720862\ttotal: 14.2s\tremaining: 10.7s\n",
      "57:\tlearn: 2325.5844503\ttotal: 14.4s\tremaining: 10.4s\n",
      "58:\tlearn: 2313.0222626\ttotal: 14.7s\tremaining: 10.2s\n",
      "59:\tlearn: 2300.8921553\ttotal: 14.9s\tremaining: 9.93s\n",
      "60:\tlearn: 2290.0637616\ttotal: 15.2s\tremaining: 9.71s\n",
      "61:\tlearn: 2276.6518949\ttotal: 15.4s\tremaining: 9.43s\n",
      "62:\tlearn: 2264.7439876\ttotal: 15.6s\tremaining: 9.15s\n",
      "63:\tlearn: 2253.5541855\ttotal: 15.8s\tremaining: 8.88s\n",
      "64:\tlearn: 2241.9411633\ttotal: 16.1s\tremaining: 8.66s\n",
      "65:\tlearn: 2231.5839881\ttotal: 16.3s\tremaining: 8.39s\n",
      "66:\tlearn: 2220.8947558\ttotal: 16.6s\tremaining: 8.16s\n",
      "67:\tlearn: 2211.3057502\ttotal: 16.8s\tremaining: 7.9s\n",
      "68:\tlearn: 2201.5569206\ttotal: 17s\tremaining: 7.63s\n",
      "69:\tlearn: 2192.4459942\ttotal: 17.3s\tremaining: 7.4s\n",
      "70:\tlearn: 2183.8160559\ttotal: 17.5s\tremaining: 7.14s\n",
      "71:\tlearn: 2173.5386752\ttotal: 17.8s\tremaining: 6.91s\n",
      "72:\tlearn: 2163.8882953\ttotal: 18s\tremaining: 6.65s\n",
      "73:\tlearn: 2154.4081070\ttotal: 18.2s\tremaining: 6.39s\n",
      "74:\tlearn: 2144.1416125\ttotal: 18.5s\tremaining: 6.16s\n",
      "75:\tlearn: 2135.1547915\ttotal: 18.8s\tremaining: 5.93s\n",
      "76:\tlearn: 2126.4213911\ttotal: 19s\tremaining: 5.67s\n",
      "77:\tlearn: 2118.7221584\ttotal: 19.3s\tremaining: 5.43s\n",
      "78:\tlearn: 2111.2980915\ttotal: 19.5s\tremaining: 5.18s\n",
      "79:\tlearn: 2104.2737838\ttotal: 19.7s\tremaining: 4.92s\n",
      "80:\tlearn: 2096.1678102\ttotal: 20s\tremaining: 4.68s\n",
      "81:\tlearn: 2089.7045998\ttotal: 20.2s\tremaining: 4.43s\n",
      "82:\tlearn: 2082.7620448\ttotal: 20.5s\tremaining: 4.19s\n",
      "83:\tlearn: 2076.5069995\ttotal: 20.7s\tremaining: 3.94s\n",
      "84:\tlearn: 2071.0241101\ttotal: 21s\tremaining: 3.7s\n",
      "85:\tlearn: 2065.3063291\ttotal: 21.2s\tremaining: 3.45s\n",
      "86:\tlearn: 2059.5992040\ttotal: 21.5s\tremaining: 3.21s\n",
      "87:\tlearn: 2053.8837770\ttotal: 21.7s\tremaining: 2.95s\n",
      "88:\tlearn: 2049.3269339\ttotal: 22s\tremaining: 2.71s\n",
      "89:\tlearn: 2044.1168604\ttotal: 22.2s\tremaining: 2.46s\n",
      "90:\tlearn: 2039.0977765\ttotal: 22.4s\tremaining: 2.21s\n",
      "91:\tlearn: 2034.4599920\ttotal: 22.7s\tremaining: 1.97s\n",
      "92:\tlearn: 2030.0990479\ttotal: 22.9s\tremaining: 1.72s\n",
      "93:\tlearn: 2025.8758345\ttotal: 23.1s\tremaining: 1.47s\n",
      "94:\tlearn: 2021.2493046\ttotal: 23.4s\tremaining: 1.23s\n",
      "95:\tlearn: 2016.8696746\ttotal: 23.6s\tremaining: 982ms\n",
      "96:\tlearn: 2012.6575669\ttotal: 23.8s\tremaining: 735ms\n",
      "97:\tlearn: 2008.7122049\ttotal: 24s\tremaining: 489ms\n",
      "98:\tlearn: 2004.6798483\ttotal: 24.3s\tremaining: 245ms\n",
      "99:\tlearn: 2000.9400611\ttotal: 24.5s\tremaining: 0us\n",
      "CPU times: user 22.1 s, sys: 2.96 s, total: 25 s\n",
      "Wall time: 26.6 s\n"
     ]
    },
    {
     "data": {
      "text/plain": [
       "<catboost.core.CatBoostRegressor at 0x7f557d002050>"
      ]
     },
     "execution_count": 49,
     "metadata": {},
     "output_type": "execute_result"
    }
   ],
   "source": [
    "%%time\n",
    "\n",
    "catboost_model.fit(OE_features_train, target_train)"
   ]
  },
  {
   "cell_type": "markdown",
   "metadata": {},
   "source": [
    "## 2.3 Анализ скорости работы и качества полученных моделей"
   ]
  },
  {
   "cell_type": "markdown",
   "metadata": {},
   "source": [
    "***Константная модель***"
   ]
  },
  {
   "cell_type": "code",
   "execution_count": 50,
   "metadata": {},
   "outputs": [
    {
     "name": "stdout",
     "output_type": "stream",
     "text": [
      "CPU times: user 2.85 ms, sys: 0 ns, total: 2.85 ms\n",
      "Wall time: 1.61 ms\n"
     ]
    }
   ],
   "source": [
    "%%time\n",
    "\n",
    "predicted_valid = pd.Series(target_train.mean(), index=target_valid.index)"
   ]
  },
  {
   "cell_type": "code",
   "execution_count": 51,
   "metadata": {},
   "outputs": [
    {
     "name": "stdout",
     "output_type": "stream",
     "text": [
      "RMSE: 4545.55\n"
     ]
    }
   ],
   "source": [
    "print('RMSE: {:.2f}'.format(RMSE(target_valid, predicted_valid)))"
   ]
  },
  {
   "cell_type": "markdown",
   "metadata": {},
   "source": [
    "***Логическая регрессия***"
   ]
  },
  {
   "cell_type": "code",
   "execution_count": 52,
   "metadata": {},
   "outputs": [
    {
     "name": "stdout",
     "output_type": "stream",
     "text": [
      "CPU times: user 89.2 ms, sys: 85.5 ms, total: 175 ms\n",
      "Wall time: 137 ms\n"
     ]
    }
   ],
   "source": [
    "%%time\n",
    "\n",
    "predicted_valid = line_reg_model.predict(OHE_features_valid)"
   ]
  },
  {
   "cell_type": "code",
   "execution_count": 53,
   "metadata": {},
   "outputs": [
    {
     "name": "stdout",
     "output_type": "stream",
     "text": [
      "RMSE: 2702.56\n"
     ]
    }
   ],
   "source": [
    "print('RMSE: {:.2f}'.format(RMSE(target_valid, predicted_valid)))"
   ]
  },
  {
   "cell_type": "markdown",
   "metadata": {},
   "source": [
    "***Модель LightGBM***"
   ]
  },
  {
   "cell_type": "code",
   "execution_count": 54,
   "metadata": {},
   "outputs": [
    {
     "name": "stdout",
     "output_type": "stream",
     "text": [
      "CPU times: user 424 ms, sys: 0 ns, total: 424 ms\n",
      "Wall time: 413 ms\n"
     ]
    }
   ],
   "source": [
    "%%time\n",
    "\n",
    "predicted_valid = lightgbm_model.predict(OE_features_valid)"
   ]
  },
  {
   "cell_type": "code",
   "execution_count": 55,
   "metadata": {},
   "outputs": [
    {
     "name": "stdout",
     "output_type": "stream",
     "text": [
      "RMSE: 1671.38\n"
     ]
    }
   ],
   "source": [
    "print('RMSE: {:.2f}'.format(RMSE(target_valid, predicted_valid)))"
   ]
  },
  {
   "cell_type": "markdown",
   "metadata": {},
   "source": [
    "***Модель CatBoost***"
   ]
  },
  {
   "cell_type": "code",
   "execution_count": 56,
   "metadata": {},
   "outputs": [
    {
     "name": "stdout",
     "output_type": "stream",
     "text": [
      "CPU times: user 172 ms, sys: 10.9 ms, total: 183 ms\n",
      "Wall time: 200 ms\n"
     ]
    }
   ],
   "source": [
    "%%time\n",
    "\n",
    "predicted_valid = catboost_model.predict(OE_features_valid)"
   ]
  },
  {
   "cell_type": "code",
   "execution_count": 57,
   "metadata": {},
   "outputs": [
    {
     "name": "stdout",
     "output_type": "stream",
     "text": [
      "RMSE: 2000.71\n"
     ]
    }
   ],
   "source": [
    "print('RMSE: {:.2f}'.format(RMSE(target_valid, predicted_valid)))"
   ]
  },
  {
   "cell_type": "code",
   "execution_count": 58,
   "metadata": {},
   "outputs": [
    {
     "data": {
      "text/html": [
       "<div>\n",
       "<style scoped>\n",
       "    .dataframe tbody tr th:only-of-type {\n",
       "        vertical-align: middle;\n",
       "    }\n",
       "\n",
       "    .dataframe tbody tr th {\n",
       "        vertical-align: top;\n",
       "    }\n",
       "\n",
       "    .dataframe thead th {\n",
       "        text-align: right;\n",
       "    }\n",
       "</style>\n",
       "<table border=\"1\" class=\"dataframe\">\n",
       "  <thead>\n",
       "    <tr style=\"text-align: right;\">\n",
       "      <th></th>\n",
       "      <th>Модель</th>\n",
       "      <th>RMSE</th>\n",
       "      <th>Скорость обучения, с</th>\n",
       "      <th>Скорость предсказания, мс</th>\n",
       "    </tr>\n",
       "  </thead>\n",
       "  <tbody>\n",
       "    <tr>\n",
       "      <td>0</td>\n",
       "      <td>Константная</td>\n",
       "      <td>4545.55</td>\n",
       "      <td>0.00</td>\n",
       "      <td>1.96</td>\n",
       "    </tr>\n",
       "    <tr>\n",
       "      <td>1</td>\n",
       "      <td>Линейная Регрессия</td>\n",
       "      <td>2702.56</td>\n",
       "      <td>4.82</td>\n",
       "      <td>385.00</td>\n",
       "    </tr>\n",
       "    <tr>\n",
       "      <td>2</td>\n",
       "      <td>LightGBM</td>\n",
       "      <td>1671.38</td>\n",
       "      <td>1.55</td>\n",
       "      <td>232.00</td>\n",
       "    </tr>\n",
       "    <tr>\n",
       "      <td>3</td>\n",
       "      <td>CatBoost</td>\n",
       "      <td>1685.78</td>\n",
       "      <td>8.87</td>\n",
       "      <td>246.00</td>\n",
       "    </tr>\n",
       "  </tbody>\n",
       "</table>\n",
       "</div>"
      ],
      "text/plain": [
       "               Модель    RMSE  Скорость обучения, с  Скорость предсказания, мс\n",
       "0         Константная 4545.55                  0.00                       1.96\n",
       "1  Линейная Регрессия 2702.56                  4.82                     385.00\n",
       "2            LightGBM 1671.38                  1.55                     232.00\n",
       "3            CatBoost 1685.78                  8.87                     246.00"
      ]
     },
     "execution_count": 58,
     "metadata": {},
     "output_type": "execute_result"
    },
    {
     "data": {
      "image/png": "[encoded data removed]",
      "text/plain": [
       "<Figure size 1152x360 with 3 Axes>"
      ]
     },
     "metadata": {},
     "output_type": "display_data"
    }
   ],
   "source": [
    "results = pd.DataFrame({'Модель': ['Константная', 'Линейная Регрессия', 'LightGBM', 'CatBoost'],\n",
    "                        'RMSE': [4545.55, 2702.56, 1671.38, 1685.78],\n",
    "                        'Скорость обучения, с': [0, 4.82, 1.55, 8.87],\n",
    "                        'Скорость предсказания, мс':[1.96, 385, 232, 246]})\n",
    "\n",
    "fig, axs = plt.subplots(1, 3, figsize=(16,5), constrained_layout=True)\n",
    "cats = ['RMSE', 'Скорость обучения, с', 'Скорость предсказания, мс']\n",
    "subplot = 0\n",
    "\n",
    "for cat in cats:\n",
    "    labels = results['Модель']\n",
    "    rslts = results[cat].tolist()\n",
    "\n",
    "    axs[subplot].pie(rslts, labels=labels, autopct='%1.1f%%', shadow=True, startangle=90)\n",
    "    axs[subplot].axis('equal')\n",
    "    axs[subplot].set_title(cat)\n",
    "\n",
    "    subplot += 1\n",
    "\n",
    "results"
   ]
  },
  {
   "cell_type": "markdown",
   "metadata": {},
   "source": [
    "***Промежуточный итог***  \n",
    "  \n",
    "По итогам проведённого анализа можно сделать следующие выводы:\n",
    "\n",
    "- лучшим качеством обладают модели *LightGBM* и *CatBoost*;\n",
    "- наивысшую скорость обучения имеет модель *LightGBM*;\n",
    "- с учётом предыдущих выводов, интерес для нас имеют модели *LightGBM* и *CatBoost*, скорость предсказания которых сопоставима."
   ]
  },
  {
   "cell_type": "markdown",
   "metadata": {},
   "source": [
    "# 3 Вывод"
   ]
  },
  {
   "cell_type": "markdown",
   "metadata": {},
   "source": [
    "В ходе выполнения работы было сделано следующее.  \n",
    "  \n",
    "В ходе предобработки данных:\n",
    "- были удалены из рассмотрения столбцы данных не представляющих для нас интереса, а именно:\n",
    " - *DateCrawled* — дата скачивания анкеты из базы;\n",
    " - *RegistrationMonth* — месяц регистрации автомобиля;\n",
    " - *DateCreated* — дата создания анкеты;\n",
    " - *NumberOfPictures* — количество фотографий автомобиля;\n",
    " - *PostalCode* — почтовый индекс владельца анкеты (пользователя);\n",
    " - *LastSeen* — дата последней активности пользователя.\n",
    "- были скорректированы имена оставшихся столбцов;\n",
    "- были заполнены пропуски:\n",
    " - в столбце *NotRepaired* -- значениями *'no'*;\n",
    " - в столбцах *VehicleType*, *Gearbox*, *Model*, *FuelType* -- наиболее часто встречающимися значениями, как наиболее вероятными;\n",
    "- были удалены аномальные значения:\n",
    " - в признаке *price* -- нулевые значения;\n",
    " - в признаке *registration_year* -- значения ниже 1910 и выше 2019;\n",
    " - в признаке *power* -- нулевые значения и максимальные аномальные (> 250);\n",
    "- были удалены полные дубликаты строк.\n",
    "  \n",
    "Затем были созданы и обучены модели *Линейной регрессии*, *LightGBM*, *CatBoost*.  \n",
    "  \n",
    "Затем полученные модели были исследованы на качество предсказаний и скорость выполнения данных предсказаний.  \n",
    "По итогам проведённого анализа были сделаны следующие выводы:\n",
    "- лучшим качеством обладают модели *LightGBM* и *CatBoost*;\n",
    "- наивысшую скоорсть обучения имеет модель *LightGBM*;\n",
    "- с учётом предыдущих выводов, интерес для нас имеют модели *LightGBM* и *CatBoost*, скорость предсказания которых сопоставима.\n",
    "  \n",
    "***Таким образом, по итогам выполнения работы и проведённого анализа можно сделать вывод, что наилучшей моделью по качеству предсказания, скорости предсказания и времени обучения является модель LightGBM, которую необходимо рекомендовать Заказчику***"
   ]
  }
 ],
 "metadata": {
  "kernelspec": {
   "display_name": "Python 3",
   "language": "python",
   "name": "python3"
  },
  "language_info": {
   "codemirror_mode": {
    "name": "ipython",
    "version": 3
   },
   "file_extension": ".py",
   "mimetype": "text/x-python",
   "name": "python",
   "nbconvert_exporter": "python",
   "pygments_lexer": "ipython3",
   "version": "3.8.3"
  },
  "toc": {
   "base_numbering": 1,
   "nav_menu": {},
   "number_sections": false,
   "sideBar": true,
   "skip_h1_title": false,
   "title_cell": "Table of Contents",
   "title_sidebar": "Contents",
   "toc_cell": false,
   "toc_position": {
    "height": "calc(100% - 180px)",
    "left": "10px",
    "top": "150px",
    "width": "376.771px"
   },
   "toc_section_display": true,
   "toc_window_display": true
  },
  "toc-autonumbering": false,
  "toc-showcode": false,
  "toc-showmarkdowntxt": false
 },
 "nbformat": 4,
 "nbformat_minor": 4
}
