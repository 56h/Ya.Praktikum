{
 "cells": [
  {
   "cell_type": "markdown",
   "metadata": {},
   "source": [
    "## 1 Введение"
   ]
  },
  {
   "cell_type": "markdown",
   "metadata": {},
   "source": [
    "## 1.1 Постановка задачи\n",
    "**Заказчик** -- кредитный отдел банка  \n",
    "  \n",
    "**Задача** -- разобраться, влияет ли семейное положение и количество детей клиента на факт погашения кредита в срок, а также ответить на вопросы:\n",
    "- есть ли зависимость между наличием детей и возвратом кредита в срок;\n",
    "- есть ли зависимость между семейным положением и возвратом кредита в срок;\n",
    "- есть ли зависимость между уровнем дохода и возвратом кредита в срок;\n",
    "- как разные цели кредита влияют на его возврат в срок."
   ]
  },
  {
   "cell_type": "markdown",
   "metadata": {},
   "source": [
    "## 1.2 Исходные данные"
   ]
  },
  {
   "cell_type": "markdown",
   "metadata": {},
   "source": [
    "### 1.2.1 Общее описание\n",
    "Переданные данные от Заказчика -- статистика о платёжеспособности клиентов  \n",
    "  \n",
    "Результаты исследования будут учтены при построении модели *кредитного скоринга*, которая будет оценивать способность потенциального заёмщика вернуть кредит банку"
   ]
  },
  {
   "cell_type": "markdown",
   "metadata": {},
   "source": [
    "### 1.2.2 Переданные файлы\n",
    "- data.csv  "
   ]
  },
  {
   "cell_type": "markdown",
   "metadata": {},
   "source": [
    "### 1.2.3 Описание данных\n",
    "- *children* — количество детей в семье;\n",
    "- *days_employed* — общий трудовой стаж в днях;\n",
    "- *dob_years* — возраст клиента в годах;\n",
    "- *education* — уровень образования клиента;\n",
    "- *education_id* — идентификатор уровня образования;\n",
    "- *family_status* — семейное положение;\n",
    "- *family_status_id* — идентификатор семейного положения;\n",
    "- *gender* — пол клиента;\n",
    "- *income_type* — тип занятости;\n",
    "- *debt* — имел ли задолженность по возврату кредитов;\n",
    "- *total_income* — ежемесячный доход;\n",
    "- *purpose* — цель получения кредита."
   ]
  },
  {
   "cell_type": "markdown",
   "metadata": {},
   "source": [
    "## 1.3 План обработки и анализа данных"
   ]
  },
  {
   "cell_type": "markdown",
   "metadata": {},
   "source": [
    "### 1.3.1 Предобработка данных\n",
    "- обзор данных;\n",
    "- корректировка имён столбцов (при необходимости);\n",
    "- обнаружение и удаление пропусков:\n",
    " - выявить пропуски;\n",
    " - проанализировать причины их появления;\n",
    " - заполнить пропуски (приняв решение по алгоритму заполнения), либо удалить их;\n",
    "- преобразование типов данных столбцов (при необходимости);\n",
    "- поиск и исправление ошибок (аномальных значений) в данных;\n",
    "- удаление дубликатов строк."
   ]
  },
  {
   "cell_type": "markdown",
   "metadata": {},
   "source": [
    "### 1.3.2 Лемматизация"
   ]
  },
  {
   "cell_type": "markdown",
   "metadata": {},
   "source": [
    "### 1.3.3 Категорирование"
   ]
  },
  {
   "cell_type": "markdown",
   "metadata": {},
   "source": [
    "### 1.3.4 Ответы на вопросы"
   ]
  },
  {
   "cell_type": "markdown",
   "metadata": {},
   "source": [
    "### 1.3.5 Вывод"
   ]
  },
  {
   "cell_type": "markdown",
   "metadata": {},
   "source": [
    "## 1.4 Пользовательские функции"
   ]
  },
  {
   "cell_type": "code",
   "execution_count": 1,
   "metadata": {},
   "outputs": [],
   "source": [
    "import numpy as np\n",
    "import pandas as pd\n",
    "import matplotlib.pyplot as plt\n",
    "import seaborn as sns\n",
    "\n",
    "from pymystem3 import Mystem\n",
    "\n",
    "from IPython.core.display import HTML\n",
    "\n",
    "pd.options.display.float_format = '{:.2f}'.format\n",
    "pd.options.display.max_rows = 10\n",
    "#pd.options.display.max_columns = 50\n",
    "pd.options.mode.chained_assignment = None"
   ]
  },
  {
   "cell_type": "code",
   "execution_count": 2,
   "metadata": {},
   "outputs": [],
   "source": [
    "def set_cat(row):\n",
    "    '''\n",
    "    Функция замены значения цели кредита на категорию цели\n",
    "    '''\n",
    "    key = row['purpose']\n",
    "    return cats_dict[key]"
   ]
  },
  {
   "cell_type": "code",
   "execution_count": 3,
   "metadata": {},
   "outputs": [],
   "source": [
    "def analisys(feald):\n",
    "    pt = clients.pivot_table(index=feald, values='debt', aggfunc=['sum', 'count'])\n",
    "    pt.columns = ['debt', 'count']\n",
    "    pt['percent'] = pt['debt'] / pt['count'] * 100\n",
    "    print(pt)"
   ]
  },
  {
   "cell_type": "markdown",
   "metadata": {},
   "source": [
    "# 2 Основная часть"
   ]
  },
  {
   "cell_type": "markdown",
   "metadata": {},
   "source": [
    "## 2.1 Предобработка данных"
   ]
  },
  {
   "cell_type": "code",
   "execution_count": 4,
   "metadata": {},
   "outputs": [],
   "source": [
    "import pandas as pd"
   ]
  },
  {
   "cell_type": "code",
   "execution_count": 5,
   "metadata": {},
   "outputs": [],
   "source": [
    "clients = pd.read_csv('data.csv')"
   ]
  },
  {
   "cell_type": "code",
   "execution_count": 6,
   "metadata": {},
   "outputs": [
    {
     "name": "stdout",
     "output_type": "stream",
     "text": [
      "<class 'pandas.core.frame.DataFrame'>\n",
      "RangeIndex: 21525 entries, 0 to 21524\n",
      "Data columns (total 13 columns):\n",
      " #   Column            Non-Null Count  Dtype  \n",
      "---  ------            --------------  -----  \n",
      " 0   Unnamed: 0        21525 non-null  int64  \n",
      " 1   children          21525 non-null  int64  \n",
      " 2   days_employed     19351 non-null  float64\n",
      " 3   dob_years         21525 non-null  int64  \n",
      " 4   education         21525 non-null  object \n",
      " 5   education_id      21525 non-null  int64  \n",
      " 6   family_status     21525 non-null  object \n",
      " 7   family_status_id  21525 non-null  int64  \n",
      " 8   gender            21525 non-null  object \n",
      " 9   income_type       21525 non-null  object \n",
      " 10  debt              21525 non-null  int64  \n",
      " 11  total_income      19351 non-null  float64\n",
      " 12  purpose           21525 non-null  object \n",
      "dtypes: float64(2), int64(6), object(5)\n",
      "memory usage: 2.1+ MB\n"
     ]
    }
   ],
   "source": [
    "clients.info()"
   ]
  },
  {
   "cell_type": "code",
   "execution_count": 7,
   "metadata": {},
   "outputs": [
    {
     "data": {
      "text/html": [
       "<div>\n",
       "<style scoped>\n",
       "    .dataframe tbody tr th:only-of-type {\n",
       "        vertical-align: middle;\n",
       "    }\n",
       "\n",
       "    .dataframe tbody tr th {\n",
       "        vertical-align: top;\n",
       "    }\n",
       "\n",
       "    .dataframe thead th {\n",
       "        text-align: right;\n",
       "    }\n",
       "</style>\n",
       "<table border=\"1\" class=\"dataframe\">\n",
       "  <thead>\n",
       "    <tr style=\"text-align: right;\">\n",
       "      <th></th>\n",
       "      <th>Unnamed: 0</th>\n",
       "      <th>children</th>\n",
       "      <th>days_employed</th>\n",
       "      <th>dob_years</th>\n",
       "      <th>education</th>\n",
       "      <th>education_id</th>\n",
       "      <th>family_status</th>\n",
       "      <th>family_status_id</th>\n",
       "      <th>gender</th>\n",
       "      <th>income_type</th>\n",
       "      <th>debt</th>\n",
       "      <th>total_income</th>\n",
       "      <th>purpose</th>\n",
       "    </tr>\n",
       "  </thead>\n",
       "  <tbody>\n",
       "    <tr>\n",
       "      <th>0</th>\n",
       "      <td>0</td>\n",
       "      <td>1</td>\n",
       "      <td>-8437.67</td>\n",
       "      <td>42</td>\n",
       "      <td>высшее</td>\n",
       "      <td>0</td>\n",
       "      <td>женат / замужем</td>\n",
       "      <td>0</td>\n",
       "      <td>F</td>\n",
       "      <td>сотрудник</td>\n",
       "      <td>0</td>\n",
       "      <td>253875.64</td>\n",
       "      <td>покупка жилья</td>\n",
       "    </tr>\n",
       "    <tr>\n",
       "      <th>1</th>\n",
       "      <td>1</td>\n",
       "      <td>1</td>\n",
       "      <td>-4024.80</td>\n",
       "      <td>36</td>\n",
       "      <td>среднее</td>\n",
       "      <td>1</td>\n",
       "      <td>женат / замужем</td>\n",
       "      <td>0</td>\n",
       "      <td>F</td>\n",
       "      <td>сотрудник</td>\n",
       "      <td>0</td>\n",
       "      <td>112080.01</td>\n",
       "      <td>приобретение автомобиля</td>\n",
       "    </tr>\n",
       "    <tr>\n",
       "      <th>2</th>\n",
       "      <td>2</td>\n",
       "      <td>0</td>\n",
       "      <td>-5623.42</td>\n",
       "      <td>33</td>\n",
       "      <td>Среднее</td>\n",
       "      <td>1</td>\n",
       "      <td>женат / замужем</td>\n",
       "      <td>0</td>\n",
       "      <td>M</td>\n",
       "      <td>сотрудник</td>\n",
       "      <td>0</td>\n",
       "      <td>145885.95</td>\n",
       "      <td>покупка жилья</td>\n",
       "    </tr>\n",
       "    <tr>\n",
       "      <th>3</th>\n",
       "      <td>3</td>\n",
       "      <td>3</td>\n",
       "      <td>-4124.75</td>\n",
       "      <td>32</td>\n",
       "      <td>среднее</td>\n",
       "      <td>1</td>\n",
       "      <td>женат / замужем</td>\n",
       "      <td>0</td>\n",
       "      <td>M</td>\n",
       "      <td>сотрудник</td>\n",
       "      <td>0</td>\n",
       "      <td>267628.55</td>\n",
       "      <td>дополнительное образование</td>\n",
       "    </tr>\n",
       "    <tr>\n",
       "      <th>4</th>\n",
       "      <td>4</td>\n",
       "      <td>0</td>\n",
       "      <td>340266.07</td>\n",
       "      <td>53</td>\n",
       "      <td>среднее</td>\n",
       "      <td>1</td>\n",
       "      <td>гражданский брак</td>\n",
       "      <td>1</td>\n",
       "      <td>F</td>\n",
       "      <td>пенсионер</td>\n",
       "      <td>0</td>\n",
       "      <td>158616.08</td>\n",
       "      <td>сыграть свадьбу</td>\n",
       "    </tr>\n",
       "    <tr>\n",
       "      <th>5</th>\n",
       "      <td>5</td>\n",
       "      <td>0</td>\n",
       "      <td>-926.19</td>\n",
       "      <td>27</td>\n",
       "      <td>высшее</td>\n",
       "      <td>0</td>\n",
       "      <td>гражданский брак</td>\n",
       "      <td>1</td>\n",
       "      <td>M</td>\n",
       "      <td>компаньон</td>\n",
       "      <td>0</td>\n",
       "      <td>255763.57</td>\n",
       "      <td>покупка жилья</td>\n",
       "    </tr>\n",
       "    <tr>\n",
       "      <th>6</th>\n",
       "      <td>6</td>\n",
       "      <td>0</td>\n",
       "      <td>-2879.20</td>\n",
       "      <td>43</td>\n",
       "      <td>высшее</td>\n",
       "      <td>0</td>\n",
       "      <td>женат / замужем</td>\n",
       "      <td>0</td>\n",
       "      <td>F</td>\n",
       "      <td>компаньон</td>\n",
       "      <td>0</td>\n",
       "      <td>240525.97</td>\n",
       "      <td>операции с жильем</td>\n",
       "    </tr>\n",
       "    <tr>\n",
       "      <th>7</th>\n",
       "      <td>7</td>\n",
       "      <td>0</td>\n",
       "      <td>-152.78</td>\n",
       "      <td>50</td>\n",
       "      <td>СРЕДНЕЕ</td>\n",
       "      <td>1</td>\n",
       "      <td>женат / замужем</td>\n",
       "      <td>0</td>\n",
       "      <td>M</td>\n",
       "      <td>сотрудник</td>\n",
       "      <td>0</td>\n",
       "      <td>135823.93</td>\n",
       "      <td>образование</td>\n",
       "    </tr>\n",
       "    <tr>\n",
       "      <th>8</th>\n",
       "      <td>8</td>\n",
       "      <td>2</td>\n",
       "      <td>-6929.87</td>\n",
       "      <td>35</td>\n",
       "      <td>ВЫСШЕЕ</td>\n",
       "      <td>0</td>\n",
       "      <td>гражданский брак</td>\n",
       "      <td>1</td>\n",
       "      <td>F</td>\n",
       "      <td>сотрудник</td>\n",
       "      <td>0</td>\n",
       "      <td>95856.83</td>\n",
       "      <td>на проведение свадьбы</td>\n",
       "    </tr>\n",
       "    <tr>\n",
       "      <th>9</th>\n",
       "      <td>9</td>\n",
       "      <td>0</td>\n",
       "      <td>-2188.76</td>\n",
       "      <td>41</td>\n",
       "      <td>среднее</td>\n",
       "      <td>1</td>\n",
       "      <td>женат / замужем</td>\n",
       "      <td>0</td>\n",
       "      <td>M</td>\n",
       "      <td>сотрудник</td>\n",
       "      <td>0</td>\n",
       "      <td>144425.94</td>\n",
       "      <td>покупка жилья для семьи</td>\n",
       "    </tr>\n",
       "  </tbody>\n",
       "</table>\n",
       "</div>"
      ],
      "text/plain": [
       "   Unnamed: 0  children  days_employed  dob_years education  education_id  \\\n",
       "0           0         1       -8437.67         42    высшее             0   \n",
       "1           1         1       -4024.80         36   среднее             1   \n",
       "2           2         0       -5623.42         33   Среднее             1   \n",
       "3           3         3       -4124.75         32   среднее             1   \n",
       "4           4         0      340266.07         53   среднее             1   \n",
       "5           5         0        -926.19         27    высшее             0   \n",
       "6           6         0       -2879.20         43    высшее             0   \n",
       "7           7         0        -152.78         50   СРЕДНЕЕ             1   \n",
       "8           8         2       -6929.87         35    ВЫСШЕЕ             0   \n",
       "9           9         0       -2188.76         41   среднее             1   \n",
       "\n",
       "      family_status  family_status_id gender income_type  debt  total_income  \\\n",
       "0   женат / замужем                 0      F   сотрудник     0     253875.64   \n",
       "1   женат / замужем                 0      F   сотрудник     0     112080.01   \n",
       "2   женат / замужем                 0      M   сотрудник     0     145885.95   \n",
       "3   женат / замужем                 0      M   сотрудник     0     267628.55   \n",
       "4  гражданский брак                 1      F   пенсионер     0     158616.08   \n",
       "5  гражданский брак                 1      M   компаньон     0     255763.57   \n",
       "6   женат / замужем                 0      F   компаньон     0     240525.97   \n",
       "7   женат / замужем                 0      M   сотрудник     0     135823.93   \n",
       "8  гражданский брак                 1      F   сотрудник     0      95856.83   \n",
       "9   женат / замужем                 0      M   сотрудник     0     144425.94   \n",
       "\n",
       "                      purpose  \n",
       "0               покупка жилья  \n",
       "1     приобретение автомобиля  \n",
       "2               покупка жилья  \n",
       "3  дополнительное образование  \n",
       "4             сыграть свадьбу  \n",
       "5               покупка жилья  \n",
       "6           операции с жильем  \n",
       "7                 образование  \n",
       "8       на проведение свадьбы  \n",
       "9     покупка жилья для семьи  "
      ]
     },
     "execution_count": 7,
     "metadata": {},
     "output_type": "execute_result"
    }
   ],
   "source": [
    "clients.head(10)"
   ]
  },
  {
   "cell_type": "markdown",
   "metadata": {},
   "source": [
    "По итогам первого, общего взгляда на данные, можно сделать следующие выводы:\n",
    "- Набор данных состоит из 12 столбцов и 21525 строк.\n",
    "- Имена столбцов читабельны, за исключением столбца *dob_years* -- название не соответствувет данным, хранящимся в нём; столбец неоходимо переименовать в *age*.\n",
    "- Данные в столбцах *days_employed* и *total_income* имеют пропуски. Тип данных float64 для данных столбцов необходимо заменить на int64.\n",
    "\n",
    "Объем пропусков невелик -- 10,1%, однако существеннен, чтобы их не удалять, а заполнить некоторыми представительными данными. Появление данных пропусков вероятнее всего вызвано следующими причинами:\n",
    "- человеческим фактором -- не все данные были внесены, либо внесены ошибочные данные, которые система сбора статистики не приняла;\n",
    "- локальными техническими сбоями -- обрывы связи, некорректные обработки ошибок ввода и т.д."
   ]
  },
  {
   "cell_type": "markdown",
   "metadata": {},
   "source": [
    "**Корректировка имён столбцов**"
   ]
  },
  {
   "cell_type": "code",
   "execution_count": 8,
   "metadata": {},
   "outputs": [
    {
     "data": {
      "text/plain": [
       "Index(['Unnamed: 0', 'children', 'days_employed', 'age', 'education',\n",
       "       'education_id', 'family_status', 'family_status_id', 'gender',\n",
       "       'income_type', 'debt', 'total_income', 'purpose'],\n",
       "      dtype='object')"
      ]
     },
     "execution_count": 8,
     "metadata": {},
     "output_type": "execute_result"
    }
   ],
   "source": [
    "clients.rename(columns={'dob_years':'age'}, inplace=True)\n",
    "clients.columns"
   ]
  },
  {
   "cell_type": "markdown",
   "metadata": {},
   "source": [
    "**Обнаружение и удаление пропусков**"
   ]
  },
  {
   "cell_type": "markdown",
   "metadata": {},
   "source": [
    "Ранее было выявлено, что пропуски имеются в столбцах *days_employed* и *total_income*. Удалять строки с пропусками не корректно, потому что пропуски могли возникнуть ошибочно (например, в случае ошибочного ввода трудового стажа), либо, как элемент данных (например, при указании дохода неработающих пенсионеров). Поэтому пропуски будут заменены на медианные значения соответствующих групп клиентов (по категориям столбца *income_type*)."
   ]
  },
  {
   "cell_type": "code",
   "execution_count": 9,
   "metadata": {},
   "outputs": [
    {
     "data": {
      "text/plain": [
       "Unnamed: 0          0\n",
       "children            0\n",
       "days_employed    2174\n",
       "age                 0\n",
       "education           0\n",
       "                 ... \n",
       "gender              0\n",
       "income_type         0\n",
       "debt                0\n",
       "total_income     2174\n",
       "purpose             0\n",
       "Length: 13, dtype: int64"
      ]
     },
     "execution_count": 9,
     "metadata": {},
     "output_type": "execute_result"
    }
   ],
   "source": [
    "clients.isnull().sum()"
   ]
  },
  {
   "cell_type": "code",
   "execution_count": 10,
   "metadata": {},
   "outputs": [],
   "source": [
    "# Заполнение пропусков значениями медиан по группам\n",
    "income_types = clients['income_type'].unique()\n",
    "\n",
    "for i in income_types:\n",
    "    median = int(clients.loc[(clients['income_type'] == i) & (~clients['days_employed'].isnull()), 'days_employed'].median())\n",
    "    clients.loc[(clients['income_type'] == i) & (clients['days_employed'].isnull()), 'days_employed'] = median\n",
    "    \n",
    "    median = int(clients.loc[(clients['income_type'] == i) & (~clients['total_income'].isnull()), 'total_income'].median())\n",
    "    clients.loc[(clients['income_type'] == i) & (clients['total_income'].isnull()), 'total_income'] = median"
   ]
  },
  {
   "cell_type": "code",
   "execution_count": 11,
   "metadata": {},
   "outputs": [
    {
     "data": {
      "text/plain": [
       "Unnamed: 0       0\n",
       "children         0\n",
       "days_employed    0\n",
       "age              0\n",
       "education        0\n",
       "                ..\n",
       "gender           0\n",
       "income_type      0\n",
       "debt             0\n",
       "total_income     0\n",
       "purpose          0\n",
       "Length: 13, dtype: int64"
      ]
     },
     "execution_count": 11,
     "metadata": {},
     "output_type": "execute_result"
    }
   ],
   "source": [
    "clients.isnull().sum()"
   ]
  },
  {
   "cell_type": "markdown",
   "metadata": {},
   "source": [
    "**Преобразование типов данных столбцов**"
   ]
  },
  {
   "cell_type": "markdown",
   "metadata": {},
   "source": [
    "Тип данных столбцов **days_employed** и **total_income** неободимо заменить на int64."
   ]
  },
  {
   "cell_type": "code",
   "execution_count": 12,
   "metadata": {},
   "outputs": [
    {
     "data": {
      "text/plain": [
       "0         -8437\n",
       "1         -4024\n",
       "2         -5623\n",
       "3         -4124\n",
       "4        340266\n",
       "          ...  \n",
       "21520     -4529\n",
       "21521    343937\n",
       "21522     -2113\n",
       "21523     -3112\n",
       "21524     -1984\n",
       "Name: days_employed, Length: 21525, dtype: int32"
      ]
     },
     "execution_count": 12,
     "metadata": {},
     "output_type": "execute_result"
    }
   ],
   "source": [
    "clients['days_employed'] = clients['days_employed'].astype(int)\n",
    "clients['days_employed']"
   ]
  },
  {
   "cell_type": "code",
   "execution_count": 13,
   "metadata": {},
   "outputs": [
    {
     "data": {
      "text/plain": [
       "0        253875\n",
       "1        112080\n",
       "2        145885\n",
       "3        267628\n",
       "4        158616\n",
       "          ...  \n",
       "21520    224791\n",
       "21521    155999\n",
       "21522     89672\n",
       "21523    244093\n",
       "21524     82047\n",
       "Name: total_income, Length: 21525, dtype: int32"
      ]
     },
     "execution_count": 13,
     "metadata": {},
     "output_type": "execute_result"
    }
   ],
   "source": [
    "clients['total_income'] = clients['total_income'].astype(int)\n",
    "clients['total_income']"
   ]
  },
  {
   "cell_type": "markdown",
   "metadata": {},
   "source": [
    "**Удаление полных дубликатов строк**"
   ]
  },
  {
   "cell_type": "markdown",
   "metadata": {},
   "source": [
    "Перед тем, как устранять явные дубликаты данных, проанализируем значения, хранящиеся в наборе данных, устраним или преобразуем аномальные значения."
   ]
  },
  {
   "cell_type": "markdown",
   "metadata": {},
   "source": [
    "###### Столбец <u>children</u>"
   ]
  },
  {
   "cell_type": "code",
   "execution_count": 14,
   "metadata": {},
   "outputs": [
    {
     "name": "stdout",
     "output_type": "stream",
     "text": [
      "[ 1  0  3  2 -1  4 20  5]\n"
     ]
    }
   ],
   "source": [
    "print(clients['children'].unique())"
   ]
  },
  {
   "cell_type": "code",
   "execution_count": 15,
   "metadata": {},
   "outputs": [
    {
     "name": "stdout",
     "output_type": "stream",
     "text": [
      "-1: 0.22%\n",
      "20: 0.35%\n"
     ]
    }
   ],
   "source": [
    "# Количество аномальных значений (-1 и 20)\n",
    "print('-1: {:.2%}'.format(clients.loc[clients['children'] == -1, 'children'].count() / clients.shape[0]))\n",
    "print('20: {:.2%}'.format(clients.loc[clients['children'] == 20, 'children'].count() / clients.shape[0]))"
   ]
  },
  {
   "cell_type": "markdown",
   "metadata": {},
   "source": [
    "Поскольку удельный вес аномальных значений невелик, заменим их на медианное значение по столбцу без учёта данных аномалий."
   ]
  },
  {
   "cell_type": "code",
   "execution_count": 16,
   "metadata": {},
   "outputs": [],
   "source": [
    "median = int(clients.loc[(clients['children'] != -1) & (clients['children'] != 20), 'children'].median())\n",
    "clients.loc[(clients['children'] == -1) | (clients['children'] == 20), 'children'] = median"
   ]
  },
  {
   "cell_type": "code",
   "execution_count": 17,
   "metadata": {},
   "outputs": [
    {
     "data": {
      "text/plain": [
       "0    14272\n",
       "1     4818\n",
       "2     2055\n",
       "3      330\n",
       "4       41\n",
       "5        9\n",
       "Name: children, dtype: int64"
      ]
     },
     "execution_count": 17,
     "metadata": {},
     "output_type": "execute_result"
    }
   ],
   "source": [
    "clients['children'].value_counts()"
   ]
  },
  {
   "cell_type": "markdown",
   "metadata": {},
   "source": [
    "###### Столбец <u>days_employed</u>"
   ]
  },
  {
   "cell_type": "code",
   "execution_count": 18,
   "metadata": {},
   "outputs": [
    {
     "name": "stdout",
     "output_type": "stream",
     "text": [
      "-18388\n",
      "401755\n"
     ]
    }
   ],
   "source": [
    "print(clients.sort_values(by='days_employed')['days_employed'].min())\n",
    "print(clients.sort_values(by='days_employed')['days_employed'].max())"
   ]
  },
  {
   "cell_type": "markdown",
   "metadata": {},
   "source": [
    "Диапазон значений данного столбца наталкивает на мысль, что единицей измерения данных столбца являются часы, а не дни. Исходя из этого предположения _левая_ граница диапазона соответствует стажу ~9 лет (из расчета 1971 рабочий час в невисокосном году). Отрицательные значения могли появиться как формат хранения данных хранилища, из которого они были извлечены. Преобразуем их в беззнаковые величины.  \n",
    "_Правая_ граница диапазона соответствует стажу ~203 года. Это явно аномальное значение. Примем максимальный нормальный трудовой стаж размером 47 лет (для мужчин, работавших от 18 до 65 лет), что равно 92733 рабочих часа (47 лет по 1971 часу и 12 дней в високосных годах). Все значения правого диапазона больше этого значения заменим на него"
   ]
  },
  {
   "cell_type": "code",
   "execution_count": 19,
   "metadata": {},
   "outputs": [
    {
     "name": "stdout",
     "output_type": "stream",
     "text": [
      "82.08%\n"
     ]
    }
   ],
   "source": [
    "# Количество аномальных значений слева\n",
    "print('{:.2%}'.format(clients.loc[clients['days_employed'] < 0, 'days_employed'].count() / clients.shape[0]))"
   ]
  },
  {
   "cell_type": "code",
   "execution_count": 20,
   "metadata": {},
   "outputs": [
    {
     "name": "stdout",
     "output_type": "stream",
     "text": [
      "0.00%\n"
     ]
    }
   ],
   "source": [
    "clients.loc[clients['days_employed'] < 0, 'days_employed'] = - clients['days_employed']\n",
    "print('{:.2%}'.format(clients.loc[clients['days_employed'] < 0, 'days_employed'].count() / clients.shape[0]))"
   ]
  },
  {
   "cell_type": "code",
   "execution_count": 21,
   "metadata": {},
   "outputs": [
    {
     "name": "stdout",
     "output_type": "stream",
     "text": [
      "17.92%\n"
     ]
    }
   ],
   "source": [
    "# Количество аномальных значений справа\n",
    "print('{:.2%}'.format(clients.loc[clients['days_employed'] > 92733, 'days_employed'].count() / clients.shape[0]))"
   ]
  },
  {
   "cell_type": "code",
   "execution_count": 22,
   "metadata": {},
   "outputs": [
    {
     "name": "stdout",
     "output_type": "stream",
     "text": [
      "0.00%\n"
     ]
    }
   ],
   "source": [
    "clients.loc[clients['days_employed'] > 92733, 'days_employed'] = 92733\n",
    "print('{:.2%}'.format(clients.loc[clients['days_employed'] > 92733, 'days_employed'].count() / clients.shape[0]))"
   ]
  },
  {
   "cell_type": "markdown",
   "metadata": {},
   "source": [
    "###### Столбец <u>age</u>"
   ]
  },
  {
   "cell_type": "code",
   "execution_count": 23,
   "metadata": {},
   "outputs": [
    {
     "name": "stdout",
     "output_type": "stream",
     "text": [
      "[42 36 33 32 53 27 43 50 35 41 40 65 54 56 26 48 24 21 57 67 28 63 62 47\n",
      " 34 68 25 31 30 20 49 37 45 61 64 44 52 46 23 38 39 51  0 59 29 60 55 58\n",
      " 71 22 73 66 69 19 72 70 74 75]\n"
     ]
    }
   ],
   "source": [
    "print(clients['age'].unique())"
   ]
  },
  {
   "cell_type": "code",
   "execution_count": 24,
   "metadata": {},
   "outputs": [
    {
     "name": "stdout",
     "output_type": "stream",
     "text": [
      "0.47%\n"
     ]
    }
   ],
   "source": [
    "# Количество аномальных значений (возраст равный 0)\n",
    "print('{:.2%}'.format(clients.loc[clients['age'] == 0, 'age'].count() / clients.shape[0]))"
   ]
  },
  {
   "cell_type": "markdown",
   "metadata": {},
   "source": [
    "Удельный вес нулевого значения невелик, поэтому заменим его на медианное значение по столбцу без учёта нулевого значения."
   ]
  },
  {
   "cell_type": "code",
   "execution_count": 25,
   "metadata": {},
   "outputs": [
    {
     "data": {
      "text/plain": [
       "0"
      ]
     },
     "execution_count": 25,
     "metadata": {},
     "output_type": "execute_result"
    }
   ],
   "source": [
    "median = int(clients.loc[clients['age'] != 0, 'age'].median())\n",
    "clients.loc[clients['age'] == 0, 'age'] = median\n",
    "clients.loc[clients['age'] == 0, 'age'].count()"
   ]
  },
  {
   "cell_type": "markdown",
   "metadata": {},
   "source": [
    "###### Столбец <u>education</u>"
   ]
  },
  {
   "cell_type": "code",
   "execution_count": 26,
   "metadata": {},
   "outputs": [
    {
     "name": "stdout",
     "output_type": "stream",
     "text": [
      "['высшее' 'среднее' 'Среднее' 'СРЕДНЕЕ' 'ВЫСШЕЕ' 'неоконченное высшее'\n",
      " 'начальное' 'Высшее' 'НЕОКОНЧЕННОЕ ВЫСШЕЕ' 'Неоконченное высшее'\n",
      " 'НАЧАЛЬНОЕ' 'Начальное' 'Ученая степень' 'УЧЕНАЯ СТЕПЕНЬ'\n",
      " 'ученая степень']\n"
     ]
    }
   ],
   "source": [
    "print(clients['education'].unique())"
   ]
  },
  {
   "cell_type": "code",
   "execution_count": 27,
   "metadata": {},
   "outputs": [
    {
     "name": "stdout",
     "output_type": "stream",
     "text": [
      "['высшее' 'среднее' 'неоконченное высшее' 'начальное' 'ученая степень']\n"
     ]
    }
   ],
   "source": [
    "# Преобразование значений столбца к нижнему регистру\n",
    "clients['education'] = clients['education'].str.lower()\n",
    "print(clients['education'].unique())"
   ]
  },
  {
   "cell_type": "markdown",
   "metadata": {},
   "source": [
    "###### Столбец <u>education_id</u>"
   ]
  },
  {
   "cell_type": "code",
   "execution_count": 28,
   "metadata": {},
   "outputs": [
    {
     "name": "stdout",
     "output_type": "stream",
     "text": [
      "[0 1 2 3 4]\n"
     ]
    }
   ],
   "source": [
    "print(clients['education_id'].unique())"
   ]
  },
  {
   "cell_type": "markdown",
   "metadata": {},
   "source": [
    "Предобработки не требует"
   ]
  },
  {
   "cell_type": "markdown",
   "metadata": {},
   "source": [
    "###### Столбец <u>family_status</u>"
   ]
  },
  {
   "cell_type": "code",
   "execution_count": 29,
   "metadata": {},
   "outputs": [
    {
     "name": "stdout",
     "output_type": "stream",
     "text": [
      "['женат / замужем' 'гражданский брак' 'вдовец / вдова' 'в разводе'\n",
      " 'Не женат / не замужем']\n"
     ]
    }
   ],
   "source": [
    "print(clients['family_status'].unique())"
   ]
  },
  {
   "cell_type": "markdown",
   "metadata": {},
   "source": [
    "Предобработки не требует"
   ]
  },
  {
   "cell_type": "markdown",
   "metadata": {},
   "source": [
    "###### Столбец <u>family_status_id</u>"
   ]
  },
  {
   "cell_type": "code",
   "execution_count": 30,
   "metadata": {},
   "outputs": [
    {
     "name": "stdout",
     "output_type": "stream",
     "text": [
      "[0 1 2 3 4]\n"
     ]
    }
   ],
   "source": [
    "print(clients['family_status_id'].unique())"
   ]
  },
  {
   "cell_type": "markdown",
   "metadata": {},
   "source": [
    "Предобработки не требует"
   ]
  },
  {
   "cell_type": "markdown",
   "metadata": {},
   "source": [
    "###### Столбец <u>gender</u>"
   ]
  },
  {
   "cell_type": "code",
   "execution_count": 31,
   "metadata": {},
   "outputs": [
    {
     "data": {
      "text/plain": [
       "F      14236\n",
       "M       7288\n",
       "XNA        1\n",
       "Name: gender, dtype: int64"
      ]
     },
     "execution_count": 31,
     "metadata": {},
     "output_type": "execute_result"
    }
   ],
   "source": [
    "clients['gender'].value_counts()"
   ]
  },
  {
   "cell_type": "code",
   "execution_count": 32,
   "metadata": {},
   "outputs": [
    {
     "name": "stdout",
     "output_type": "stream",
     "text": [
      "F     66.14\n",
      "M     33.86\n",
      "XNA    0.00\n",
      "Name: gender, dtype: float64\n"
     ]
    }
   ],
   "source": [
    "print(clients['gender'].value_counts() / clients.shape[0] * 100)"
   ]
  },
  {
   "cell_type": "markdown",
   "metadata": {},
   "source": [
    "Две трети заемщиков исследуемого набора данных -- женщины. Поэтому высока вероятность того, что заемщик с гендером 'XNA' -- женщина"
   ]
  },
  {
   "cell_type": "code",
   "execution_count": 33,
   "metadata": {},
   "outputs": [
    {
     "data": {
      "text/plain": [
       "F    14237\n",
       "M     7288\n",
       "Name: gender, dtype: int64"
      ]
     },
     "execution_count": 33,
     "metadata": {},
     "output_type": "execute_result"
    }
   ],
   "source": [
    "clients.loc[clients['gender'] == 'XNA', 'gender'] = 'F'\n",
    "clients['gender'].value_counts()"
   ]
  },
  {
   "cell_type": "markdown",
   "metadata": {},
   "source": [
    "###### Столбец <u>income_type</u>"
   ]
  },
  {
   "cell_type": "code",
   "execution_count": 34,
   "metadata": {},
   "outputs": [
    {
     "name": "stdout",
     "output_type": "stream",
     "text": [
      "['сотрудник' 'пенсионер' 'компаньон' 'госслужащий' 'безработный'\n",
      " 'предприниматель' 'студент' 'в декрете']\n"
     ]
    }
   ],
   "source": [
    "print(clients['income_type'].unique())"
   ]
  },
  {
   "cell_type": "markdown",
   "metadata": {},
   "source": [
    "Предобработки не требует"
   ]
  },
  {
   "cell_type": "markdown",
   "metadata": {},
   "source": [
    "###### Столбец <u>debt</u>"
   ]
  },
  {
   "cell_type": "code",
   "execution_count": 35,
   "metadata": {},
   "outputs": [
    {
     "name": "stdout",
     "output_type": "stream",
     "text": [
      "[0 1]\n"
     ]
    }
   ],
   "source": [
    "print(clients['debt'].unique())"
   ]
  },
  {
   "cell_type": "markdown",
   "metadata": {},
   "source": [
    "Предобработки не требует"
   ]
  },
  {
   "cell_type": "markdown",
   "metadata": {},
   "source": [
    "###### Столбец <u>total_income</u>"
   ]
  },
  {
   "cell_type": "code",
   "execution_count": 36,
   "metadata": {},
   "outputs": [
    {
     "name": "stdout",
     "output_type": "stream",
     "text": [
      "20667\n",
      "2265604\n"
     ]
    }
   ],
   "source": [
    "print(clients['total_income'].min())\n",
    "print(clients['total_income'].max())"
   ]
  },
  {
   "cell_type": "markdown",
   "metadata": {},
   "source": [
    "Предобработки не требует."
   ]
  },
  {
   "cell_type": "markdown",
   "metadata": {},
   "source": [
    "###### Столбец <u>purpose</u>"
   ]
  },
  {
   "cell_type": "code",
   "execution_count": 37,
   "metadata": {},
   "outputs": [
    {
     "name": "stdout",
     "output_type": "stream",
     "text": [
      "['покупка жилья' 'приобретение автомобиля' 'дополнительное образование'\n",
      " 'сыграть свадьбу' 'операции с жильем' 'образование'\n",
      " 'на проведение свадьбы' 'покупка жилья для семьи' 'покупка недвижимости'\n",
      " 'покупка коммерческой недвижимости' 'покупка жилой недвижимости'\n",
      " 'строительство собственной недвижимости' 'недвижимость'\n",
      " 'строительство недвижимости' 'на покупку подержанного автомобиля'\n",
      " 'на покупку своего автомобиля' 'операции с коммерческой недвижимостью'\n",
      " 'строительство жилой недвижимости' 'жилье'\n",
      " 'операции со своей недвижимостью' 'автомобили' 'заняться образованием'\n",
      " 'сделка с подержанным автомобилем' 'получение образования' 'автомобиль'\n",
      " 'свадьба' 'получение дополнительного образования' 'покупка своего жилья'\n",
      " 'операции с недвижимостью' 'получение высшего образования'\n",
      " 'свой автомобиль' 'сделка с автомобилем' 'профильное образование'\n",
      " 'высшее образование' 'покупка жилья для сдачи' 'на покупку автомобиля'\n",
      " 'ремонт жилью' 'заняться высшим образованием']\n"
     ]
    }
   ],
   "source": [
    "print(clients['purpose'].unique())"
   ]
  },
  {
   "cell_type": "markdown",
   "metadata": {},
   "source": [
    "Данные столбца предобработаны -- аномальные значения отсутствуют, значения приведены к нижнему регистру. Вероятнее всего данные столбца вводились заемщиками самостоятельно, при этом многие значения симантически схожи, поэтому требуют дополнительного анализа и обработки"
   ]
  },
  {
   "cell_type": "markdown",
   "metadata": {},
   "source": [
    "###### Удаление дубликатов"
   ]
  },
  {
   "cell_type": "code",
   "execution_count": 38,
   "metadata": {},
   "outputs": [
    {
     "data": {
      "text/plain": [
       "0"
      ]
     },
     "execution_count": 38,
     "metadata": {},
     "output_type": "execute_result"
    }
   ],
   "source": [
    "clients.duplicated().sum()"
   ]
  },
  {
   "cell_type": "code",
   "execution_count": 39,
   "metadata": {},
   "outputs": [
    {
     "data": {
      "text/plain": [
       "0"
      ]
     },
     "execution_count": 39,
     "metadata": {},
     "output_type": "execute_result"
    }
   ],
   "source": [
    "clients = clients.drop_duplicates().reset_index(drop=True)\n",
    "clients.duplicated().sum()"
   ]
  },
  {
   "cell_type": "markdown",
   "metadata": {},
   "source": [
    "***Промежуточный итог***"
   ]
  },
  {
   "cell_type": "markdown",
   "metadata": {},
   "source": [
    "Количество пропусков в столбцах *days_employed* и *total_income* составило 10,1% от общего числа записей. Данные пропуски удалены не были, поскольку это могло исказить данные. Поэтому пропуски были заменены на медианные значения соответствующих групп клиентов.\n",
    "  \n",
    "Было выполнено преобразование типа данных для столбцов *days_employed* и *total_income*.  \n",
    "  \n",
    "Были удалены либо заменены аномальные значения в данных, устранены инструментами **pandas** полные дупликаты данных, которые могли возникнуть при их выгрузке из источника данных."
   ]
  },
  {
   "cell_type": "markdown",
   "metadata": {},
   "source": [
    "## 2.2 Лемматизация"
   ]
  },
  {
   "cell_type": "code",
   "execution_count": 40,
   "metadata": {},
   "outputs": [
    {
     "data": {
      "text/plain": [
       "[['покупка', 'жилье'],\n",
       " ['приобретение', 'автомобиль'],\n",
       " ['дополнительный', 'образование'],\n",
       " ['сыграть', 'свадьба'],\n",
       " ['операция', 'жилье'],\n",
       " ['образование'],\n",
       " ['проведение', 'свадьба'],\n",
       " ['покупка', 'жилье', 'для', 'семья'],\n",
       " ['покупка', 'недвижимость'],\n",
       " ['покупка', 'коммерческий', 'недвижимость'],\n",
       " ['покупка', 'жилой', 'недвижимость'],\n",
       " ['строительство', 'собственный', 'недвижимость'],\n",
       " ['недвижимость'],\n",
       " ['строительство', 'недвижимость'],\n",
       " ['покупка', 'подержать', 'автомобиль'],\n",
       " ['покупка', 'свой', 'автомобиль'],\n",
       " ['операция', 'коммерческий', 'недвижимость'],\n",
       " ['строительство', 'жилой', 'недвижимость'],\n",
       " ['жилье'],\n",
       " ['операция', 'свой', 'недвижимость'],\n",
       " ['автомобиль'],\n",
       " ['заниматься', 'образование'],\n",
       " ['сделка', 'подержанный', 'автомобиль'],\n",
       " ['получение', 'образование'],\n",
       " ['автомобиль'],\n",
       " ['свадьба'],\n",
       " ['получение', 'дополнительный', 'образование'],\n",
       " ['покупка', 'свой', 'жилье'],\n",
       " ['операция', 'недвижимость'],\n",
       " ['получение', 'высокий', 'образование'],\n",
       " ['свой', 'автомобиль'],\n",
       " ['сделка', 'автомобиль'],\n",
       " ['профильный', 'образование'],\n",
       " ['высокий', 'образование'],\n",
       " ['покупка', 'жилье', 'для', 'сдача'],\n",
       " ['покупка', 'автомобиль'],\n",
       " ['ремонт', 'жилье'],\n",
       " ['заниматься', 'высокий', 'образование']]"
      ]
     },
     "execution_count": 40,
     "metadata": {},
     "output_type": "execute_result"
    }
   ],
   "source": [
    "m = Mystem()\n",
    "\n",
    "str_dump = clients['purpose'].unique()\n",
    "\n",
    "# Лемматизация каждой из целей\n",
    "lemms_dump = []\n",
    "\n",
    "for i in str_dump:\n",
    "    lemms_dump.append(m.lemmatize(i))\n",
    "\n",
    "# Удаление из списков лемм:\n",
    "# - пробелов;\n",
    "# - символов перевода строки;\n",
    "# - символов 'на', 'с', 'со'\n",
    "lemms = []\n",
    "\n",
    "for i in lemms_dump:\n",
    "    l = []\n",
    "    for j in i:\n",
    "        if (j != ' ') & (j != '\\n') & (j != 'на') & (j != 'с') & (j != 'со'):\n",
    "            l.append(j)\n",
    "    lemms.append(l)\n",
    "    \n",
    "lemms"
   ]
  },
  {
   "cell_type": "code",
   "execution_count": 41,
   "metadata": {},
   "outputs": [
    {
     "data": {
      "text/plain": [
       "недвижимость   11.49\n",
       "покупка        11.49\n",
       "образование    10.34\n",
       "автомобиль     10.34\n",
       "жилье           8.05\n",
       "                ... \n",
       "семья           1.15\n",
       "ремонт          1.15\n",
       "собственный     1.15\n",
       "подержанный     1.15\n",
       "подержать       1.15\n",
       "Length: 27, dtype: float64"
      ]
     },
     "execution_count": 41,
     "metadata": {},
     "output_type": "execute_result"
    }
   ],
   "source": [
    "# Выделение основных лемм\n",
    "s = []\n",
    "\n",
    "for i in lemms:\n",
    "    for j in i:\n",
    "        s.append(j)\n",
    "        \n",
    "s = pd.Series(s)\n",
    "s.value_counts() / s.shape[0] * 100"
   ]
  },
  {
   "cell_type": "markdown",
   "metadata": {},
   "source": [
    "***Промежуточный итог***"
   ]
  },
  {
   "cell_type": "markdown",
   "metadata": {},
   "source": [
    "Значения столбца *purpose* лемматизированы и могут быть категорированы.  \n",
    "Учитывая частоту повторов, можно выделить следующие основные леммы:\n",
    "- покупка;\n",
    "- недвижимость;\n",
    "- автомобиль;\n",
    "- образование;\n",
    "- жилье.\n",
    "\n",
    "Сумма повторов пяти перечисленных лемм равна 50%.  \n",
    "Также к основным можно отнести леммы **_строительство_** , **_свадьба_** и **_ремонт_** имеющие низкий процент повторов, но в общем объеме лемм являющихся симантически уникальными"
   ]
  },
  {
   "cell_type": "markdown",
   "metadata": {},
   "source": [
    "## 2.3 Категорирование данных"
   ]
  },
  {
   "cell_type": "markdown",
   "metadata": {},
   "source": [
    "### 2.3.1 Категорирование целей получения кредита\n",
    "По результатам анализа лемм целей получения кредита можно выделить следующие категории целей:\n",
    " - покупка жилой недвижимости; \n",
    " - покупка коммерческой недвижимости;\n",
    " - покупка автомобиля;\n",
    " - строительство жилой недижимости\n",
    " - образование;\n",
    " - свадьба;\n",
    " - ремонт.  \n",
    " \n",
    " \n",
    " При этом:\n",
    "  - если не указан тип недвижимости считается, что она жилая;\n",
    "  - категория автомобиля (новый, подержанный, личный, коммерческий) значения не имеет;\n",
    "  - если явно не указано, тип сделки -- покупка (кредит для продажи взять нельзя);\n",
    "  - категория образования (профильное, дополнительное, высшее) значения не имеет;\n",
    "  - строительство недвижимости и покупка недвижимости -- разные цели для получения кредита."
   ]
  },
  {
   "cell_type": "code",
   "execution_count": 42,
   "metadata": {},
   "outputs": [],
   "source": [
    "#'покупка жилой недвижимости'\n",
    "#'покупка коммерческой недвижимости'\n",
    "#'покупка автомобиля'\n",
    "#'строительство жилой недижимости'\n",
    "#'образование'\n",
    "#'свадьба'\n",
    "#'ремонт'\n",
    "\n",
    "str_cats = [\n",
    "    'покупка жилой недвижимости', #['покупка', 'жилье']\n",
    "    'покупка автомобиля', #['приобретение', 'автомобиль'],\n",
    "    'образование', #['дополнительный', 'образование'],\n",
    "    'свадьба', #['сыграть', 'свадьба'],\n",
    "    'покупка жилой недвижимости', #['операция', 'жилье'],\n",
    "    'образование', #['образование'],\n",
    "    'свадьба', #['проведение', 'свадьба'],\n",
    "    'покупка жилой недвижимости', #['покупка', 'жилье', 'для', 'семья'],\n",
    "    'покупка жилой недвижимости', #['покупка', 'недвижимость'],\n",
    "    'покупка коммерческой недвижимости', #['покупка', 'коммерческий', 'недвижимость'],\n",
    "    'покупка жилой недвижимости', #['покупка', 'жилой', 'недвижимость'],\n",
    "    'строительство жилой недижимости', #['строительство', 'собственный', 'недвижимость'],\n",
    "    'покупка жилой недвижимости', #['недвижимость'],\n",
    "    'строительство жилой недижимости', #['строительство', 'недвижимость'],\n",
    "    'покупка автомобиля', #['покупка', 'подержать', 'автомобиль'],\n",
    "    'покупка автомобиля', #['покупка', 'свой', 'автомобиль'],\n",
    "    'покупка коммерческой недвижимости', #['операция', 'коммерческий', 'недвижимость'],\n",
    "    'строительство жилой недижимости', #['строительство', 'жилой', 'недвижимость'],\n",
    "    'покупка жилой недвижимости', #['жилье'],\n",
    "    'покупка жилой недвижимости', #['операция', 'свой', 'недвижимость'],\n",
    "    'покупка автомобиля', #['автомобиль'],\n",
    "    'образование', #['заниматься', 'образование'],\n",
    "    'покупка автомобиля', #['сделка', 'подержанный', 'автомобиль'],\n",
    "    'образование', #['получение', 'образование'],\n",
    "    'покупка автомобиля', #['автомобиль'],\n",
    "    'свадьба', #['свадьба'],\n",
    "    'образование', #['получение', 'дополнительный', 'образование'],\n",
    "    'покупка жилой недвижимости', #['покупка', 'свой', 'жилье'],\n",
    "    'покупка жилой недвижимости', #['операция', 'недвижимость'],\n",
    "    'образование', #['получение', 'высокий', 'образование'],\n",
    "    'покупка автомобиля', #['свой', 'автомобиль'],\n",
    "    'покупка автомобиля', #['сделка', 'автомобиль'],\n",
    "    'образование', #['профильный', 'образование'],\n",
    "    'образование', #['высокий', 'образование'],\n",
    "    'покупка коммерческой недвижимости', #['покупка', 'жилье', 'для', 'сдача'],\n",
    "    'покупка автомобиля', #['покупка', 'автомобиль'],\n",
    "    'ремонт', #['ремонт', 'жилье'],\n",
    "    'образование'#['заниматься', 'высокий', 'образование']\n",
    "]\n",
    "\n",
    "# объединение в одном списке цели получения с соответствующим значением категории цели\n",
    "cats_dump = []\n",
    "\n",
    "for i in range(len(str_dump)):\n",
    "    cats_dump.append([str_dump[i], str_cats[i]])\n",
    "\n",
    "cats_dict = dict(cats_dump)"
   ]
  },
  {
   "cell_type": "code",
   "execution_count": 43,
   "metadata": {},
   "outputs": [],
   "source": [
    "# Замена значений цели кредита на категории целей\n",
    "clients['purpose'] = clients.apply(set_cat, axis=1)"
   ]
  },
  {
   "cell_type": "code",
   "execution_count": 44,
   "metadata": {},
   "outputs": [
    {
     "data": {
      "text/plain": [
       "array(['покупка жилой недвижимости', 'покупка автомобиля', 'образование',\n",
       "       'свадьба', 'покупка коммерческой недвижимости',\n",
       "       'строительство жилой недижимости', 'ремонт'], dtype=object)"
      ]
     },
     "execution_count": 44,
     "metadata": {},
     "output_type": "execute_result"
    }
   ],
   "source": [
    "clients['purpose'].unique()"
   ]
  },
  {
   "cell_type": "code",
   "execution_count": 45,
   "metadata": {},
   "outputs": [
    {
     "data": {
      "text/plain": [
       "0"
      ]
     },
     "execution_count": 45,
     "metadata": {},
     "output_type": "execute_result"
    }
   ],
   "source": [
    "# повторная проверка на наличие дубликатов\n",
    "clients.duplicated().sum()"
   ]
  },
  {
   "cell_type": "code",
   "execution_count": 46,
   "metadata": {},
   "outputs": [
    {
     "data": {
      "text/plain": [
       "0"
      ]
     },
     "execution_count": 46,
     "metadata": {},
     "output_type": "execute_result"
    }
   ],
   "source": [
    "clients = clients.drop_duplicates().reset_index(drop=True)\n",
    "clients.duplicated().sum()"
   ]
  },
  {
   "cell_type": "markdown",
   "metadata": {},
   "source": [
    "### 2.3.2 Категорирование заемщиков по уровню дохода\n",
    "Разделим всех заемщиков на 5 групп по уровню дохода:\n",
    "- низкий уровень;\n",
    "- уровень ниже среднего;\n",
    "- средний уровень;\n",
    "- уровень выше среднего;\n",
    "- высокий уровень.\n",
    "\n",
    "Категорировать будем по квантилям данных. Добавим в набор данных столбец *income_grp* и последующий анализ будем проводить по нему."
   ]
  },
  {
   "cell_type": "code",
   "execution_count": 47,
   "metadata": {},
   "outputs": [],
   "source": [
    "# Категории доходов\n",
    "low_income = clients['total_income'].quantile(0.2)\n",
    "below_average_income = clients['total_income'].quantile(0.4)\n",
    "average_income = clients['total_income'].quantile(0.6)\n",
    "above_average_income = clients['total_income'].quantile(0.8)\n",
    "\n",
    "def income_cat(row):\n",
    "    '''\n",
    "    Функция разделения саемщиков на группы по уровню дохода\n",
    "    '''\n",
    "    income = row['total_income']\n",
    "    if income < low_income:\n",
    "        return 1\n",
    "    if income < below_average_income:\n",
    "        return 2\n",
    "    if income < average_income:\n",
    "        return 3\n",
    "    if income < above_average_income:\n",
    "        return 4\n",
    "    #high_income\n",
    "    return 5"
   ]
  },
  {
   "cell_type": "code",
   "execution_count": 48,
   "metadata": {},
   "outputs": [
    {
     "data": {
      "text/plain": [
       "array([5, 2, 3, 1, 4], dtype=int64)"
      ]
     },
     "execution_count": 48,
     "metadata": {},
     "output_type": "execute_result"
    }
   ],
   "source": [
    "clients['income_grp'] = clients.apply(income_cat, axis=1)\n",
    "clients['income_grp'].unique()"
   ]
  },
  {
   "cell_type": "markdown",
   "metadata": {},
   "source": [
    "***Промежуточный итог***"
   ]
  },
  {
   "cell_type": "markdown",
   "metadata": {},
   "source": [
    "Значения столбцов *purpose* и *total_income* категорированы, значения целей получения кредита заменены на категорию цели, заемщики разеделны на пять групп по уровню доходов.  \n",
    "  \n",
    "Предобработка данных завершена. Переходим к аналитической обработке данных и получению ответов на поставленные вопросы"
   ]
  },
  {
   "cell_type": "markdown",
   "metadata": {},
   "source": [
    "## 2.4 Ответьте на вопросы"
   ]
  },
  {
   "cell_type": "markdown",
   "metadata": {},
   "source": [
    "**Есть ли зависимость между наличием детей и возвратом кредита в срок**"
   ]
  },
  {
   "cell_type": "code",
   "execution_count": 49,
   "metadata": {},
   "outputs": [
    {
     "name": "stdout",
     "output_type": "stream",
     "text": [
      "          debt  count  percent\n",
      "children                      \n",
      "0         1072  14272     7.51\n",
      "1          444   4818     9.22\n",
      "2          194   2055     9.44\n",
      "3           27    330     8.18\n",
      "4            4     41     9.76\n",
      "5            0      9     0.00\n"
     ]
    }
   ],
   "source": [
    "analisys('children')"
   ]
  },
  {
   "cell_type": "markdown",
   "metadata": {},
   "source": [
    "***Ответ***"
   ]
  },
  {
   "cell_type": "markdown",
   "metadata": {},
   "source": [
    "Количество детей оказывает очень слабое влияние на возврат кредита в срок. Наилучшими плательщиками по кредитам ожидаемо являются бездетные люди -- среди них самый низкий процент должников. Заемщики с пятью детьми не учитываются из-за малого их количества -- 0,064% от общего числа заёмщиков"
   ]
  },
  {
   "cell_type": "markdown",
   "metadata": {},
   "source": [
    "**Есть ли зависимость между семейным положением и возвратом кредита в срок**"
   ]
  },
  {
   "cell_type": "code",
   "execution_count": 50,
   "metadata": {},
   "outputs": [
    {
     "name": "stdout",
     "output_type": "stream",
     "text": [
      "                       debt  count  percent\n",
      "family_status                              \n",
      "Не женат / не замужем   274   2813     9.74\n",
      "в разводе                85   1195     7.11\n",
      "вдовец / вдова           63    960     6.56\n",
      "гражданский брак        388   4177     9.29\n",
      "женат / замужем         931  12380     7.52\n"
     ]
    }
   ],
   "source": [
    "analisys('family_status')"
   ]
  },
  {
   "cell_type": "markdown",
   "metadata": {},
   "source": [
    "***Ответ***"
   ]
  },
  {
   "cell_type": "markdown",
   "metadata": {},
   "source": [
    "Семейное положение оказывает слабое влияние на возврат кредита в срок. При этом наиболее отвественными плательщиками являются вдовые заёмщики"
   ]
  },
  {
   "cell_type": "markdown",
   "metadata": {},
   "source": [
    "**Есть ли зависимость между уровнем дохода и возвратом кредита в срок**"
   ]
  },
  {
   "cell_type": "code",
   "execution_count": 51,
   "metadata": {},
   "outputs": [
    {
     "data": {
      "text/plain": [
       "array([5, 2, 3, 1, 4], dtype=int64)"
      ]
     },
     "execution_count": 51,
     "metadata": {},
     "output_type": "execute_result"
    }
   ],
   "source": [
    "clients['income_grp'] = clients.apply(income_cat, axis=1)\n",
    "clients['income_grp'].unique()"
   ]
  },
  {
   "cell_type": "code",
   "execution_count": 52,
   "metadata": {},
   "outputs": [
    {
     "name": "stdout",
     "output_type": "stream",
     "text": [
      "            debt  count  percent\n",
      "income_grp                      \n",
      "1            345   4305     8.01\n",
      "2            360   4305     8.36\n",
      "3            374   4305     8.69\n",
      "4            360   4305     8.36\n",
      "5            302   4305     7.02\n"
     ]
    }
   ],
   "source": [
    "analisys('income_grp')"
   ]
  },
  {
   "cell_type": "markdown",
   "metadata": {},
   "source": [
    "***Ответ***"
   ]
  },
  {
   "cell_type": "markdown",
   "metadata": {},
   "source": [
    "Зависимость между уровнем дохода и возвратом кредита в срок очень слабая. При этом заёмщики с высоким уровнем дохода наиболее кредитоспособны, что ожидаемо."
   ]
  },
  {
   "cell_type": "markdown",
   "metadata": {},
   "source": [
    "**Как разные цели кредита влияют на его возврат в срок**"
   ]
  },
  {
   "cell_type": "code",
   "execution_count": 53,
   "metadata": {},
   "outputs": [
    {
     "name": "stdout",
     "output_type": "stream",
     "text": [
      "                                   debt  count  percent\n",
      "purpose                                                \n",
      "образование                         370   4022     9.20\n",
      "покупка автомобиля                  403   4315     9.34\n",
      "покупка жилой недвижимости          452   6379     7.09\n",
      "покупка коммерческой недвижимости   151   1968     7.67\n",
      "ремонт                               35    612     5.72\n",
      "свадьба                             186   2348     7.92\n",
      "строительство жилой недижимости     144   1881     7.66\n"
     ]
    }
   ],
   "source": [
    "analisys('purpose')"
   ]
  },
  {
   "cell_type": "markdown",
   "metadata": {},
   "source": [
    "***Ответ***"
   ]
  },
  {
   "cell_type": "markdown",
   "metadata": {},
   "source": [
    "Цели кредита оказывают малое влияние на возврат кредита в срок. Единственное, что можно отметить в данном случае -- кредиты на ремонт возвращяются чаще всего"
   ]
  },
  {
   "cell_type": "markdown",
   "metadata": {},
   "source": [
    "# 3 Вывод"
   ]
  },
  {
   "cell_type": "markdown",
   "metadata": {},
   "source": [
    "1. По итогам первого, общего взгляда на данные, были выявлены пропуски в столбцах *days_employed* и *total_income* при этом, тип данных *float64* для данных столбцов было решено заменить на *int64*. Количество пропусков в столбцах составило 10,1% от общего числа записей. Удалять данные пропуски было нельзя, поскольку это могло исказить данные. Поэтому пропуски были заменены на медианные значения соответствующих групп клиентов. Значения, содержащиеся в *days_employed*, не соответствовали ожидаемым -- были отрицательные значения, были аномально большие значения.  \n",
    "  \n",
    "  \n",
    "2. Перед тем, как устранять явные дубликаты данных, были проанализированы значения, хранящиеся в наборе данных, были устранены или преобразованы аномальные значения:\n",
    " - столбец *children* -- были выявлены аномалии в данных, удельный вес которых оказался невелик, поэтому они были заменены на медианное значение по столбцу без учёта данных аномалий;\n",
    " - столбец *days_employed* -- были выявлены аномалии в данных. Диапазон значений данного столбца натолкнул на мысль, что единицей измерения данных столбца являются часы, а не дни. Исходя из этого предположения левая граница диапазона значений столбца соответствовала стажу ~9 лет (из расчета 1971 рабочий час в невисокосном году). Отрицательные значения могли появиться, как формат хранения данных хранилища, из которого они были извлечены. Они были преобразованы в беззнаковые величины. Правая граница диапазона соответствовала стажу ~203 года. Это явно аномальное значение. Максимальный нормальный трудовой стаж был принят размером 47 лет (для мужчин, работавших от 18 до 65 лет), что равно 92733 рабочих часа (47 лет по 1971 часу и 12 дней в високосных годах). Все значения правого диапазона больше этого значения были заменены на него.\n",
    " - столбец *dob_years* был переименован в *age* -- были выявлены аномалии в данных, удельный вес которых оказался невелик, поэтому они были заменены на медианное значение по столбцу без учёта данных аномалий;\n",
    " - столбец *education* -- были выявлены аномалии в данных, данные столбца были преобразованы к нижнему регистру;\n",
    " - столбец *education_id* -- аномалий не выявлено;\n",
    " - столбец *family_status* -- аномалий не выявлено;\n",
    " - столбец *family_status_id* -- аномалий не выявлено;\n",
    " - столбец *gender* -- были выявлена аномалия в данных, аномальное значение было заменено на наиболее вероятное;\n",
    " - столбец *income_type* -- аномалий не выявлено;\n",
    " - столбец *debt* -- аномалий не выявлено;\n",
    " - столбец *total_income* -- аномалий не выявлено;\n",
    " - столбец *purpose* -- аномальные значения отсутствуют, значения приведены к нижнему регистру. Вероятнее всего данные столбца вводились заемщиками самостоятельно, при этом многие значения симантически схожи, поэтому требуют дополнительного анализа и обработки.\n",
    "  \n",
    "  \n",
    "3. Инструментами **pandas** были удалены полные дупликаты данных, которые могли возникнуть при их выгрузке из источника данных.\n",
    "  \n",
    "  \n",
    "4. Значения столбца *purpose* были лемматизированы. Были выделены следующие основные леммы:\n",
    " - покупка;\n",
    " - недвижимость;\n",
    " - автомобиль;\n",
    " - образование;\n",
    " - жилье;\n",
    " - строительство;\n",
    " - свадьба;\n",
    " - ремонт\n",
    "  \n",
    "  \n",
    "5. Значения столбца *purpose* были категорированы. Были выделены следующие категории целей:\n",
    " - покупка жилой недвижимости; \n",
    " - покупка коммерческой недвижимости;\n",
    " - покупка автомобиля;\n",
    " - строительство жилой недижимости\n",
    " - образование;\n",
    " - свадьба;\n",
    " - ремонт.  \n",
    " \n",
    "   Значения целей получения кредита были заменены на категорию цели.\n",
    "   \n",
    "   Была выполнено категорирование заемщиков по уровню доходов (по значениям столбца *total_income*). Заемщики были разделены на 5 групп по уровню дохода:\n",
    " - низкий уровень;\n",
    " - уровень ниже среднего;\n",
    " - средний уровень;\n",
    " - уровень выше среднего;\n",
    " - высокий уровень.  \n",
    "\n",
    "   Категорирование осуществлялось по квантилям данных. Был добавлен в набор данных столбец *income_grp* и последующий анализ проводился по нему.\n",
    "  \n",
    "  \n",
    "6. **Вопрос**: Есть ли зависимость между наличием детей и возвратом кредита в срок?  \n",
    "   **Ответ**: Количество детей оказывает очень слабое влияние на возврат кредита в срок. Наилучшими плательщиками по кредитам ожидаемо являются бездетные люди -- среди них самый низкий процент должников. Заемщики с пятью детьми не учитываются из-за малого их количества -- 0,064% от общего числа заёмщиков.  \n",
    "     \n",
    "   **Вопрос**: Есть ли зависимость между семейным положением и возвратом кредита в срок?  \n",
    "   **Ответ**: Семейное положение оказывает слабое влияние на возврат кредита в срок. При этом наиболее отвественными плательщиками являются вдовые заёмщики.  \n",
    "     \n",
    "   **Вопрос**: Есть ли зависимость между уровнем дохода и возвратом кредита в срок?  \n",
    "   **Ответ**: Зависимость между уровнем дохода и возвратом кредита в срок очень слабая. При этом заёмщики с высоким уровнем дохода наиболее кредитоспособны, что ожидаемо.\n",
    "     \n",
    "   **Вопрос**: Как разные цели кредита влияют на его возврат в срок?  \n",
    "   **Ответ**:Цели кредита оказывают малое влияние на возврат кредита в срок. Единственное, что можно отметить в данном случае -- кредиты на ремонт возвращяются чаще всего.\n",
    "  \n",
    "  \n",
    "7. Итак, на вопросы, которые были поставлены Заказчиком, получены однозначные ответы. Для этого переданные Заказчиком данные потребовали частичной предобработки, удаления пропусков, аномальных значений, лемматизации и категорирования."
   ]
  }
 ],
 "metadata": {
  "kernelspec": {
   "display_name": "Python 3",
   "language": "python",
   "name": "python3"
  },
  "language_info": {
   "codemirror_mode": {
    "name": "ipython",
    "version": 3
   },
   "file_extension": ".py",
   "mimetype": "text/x-python",
   "name": "python",
   "nbconvert_exporter": "python",
   "pygments_lexer": "ipython3",
   "version": "3.8.3"
  },
  "toc": {
   "base_numbering": 1,
   "nav_menu": {},
   "number_sections": false,
   "sideBar": true,
   "skip_h1_title": false,
   "title_cell": "Table of Contents",
   "title_sidebar": "Contents",
   "toc_cell": false,
   "toc_position": {},
   "toc_section_display": true,
   "toc_window_display": false
  }
 },
 "nbformat": 4,
 "nbformat_minor": 4
}
