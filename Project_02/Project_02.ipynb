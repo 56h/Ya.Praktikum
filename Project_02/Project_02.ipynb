{
 "cells": [
  {
   "cell_type": "markdown",
   "metadata": {},
   "source": [
    "# 1 Введение"
   ]
  },
  {
   "cell_type": "markdown",
   "metadata": {},
   "source": [
    "## 1.1 Постановка задачи"
   ]
  },
  {
   "cell_type": "markdown",
   "metadata": {},
   "source": [
    "*Заказчик* -- агенство недвижимости  \n",
    "  \n",
    "*Задача* -- научиться определять рыночную стоимость объектов недвижимости; для этого необходимо установить параметры -- это позволит построить автоматизированную систему, которая отследит аномалии и мошенническую деятельность"
   ]
  },
  {
   "cell_type": "markdown",
   "metadata": {},
   "source": [
    "## 1.2 Исходные данные"
   ]
  },
  {
   "cell_type": "markdown",
   "metadata": {},
   "source": [
    "### 1.2.1 Общее описание"
   ]
  },
  {
   "cell_type": "markdown",
   "metadata": {},
   "source": [
    "Переданные данные от Заказчика — архив объявлений о продаже квартир в Санкт-Петербурге и соседних населённых пунктов за несколько лет. На основании этих данных необходимо научиться определять рыночную стоимость объектов недвижимости. Основная задача — установить параметры. Это позволит построить автоматизированную систему: она отследит аномалии и мошенническую деятельность.  \n",
    "  \n",
    "По каждой квартире на продажу доступны два вида данных. Первые вписаны пользователем, вторые — получены автоматически на основе картографических данных, например -- расстояние до центра, аэропорта, ближайшего парка и водоёма."
   ]
  },
  {
   "cell_type": "markdown",
   "metadata": {},
   "source": [
    "### 1.2.2 Переданные файлы\n",
    "- real_estate_data.csv"
   ]
  },
  {
   "cell_type": "markdown",
   "metadata": {},
   "source": [
    "### 1.2.3 Описание набора данных: \n",
    "- *airports_nearest* — расстояние до ближайшего аэропорта в метрах (м)\n",
    "- *balcony* — число балконов\n",
    "- *ceiling_height* — высота потолков (м)\n",
    "- *cityCenters_nearest* — расстояние до центра города (м)\n",
    "- *days_exposition* — сколько дней было размещено объявление (от публикации до снятия)\n",
    "- *first_day_exposition* — дата публикации\n",
    "- *floor* — этаж\n",
    "- *floors_total* — всего этажей в доме\n",
    "- *is_apartment* — апартаменты (булев тип)\n",
    "- *kitchen_area* — площадь кухни в квадратных метрах (м²)\n",
    "- *last_price* — цена на момент снятия с публикации\n",
    "- *living_area* — жилая площадь в квадратных метрах(м²)\n",
    "- *locality_name* — название населённого пункта\n",
    "- *open_plan* — свободная планировка (булев тип)\n",
    "- *parks_around3000* — число парков в радиусе 3 км\n",
    "- *parks_nearest* — расстояние до ближайшего парка (м)\n",
    "- *ponds_around3000* — число водоёмов в радиусе 3 км\n",
    "- *ponds_nearest* — расстояние до ближайшего водоёма (м)\n",
    "- *rooms* — число комнат\n",
    "- *studio* — квартира-студия (булев тип)\n",
    "- *total_area* — площадь квартиры в квадратных метрах (м²)\n",
    "- *total_images* — число фотографий квартиры в объявлении"
   ]
  },
  {
   "cell_type": "markdown",
   "metadata": {},
   "source": [
    "## 1.3 План обработки и анализа данных"
   ]
  },
  {
   "cell_type": "markdown",
   "metadata": {},
   "source": [
    "### 1.3.1 Предобработка данных (по всем столбцам набора данных)\n",
    " - переименование столбцов с той целью, чтобы их названия были выполнены в одном стиле и соответствовали данным, хранящимся в них;\n",
    " - определить,изучить и обработать пропущенные значения -- удалить или заменить их на релевантные величины;\n",
    " - приведение данных к нужным типам.  "
   ]
  },
  {
   "cell_type": "markdown",
   "metadata": {},
   "source": [
    "### 1.3.2 Дополнение данных\n",
    " - цена квадратного метра;\n",
    " - день недели, месяц и год публикации объявления;\n",
    " - этаж квартиры: варианты — первый, последний, другой;\n",
    " - соотношение жилой и общей площади, а также отношение площади кухни к общей."
   ]
  },
  {
   "cell_type": "markdown",
   "metadata": {},
   "source": [
    "### 1.3.3. Исследовательский анализ данных\n",
    " - изучить следующие параметры: площадь, цена, число комнат, высота потолков; построить гистограммы для каждого параметра;\n",
    " - изучить время продажи квартиры; построить гистограмму; посчитать среднее и медиану; выяснить, сколько времени обычно занимает продажа; определить когда можно считать, что продажи прошли очень быстро, а когда необычно долго;\n",
    " - убрать редкие и выбивающиеся значения;\n",
    " - определить, какие факторы больше всего влияют на стоимость квартиры; изучить, как зависит цена от квадратного метра, числа комнат, удалённости от центра; изучить зависимость цены от того, на каком этаже расположена квартира: первом, последнем или другом, зависимость от даты размещения: дня недели, месяца и года.\n",
    " - выбрать 10 населённых пунктов с наибольшим числом объявлений; посчитать среднюю цену квадратного метра в этих населённых пунктах; выделить населённые пункты с самой высокой и низкой стоимостью жилья;\n",
    " - выделить квартиры в Санкт-Петербурге; выяснить, какая область входит в центр -- создать столбец с расстоянием до центра в километрах: округлить до целых значений, посчитать среднюю цену для каждого километра, построить график: он должен показывать, как цена зависит от удалённости от центра;\n",
    " - выделить сегмент квартир в центре; проанализировать эту территорию и изучить следующие параметры: площадь, цена, число комнат, высота потолков; также выделить факторы, которые влияют на стоимость квартиры (число комнат, этаж, удалённость от центра, дата размещения объявления).  "
   ]
  },
  {
   "cell_type": "markdown",
   "metadata": {},
   "source": [
    "### 1.3.4 Вывод"
   ]
  },
  {
   "cell_type": "markdown",
   "metadata": {},
   "source": [
    "## 1.4 Пользовательские функции"
   ]
  },
  {
   "cell_type": "code",
   "execution_count": 1,
   "metadata": {},
   "outputs": [],
   "source": [
    "import pandas as pd\n",
    "import numpy as np"
   ]
  },
  {
   "cell_type": "code",
   "execution_count": 2,
   "metadata": {},
   "outputs": [],
   "source": [
    "# Глобальные константы\n",
    "\n",
    "NONE = -1"
   ]
  },
  {
   "cell_type": "code",
   "execution_count": 3,
   "metadata": {},
   "outputs": [],
   "source": [
    "def num_quick_view(column):\n",
    "    '''\n",
    "    Функция вывода общей информации о столбце с числовыми данными.\n",
    "    Выводимый массив уникальных значений отсортирован, поэтому первое и последнее значение массива\n",
    "    является минимумом и максимум значений столбца соответственно.\n",
    "    '''\n",
    "    print(np.sort(column.unique()))\n",
    "    if isinstance(column[1], float):\n",
    "        if column.apply(lambda x: x%1 != 0).sum() == 0:\n",
    "            print('Дробная часть всех значений равна нулю')\n",
    "        else:\n",
    "            print('Дробная часть НЕ всех значений равна нулю')"
   ]
  },
  {
   "cell_type": "code",
   "execution_count": 4,
   "metadata": {},
   "outputs": [],
   "source": [
    "def value_counts_percent(column, ret=False):\n",
    "    '''\n",
    "    Функция вывода количества и процента от общего числа значений столбца\n",
    "    '''\n",
    "    temp_df = pd.DataFrame({\n",
    "                'count':column.value_counts(),\n",
    "                'percent': column.value_counts() / len(column) * 100})\n",
    "\n",
    "    if ret: return temp_df\n",
    "    else: print(temp_df)"
   ]
  },
  {
   "cell_type": "code",
   "execution_count": 5,
   "metadata": {},
   "outputs": [],
   "source": [
    "def count_percent(query):\n",
    "    '''\n",
    "    Функция вывода количества и процента от общего числа значений \n",
    "    '''\n",
    "    print('count:', query)\n",
    "    print('percent:', query / flats.shape[0] * 100)"
   ]
  },
  {
   "cell_type": "code",
   "execution_count": 6,
   "metadata": {},
   "outputs": [],
   "source": [
    "def null_counts_percent(column):\n",
    "    '''\n",
    "    Функция вывода количества и процента от общего числа NAN значений столбца\n",
    "    '''\n",
    "    print('count:', column.isna().sum())\n",
    "    print('percent:', column.isna().sum() / flats.shape[0] * 100)"
   ]
  },
  {
   "cell_type": "code",
   "execution_count": 7,
   "metadata": {},
   "outputs": [],
   "source": [
    "def  create_cat(row, grp_column=''):\n",
    "    '''\n",
    "    Функция разделения данных на группы\n",
    "    \n",
    "    grp_column -- столбец, по которому идёт группировка\n",
    "    '''\n",
    "    value = row[grp_column]\n",
    "    if value < gr_1:\n",
    "        return 1\n",
    "    if value < gr_2:\n",
    "        return 2\n",
    "    if value < gr_3:\n",
    "        return 3\n",
    "    if value < gr_4:\n",
    "        return 4\n",
    "    if value < gr_5:\n",
    "        return 5\n",
    "    if value < gr_6:\n",
    "        return 6\n",
    "    if value < gr_7:\n",
    "        return 7\n",
    "    if value < gr_8:\n",
    "        return 8\n",
    "    if value < gr_9:\n",
    "        return 9\n",
    "    #gr_10\n",
    "    return 10"
   ]
  },
  {
   "cell_type": "code",
   "execution_count": 8,
   "metadata": {},
   "outputs": [],
   "source": [
    "def hists(column, bottom_count_hists, bins=10, ranges=[], figsize=(15,5)):\n",
    "    '''\n",
    "    Функция вывода двух строк гистограмм по столбцу данных -- верхняя гистограмма по всему диапазону данных, \n",
    "    нижние -- с ограничениями\n",
    "    \n",
    "    column, Pandas.Series - исследуемый столбец\n",
    "    bottom_count_hists, int64 - количество гистограмм в нижней строке\n",
    "    bins, int64 - количество корзин гистограмм\n",
    "    ranges, [tuple(int64, int64), ...] - границы нижних гистограмм\n",
    "    \n",
    "    '''\n",
    "    if bottom_count_hists == 0:\n",
    "        column.hist(bins=bins, figsize=figsize)\n",
    "    else:\n",
    "        fig = plt.figure(constrained_layout=True, figsize=figsize)\n",
    "        \n",
    "        gs = GridSpec(2, bottom_count_hists, figure=fig)\n",
    "        \n",
    "        hists = [plt.subplot(gs.new_subplotspec((0, 0), colspan=bottom_count_hists))]\n",
    "        hists[0].hist(column, bins=bins)\n",
    "    \n",
    "        for i in range(0, bottom_count_hists):\n",
    "            hists.append(plt.subplot(gs.new_subplotspec((1, i), colspan=1)))\n",
    "            hists[i+1].hist(column, bins=bins, range=ranges[i])\n",
    "    \n",
    "    plt.show()"
   ]
  },
  {
   "cell_type": "code",
   "execution_count": 9,
   "metadata": {},
   "outputs": [],
   "source": [
    "def rare_out_plot(column, figsize=(15,5)):\n",
    "    '''\n",
    "    Функция вывода графиков выбивающихся и редких значений\n",
    "    \n",
    "    '''\n",
    "    fig = plt.figure(constrained_layout=True, figsize=figsize)\n",
    "    gs = GridSpec(1, 2, figure=fig)\n",
    "    \n",
    "    plot_1 = plt.subplot(gs.new_subplotspec((0, 0), colspan=1))\n",
    "    plot_2 = plt.subplot(gs.new_subplotspec((0, 1), colspan=1))\n",
    "    \n",
    "    tmp_df = column.sort_values().reset_index(drop=True)\n",
    "    step = 100 / tmp_df.shape[0]\n",
    "    tmp_df.index = [i * step for i in range(0, tmp_df.shape[0])]\n",
    "    plot_1.plot(tmp_df)\n",
    "    plot_1.set_title('Выбивающиеся значения')\n",
    "    plot_1.set_xlabel('Полный набор, %')\n",
    "    plot_1.set_ylabel('Значения')\n",
    "   \n",
    "    tmp_df = value_counts_percent(column, ret=True)\n",
    "    tmp_df = tmp_df['percent']\n",
    "    step = 100 / tmp_df.shape[0]\n",
    "    tmp_df.index = [i * step for i in range(0, tmp_df.shape[0])]\n",
    "    plot_2.plot(tmp_df)\n",
    "    plot_2.set_title('Однообразие значений')\n",
    "    plot_2.set_xlabel('Полный набор, %')\n",
    "    plot_2.set_ylabel('Повторы значений, %')\n",
    "    \n",
    "    plt.show()"
   ]
  },
  {
   "cell_type": "code",
   "execution_count": 10,
   "metadata": {},
   "outputs": [],
   "source": [
    "def cut_value_counts_percent(column, cut_percent, ret=False):\n",
    "    '''\n",
    "    Функция оценки процента отсечения редких значений\n",
    "    \n",
    "    in:\n",
    "    column, Pandas.Series - исследуемый столбец\n",
    "    cut_percent, float64 - отсекаемый процент\n",
    "    '''\n",
    "    tmp_df = value_counts_percent(column, ret=True)\n",
    "    \n",
    "    safe_percent = 0\n",
    "\n",
    "    for i in tmp_df.index:\n",
    "        safe_percent = safe_percent + tmp_df.loc[i, 'percent']\n",
    "        if safe_percent >= (100 - cut_percent):\n",
    "            cuted_temp_df = tmp_df.loc[:i,:]\n",
    "            break\n",
    "\n",
    "    if ret: return cuted_temp_df\n",
    "    else: print(cuted_temp_df) "
   ]
  },
  {
   "cell_type": "code",
   "execution_count": 11,
   "metadata": {},
   "outputs": [],
   "source": [
    "def drop_rare_out_values(column, quantile=0.99, cut_percent=1):\n",
    "    '''\n",
    "    Функция удаления редких и выбивающихся значений столбца\n",
    "    \n",
    "    in:\n",
    "    column, Pandas.Series - исследуемый столбец\n",
    "    quantile, float64 - квантиль группы выбивающихся значений, -1 (NONE) - выбивающиеся значения не определять\n",
    "    cut_percent, int64 - процент удаляемых редких значений, -1 (NONE) - редкие значения не определять\n",
    "    \n",
    "    return:\n",
    "    [median_before, median_after] - значение медиан до и после удаления редких, выбивающихся значений\n",
    "    '''\n",
    "\n",
    "    global flats\n",
    "    \n",
    "    medians = [column.median()]\n",
    "    drop_values = []\n",
    "    \n",
    "    if quantile != NONE:\n",
    "        q_value = column.quantile(quantile)\n",
    "\n",
    "        # Добавление выбивающихся значений\n",
    "        for i in column:\n",
    "            if i >= q_value:\n",
    "                drop_values.append(i)\n",
    "\n",
    "    if cut_percent != NONE:\n",
    "        tmp_df = value_counts_percent(column, ret=True)\n",
    "\n",
    "        safe_percent = 0\n",
    "\n",
    "        # Добавление редких значений\n",
    "        for i in tmp_df.index:\n",
    "            if safe_percent >= (100 - cut_percent):\n",
    "                drop_values.append(i)\n",
    "            safe_percent = safe_percent + tmp_df.loc[i, 'percent']\n",
    "    \n",
    "    # Удаление редких и выбивающихся значений\n",
    "    flats = flats.loc[~column.isin(drop_values),:]\n",
    "    \n",
    "    medians.append(column.median())\n",
    "    \n",
    "    return medians"
   ]
  },
  {
   "cell_type": "markdown",
   "metadata": {},
   "source": [
    "# 2 Предобработка данных"
   ]
  },
  {
   "cell_type": "markdown",
   "metadata": {},
   "source": [
    "## 2.1 Общий взгляд на данные"
   ]
  },
  {
   "cell_type": "code",
   "execution_count": 12,
   "metadata": {},
   "outputs": [],
   "source": [
    "flats = pd.read_csv('real_estate_data.csv')"
   ]
  },
  {
   "cell_type": "code",
   "execution_count": 13,
   "metadata": {},
   "outputs": [
    {
     "name": "stdout",
     "output_type": "stream",
     "text": [
      "<class 'pandas.core.frame.DataFrame'>\n",
      "RangeIndex: 23699 entries, 0 to 23698\n",
      "Data columns (total 23 columns):\n",
      " #   Column                Non-Null Count  Dtype  \n",
      "---  ------                --------------  -----  \n",
      " 0   Unnamed: 0            23699 non-null  int64  \n",
      " 1   total_images          23699 non-null  int64  \n",
      " 2   last_price            23699 non-null  float64\n",
      " 3   total_area            23699 non-null  float64\n",
      " 4   first_day_exposition  23699 non-null  object \n",
      " 5   rooms                 23699 non-null  int64  \n",
      " 6   ceiling_height        14504 non-null  float64\n",
      " 7   floors_total          23613 non-null  float64\n",
      " 8   living_area           21796 non-null  float64\n",
      " 9   floor                 23699 non-null  int64  \n",
      " 10  is_apartment          2775 non-null   object \n",
      " 11  studio                23699 non-null  bool   \n",
      " 12  open_plan             23699 non-null  bool   \n",
      " 13  kitchen_area          21421 non-null  float64\n",
      " 14  balcony               12180 non-null  float64\n",
      " 15  locality_name         23650 non-null  object \n",
      " 16  airports_nearest      18157 non-null  float64\n",
      " 17  cityCenters_nearest   18180 non-null  float64\n",
      " 18  parks_around3000      18181 non-null  float64\n",
      " 19  parks_nearest         8079 non-null   float64\n",
      " 20  ponds_around3000      18181 non-null  float64\n",
      " 21  ponds_nearest         9110 non-null   float64\n",
      " 22  days_exposition       20518 non-null  float64\n",
      "dtypes: bool(2), float64(14), int64(4), object(3)\n",
      "memory usage: 3.8+ MB\n"
     ]
    }
   ],
   "source": [
    "flats.info()"
   ]
  },
  {
   "cell_type": "code",
   "execution_count": 14,
   "metadata": {},
   "outputs": [
    {
     "data": {
      "text/html": [
       "<div>\n",
       "<style scoped>\n",
       "    .dataframe tbody tr th:only-of-type {\n",
       "        vertical-align: middle;\n",
       "    }\n",
       "\n",
       "    .dataframe tbody tr th {\n",
       "        vertical-align: top;\n",
       "    }\n",
       "\n",
       "    .dataframe thead th {\n",
       "        text-align: right;\n",
       "    }\n",
       "</style>\n",
       "<table border=\"1\" class=\"dataframe\">\n",
       "  <thead>\n",
       "    <tr style=\"text-align: right;\">\n",
       "      <th></th>\n",
       "      <th>Unnamed: 0</th>\n",
       "      <th>total_images</th>\n",
       "      <th>last_price</th>\n",
       "      <th>total_area</th>\n",
       "      <th>first_day_exposition</th>\n",
       "      <th>rooms</th>\n",
       "      <th>ceiling_height</th>\n",
       "      <th>floors_total</th>\n",
       "      <th>living_area</th>\n",
       "      <th>floor</th>\n",
       "      <th>is_apartment</th>\n",
       "      <th>studio</th>\n",
       "      <th>open_plan</th>\n",
       "      <th>kitchen_area</th>\n",
       "      <th>balcony</th>\n",
       "      <th>locality_name</th>\n",
       "      <th>airports_nearest</th>\n",
       "      <th>cityCenters_nearest</th>\n",
       "      <th>parks_around3000</th>\n",
       "      <th>parks_nearest</th>\n",
       "      <th>ponds_around3000</th>\n",
       "      <th>ponds_nearest</th>\n",
       "      <th>days_exposition</th>\n",
       "    </tr>\n",
       "  </thead>\n",
       "  <tbody>\n",
       "    <tr>\n",
       "      <th>0</th>\n",
       "      <td>0</td>\n",
       "      <td>20</td>\n",
       "      <td>13000000.0</td>\n",
       "      <td>108.00</td>\n",
       "      <td>2019-03-07T00:00:00</td>\n",
       "      <td>3</td>\n",
       "      <td>2.70</td>\n",
       "      <td>16.0</td>\n",
       "      <td>51.00</td>\n",
       "      <td>8</td>\n",
       "      <td>NaN</td>\n",
       "      <td>False</td>\n",
       "      <td>False</td>\n",
       "      <td>25.00</td>\n",
       "      <td>NaN</td>\n",
       "      <td>Санкт-Петербург</td>\n",
       "      <td>18863.0</td>\n",
       "      <td>16028.0</td>\n",
       "      <td>1.0</td>\n",
       "      <td>482.0</td>\n",
       "      <td>2.0</td>\n",
       "      <td>755.0</td>\n",
       "      <td>NaN</td>\n",
       "    </tr>\n",
       "    <tr>\n",
       "      <th>1</th>\n",
       "      <td>1</td>\n",
       "      <td>7</td>\n",
       "      <td>3350000.0</td>\n",
       "      <td>40.40</td>\n",
       "      <td>2018-12-04T00:00:00</td>\n",
       "      <td>1</td>\n",
       "      <td>NaN</td>\n",
       "      <td>11.0</td>\n",
       "      <td>18.60</td>\n",
       "      <td>1</td>\n",
       "      <td>NaN</td>\n",
       "      <td>False</td>\n",
       "      <td>False</td>\n",
       "      <td>11.00</td>\n",
       "      <td>2.0</td>\n",
       "      <td>посёлок Шушары</td>\n",
       "      <td>12817.0</td>\n",
       "      <td>18603.0</td>\n",
       "      <td>0.0</td>\n",
       "      <td>NaN</td>\n",
       "      <td>0.0</td>\n",
       "      <td>NaN</td>\n",
       "      <td>81.0</td>\n",
       "    </tr>\n",
       "    <tr>\n",
       "      <th>2</th>\n",
       "      <td>2</td>\n",
       "      <td>10</td>\n",
       "      <td>5196000.0</td>\n",
       "      <td>56.00</td>\n",
       "      <td>2015-08-20T00:00:00</td>\n",
       "      <td>2</td>\n",
       "      <td>NaN</td>\n",
       "      <td>5.0</td>\n",
       "      <td>34.30</td>\n",
       "      <td>4</td>\n",
       "      <td>NaN</td>\n",
       "      <td>False</td>\n",
       "      <td>False</td>\n",
       "      <td>8.30</td>\n",
       "      <td>0.0</td>\n",
       "      <td>Санкт-Петербург</td>\n",
       "      <td>21741.0</td>\n",
       "      <td>13933.0</td>\n",
       "      <td>1.0</td>\n",
       "      <td>90.0</td>\n",
       "      <td>2.0</td>\n",
       "      <td>574.0</td>\n",
       "      <td>558.0</td>\n",
       "    </tr>\n",
       "    <tr>\n",
       "      <th>3</th>\n",
       "      <td>3</td>\n",
       "      <td>0</td>\n",
       "      <td>64900000.0</td>\n",
       "      <td>159.00</td>\n",
       "      <td>2015-07-24T00:00:00</td>\n",
       "      <td>3</td>\n",
       "      <td>NaN</td>\n",
       "      <td>14.0</td>\n",
       "      <td>NaN</td>\n",
       "      <td>9</td>\n",
       "      <td>NaN</td>\n",
       "      <td>False</td>\n",
       "      <td>False</td>\n",
       "      <td>NaN</td>\n",
       "      <td>0.0</td>\n",
       "      <td>Санкт-Петербург</td>\n",
       "      <td>28098.0</td>\n",
       "      <td>6800.0</td>\n",
       "      <td>2.0</td>\n",
       "      <td>84.0</td>\n",
       "      <td>3.0</td>\n",
       "      <td>234.0</td>\n",
       "      <td>424.0</td>\n",
       "    </tr>\n",
       "    <tr>\n",
       "      <th>4</th>\n",
       "      <td>4</td>\n",
       "      <td>2</td>\n",
       "      <td>10000000.0</td>\n",
       "      <td>100.00</td>\n",
       "      <td>2018-06-19T00:00:00</td>\n",
       "      <td>2</td>\n",
       "      <td>3.03</td>\n",
       "      <td>14.0</td>\n",
       "      <td>32.00</td>\n",
       "      <td>13</td>\n",
       "      <td>NaN</td>\n",
       "      <td>False</td>\n",
       "      <td>False</td>\n",
       "      <td>41.00</td>\n",
       "      <td>NaN</td>\n",
       "      <td>Санкт-Петербург</td>\n",
       "      <td>31856.0</td>\n",
       "      <td>8098.0</td>\n",
       "      <td>2.0</td>\n",
       "      <td>112.0</td>\n",
       "      <td>1.0</td>\n",
       "      <td>48.0</td>\n",
       "      <td>121.0</td>\n",
       "    </tr>\n",
       "    <tr>\n",
       "      <th>5</th>\n",
       "      <td>5</td>\n",
       "      <td>10</td>\n",
       "      <td>2890000.0</td>\n",
       "      <td>30.40</td>\n",
       "      <td>2018-09-10T00:00:00</td>\n",
       "      <td>1</td>\n",
       "      <td>NaN</td>\n",
       "      <td>12.0</td>\n",
       "      <td>14.40</td>\n",
       "      <td>5</td>\n",
       "      <td>NaN</td>\n",
       "      <td>False</td>\n",
       "      <td>False</td>\n",
       "      <td>9.10</td>\n",
       "      <td>NaN</td>\n",
       "      <td>городской посёлок Янино-1</td>\n",
       "      <td>NaN</td>\n",
       "      <td>NaN</td>\n",
       "      <td>NaN</td>\n",
       "      <td>NaN</td>\n",
       "      <td>NaN</td>\n",
       "      <td>NaN</td>\n",
       "      <td>55.0</td>\n",
       "    </tr>\n",
       "    <tr>\n",
       "      <th>6</th>\n",
       "      <td>6</td>\n",
       "      <td>6</td>\n",
       "      <td>3700000.0</td>\n",
       "      <td>37.30</td>\n",
       "      <td>2017-11-02T00:00:00</td>\n",
       "      <td>1</td>\n",
       "      <td>NaN</td>\n",
       "      <td>26.0</td>\n",
       "      <td>10.60</td>\n",
       "      <td>6</td>\n",
       "      <td>NaN</td>\n",
       "      <td>False</td>\n",
       "      <td>False</td>\n",
       "      <td>14.40</td>\n",
       "      <td>1.0</td>\n",
       "      <td>посёлок Парголово</td>\n",
       "      <td>52996.0</td>\n",
       "      <td>19143.0</td>\n",
       "      <td>0.0</td>\n",
       "      <td>NaN</td>\n",
       "      <td>0.0</td>\n",
       "      <td>NaN</td>\n",
       "      <td>155.0</td>\n",
       "    </tr>\n",
       "    <tr>\n",
       "      <th>7</th>\n",
       "      <td>7</td>\n",
       "      <td>5</td>\n",
       "      <td>7915000.0</td>\n",
       "      <td>71.60</td>\n",
       "      <td>2019-04-18T00:00:00</td>\n",
       "      <td>2</td>\n",
       "      <td>NaN</td>\n",
       "      <td>24.0</td>\n",
       "      <td>NaN</td>\n",
       "      <td>22</td>\n",
       "      <td>NaN</td>\n",
       "      <td>False</td>\n",
       "      <td>False</td>\n",
       "      <td>18.90</td>\n",
       "      <td>2.0</td>\n",
       "      <td>Санкт-Петербург</td>\n",
       "      <td>23982.0</td>\n",
       "      <td>11634.0</td>\n",
       "      <td>0.0</td>\n",
       "      <td>NaN</td>\n",
       "      <td>0.0</td>\n",
       "      <td>NaN</td>\n",
       "      <td>NaN</td>\n",
       "    </tr>\n",
       "    <tr>\n",
       "      <th>8</th>\n",
       "      <td>8</td>\n",
       "      <td>20</td>\n",
       "      <td>2900000.0</td>\n",
       "      <td>33.16</td>\n",
       "      <td>2018-05-23T00:00:00</td>\n",
       "      <td>1</td>\n",
       "      <td>NaN</td>\n",
       "      <td>27.0</td>\n",
       "      <td>15.43</td>\n",
       "      <td>26</td>\n",
       "      <td>NaN</td>\n",
       "      <td>False</td>\n",
       "      <td>False</td>\n",
       "      <td>8.81</td>\n",
       "      <td>NaN</td>\n",
       "      <td>посёлок Мурино</td>\n",
       "      <td>NaN</td>\n",
       "      <td>NaN</td>\n",
       "      <td>NaN</td>\n",
       "      <td>NaN</td>\n",
       "      <td>NaN</td>\n",
       "      <td>NaN</td>\n",
       "      <td>189.0</td>\n",
       "    </tr>\n",
       "    <tr>\n",
       "      <th>9</th>\n",
       "      <td>9</td>\n",
       "      <td>18</td>\n",
       "      <td>5400000.0</td>\n",
       "      <td>61.00</td>\n",
       "      <td>2017-02-26T00:00:00</td>\n",
       "      <td>3</td>\n",
       "      <td>2.50</td>\n",
       "      <td>9.0</td>\n",
       "      <td>43.60</td>\n",
       "      <td>7</td>\n",
       "      <td>NaN</td>\n",
       "      <td>False</td>\n",
       "      <td>False</td>\n",
       "      <td>6.50</td>\n",
       "      <td>2.0</td>\n",
       "      <td>Санкт-Петербург</td>\n",
       "      <td>50898.0</td>\n",
       "      <td>15008.0</td>\n",
       "      <td>0.0</td>\n",
       "      <td>NaN</td>\n",
       "      <td>0.0</td>\n",
       "      <td>NaN</td>\n",
       "      <td>289.0</td>\n",
       "    </tr>\n",
       "  </tbody>\n",
       "</table>\n",
       "</div>"
      ],
      "text/plain": [
       "   Unnamed: 0  total_images  last_price  total_area first_day_exposition  \\\n",
       "0           0            20  13000000.0      108.00  2019-03-07T00:00:00   \n",
       "1           1             7   3350000.0       40.40  2018-12-04T00:00:00   \n",
       "2           2            10   5196000.0       56.00  2015-08-20T00:00:00   \n",
       "3           3             0  64900000.0      159.00  2015-07-24T00:00:00   \n",
       "4           4             2  10000000.0      100.00  2018-06-19T00:00:00   \n",
       "5           5            10   2890000.0       30.40  2018-09-10T00:00:00   \n",
       "6           6             6   3700000.0       37.30  2017-11-02T00:00:00   \n",
       "7           7             5   7915000.0       71.60  2019-04-18T00:00:00   \n",
       "8           8            20   2900000.0       33.16  2018-05-23T00:00:00   \n",
       "9           9            18   5400000.0       61.00  2017-02-26T00:00:00   \n",
       "\n",
       "   rooms  ceiling_height  floors_total  living_area  floor is_apartment  \\\n",
       "0      3            2.70          16.0        51.00      8          NaN   \n",
       "1      1             NaN          11.0        18.60      1          NaN   \n",
       "2      2             NaN           5.0        34.30      4          NaN   \n",
       "3      3             NaN          14.0          NaN      9          NaN   \n",
       "4      2            3.03          14.0        32.00     13          NaN   \n",
       "5      1             NaN          12.0        14.40      5          NaN   \n",
       "6      1             NaN          26.0        10.60      6          NaN   \n",
       "7      2             NaN          24.0          NaN     22          NaN   \n",
       "8      1             NaN          27.0        15.43     26          NaN   \n",
       "9      3            2.50           9.0        43.60      7          NaN   \n",
       "\n",
       "   studio  open_plan  kitchen_area  balcony              locality_name  \\\n",
       "0   False      False         25.00      NaN            Санкт-Петербург   \n",
       "1   False      False         11.00      2.0             посёлок Шушары   \n",
       "2   False      False          8.30      0.0            Санкт-Петербург   \n",
       "3   False      False           NaN      0.0            Санкт-Петербург   \n",
       "4   False      False         41.00      NaN            Санкт-Петербург   \n",
       "5   False      False          9.10      NaN  городской посёлок Янино-1   \n",
       "6   False      False         14.40      1.0          посёлок Парголово   \n",
       "7   False      False         18.90      2.0            Санкт-Петербург   \n",
       "8   False      False          8.81      NaN             посёлок Мурино   \n",
       "9   False      False          6.50      2.0            Санкт-Петербург   \n",
       "\n",
       "   airports_nearest  cityCenters_nearest  parks_around3000  parks_nearest  \\\n",
       "0           18863.0              16028.0               1.0          482.0   \n",
       "1           12817.0              18603.0               0.0            NaN   \n",
       "2           21741.0              13933.0               1.0           90.0   \n",
       "3           28098.0               6800.0               2.0           84.0   \n",
       "4           31856.0               8098.0               2.0          112.0   \n",
       "5               NaN                  NaN               NaN            NaN   \n",
       "6           52996.0              19143.0               0.0            NaN   \n",
       "7           23982.0              11634.0               0.0            NaN   \n",
       "8               NaN                  NaN               NaN            NaN   \n",
       "9           50898.0              15008.0               0.0            NaN   \n",
       "\n",
       "   ponds_around3000  ponds_nearest  days_exposition  \n",
       "0               2.0          755.0              NaN  \n",
       "1               0.0            NaN             81.0  \n",
       "2               2.0          574.0            558.0  \n",
       "3               3.0          234.0            424.0  \n",
       "4               1.0           48.0            121.0  \n",
       "5               NaN            NaN             55.0  \n",
       "6               0.0            NaN            155.0  \n",
       "7               0.0            NaN              NaN  \n",
       "8               NaN            NaN            189.0  \n",
       "9               0.0            NaN            289.0  "
      ]
     },
     "execution_count": 14,
     "metadata": {},
     "output_type": "execute_result"
    }
   ],
   "source": [
    "pd.set_option('display.max_columns', None)\n",
    "flats.head(10)"
   ]
  },
  {
   "cell_type": "markdown",
   "metadata": {},
   "source": [
    "***Промежуточный итог***  \n",
    "  \n",
    "При первом, общем взгляде на данные можно сделать следующие выводы:\n",
    " - набор данных содержит 22 столбца и 23699 строк;\n",
    " - необходимо перименовать столбцы:\n",
    "  - _*cityCenters_nearest*_ в _*city_centers_nearest*_ ;\n",
    "  - _*parks_around3000*_ в _*parks_around_3000*_ ;\n",
    "  - _*ponds_around3000*_ в _*ponds_around_3000*_ ;\n",
    " - имеют пропуски в данных столбцы:\n",
    "  - _*ceiling_height*_ ;\n",
    "  - _*floors_total*_ ;\n",
    "  - _*living_area*_ ;\n",
    "  - _*is_apartment*_ ;\n",
    "  - _*kitchen_area*_ ;\n",
    "  - _*balcony*_ ;\n",
    "  - _*locality_name*_ ;\n",
    "  - _*airports_nearest*_ ;\n",
    "  - _*cityCenters_nearest*_ ;\n",
    "  - _*parks_around3000*_ ;\n",
    "  - _*parks_nearest*_ ;\n",
    "  - _*ponds_around3000*_ ;\n",
    "  - _*ponds_nearest*_ ;\n",
    "  - _*days_exposition*_ ;\n",
    " - необходимо сменить тип данных столбцов:\n",
    "  - _*last_price*_ с float64 в in64;\n",
    "  - _*floors_total*_ с float64 в in64;\n",
    "  - _*is_apartment*_ c object в bool;\n",
    "  - _*balcony*_ с float64 в in64;\n",
    "  - _*airports_nearest*_ с float64 в in64;\n",
    "  - _*cityCenters_nearest*_ с float64 в in64;\n",
    "  - _*parks_around3000*_ с float64 в in64;\n",
    "  - _*parks_nearest*_ с float64 в in64;\n",
    "  - _*ponds_around3000*_ с float64 в in64;\n",
    "  - _*ponds_nearest*_ с float64 в in64;\n",
    "  - _*days_exposition*_ с float64 в in64;"
   ]
  },
  {
   "cell_type": "markdown",
   "metadata": {},
   "source": [
    "## 2.2 Переименование столбцов"
   ]
  },
  {
   "cell_type": "code",
   "execution_count": 15,
   "metadata": {},
   "outputs": [
    {
     "data": {
      "text/plain": [
       "Index(['Unnamed: 0', 'total_images', 'last_price', 'total_area',\n",
       "       'first_day_exposition', 'rooms', 'ceiling_height', 'floors_total',\n",
       "       'living_area', 'floor', 'is_apartment', 'studio', 'open_plan',\n",
       "       'kitchen_area', 'balcony', 'locality_name', 'airports_nearest',\n",
       "       'city_centers_nearest', 'parks_around_3000', 'parks_nearest',\n",
       "       'ponds_around_3000', 'ponds_nearest', 'days_exposition'],\n",
       "      dtype='object')"
      ]
     },
     "execution_count": 15,
     "metadata": {},
     "output_type": "execute_result"
    }
   ],
   "source": [
    "flats.rename(columns={\n",
    "                'cityCenters_nearest': 'city_centers_nearest', \n",
    "                'parks_around3000': 'parks_around_3000', \n",
    "                'ponds_around3000': 'ponds_around_3000'}, \n",
    "             inplace=True)\n",
    "flats.columns"
   ]
  },
  {
   "cell_type": "markdown",
   "metadata": {},
   "source": [
    "## 2.3 Удаление пропусков"
   ]
  },
  {
   "cell_type": "markdown",
   "metadata": {},
   "source": [
    "### 2.3.1 Столбец *total_images*"
   ]
  },
  {
   "cell_type": "code",
   "execution_count": 16,
   "metadata": {},
   "outputs": [
    {
     "name": "stdout",
     "output_type": "stream",
     "text": [
      "[ 0  1  2  3  4  5  6  7  8  9 10 11 12 13 14 15 16 17 18 19 20 21 22 23\n",
      " 24 25 26 27 28 29 30 31 32 35 37 39 42 50]\n"
     ]
    }
   ],
   "source": [
    "num_quick_view(flats['total_images'])"
   ]
  },
  {
   "cell_type": "markdown",
   "metadata": {},
   "source": [
    "Предобработки не требует"
   ]
  },
  {
   "cell_type": "markdown",
   "metadata": {},
   "source": [
    "### 2.3.2 Столбец *last_price*"
   ]
  },
  {
   "cell_type": "code",
   "execution_count": 17,
   "metadata": {},
   "outputs": [
    {
     "name": "stdout",
     "output_type": "stream",
     "text": [
      "[1.219e+04 4.300e+05 4.400e+05 ... 4.013e+08 4.200e+08 7.630e+08]\n",
      "Дробная часть всех значений равна нулю\n"
     ]
    }
   ],
   "source": [
    "num_quick_view(flats['last_price'])"
   ]
  },
  {
   "cell_type": "markdown",
   "metadata": {},
   "source": [
    "Поскольку дробная часть всех значений столбца равна нулю имеет смысл преобразовать тип данных столбца в *int*"
   ]
  },
  {
   "cell_type": "code",
   "execution_count": 18,
   "metadata": {},
   "outputs": [
    {
     "data": {
      "text/plain": [
       "0    13000000\n",
       "1     3350000\n",
       "2     5196000\n",
       "3    64900000\n",
       "4    10000000\n",
       "Name: last_price, dtype: int32"
      ]
     },
     "execution_count": 18,
     "metadata": {},
     "output_type": "execute_result"
    }
   ],
   "source": [
    "flats['last_price'] = flats['last_price'].astype(int)\n",
    "flats['last_price'].head(5)"
   ]
  },
  {
   "cell_type": "markdown",
   "metadata": {},
   "source": [
    "### 2.3.3 Столбец *total_area*"
   ]
  },
  {
   "cell_type": "code",
   "execution_count": 19,
   "metadata": {},
   "outputs": [
    {
     "name": "stdout",
     "output_type": "stream",
     "text": [
      "[ 12.   13.   13.2 ... 631.  631.2 900. ]\n",
      "Дробная часть НЕ всех значений равна нулю\n"
     ]
    }
   ],
   "source": [
    "num_quick_view(flats['total_area'])"
   ]
  },
  {
   "cell_type": "markdown",
   "metadata": {},
   "source": [
    "Предобработки на данном этапе не требует. Требуется дополнительное исследование данных столбца на предмет редких и выбивающихся значений"
   ]
  },
  {
   "cell_type": "markdown",
   "metadata": {},
   "source": [
    "### 2.3.4 Столбец *first_day_exposition* "
   ]
  },
  {
   "cell_type": "code",
   "execution_count": 20,
   "metadata": {},
   "outputs": [
    {
     "name": "stdout",
     "output_type": "stream",
     "text": [
      "['2019-03-07T00:00:00' '2018-12-04T00:00:00' '2015-08-20T00:00:00' ...\n",
      " '2014-12-29T00:00:00' '2016-09-12T00:00:00' '2015-07-19T00:00:00']\n"
     ]
    }
   ],
   "source": [
    "print(flats['first_day_exposition'].unique())"
   ]
  },
  {
   "cell_type": "markdown",
   "metadata": {},
   "source": [
    "Значения столбца необходимо преобразовать из строкового типа данных в тип *datetime*"
   ]
  },
  {
   "cell_type": "code",
   "execution_count": 21,
   "metadata": {},
   "outputs": [
    {
     "data": {
      "text/plain": [
       "0    2019-03-07T00:00:00\n",
       "1    2018-12-04T00:00:00\n",
       "2    2015-08-20T00:00:00\n",
       "3    2015-07-24T00:00:00\n",
       "4    2018-06-19T00:00:00\n",
       "Name: first_day_exposition, dtype: object"
      ]
     },
     "execution_count": 21,
     "metadata": {},
     "output_type": "execute_result"
    }
   ],
   "source": [
    "pd.to_datetime(flats['first_day_exposition'], format='%Y-%m-%d %H:%M:%S')\n",
    "flats['first_day_exposition'].head(5)"
   ]
  },
  {
   "cell_type": "markdown",
   "metadata": {},
   "source": [
    "### 2.3.5 Столбец *rooms*"
   ]
  },
  {
   "cell_type": "code",
   "execution_count": 22,
   "metadata": {},
   "outputs": [
    {
     "name": "stdout",
     "output_type": "stream",
     "text": [
      "[ 0  1  2  3  4  5  6  7  8  9 10 11 12 14 15 16 19]\n"
     ]
    }
   ],
   "source": [
    "num_quick_view(flats['rooms'])"
   ]
  },
  {
   "cell_type": "code",
   "execution_count": 23,
   "metadata": {},
   "outputs": [
    {
     "name": "stdout",
     "output_type": "stream",
     "text": [
      "    count    percent\n",
      "1    8047  33.955019\n",
      "2    7940  33.503523\n",
      "3    5814  24.532681\n",
      "4    1180   4.979113\n",
      "5     326   1.375585\n",
      "0     197   0.831259\n",
      "6     105   0.443057\n",
      "7      59   0.248956\n",
      "8      12   0.050635\n",
      "9       8   0.033757\n",
      "10      3   0.012659\n",
      "14      2   0.008439\n",
      "11      2   0.008439\n",
      "19      1   0.004220\n",
      "12      1   0.004220\n",
      "16      1   0.004220\n",
      "15      1   0.004220\n"
     ]
    }
   ],
   "source": [
    "value_counts_percent(flats['rooms'])"
   ]
  },
  {
   "cell_type": "markdown",
   "metadata": {},
   "source": [
    "Количество комнат более 5 вполне допустимо для квартир дорого и элитного сегмента. При этом количество объявлений данных квартир не велико -- не более 3%. Поэтому в наборе данных оставим их без изменения.\n",
    "\n",
    "Количество комнат равное 0 верно для квартиры-студии. Проверим данное утрвеждение -- определим процент квартир с нулевым количеством комнат, не являющихся квартирами-студями"
   ]
  },
  {
   "cell_type": "code",
   "execution_count": 24,
   "metadata": {
    "scrolled": true
   },
   "outputs": [
    {
     "name": "stdout",
     "output_type": "stream",
     "text": [
      "count: 349      0\n",
      "508      0\n",
      "780      0\n",
      "839      0\n",
      "946      0\n",
      "1574     0\n",
      "1625     0\n",
      "2532     0\n",
      "3019     0\n",
      "4115     0\n",
      "4437     0\n",
      "4683     0\n",
      "4876     0\n",
      "5749     0\n",
      "6472     0\n",
      "6612     0\n",
      "6805     0\n",
      "7008     0\n",
      "7237     0\n",
      "7286     0\n",
      "7818     0\n",
      "9412     0\n",
      "9586     0\n",
      "9861     0\n",
      "10284    0\n",
      "10606    0\n",
      "11035    0\n",
      "11051    0\n",
      "11157    0\n",
      "11331    0\n",
      "11692    0\n",
      "11705    0\n",
      "12412    0\n",
      "12691    0\n",
      "13953    0\n",
      "15105    0\n",
      "15273    0\n",
      "15434    0\n",
      "16429    0\n",
      "17695    0\n",
      "17729    0\n",
      "17805    0\n",
      "17824    0\n",
      "18042    0\n",
      "18549    0\n",
      "18782    0\n",
      "19392    0\n",
      "19477    0\n",
      "19735    0\n",
      "19917    0\n",
      "20002    0\n",
      "20045    0\n",
      "20054    0\n",
      "20793    0\n",
      "21299    0\n",
      "21628    0\n",
      "22573    0\n",
      "23442    0\n",
      "23592    0\n",
      "Name: rooms, dtype: int64\n",
      "percent: 349      0.0\n",
      "508      0.0\n",
      "780      0.0\n",
      "839      0.0\n",
      "946      0.0\n",
      "1574     0.0\n",
      "1625     0.0\n",
      "2532     0.0\n",
      "3019     0.0\n",
      "4115     0.0\n",
      "4437     0.0\n",
      "4683     0.0\n",
      "4876     0.0\n",
      "5749     0.0\n",
      "6472     0.0\n",
      "6612     0.0\n",
      "6805     0.0\n",
      "7008     0.0\n",
      "7237     0.0\n",
      "7286     0.0\n",
      "7818     0.0\n",
      "9412     0.0\n",
      "9586     0.0\n",
      "9861     0.0\n",
      "10284    0.0\n",
      "10606    0.0\n",
      "11035    0.0\n",
      "11051    0.0\n",
      "11157    0.0\n",
      "11331    0.0\n",
      "11692    0.0\n",
      "11705    0.0\n",
      "12412    0.0\n",
      "12691    0.0\n",
      "13953    0.0\n",
      "15105    0.0\n",
      "15273    0.0\n",
      "15434    0.0\n",
      "16429    0.0\n",
      "17695    0.0\n",
      "17729    0.0\n",
      "17805    0.0\n",
      "17824    0.0\n",
      "18042    0.0\n",
      "18549    0.0\n",
      "18782    0.0\n",
      "19392    0.0\n",
      "19477    0.0\n",
      "19735    0.0\n",
      "19917    0.0\n",
      "20002    0.0\n",
      "20045    0.0\n",
      "20054    0.0\n",
      "20793    0.0\n",
      "21299    0.0\n",
      "21628    0.0\n",
      "22573    0.0\n",
      "23442    0.0\n",
      "23592    0.0\n",
      "Name: rooms, dtype: float64\n"
     ]
    }
   ],
   "source": [
    "count_percent(flats.loc[(flats['rooms'] == 0) & (~flats['studio']),'rooms'])"
   ]
  },
  {
   "cell_type": "code",
   "execution_count": 25,
   "metadata": {},
   "outputs": [
    {
     "name": "stdout",
     "output_type": "stream",
     "text": [
      "count: 59\n",
      "percent: 0.24895565213722098\n"
     ]
    }
   ],
   "source": [
    "print('count:', flats.loc[(flats['rooms'] == 0) & (~flats['studio']),'rooms'].count())\n",
    "print('percent:', flats.loc[(flats['rooms'] == 0) & (~flats['studio']),'rooms'].count() / flats.shape[0] * 100)"
   ]
  },
  {
   "cell_type": "markdown",
   "metadata": {},
   "source": [
    "Нулевое количество комнат для не квартир-студий является ошибкой. Возможность заполнить данные аномальные значения референтными не предоставляется возможным. Поэтому, ввиду малого процента данных квартир, они могут быть удалены из набора данных."
   ]
  },
  {
   "cell_type": "code",
   "execution_count": 26,
   "metadata": {},
   "outputs": [],
   "source": [
    "flats = flats.loc[(flats['rooms'] != 0) | ((flats['rooms'] == 0) & (flats['studio'])),:]"
   ]
  },
  {
   "cell_type": "code",
   "execution_count": 27,
   "metadata": {},
   "outputs": [
    {
     "data": {
      "text/plain": [
       "0.0"
      ]
     },
     "execution_count": 27,
     "metadata": {},
     "output_type": "execute_result"
    }
   ],
   "source": [
    "# Проверка\n",
    "flats.loc[(flats['rooms'] == 0) & (~flats['studio']),'rooms'].count() / flats.shape[0] * 100"
   ]
  },
  {
   "cell_type": "markdown",
   "metadata": {},
   "source": [
    "### 2.3.6 Столбец *floors_total*"
   ]
  },
  {
   "cell_type": "code",
   "execution_count": 28,
   "metadata": {},
   "outputs": [
    {
     "name": "stdout",
     "output_type": "stream",
     "text": [
      "[ 1.  2.  3.  4.  5.  6.  7.  8.  9. 10. 11. 12. 13. 14. 15. 16. 17. 18.\n",
      " 19. 20. 21. 22. 23. 24. 25. 26. 27. 28. 29. 33. 34. 35. 36. 37. 52. 60.\n",
      " nan]\n",
      "Дробная часть НЕ всех значений равна нулю\n"
     ]
    }
   ],
   "source": [
    "num_quick_view(flats['floors_total'])"
   ]
  },
  {
   "cell_type": "code",
   "execution_count": 29,
   "metadata": {},
   "outputs": [
    {
     "name": "stdout",
     "output_type": "stream",
     "text": [
      "count: 86\n",
      "percent: 0.3637901861252115\n"
     ]
    }
   ],
   "source": [
    "null_counts_percent(flats['floors_total'])"
   ]
  },
  {
   "cell_type": "markdown",
   "metadata": {},
   "source": [
    "Пропуск этажности дома является ошибкой. Возможность заполнить данные аномальные значения референтными не предоставляется возможным. Поэтому, ввиду малого процента данных квартир, они могут быть удалены из набора данных."
   ]
  },
  {
   "cell_type": "code",
   "execution_count": 30,
   "metadata": {},
   "outputs": [
    {
     "name": "stdout",
     "output_type": "stream",
     "text": [
      "[ 1.  2.  3.  4.  5.  6.  7.  8.  9. 10. 11. 12. 13. 14. 15. 16. 17. 18.\n",
      " 19. 20. 21. 22. 23. 24. 25. 26. 27. 28. 29. 33. 34. 35. 36. 37. 52. 60.]\n",
      "Дробная часть всех значений равна нулю\n"
     ]
    }
   ],
   "source": [
    "flats.dropna(subset=['floors_total'], inplace=True)\n",
    "num_quick_view(flats['floors_total'])"
   ]
  },
  {
   "cell_type": "markdown",
   "metadata": {},
   "source": [
    "Этажность дома -- величина целочисленная. Поэтому тип данных столбца преобразуем в тип *int64*"
   ]
  },
  {
   "cell_type": "code",
   "execution_count": 31,
   "metadata": {},
   "outputs": [
    {
     "name": "stdout",
     "output_type": "stream",
     "text": [
      "[ 1  2  3  4  5  6  7  8  9 10 11 12 13 14 15 16 17 18 19 20 21 22 23 24\n",
      " 25 26 27 28 29 33 34 35 36 37 52 60]\n"
     ]
    }
   ],
   "source": [
    "flats['floors_total'] = flats['floors_total'].astype(int)\n",
    "num_quick_view(flats['floors_total'])"
   ]
  },
  {
   "cell_type": "markdown",
   "metadata": {},
   "source": [
    "### 2.3.7 Столбец *ceiling_height*"
   ]
  },
  {
   "cell_type": "code",
   "execution_count": 32,
   "metadata": {},
   "outputs": [
    {
     "name": "stdout",
     "output_type": "stream",
     "text": [
      "[  1.     1.2    1.75   2.     2.2    2.25   2.3    2.34   2.4    2.45\n",
      "   2.46   2.47   2.48   2.49   2.5    2.51   2.52   2.53   2.54   2.55\n",
      "   2.56   2.57   2.58   2.59   2.6    2.61   2.62   2.63   2.64   2.65\n",
      "   2.66   2.67   2.68   2.69   2.7    2.71   2.72   2.73   2.74   2.75\n",
      "   2.76   2.77   2.78   2.79   2.8    2.81   2.82   2.83   2.84   2.85\n",
      "   2.86   2.87   2.88   2.89   2.9    2.91   2.92   2.93   2.94   2.95\n",
      "   2.96   2.97   2.98   2.99   3.     3.01   3.02   3.03   3.04   3.05\n",
      "   3.06   3.07   3.08   3.09   3.1    3.11   3.12   3.13   3.14   3.15\n",
      "   3.16   3.17   3.18   3.2    3.21   3.22   3.23   3.24   3.25   3.26\n",
      "   3.27   3.28   3.29   3.3    3.31   3.32   3.33   3.34   3.35   3.36\n",
      "   3.37   3.38   3.39   3.4    3.42   3.43   3.44   3.45   3.46   3.47\n",
      "   3.48   3.49   3.5    3.51   3.52   3.53   3.54   3.55   3.56   3.57\n",
      "   3.58   3.59   3.6    3.62   3.63   3.65   3.66   3.67   3.68   3.69\n",
      "   3.7    3.75   3.76   3.78   3.8    3.82   3.83   3.84   3.85   3.86\n",
      "   3.87   3.88   3.9    3.93   3.95   3.98   4.     4.06   4.1    4.14\n",
      "   4.15   4.19   4.2    4.25   4.3    4.37   4.4    4.45   4.5    4.65\n",
      "   4.7    4.8    4.9    5.     5.2    5.3    5.5    5.6    5.8    6.\n",
      "   8.     8.3   10.3   14.    20.    22.6   24.    25.    26.    27.\n",
      "  27.5   32.   100.      nan]\n",
      "Дробная часть НЕ всех значений равна нулю\n"
     ]
    }
   ],
   "source": [
    "num_quick_view(flats['ceiling_height'])"
   ]
  },
  {
   "cell_type": "code",
   "execution_count": 33,
   "metadata": {},
   "outputs": [
    {
     "name": "stdout",
     "output_type": "stream",
     "text": [
      "count: 9069\n",
      "percent: 38.50301435000424\n"
     ]
    }
   ],
   "source": [
    "null_counts_percent(flats['ceiling_height'])"
   ]
  },
  {
   "cell_type": "markdown",
   "metadata": {},
   "source": [
    "Процент пропусков в столбце существеннен, удалению данные строки не подлежат. Поэтому пропуски необходимо заполнить какими-то значениями.  \n",
    "Высота потолков сильнее всего связана с высотой здания, т.е. с его этажностью. Поэтому пропуски заменим на медианные значения соответствующих групп по этажности (по категориям столбца *floors_total*)."
   ]
  },
  {
   "cell_type": "code",
   "execution_count": 34,
   "metadata": {},
   "outputs": [],
   "source": [
    "floors_totals = flats['floors_total'].unique()\n",
    "for i in floors_totals:\n",
    "    median = flats.loc[(flats['floors_total'] == i) & (~flats['ceiling_height'].isnull()), 'ceiling_height'].median()\n",
    "    flats.loc[(flats['floors_total'] == i) & (flats['ceiling_height'].isnull()), 'ceiling_height'] = median"
   ]
  },
  {
   "cell_type": "code",
   "execution_count": 35,
   "metadata": {},
   "outputs": [
    {
     "name": "stdout",
     "output_type": "stream",
     "text": [
      "count: 1\n",
      "percent: 0.004245563386261357\n"
     ]
    }
   ],
   "source": [
    "null_counts_percent(flats['ceiling_height'])"
   ]
  },
  {
   "cell_type": "markdown",
   "metadata": {},
   "source": [
    "Один пропуск заменить не удалось -- такая этажность была единственная и высота потолков для неё была пропущена. Удалим его из набора данных."
   ]
  },
  {
   "cell_type": "code",
   "execution_count": 36,
   "metadata": {},
   "outputs": [
    {
     "name": "stdout",
     "output_type": "stream",
     "text": [
      "count: 0\n"
     ]
    }
   ],
   "source": [
    "flats.dropna(subset=['ceiling_height'], inplace=True)\n",
    "print('count:', flats['ceiling_height'].isna().sum())"
   ]
  },
  {
   "cell_type": "markdown",
   "metadata": {},
   "source": [
    "### 2.3.8 Столбец *living_area*"
   ]
  },
  {
   "cell_type": "code",
   "execution_count": 37,
   "metadata": {},
   "outputs": [
    {
     "name": "stdout",
     "output_type": "stream",
     "text": [
      "[  2.    3.    5.  ... 409.  409.7   nan]\n",
      "Дробная часть НЕ всех значений равна нулю\n"
     ]
    }
   ],
   "source": [
    "num_quick_view(flats['living_area'])"
   ]
  },
  {
   "cell_type": "code",
   "execution_count": 38,
   "metadata": {},
   "outputs": [
    {
     "name": "stdout",
     "output_type": "stream",
     "text": [
      "count: 1866\n",
      "percent: 7.92255763596994\n"
     ]
    }
   ],
   "source": [
    "null_counts_percent(flats['living_area'])"
   ]
  },
  {
   "cell_type": "markdown",
   "metadata": {},
   "source": [
    "Процент пропущенных значений жилой площади ощутимо высок. Пропуски заменим на медианные значения соответствующих групп по общей площади квартиры (по категориям столбца *total_area*). Для этого добавим в набор данных столбец *total_area_grp*, в котором укажем группу квартиры по общей площади. Выделим 10 групп квартир по площади, граничные значения площадей выберем по квантилям данных."
   ]
  },
  {
   "cell_type": "code",
   "execution_count": 39,
   "metadata": {},
   "outputs": [
    {
     "data": {
      "text/plain": [
       "array([10,  3,  6,  1,  2,  8,  7,  4,  9,  5], dtype=int64)"
      ]
     },
     "execution_count": 39,
     "metadata": {},
     "output_type": "execute_result"
    }
   ],
   "source": [
    "gr_1 = flats['total_area'].quantile(0.1)\n",
    "gr_2 = flats['total_area'].quantile(0.2)\n",
    "gr_3 = flats['total_area'].quantile(0.3)\n",
    "gr_4 = flats['total_area'].quantile(0.4)\n",
    "gr_5 = flats['total_area'].quantile(0.5)\n",
    "gr_6 = flats['total_area'].quantile(0.6)\n",
    "gr_7 = flats['total_area'].quantile(0.7)\n",
    "gr_8 = flats['total_area'].quantile(0.8)\n",
    "gr_9 = flats['total_area'].quantile(0.9)\n",
    "\n",
    "flats['total_area_grp'] = flats.apply(create_cat, axis=1, grp_column='total_area')\n",
    "flats['total_area_grp'].unique()"
   ]
  },
  {
   "cell_type": "code",
   "execution_count": 40,
   "metadata": {},
   "outputs": [],
   "source": [
    "flats['total_area_grp'] = flats.apply(create_cat, axis=1, grp_column='total_area')\n",
    "total_area_grps = flats['total_area_grp'].unique()\n",
    "\n",
    "for i in total_area_grps:\n",
    "    median = flats.loc[(flats['total_area_grp'] == i) & (~flats['living_area'].isnull()), 'living_area'].median()\n",
    "    flats.loc[(flats['total_area_grp'] == i) & (flats['living_area'].isnull()), 'living_area'] = median"
   ]
  },
  {
   "cell_type": "code",
   "execution_count": 41,
   "metadata": {},
   "outputs": [
    {
     "name": "stdout",
     "output_type": "stream",
     "text": [
      "count: 0\n",
      "percent: 0.0\n"
     ]
    }
   ],
   "source": [
    "null_counts_percent(flats['living_area'])"
   ]
  },
  {
   "cell_type": "markdown",
   "metadata": {},
   "source": [
    "### 2.3.9 Столбец *floor*"
   ]
  },
  {
   "cell_type": "code",
   "execution_count": 42,
   "metadata": {},
   "outputs": [
    {
     "name": "stdout",
     "output_type": "stream",
     "text": [
      "[ 1  2  3  4  5  6  7  8  9 10 11 12 13 14 15 16 17 18 19 20 21 22 23 24\n",
      " 25 26 27 28 29 30 31 33]\n"
     ]
    }
   ],
   "source": [
    "num_quick_view(flats['floor'])"
   ]
  },
  {
   "cell_type": "markdown",
   "metadata": {},
   "source": [
    "Предобработки не требует"
   ]
  },
  {
   "cell_type": "markdown",
   "metadata": {},
   "source": [
    "### 2.3.10 Столбец *is_apartment*"
   ]
  },
  {
   "cell_type": "code",
   "execution_count": 43,
   "metadata": {},
   "outputs": [
    {
     "data": {
      "text/plain": [
       "array([nan, False, True], dtype=object)"
      ]
     },
     "execution_count": 43,
     "metadata": {},
     "output_type": "execute_result"
    }
   ],
   "source": [
    "flats['is_apartment'].unique()"
   ]
  },
  {
   "cell_type": "code",
   "execution_count": 44,
   "metadata": {},
   "outputs": [
    {
     "name": "stdout",
     "output_type": "stream",
     "text": [
      "count: 20780\n",
      "percent: 88.22655288073706\n"
     ]
    }
   ],
   "source": [
    "null_counts_percent(flats['is_apartment'])"
   ]
  },
  {
   "cell_type": "markdown",
   "metadata": {},
   "source": [
    "Апартаменты — это нежилые помещения, не относящиеся к жилому фонду, но имеющие необходимые условия для проживания. Это редкое являение на рынке жилой недвижимости в России, поскольку, являясь помещением нежилого фонда, не дает право регистрации в нем. Поэтому будем считать пропуски значений данного столбца равным *<font color=green>False</font>*."
   ]
  },
  {
   "cell_type": "code",
   "execution_count": 45,
   "metadata": {},
   "outputs": [
    {
     "name": "stdout",
     "output_type": "stream",
     "text": [
      "count: 0\n",
      "percent: 0.0\n"
     ]
    }
   ],
   "source": [
    "flats.loc[flats['is_apartment'].isna(), ['is_apartment']] = False\n",
    "null_counts_percent(flats['is_apartment'])"
   ]
  },
  {
   "cell_type": "markdown",
   "metadata": {},
   "source": [
    "### 2.3.11 Столбец *studio*"
   ]
  },
  {
   "cell_type": "code",
   "execution_count": 46,
   "metadata": {},
   "outputs": [
    {
     "data": {
      "text/plain": [
       "array([False, True], dtype=object)"
      ]
     },
     "execution_count": 46,
     "metadata": {},
     "output_type": "execute_result"
    }
   ],
   "source": [
    "flats['is_apartment'].unique()"
   ]
  },
  {
   "cell_type": "markdown",
   "metadata": {},
   "source": [
    "Предобработки не требует"
   ]
  },
  {
   "cell_type": "markdown",
   "metadata": {},
   "source": [
    "### 2.3.12 Столбец *open_plan*"
   ]
  },
  {
   "cell_type": "code",
   "execution_count": 47,
   "metadata": {},
   "outputs": [
    {
     "data": {
      "text/plain": [
       "array([False, True], dtype=object)"
      ]
     },
     "execution_count": 47,
     "metadata": {},
     "output_type": "execute_result"
    }
   ],
   "source": [
    "flats['is_apartment'].unique()"
   ]
  },
  {
   "cell_type": "markdown",
   "metadata": {},
   "source": [
    "Предобработки не требует"
   ]
  },
  {
   "cell_type": "markdown",
   "metadata": {},
   "source": [
    "### 2.3.13 Столбец *kitchen_area*"
   ]
  },
  {
   "cell_type": "code",
   "execution_count": 48,
   "metadata": {},
   "outputs": [],
   "source": [
    "#num_quick_view(flats['kitchen_area'])"
   ]
  },
  {
   "cell_type": "code",
   "execution_count": 49,
   "metadata": {},
   "outputs": [
    {
     "name": "stdout",
     "output_type": "stream",
     "text": [
      "count: 2172\n",
      "percent: 9.221755190421604\n"
     ]
    }
   ],
   "source": [
    "null_counts_percent(flats['kitchen_area'])"
   ]
  },
  {
   "cell_type": "markdown",
   "metadata": {},
   "source": [
    "Процент пропущенных значений площади кухни ощутимо высок. Пропуски заменим на медианные значения соответствующих групп по общей площади квартиры (по категориям столбца *total_area*)."
   ]
  },
  {
   "cell_type": "code",
   "execution_count": 50,
   "metadata": {},
   "outputs": [],
   "source": [
    "for i in total_area_grps:\n",
    "    median = flats.loc[(flats['total_area_grp'] == i) & (~flats['kitchen_area'].isnull()), 'kitchen_area'].median()\n",
    "    flats.loc[(flats['total_area_grp'] == i) & (flats['kitchen_area'].isnull()), 'kitchen_area'] = median"
   ]
  },
  {
   "cell_type": "code",
   "execution_count": 51,
   "metadata": {},
   "outputs": [
    {
     "name": "stdout",
     "output_type": "stream",
     "text": [
      "count: 0\n",
      "percent: 0.0\n"
     ]
    }
   ],
   "source": [
    "null_counts_percent(flats['kitchen_area'])"
   ]
  },
  {
   "cell_type": "markdown",
   "metadata": {},
   "source": [
    "### 2.3.14 Столбец *balcony*"
   ]
  },
  {
   "cell_type": "code",
   "execution_count": 52,
   "metadata": {},
   "outputs": [
    {
     "name": "stdout",
     "output_type": "stream",
     "text": [
      "[ 0.  1.  2.  3.  4.  5. nan]\n",
      "Дробная часть НЕ всех значений равна нулю\n"
     ]
    }
   ],
   "source": [
    "num_quick_view(flats['balcony'])"
   ]
  },
  {
   "cell_type": "code",
   "execution_count": 53,
   "metadata": {},
   "outputs": [
    {
     "name": "stdout",
     "output_type": "stream",
     "text": [
      "count: 11467\n",
      "percent: 48.68594234280134\n"
     ]
    }
   ],
   "source": [
    "null_counts_percent(flats['balcony'])"
   ]
  },
  {
   "cell_type": "markdown",
   "metadata": {},
   "source": [
    "Пропущенные значения будем считать фактом отсуствия балкона, т.е. заменим *null*-значения на 0. Тип данных столбца сменим на *int64*."
   ]
  },
  {
   "cell_type": "code",
   "execution_count": 54,
   "metadata": {},
   "outputs": [
    {
     "name": "stdout",
     "output_type": "stream",
     "text": [
      "[0 1 2 3 4 5]\n"
     ]
    }
   ],
   "source": [
    "flats['balcony'].fillna(0, inplace=True)\n",
    "flats['balcony'] = flats['balcony'].astype(int)\n",
    "num_quick_view(flats['balcony'])"
   ]
  },
  {
   "cell_type": "markdown",
   "metadata": {},
   "source": [
    "### 2.3.15 Столбец *locality_name*"
   ]
  },
  {
   "cell_type": "code",
   "execution_count": 55,
   "metadata": {
    "scrolled": true
   },
   "outputs": [
    {
     "data": {
      "text/plain": [
       "array(['Санкт-Петербург', 'посёлок Шушары', 'городской посёлок Янино-1',\n",
       "       'посёлок Парголово', 'посёлок Мурино', 'Ломоносов', 'Сертолово',\n",
       "       'Петергоф', 'Пушкин', 'деревня Кудрово', 'Коммунар', 'Колпино',\n",
       "       'поселок городского типа Красный Бор', 'Гатчина', 'поселок Мурино',\n",
       "       'деревня Фёдоровское', 'Выборг', 'Кронштадт', 'Кировск',\n",
       "       'деревня Новое Девяткино', 'посёлок Металлострой',\n",
       "       'посёлок городского типа Лебяжье',\n",
       "       'посёлок городского типа Сиверский', 'поселок Молодцово',\n",
       "       'поселок городского типа Кузьмоловский',\n",
       "       'садовое товарищество Новая Ропша', 'Павловск',\n",
       "       'деревня Пикколово', 'Всеволожск', 'Волхов', 'Кингисепп',\n",
       "       'Приозерск', 'Сестрорецк', 'деревня Куттузи', 'посёлок Аннино',\n",
       "       'поселок городского типа Ефимовский', 'посёлок Плодовое',\n",
       "       'деревня Заклинье', 'поселок Торковичи', 'поселок Первомайское',\n",
       "       'Красное Село', 'посёлок Понтонный', 'Сясьстрой', 'деревня Старая',\n",
       "       'деревня Лесколово', 'посёлок Новый Свет', 'Сланцы',\n",
       "       'село Путилово', 'Ивангород', 'Мурино', 'Шлиссельбург',\n",
       "       'Никольское', 'Зеленогорск', 'Сосновый Бор', 'поселок Новый Свет',\n",
       "       'деревня Оржицы', 'деревня Кальтино', 'Кудрово',\n",
       "       'поселок Романовка', 'посёлок Бугры', 'поселок Бугры',\n",
       "       'поселок городского типа Рощино', 'Кириши', 'Луга', 'Волосово',\n",
       "       'Отрадное', 'село Павлово', 'поселок Оредеж', 'село Копорье',\n",
       "       'посёлок городского типа Красный Бор', 'посёлок Молодёжное',\n",
       "       'Тихвин', 'посёлок Победа', 'деревня Нурма',\n",
       "       'поселок городского типа Синявино', 'Тосно',\n",
       "       'посёлок городского типа Кузьмоловский', 'посёлок Стрельна',\n",
       "       'Бокситогорск', 'посёлок Александровская', 'деревня Лопухинка',\n",
       "       'Пикалёво', 'поселок Терволово',\n",
       "       'поселок городского типа Советский', 'Подпорожье',\n",
       "       'посёлок Петровское', 'посёлок городского типа Токсово',\n",
       "       'поселок Сельцо', 'посёлок городского типа Вырица',\n",
       "       'деревня Кипень', 'деревня Келози', 'деревня Вартемяги',\n",
       "       'посёлок Тельмана', 'поселок Севастьяново',\n",
       "       'городской поселок Большая Ижора', nan,\n",
       "       'городской посёлок Павлово', 'деревня Агалатово',\n",
       "       'посёлок Новогорелово', 'городской посёлок Лесогорский',\n",
       "       'деревня Лаголово', 'поселок Цвелодубово',\n",
       "       'поселок городского типа Рахья', 'поселок городского типа Вырица',\n",
       "       'деревня Белогорка', 'поселок Заводской',\n",
       "       'городской посёлок Новоселье', 'деревня Большие Колпаны',\n",
       "       'деревня Горбунки', 'деревня Батово', 'деревня Заневка',\n",
       "       'деревня Иссад', 'Приморск', 'городской посёлок Фёдоровское',\n",
       "       'деревня Мистолово', 'Новая Ладога', 'поселок Зимитицы',\n",
       "       'поселок Барышево', 'деревня Разметелево',\n",
       "       'поселок городского типа имени Свердлова', 'деревня Пеники',\n",
       "       'поселок Рябово', 'деревня Пудомяги', 'деревня Низино',\n",
       "       'деревня Бегуницы', 'посёлок Поляны', 'городской посёлок Мга',\n",
       "       'поселок Елизаветино', 'посёлок городского типа Кузнечное',\n",
       "       'деревня Колтуши', 'поселок Запорожское',\n",
       "       'посёлок городского типа Рощино', 'деревня Гостилицы',\n",
       "       'деревня Малое Карлино', 'посёлок Мичуринское',\n",
       "       'посёлок городского типа имени Морозова', 'посёлок Песочный',\n",
       "       'посёлок Сосново', 'деревня Аро', 'поселок Ильичёво',\n",
       "       'посёлок городского типа Тайцы', 'деревня Малое Верево',\n",
       "       'деревня Извара', 'поселок станции Вещево', 'село Паша',\n",
       "       'деревня Калитино', 'посёлок городского типа Ульяновка',\n",
       "       'деревня Чудской Бор', 'поселок городского типа Дубровка',\n",
       "       'деревня Мины', 'поселок Войсковицы',\n",
       "       'посёлок городского типа имени Свердлова', 'деревня Коркино',\n",
       "       'посёлок Ропша', 'поселок городского типа Приладожский',\n",
       "       'посёлок Щеглово', 'посёлок Гаврилово', 'Лодейное Поле',\n",
       "       'деревня Рабитицы', 'поселок городского типа Никольский',\n",
       "       'деревня Кузьмолово', 'деревня Малые Колпаны', 'поселок Тельмана',\n",
       "       'посёлок Петро-Славянка', 'городской посёлок Назия',\n",
       "       'посёлок Репино', 'посёлок Ильичёво', 'поселок Углово',\n",
       "       'поселок Старая Малукса', 'садовое товарищество Рахья',\n",
       "       'поселок Аннино', 'поселок Победа', 'деревня Меньково',\n",
       "       'деревня Старые Бегуницы', 'посёлок Сапёрный', 'поселок Семрино',\n",
       "       'поселок Гаврилово', 'поселок Глажево', 'поселок Кобринское',\n",
       "       'деревня Гарболово', 'деревня Юкки',\n",
       "       'поселок станции Приветнинское', 'деревня Мануйлово',\n",
       "       'деревня Пчева', 'поселок Поляны', 'поселок Цвылёво',\n",
       "       'поселок Мельниково', 'посёлок Пудость', 'посёлок Усть-Луга',\n",
       "       'Светогорск', 'Любань', 'поселок Селезнёво',\n",
       "       'поселок городского типа Рябово', 'Каменногорск', 'деревня Кривко',\n",
       "       'поселок Глебычево', 'деревня Парицы', 'поселок Жилпосёлок',\n",
       "       'посёлок городского типа Мга', 'городской поселок Янино-1',\n",
       "       'посёлок Войскорово', 'село Никольское', 'посёлок Терволово',\n",
       "       'поселок Стеклянный', 'посёлок городского типа Важины',\n",
       "       'посёлок Мыза-Ивановка', 'село Русско-Высоцкое',\n",
       "       'поселок городского типа Лебяжье',\n",
       "       'поселок городского типа Форносово', 'село Старая Ладога',\n",
       "       'поселок Житково', 'городской посёлок Виллози', 'деревня Лампово',\n",
       "       'деревня Шпаньково', 'деревня Лаврики', 'посёлок Сумино',\n",
       "       'посёлок Возрождение', 'деревня Старосиверская',\n",
       "       'посёлок Кикерино', 'поселок Возрождение',\n",
       "       'деревня Старое Хинколово', 'посёлок Пригородный',\n",
       "       'посёлок Торфяное', 'городской посёлок Будогощь',\n",
       "       'поселок Суходолье', 'поселок Красная Долина', 'деревня Хапо-Ое',\n",
       "       'поселок городского типа Дружная Горка', 'поселок Лисий Нос',\n",
       "       'деревня Яльгелево', 'посёлок Стеклянный', 'село Рождествено',\n",
       "       'деревня Старополье', 'посёлок Левашово', 'деревня Сяськелево',\n",
       "       'деревня Камышовка',\n",
       "       'садоводческое некоммерческое товарищество Лесная Поляна',\n",
       "       'деревня Хязельки', 'поселок Жилгородок',\n",
       "       'посёлок городского типа Павлово', 'деревня Ялгино',\n",
       "       'поселок Новый Учхоз', 'городской посёлок Рощино',\n",
       "       'поселок Гончарово', 'поселок Почап', 'посёлок Сапёрное',\n",
       "       'посёлок Платформа 69-й километр', 'поселок Каложицы',\n",
       "       'деревня Фалилеево', 'деревня Пельгора',\n",
       "       'поселок городского типа Лесогорский', 'деревня Торошковичи',\n",
       "       'посёлок Белоостров', 'посёлок Алексеевка', 'поселок Серебрянский',\n",
       "       'поселок Лукаши', 'поселок Петровское', 'деревня Щеглово',\n",
       "       'поселок Мичуринское', 'деревня Тарасово', 'поселок Кингисеппский',\n",
       "       'посёлок при железнодорожной станции Вещево', 'поселок Ушаки',\n",
       "       'деревня Котлы', 'деревня Сижно', 'деревня Торосово',\n",
       "       'посёлок Форт Красная Горка', 'деревня Новолисино',\n",
       "       'посёлок станции Громово', 'деревня Глинка', 'посёлок Мельниково',\n",
       "       'поселок городского типа Назия', 'деревня Старая Пустошь',\n",
       "       'поселок Коммунары', 'поселок Починок',\n",
       "       'посёлок городского типа Вознесенье', 'деревня Разбегаево',\n",
       "       'посёлок городского типа Рябово', 'поселок Гладкое',\n",
       "       'посёлок при железнодорожной станции Приветнинское',\n",
       "       'поселок Тёсово-4', 'посёлок Жилгородок', 'деревня Бор',\n",
       "       'посёлок Коробицыно', 'деревня Большая Вруда', 'деревня Курковицы',\n",
       "       'посёлок Лисий Нос', 'городской посёлок Советский',\n",
       "       'посёлок Кобралово', 'деревня Суоранда', 'поселок Кобралово',\n",
       "       'поселок городского типа Кондратьево',\n",
       "       'коттеджный поселок Счастье', 'поселок Любань', 'деревня Реброво',\n",
       "       'деревня Зимитицы', 'деревня Тойворово', 'поселок Семиозерье',\n",
       "       'поселок Лесное', 'поселок Совхозный', 'поселок Усть-Луга',\n",
       "       'посёлок Ленинское', 'посёлок Суйда',\n",
       "       'посёлок городского типа Форносово', 'деревня Нижние Осельки',\n",
       "       'посёлок станции Свирь', 'поселок Перово', 'Высоцк',\n",
       "       'поселок Гарболово', 'село Шум', 'поселок Котельский',\n",
       "       'поселок станции Лужайка', 'деревня Большая Пустомержа',\n",
       "       'поселок Красносельское', 'деревня Вахнова Кара', 'деревня Пижма',\n",
       "       'коттеджный поселок Кивеннапа Север', 'поселок Коробицыно',\n",
       "       'поселок Ромашки', 'посёлок Перово', 'деревня Каськово',\n",
       "       'деревня Куровицы', 'посёлок Плоское', 'поселок Сумино',\n",
       "       'поселок городского типа Большая Ижора', 'поселок Кирпичное',\n",
       "       'деревня Ям-Тесово', 'деревня Раздолье', 'деревня Терпилицы',\n",
       "       'поселок городского типа Токсово', 'посёлок Шугозеро',\n",
       "       'деревня Ваганово', 'поселок Пушное', 'садовое товарищество Садко',\n",
       "       'посёлок Усть-Ижора', 'деревня Выскатка',\n",
       "       'городской посёлок Свирьстрой', 'поселок Громово',\n",
       "       'деревня Кисельня', 'посёлок Старая Малукса',\n",
       "       'деревня Трубников Бор', 'поселок Калитино',\n",
       "       'посёлок Высокоключевой', 'садовое товарищество Приладожский',\n",
       "       'посёлок Пансионат Зелёный Бор', 'деревня Ненимяки',\n",
       "       'поселок Пансионат Зелёный Бор', 'деревня Снегирёвка',\n",
       "       'деревня Рапполово', 'деревня Пустынка', 'поселок Рабитицы',\n",
       "       'деревня Большой Сабск', 'деревня Русско', 'деревня Лупполово',\n",
       "       'деревня Большое Рейзино', 'деревня Малая Романовка',\n",
       "       'поселок Дружноселье', 'поселок Пчевжа', 'поселок Володарское',\n",
       "       'деревня Нижняя', 'коттеджный посёлок Лесное', 'деревня Тихковицы',\n",
       "       'деревня Борисова Грива', 'посёлок Дзержинского'], dtype=object)"
      ]
     },
     "execution_count": 55,
     "metadata": {},
     "output_type": "execute_result"
    }
   ],
   "source": [
    "flats['locality_name'].unique()"
   ]
  },
  {
   "cell_type": "code",
   "execution_count": 56,
   "metadata": {},
   "outputs": [
    {
     "name": "stdout",
     "output_type": "stream",
     "text": [
      "count: 48\n",
      "percent: 0.20379569481594703\n"
     ]
    }
   ],
   "source": [
    "null_counts_percent(flats['locality_name'])"
   ]
  },
  {
   "cell_type": "markdown",
   "metadata": {},
   "source": [
    "Количество пропусков ничтожно мало, поэтому записи с пропусками могут быть удалены."
   ]
  },
  {
   "cell_type": "code",
   "execution_count": 57,
   "metadata": {},
   "outputs": [
    {
     "name": "stdout",
     "output_type": "stream",
     "text": [
      "count: 0\n",
      "percent: 0.0\n"
     ]
    }
   ],
   "source": [
    "flats['locality_name'].dropna(inplace=True)\n",
    "null_counts_percent(flats['locality_name'])"
   ]
  },
  {
   "cell_type": "markdown",
   "metadata": {},
   "source": [
    "### 2.3.16 Столбец *airports_nearest*"
   ]
  },
  {
   "cell_type": "code",
   "execution_count": 58,
   "metadata": {},
   "outputs": [
    {
     "name": "stdout",
     "output_type": "stream",
     "text": [
      "[    0.  6450.  6914. ... 84853. 84869.    nan]\n",
      "Дробная часть НЕ всех значений равна нулю\n"
     ]
    }
   ],
   "source": [
    "num_quick_view(flats['airports_nearest'])"
   ]
  },
  {
   "cell_type": "markdown",
   "metadata": {},
   "source": [
    "Наиболее вероятно нулевое значение расстояния говорит об отсутствии в допустимой близости аэропортов. Однако такая \"заглушка\" не соответствует смыслу данных столбца -- расстояние до аэропорта. В этой логике, 0 км означают, что квартира расположена на территории аэропорта. Для корректного хранения подобного рода информации и для упрщения работы с DataFrame заменим \"заглушку\" на '-1' (NONE), как алогичную с точки зрения расстояния до аэропорта\n",
    "  \n",
    "Пропущенные значения заменим на 0. Значения удаленности преобразуем к типу *int64*"
   ]
  },
  {
   "cell_type": "code",
   "execution_count": 59,
   "metadata": {},
   "outputs": [
    {
     "data": {
      "text/plain": [
       "0        18863\n",
       "1        12817\n",
       "2        21741\n",
       "3        28098\n",
       "4        31856\n",
       "         ...  \n",
       "23694    24665\n",
       "23695       -1\n",
       "23696       -1\n",
       "23697    39140\n",
       "23698       -1\n",
       "Name: airports_nearest, Length: 23553, dtype: int32"
      ]
     },
     "execution_count": 59,
     "metadata": {},
     "output_type": "execute_result"
    }
   ],
   "source": [
    "flats['airports_nearest'] = flats['airports_nearest'].fillna(0)\n",
    "flats['airports_nearest'] = flats['airports_nearest'].astype(int)\n",
    "flats.loc[flats['airports_nearest'] == 0, 'airports_nearest'] = NONE\n",
    "flats['airports_nearest']"
   ]
  },
  {
   "cell_type": "markdown",
   "metadata": {},
   "source": [
    "### 2.3.17 Столбец *city_centers_nearest*"
   ]
  },
  {
   "cell_type": "code",
   "execution_count": 60,
   "metadata": {},
   "outputs": [
    {
     "name": "stdout",
     "output_type": "stream",
     "text": [
      "[  181.   208.   215. ... 65952. 65968.    nan]\n",
      "Дробная часть НЕ всех значений равна нулю\n"
     ]
    }
   ],
   "source": [
    "num_quick_view(flats['city_centers_nearest'])"
   ]
  },
  {
   "cell_type": "markdown",
   "metadata": {},
   "source": [
    "Пропущенные значения заменим на 0. Значения столбца преобразуем аналогично п.2.3.16"
   ]
  },
  {
   "cell_type": "code",
   "execution_count": 61,
   "metadata": {},
   "outputs": [
    {
     "data": {
      "text/plain": [
       "0        16028\n",
       "1        18603\n",
       "2        13933\n",
       "3         6800\n",
       "4         8098\n",
       "         ...  \n",
       "23694     4232\n",
       "23695       -1\n",
       "23696       -1\n",
       "23697    10364\n",
       "23698       -1\n",
       "Name: city_centers_nearest, Length: 23553, dtype: int32"
      ]
     },
     "execution_count": 61,
     "metadata": {},
     "output_type": "execute_result"
    }
   ],
   "source": [
    "flats['city_centers_nearest'] = flats['city_centers_nearest'].fillna(0)\n",
    "flats['city_centers_nearest'] = flats['city_centers_nearest'].astype(int)\n",
    "flats.loc[flats['city_centers_nearest'] == 0, 'city_centers_nearest'] = NONE\n",
    "flats['city_centers_nearest']"
   ]
  },
  {
   "cell_type": "markdown",
   "metadata": {},
   "source": [
    "### 2.3.18 Столбец *parks_around_3000*"
   ]
  },
  {
   "cell_type": "code",
   "execution_count": 62,
   "metadata": {},
   "outputs": [
    {
     "name": "stdout",
     "output_type": "stream",
     "text": [
      "[ 0.  1.  2.  3. nan]\n",
      "Дробная часть НЕ всех значений равна нулю\n"
     ]
    }
   ],
   "source": [
    "num_quick_view(flats['parks_around_3000'])"
   ]
  },
  {
   "cell_type": "code",
   "execution_count": 63,
   "metadata": {},
   "outputs": [
    {
     "name": "stdout",
     "output_type": "stream",
     "text": [
      "count: 5480\n",
      "percent: 23.26667515815395\n"
     ]
    }
   ],
   "source": [
    "null_counts_percent(flats['parks_around_3000'])"
   ]
  },
  {
   "cell_type": "markdown",
   "metadata": {},
   "source": [
    "Пропущенные значения заменим на 0, поскольку отсутствие количества парков будем воспринимать, как их нулевое количество. Значения столбца преобразуем к типу *int64*"
   ]
  },
  {
   "cell_type": "code",
   "execution_count": 64,
   "metadata": {},
   "outputs": [
    {
     "name": "stdout",
     "output_type": "stream",
     "text": [
      "[0 1 2 3]\n"
     ]
    }
   ],
   "source": [
    "flats['parks_around_3000'] = flats['parks_around_3000'].fillna(0)\n",
    "flats['parks_around_3000'] = flats['parks_around_3000'].astype(int)\n",
    "num_quick_view(flats['parks_around_3000'])"
   ]
  },
  {
   "cell_type": "markdown",
   "metadata": {},
   "source": [
    "### 2.3.19 Столбец *parks_nearest*"
   ]
  },
  {
   "cell_type": "code",
   "execution_count": 65,
   "metadata": {
    "scrolled": true
   },
   "outputs": [
    {
     "name": "stdout",
     "output_type": "stream",
     "text": [
      "[1.000e+00 3.000e+00 4.000e+00 7.000e+00 9.000e+00 1.000e+01 1.100e+01\n",
      " 1.200e+01 1.300e+01 1.400e+01 1.500e+01 1.600e+01 1.700e+01 1.800e+01\n",
      " 1.900e+01 2.000e+01 2.100e+01 2.200e+01 2.300e+01 2.400e+01 2.700e+01\n",
      " 2.800e+01 3.000e+01 3.200e+01 3.300e+01 3.400e+01 3.500e+01 3.600e+01\n",
      " 3.700e+01 3.800e+01 3.900e+01 4.000e+01 4.100e+01 4.200e+01 4.300e+01\n",
      " 4.400e+01 4.500e+01 4.600e+01 4.700e+01 4.800e+01 4.900e+01 5.000e+01\n",
      " 5.100e+01 5.200e+01 5.300e+01 5.400e+01 5.500e+01 5.600e+01 5.700e+01\n",
      " 5.800e+01 5.900e+01 6.000e+01 6.100e+01 6.200e+01 6.300e+01 6.400e+01\n",
      " 6.500e+01 6.600e+01 6.700e+01 6.800e+01 6.900e+01 7.100e+01 7.200e+01\n",
      " 7.300e+01 7.400e+01 7.500e+01 7.600e+01 7.700e+01 7.800e+01 8.000e+01\n",
      " 8.100e+01 8.200e+01 8.300e+01 8.400e+01 8.500e+01 8.600e+01 8.700e+01\n",
      " 8.800e+01 9.000e+01 9.100e+01 9.200e+01 9.300e+01 9.400e+01 9.500e+01\n",
      " 9.600e+01 9.700e+01 9.800e+01 9.900e+01 1.000e+02 1.010e+02 1.020e+02\n",
      " 1.030e+02 1.040e+02 1.050e+02 1.060e+02 1.070e+02 1.080e+02 1.090e+02\n",
      " 1.100e+02 1.120e+02 1.130e+02 1.140e+02 1.150e+02 1.160e+02 1.170e+02\n",
      " 1.180e+02 1.190e+02 1.200e+02 1.210e+02 1.220e+02 1.230e+02 1.240e+02\n",
      " 1.250e+02 1.260e+02 1.270e+02 1.280e+02 1.290e+02 1.300e+02 1.310e+02\n",
      " 1.320e+02 1.330e+02 1.340e+02 1.350e+02 1.360e+02 1.370e+02 1.380e+02\n",
      " 1.390e+02 1.400e+02 1.410e+02 1.420e+02 1.440e+02 1.450e+02 1.460e+02\n",
      " 1.470e+02 1.480e+02 1.490e+02 1.500e+02 1.510e+02 1.520e+02 1.530e+02\n",
      " 1.540e+02 1.550e+02 1.560e+02 1.570e+02 1.580e+02 1.590e+02 1.600e+02\n",
      " 1.610e+02 1.620e+02 1.630e+02 1.640e+02 1.650e+02 1.660e+02 1.670e+02\n",
      " 1.680e+02 1.690e+02 1.700e+02 1.710e+02 1.720e+02 1.730e+02 1.740e+02\n",
      " 1.750e+02 1.760e+02 1.770e+02 1.780e+02 1.790e+02 1.800e+02 1.810e+02\n",
      " 1.820e+02 1.830e+02 1.840e+02 1.850e+02 1.860e+02 1.870e+02 1.880e+02\n",
      " 1.890e+02 1.900e+02 1.910e+02 1.920e+02 1.930e+02 1.940e+02 1.950e+02\n",
      " 1.960e+02 1.970e+02 1.980e+02 1.990e+02 2.000e+02 2.010e+02 2.020e+02\n",
      " 2.030e+02 2.040e+02 2.050e+02 2.060e+02 2.070e+02 2.080e+02 2.090e+02\n",
      " 2.100e+02 2.110e+02 2.120e+02 2.130e+02 2.150e+02 2.160e+02 2.170e+02\n",
      " 2.180e+02 2.190e+02 2.200e+02 2.210e+02 2.220e+02 2.230e+02 2.240e+02\n",
      " 2.250e+02 2.260e+02 2.270e+02 2.280e+02 2.290e+02 2.300e+02 2.310e+02\n",
      " 2.320e+02 2.330e+02 2.340e+02 2.350e+02 2.360e+02 2.370e+02 2.380e+02\n",
      " 2.390e+02 2.400e+02 2.410e+02 2.420e+02 2.430e+02 2.440e+02 2.450e+02\n",
      " 2.460e+02 2.470e+02 2.480e+02 2.490e+02 2.500e+02 2.510e+02 2.520e+02\n",
      " 2.530e+02 2.540e+02 2.550e+02 2.560e+02 2.570e+02 2.580e+02 2.590e+02\n",
      " 2.600e+02 2.610e+02 2.620e+02 2.630e+02 2.640e+02 2.650e+02 2.660e+02\n",
      " 2.670e+02 2.680e+02 2.690e+02 2.700e+02 2.710e+02 2.720e+02 2.730e+02\n",
      " 2.740e+02 2.750e+02 2.760e+02 2.770e+02 2.780e+02 2.790e+02 2.800e+02\n",
      " 2.810e+02 2.820e+02 2.830e+02 2.840e+02 2.850e+02 2.860e+02 2.870e+02\n",
      " 2.880e+02 2.890e+02 2.900e+02 2.910e+02 2.920e+02 2.930e+02 2.940e+02\n",
      " 2.950e+02 2.960e+02 2.970e+02 2.980e+02 2.990e+02 3.000e+02 3.010e+02\n",
      " 3.020e+02 3.030e+02 3.040e+02 3.050e+02 3.060e+02 3.070e+02 3.080e+02\n",
      " 3.090e+02 3.100e+02 3.110e+02 3.120e+02 3.130e+02 3.140e+02 3.150e+02\n",
      " 3.160e+02 3.170e+02 3.180e+02 3.190e+02 3.200e+02 3.210e+02 3.220e+02\n",
      " 3.230e+02 3.240e+02 3.250e+02 3.260e+02 3.270e+02 3.280e+02 3.290e+02\n",
      " 3.300e+02 3.310e+02 3.320e+02 3.330e+02 3.340e+02 3.350e+02 3.360e+02\n",
      " 3.370e+02 3.380e+02 3.390e+02 3.400e+02 3.410e+02 3.420e+02 3.430e+02\n",
      " 3.440e+02 3.450e+02 3.460e+02 3.470e+02 3.480e+02 3.490e+02 3.500e+02\n",
      " 3.510e+02 3.520e+02 3.530e+02 3.540e+02 3.550e+02 3.560e+02 3.570e+02\n",
      " 3.580e+02 3.590e+02 3.600e+02 3.610e+02 3.620e+02 3.630e+02 3.640e+02\n",
      " 3.650e+02 3.660e+02 3.670e+02 3.680e+02 3.690e+02 3.700e+02 3.710e+02\n",
      " 3.720e+02 3.730e+02 3.740e+02 3.750e+02 3.760e+02 3.770e+02 3.780e+02\n",
      " 3.790e+02 3.800e+02 3.810e+02 3.820e+02 3.830e+02 3.840e+02 3.850e+02\n",
      " 3.860e+02 3.870e+02 3.880e+02 3.890e+02 3.900e+02 3.910e+02 3.920e+02\n",
      " 3.930e+02 3.940e+02 3.950e+02 3.960e+02 3.970e+02 3.980e+02 3.990e+02\n",
      " 4.000e+02 4.010e+02 4.020e+02 4.030e+02 4.040e+02 4.050e+02 4.060e+02\n",
      " 4.070e+02 4.080e+02 4.090e+02 4.100e+02 4.110e+02 4.120e+02 4.130e+02\n",
      " 4.140e+02 4.150e+02 4.160e+02 4.170e+02 4.180e+02 4.190e+02 4.200e+02\n",
      " 4.210e+02 4.220e+02 4.230e+02 4.240e+02 4.250e+02 4.260e+02 4.270e+02\n",
      " 4.280e+02 4.290e+02 4.300e+02 4.310e+02 4.320e+02 4.330e+02 4.340e+02\n",
      " 4.350e+02 4.360e+02 4.370e+02 4.380e+02 4.390e+02 4.400e+02 4.410e+02\n",
      " 4.420e+02 4.430e+02 4.440e+02 4.450e+02 4.460e+02 4.470e+02 4.480e+02\n",
      " 4.490e+02 4.500e+02 4.510e+02 4.520e+02 4.530e+02 4.540e+02 4.550e+02\n",
      " 4.560e+02 4.570e+02 4.580e+02 4.590e+02 4.600e+02 4.610e+02 4.620e+02\n",
      " 4.630e+02 4.640e+02 4.650e+02 4.660e+02 4.670e+02 4.680e+02 4.690e+02\n",
      " 4.700e+02 4.710e+02 4.720e+02 4.730e+02 4.740e+02 4.750e+02 4.760e+02\n",
      " 4.770e+02 4.780e+02 4.790e+02 4.800e+02 4.810e+02 4.820e+02 4.830e+02\n",
      " 4.840e+02 4.850e+02 4.860e+02 4.870e+02 4.880e+02 4.890e+02 4.900e+02\n",
      " 4.910e+02 4.920e+02 4.930e+02 4.940e+02 4.950e+02 4.960e+02 4.970e+02\n",
      " 4.980e+02 4.990e+02 5.000e+02 5.010e+02 5.020e+02 5.030e+02 5.040e+02\n",
      " 5.050e+02 5.060e+02 5.070e+02 5.080e+02 5.090e+02 5.100e+02 5.110e+02\n",
      " 5.120e+02 5.130e+02 5.140e+02 5.150e+02 5.160e+02 5.170e+02 5.180e+02\n",
      " 5.190e+02 5.200e+02 5.210e+02 5.220e+02 5.230e+02 5.240e+02 5.250e+02\n",
      " 5.260e+02 5.270e+02 5.280e+02 5.290e+02 5.300e+02 5.310e+02 5.320e+02\n",
      " 5.330e+02 5.340e+02 5.350e+02 5.360e+02 5.370e+02 5.380e+02 5.390e+02\n",
      " 5.400e+02 5.410e+02 5.420e+02 5.430e+02 5.440e+02 5.450e+02 5.460e+02\n",
      " 5.470e+02 5.480e+02 5.490e+02 5.500e+02 5.510e+02 5.520e+02 5.530e+02\n",
      " 5.540e+02 5.550e+02 5.560e+02 5.570e+02 5.580e+02 5.590e+02 5.600e+02\n",
      " 5.610e+02 5.620e+02 5.630e+02 5.640e+02 5.650e+02 5.660e+02 5.670e+02\n",
      " 5.680e+02 5.690e+02 5.700e+02 5.710e+02 5.720e+02 5.730e+02 5.740e+02\n",
      " 5.750e+02 5.760e+02 5.770e+02 5.780e+02 5.790e+02 5.800e+02 5.810e+02\n",
      " 5.820e+02 5.830e+02 5.840e+02 5.850e+02 5.860e+02 5.870e+02 5.880e+02\n",
      " 5.890e+02 5.900e+02 5.910e+02 5.920e+02 5.930e+02 5.940e+02 5.950e+02\n",
      " 5.960e+02 5.970e+02 5.980e+02 5.990e+02 6.000e+02 6.010e+02 6.020e+02\n",
      " 6.030e+02 6.040e+02 6.050e+02 6.060e+02 6.070e+02 6.080e+02 6.090e+02\n",
      " 6.100e+02 6.110e+02 6.120e+02 6.130e+02 6.140e+02 6.150e+02 6.160e+02\n",
      " 6.170e+02 6.180e+02 6.190e+02 6.200e+02 6.210e+02 6.220e+02 6.230e+02\n",
      " 6.240e+02 6.250e+02 6.260e+02 6.270e+02 6.280e+02 6.290e+02 6.300e+02\n",
      " 6.310e+02 6.320e+02 6.330e+02 6.340e+02 6.350e+02 6.360e+02 6.370e+02\n",
      " 6.380e+02 6.390e+02 6.400e+02 6.410e+02 6.420e+02 6.430e+02 6.440e+02\n",
      " 6.450e+02 6.460e+02 6.470e+02 6.480e+02 6.490e+02 6.500e+02 6.510e+02\n",
      " 6.520e+02 6.530e+02 6.540e+02 6.550e+02 6.560e+02 6.570e+02 6.580e+02\n",
      " 6.590e+02 6.600e+02 6.610e+02 6.620e+02 6.630e+02 6.640e+02 6.650e+02\n",
      " 6.660e+02 6.670e+02 6.680e+02 6.690e+02 6.700e+02 6.710e+02 6.720e+02\n",
      " 6.730e+02 6.740e+02 6.750e+02 6.760e+02 6.770e+02 6.780e+02 6.790e+02\n",
      " 6.800e+02 6.810e+02 6.820e+02 6.830e+02 6.840e+02 6.850e+02 6.860e+02\n",
      " 6.870e+02 6.880e+02 6.890e+02 6.900e+02 6.910e+02 6.920e+02 6.930e+02\n",
      " 6.940e+02 6.950e+02 6.960e+02 6.970e+02 6.980e+02 6.990e+02 7.000e+02\n",
      " 7.010e+02 7.020e+02 7.030e+02 7.040e+02 7.050e+02 7.060e+02 7.070e+02\n",
      " 7.080e+02 7.090e+02 7.100e+02 7.110e+02 7.120e+02 7.130e+02 7.140e+02\n",
      " 7.150e+02 7.160e+02 7.170e+02 7.180e+02 7.190e+02 7.210e+02 7.220e+02\n",
      " 7.230e+02 7.240e+02 7.250e+02 7.260e+02 7.270e+02 7.280e+02 7.290e+02\n",
      " 7.300e+02 7.310e+02 7.320e+02 7.330e+02 7.350e+02 7.360e+02 7.370e+02\n",
      " 7.380e+02 7.390e+02 7.400e+02 7.410e+02 7.420e+02 7.440e+02 7.450e+02\n",
      " 7.460e+02 7.480e+02 7.490e+02 7.510e+02 7.530e+02 7.540e+02 7.550e+02\n",
      " 7.560e+02 7.570e+02 7.580e+02 7.590e+02 7.600e+02 7.610e+02 7.620e+02\n",
      " 7.630e+02 7.640e+02 7.650e+02 7.660e+02 7.670e+02 7.680e+02 7.690e+02\n",
      " 7.700e+02 7.710e+02 7.750e+02 7.780e+02 7.790e+02 7.800e+02 7.820e+02\n",
      " 7.830e+02 7.840e+02 7.860e+02 7.870e+02 7.880e+02 7.890e+02 7.900e+02\n",
      " 7.910e+02 7.920e+02 7.930e+02 7.940e+02 7.960e+02 7.970e+02 7.980e+02\n",
      " 7.990e+02 8.000e+02 8.010e+02 8.020e+02 8.030e+02 8.040e+02 8.050e+02\n",
      " 8.060e+02 8.080e+02 8.090e+02 8.110e+02 8.120e+02 8.140e+02 8.160e+02\n",
      " 8.170e+02 8.200e+02 8.220e+02 8.230e+02 8.260e+02 8.270e+02 8.280e+02\n",
      " 8.290e+02 8.300e+02 8.310e+02 8.320e+02 8.340e+02 8.350e+02 8.390e+02\n",
      " 8.410e+02 8.420e+02 8.430e+02 8.450e+02 8.460e+02 8.470e+02 8.480e+02\n",
      " 8.500e+02 8.520e+02 8.530e+02 8.560e+02 8.580e+02 8.590e+02 8.600e+02\n",
      " 8.610e+02 8.620e+02 8.630e+02 8.660e+02 8.670e+02 8.680e+02 8.690e+02\n",
      " 8.700e+02 8.730e+02 8.750e+02 8.790e+02 8.850e+02 8.860e+02 8.870e+02\n",
      " 8.880e+02 8.890e+02 8.900e+02 8.930e+02 8.980e+02 9.030e+02 9.040e+02\n",
      " 9.060e+02 9.090e+02 9.130e+02 9.150e+02 9.160e+02 9.170e+02 9.190e+02\n",
      " 9.200e+02 9.210e+02 9.270e+02 9.290e+02 9.320e+02 9.330e+02 9.340e+02\n",
      " 9.360e+02 9.370e+02 9.380e+02 9.410e+02 9.420e+02 9.430e+02 9.450e+02\n",
      " 9.510e+02 9.520e+02 9.560e+02 9.610e+02 9.630e+02 9.650e+02 9.660e+02\n",
      " 9.670e+02 9.680e+02 9.690e+02 9.730e+02 9.740e+02 9.790e+02 9.800e+02\n",
      " 9.810e+02 9.850e+02 9.930e+02 9.970e+02 1.007e+03 1.008e+03 1.011e+03\n",
      " 1.021e+03 1.022e+03 1.028e+03 1.040e+03 1.041e+03 1.049e+03 1.053e+03\n",
      " 1.057e+03 1.061e+03 1.064e+03 1.065e+03 1.069e+03 1.073e+03 1.074e+03\n",
      " 1.077e+03 1.079e+03 1.086e+03 1.094e+03 1.097e+03 1.098e+03 1.103e+03\n",
      " 1.114e+03 1.120e+03 1.133e+03 1.145e+03 1.148e+03 1.150e+03 1.167e+03\n",
      " 1.181e+03 1.186e+03 1.188e+03 1.190e+03 1.191e+03 1.199e+03 1.200e+03\n",
      " 1.205e+03 1.211e+03 1.213e+03 1.215e+03 1.228e+03 1.248e+03 1.256e+03\n",
      " 1.262e+03 1.264e+03 1.270e+03 1.272e+03 1.299e+03 1.304e+03 1.312e+03\n",
      " 1.326e+03 1.329e+03 1.342e+03 1.354e+03 1.361e+03 1.362e+03 1.364e+03\n",
      " 1.400e+03 1.416e+03 1.423e+03 1.424e+03 1.443e+03 1.477e+03 1.481e+03\n",
      " 1.496e+03 1.499e+03 1.501e+03 1.510e+03 1.514e+03 1.562e+03 1.564e+03\n",
      " 1.568e+03 1.586e+03 1.596e+03 1.620e+03 1.648e+03 1.657e+03 1.722e+03\n",
      " 1.731e+03 1.756e+03 1.767e+03 1.790e+03 1.798e+03 1.802e+03 1.809e+03\n",
      " 1.887e+03 1.909e+03 1.942e+03 1.951e+03 2.009e+03 2.026e+03 2.066e+03\n",
      " 2.102e+03 2.131e+03 2.137e+03 2.209e+03 2.218e+03 2.245e+03 2.276e+03\n",
      " 2.295e+03 2.348e+03 2.409e+03 2.416e+03 2.427e+03 2.467e+03 2.489e+03\n",
      " 2.532e+03 2.555e+03 2.633e+03 2.665e+03 2.711e+03 2.747e+03 2.768e+03\n",
      " 2.847e+03 2.880e+03 2.888e+03 2.905e+03 2.984e+03 3.013e+03 3.064e+03\n",
      " 3.190e+03       nan]\n",
      "Дробная часть НЕ всех значений равна нулю\n"
     ]
    }
   ],
   "source": [
    "num_quick_view(flats['parks_nearest'])"
   ]
  },
  {
   "cell_type": "markdown",
   "metadata": {},
   "source": [
    "Пропущенные значения заменим на 0. Значения столбца преобразуем аналогично п.2.3.16"
   ]
  },
  {
   "cell_type": "code",
   "execution_count": 66,
   "metadata": {},
   "outputs": [
    {
     "data": {
      "text/plain": [
       "0        482\n",
       "1         -1\n",
       "2         90\n",
       "3         84\n",
       "4        112\n",
       "        ... \n",
       "23694    796\n",
       "23695     -1\n",
       "23696     -1\n",
       "23697    173\n",
       "23698     -1\n",
       "Name: parks_nearest, Length: 23553, dtype: int32"
      ]
     },
     "execution_count": 66,
     "metadata": {},
     "output_type": "execute_result"
    }
   ],
   "source": [
    "flats['parks_nearest'] = flats['parks_nearest'].fillna(0)\n",
    "flats['parks_nearest'] = flats['parks_nearest'].astype(int)\n",
    "flats.loc[flats['parks_nearest'] == 0, 'parks_nearest'] = NONE\n",
    "flats['parks_nearest']"
   ]
  },
  {
   "cell_type": "markdown",
   "metadata": {},
   "source": [
    "### 2.3.20 Столбец *ponds_around_3000*"
   ]
  },
  {
   "cell_type": "code",
   "execution_count": 67,
   "metadata": {},
   "outputs": [
    {
     "name": "stdout",
     "output_type": "stream",
     "text": [
      "[ 0.  1.  2.  3. nan]\n",
      "Дробная часть НЕ всех значений равна нулю\n"
     ]
    }
   ],
   "source": [
    "num_quick_view(flats['ponds_around_3000'])"
   ]
  },
  {
   "cell_type": "code",
   "execution_count": 68,
   "metadata": {},
   "outputs": [
    {
     "name": "stdout",
     "output_type": "stream",
     "text": [
      "count: 5480\n",
      "percent: 23.26667515815395\n"
     ]
    }
   ],
   "source": [
    "null_counts_percent(flats['ponds_around_3000'])"
   ]
  },
  {
   "cell_type": "markdown",
   "metadata": {},
   "source": [
    "Пропущенные значения заменим на 0, поскольку отсутствие количества водоёмов будем воспринимать, как их нулевое количество. Кстати, количество водоёмов равно количеству парков в представленном наборе данных, что вполне логично. Значения столбца преобразуем к типу *int64*"
   ]
  },
  {
   "cell_type": "code",
   "execution_count": 69,
   "metadata": {},
   "outputs": [
    {
     "name": "stdout",
     "output_type": "stream",
     "text": [
      "[0 1 2 3]\n"
     ]
    }
   ],
   "source": [
    "flats['ponds_around_3000'] = flats['ponds_around_3000'].fillna(0)\n",
    "flats['ponds_around_3000'] = flats['ponds_around_3000'].astype(int)\n",
    "num_quick_view(flats['ponds_around_3000'])"
   ]
  },
  {
   "cell_type": "markdown",
   "metadata": {},
   "source": [
    "### 2.3.21 Столбец *ponds_nearest*"
   ]
  },
  {
   "cell_type": "code",
   "execution_count": 70,
   "metadata": {},
   "outputs": [
    {
     "name": "stdout",
     "output_type": "stream",
     "text": [
      "[  13.   16.   19. ... 1341. 1344.   nan]\n",
      "Дробная часть НЕ всех значений равна нулю\n"
     ]
    }
   ],
   "source": [
    "num_quick_view(flats['ponds_nearest'])"
   ]
  },
  {
   "cell_type": "markdown",
   "metadata": {},
   "source": [
    "Пропущенные значения заменим на 0. Значения столбца преобразуем аналогично п.2.3.16"
   ]
  },
  {
   "cell_type": "code",
   "execution_count": 71,
   "metadata": {},
   "outputs": [
    {
     "data": {
      "text/plain": [
       "0        755\n",
       "1         -1\n",
       "2        574\n",
       "3        234\n",
       "4         48\n",
       "        ... \n",
       "23694    381\n",
       "23695     -1\n",
       "23696     -1\n",
       "23697    196\n",
       "23698     -1\n",
       "Name: ponds_nearest, Length: 23553, dtype: int32"
      ]
     },
     "execution_count": 71,
     "metadata": {},
     "output_type": "execute_result"
    }
   ],
   "source": [
    "flats['ponds_nearest'] = flats['ponds_nearest'].fillna(0)\n",
    "flats['ponds_nearest'] = flats['ponds_nearest'].astype(int)\n",
    "flats.loc[flats['ponds_nearest'] == 0, 'ponds_nearest'] = NONE\n",
    "flats['ponds_nearest']"
   ]
  },
  {
   "cell_type": "markdown",
   "metadata": {},
   "source": [
    "### 2.3.22 Столбец *days_exposition*"
   ]
  },
  {
   "cell_type": "code",
   "execution_count": 72,
   "metadata": {},
   "outputs": [
    {
     "name": "stdout",
     "output_type": "stream",
     "text": [
      "[1.000e+00 2.000e+00 3.000e+00 ... 1.572e+03 1.580e+03       nan]\n",
      "Дробная часть НЕ всех значений равна нулю\n"
     ]
    }
   ],
   "source": [
    "num_quick_view(flats['days_exposition'])"
   ]
  },
  {
   "cell_type": "code",
   "execution_count": 73,
   "metadata": {},
   "outputs": [
    {
     "name": "stdout",
     "output_type": "stream",
     "text": [
      "count: 3172\n",
      "percent: 13.4674988324205\n"
     ]
    }
   ],
   "source": [
    "null_counts_percent(flats['days_exposition'])"
   ]
  },
  {
   "cell_type": "markdown",
   "metadata": {},
   "source": [
    "Процент пропущенных значений ощутимо высок. Пропуски заменим на медианные значения соответствующих групп по цене квартиры (по категориям столбца *last_price*), поскольку цена является комплексной характеристикой спроса на квартиру, которая определяет средний срок актуальности объявления. Для этого добавим в набор данных столбец *last_price_grp*, в котором укажем группу квартиры по цене. Выделим 10 групп квартир по цене, граничные значения цен выберем по квантилям данных. Значения столбца преобразуем к типу *int64*"
   ]
  },
  {
   "cell_type": "code",
   "execution_count": 74,
   "metadata": {},
   "outputs": [
    {
     "data": {
      "text/plain": [
       "array([10,  3,  6,  9,  2,  4,  7,  5,  8,  1], dtype=int64)"
      ]
     },
     "execution_count": 74,
     "metadata": {},
     "output_type": "execute_result"
    }
   ],
   "source": [
    "gr_1 = flats['last_price'].quantile(0.1)\n",
    "gr_2 = flats['last_price'].quantile(0.2)\n",
    "gr_3 = flats['last_price'].quantile(0.3)\n",
    "gr_4 = flats['last_price'].quantile(0.4)\n",
    "gr_5 = flats['last_price'].quantile(0.5)\n",
    "gr_6 = flats['last_price'].quantile(0.6)\n",
    "gr_7 = flats['last_price'].quantile(0.7)\n",
    "gr_8 = flats['last_price'].quantile(0.8)\n",
    "gr_9 = flats['last_price'].quantile(0.9)\n",
    "\n",
    "flats['last_price_grp'] = flats.apply(create_cat, axis=1, grp_column='last_price')\n",
    "flats['last_price_grp'].unique()"
   ]
  },
  {
   "cell_type": "code",
   "execution_count": 75,
   "metadata": {},
   "outputs": [],
   "source": [
    "last_price_grps = flats['last_price_grp'].unique()\n",
    "\n",
    "for i in last_price_grps:\n",
    "    median = flats.loc[(flats['last_price_grp'] == i) & (~flats['days_exposition'].isnull()), 'days_exposition'].median()\n",
    "    flats.loc[(flats['last_price_grp'] == i) & (flats['days_exposition'].isnull()), 'days_exposition'] = median"
   ]
  },
  {
   "cell_type": "code",
   "execution_count": 76,
   "metadata": {},
   "outputs": [
    {
     "name": "stdout",
     "output_type": "stream",
     "text": [
      "count: 0\n",
      "percent: 0.0\n"
     ]
    }
   ],
   "source": [
    "flats['days_exposition'] = flats['days_exposition'].astype(int)\n",
    "null_counts_percent(flats['days_exposition'])"
   ]
  },
  {
   "cell_type": "markdown",
   "metadata": {},
   "source": [
    "**Сброс индексов после удаления пропусков**"
   ]
  },
  {
   "cell_type": "code",
   "execution_count": 77,
   "metadata": {},
   "outputs": [],
   "source": [
    "flats.reset_index(drop=True, inplace=True)"
   ]
  },
  {
   "cell_type": "markdown",
   "metadata": {},
   "source": [
    "***Промежуточный итог***  \n",
    "  \n",
    "Первый этап подготовки данных завершён -- удалены либо заменены пропуски и явные аномальные значения.   \n",
    "  \n",
    "На текущем этапе было выполнено:\n",
    "- переименованы столбцы в *city_centers_nearest*, *parks_around_3000*, *ponds_around_3000*;\n",
    "- заменены типы данных:\n",
    " - _float64_ на _int64_ для столбцов: *last_price*, *floors_total*, *balcony*, *airports_nearest*, *city_centers_nearest*, *parks_around_3000*, *parks_nearest*, *ponds_around_3000*, *ponds_nearest*, *days_exposition*Ж\n",
    " - _str_ в _datetime_ для *first_day_exposition*;\n",
    "- удалены аномальные значения в столбцах: *rooms*, *floors_total*, *locality_name*;\n",
    "- заменены аномальные значения на референтные для столбцов: *ceiling_height*, *living_area*, *is_apartment*, *kitchen_area*, *balcony*, *airports_nearest*, *city_centers_nearest*, *parks_around_3000*, *parks_nearest*, *ponds_around_3000*, *ponds_nearest*, *days_exposition*."
   ]
  },
  {
   "cell_type": "markdown",
   "metadata": {},
   "source": [
    "# 3 Дополнение данных"
   ]
  },
  {
   "cell_type": "markdown",
   "metadata": {},
   "source": [
    "**Цена квадратного метра**"
   ]
  },
  {
   "cell_type": "code",
   "execution_count": 78,
   "metadata": {},
   "outputs": [
    {
     "name": "stdout",
     "output_type": "stream",
     "text": [
      "[1.11834862e+02 7.96296296e+03 9.61538462e+03 ... 1.54260480e+06\n",
      " 1.73684211e+06 1.90750000e+06]\n",
      "Дробная часть НЕ всех значений равна нулю\n"
     ]
    }
   ],
   "source": [
    "flats['square_meter_price'] = flats['last_price'] / flats['total_area']\n",
    "num_quick_view(flats['square_meter_price'])"
   ]
  },
  {
   "cell_type": "markdown",
   "metadata": {},
   "source": [
    "**День недели публикации объявления**"
   ]
  },
  {
   "cell_type": "code",
   "execution_count": 79,
   "metadata": {},
   "outputs": [
    {
     "data": {
      "text/plain": [
       "0         7\n",
       "1         4\n",
       "2        20\n",
       "3        24\n",
       "4        19\n",
       "         ..\n",
       "23548    21\n",
       "23549    15\n",
       "23550    11\n",
       "23551    28\n",
       "23552    21\n",
       "Name: exposition_day, Length: 23553, dtype: int64"
      ]
     },
     "execution_count": 79,
     "metadata": {},
     "output_type": "execute_result"
    }
   ],
   "source": [
    "flats['exposition_day'] = pd.DatetimeIndex(flats['first_day_exposition']).day\n",
    "flats['exposition_day']"
   ]
  },
  {
   "cell_type": "markdown",
   "metadata": {},
   "source": [
    "**Месяц публикации объявления**"
   ]
  },
  {
   "cell_type": "code",
   "execution_count": 80,
   "metadata": {},
   "outputs": [
    {
     "data": {
      "text/plain": [
       "0         3\n",
       "1        12\n",
       "2         8\n",
       "3         7\n",
       "4         6\n",
       "         ..\n",
       "23548     3\n",
       "23549     1\n",
       "23550     2\n",
       "23551     3\n",
       "23552     7\n",
       "Name: exposition_month, Length: 23553, dtype: int64"
      ]
     },
     "execution_count": 80,
     "metadata": {},
     "output_type": "execute_result"
    }
   ],
   "source": [
    "flats['exposition_month'] = pd.DatetimeIndex(flats['first_day_exposition']).month\n",
    "flats['exposition_month']"
   ]
  },
  {
   "cell_type": "markdown",
   "metadata": {},
   "source": [
    "**Год публикации объявления**"
   ]
  },
  {
   "cell_type": "code",
   "execution_count": 81,
   "metadata": {},
   "outputs": [
    {
     "data": {
      "text/plain": [
       "0        2019\n",
       "1        2018\n",
       "2        2015\n",
       "3        2015\n",
       "4        2018\n",
       "         ... \n",
       "23548    2017\n",
       "23549    2018\n",
       "23550    2018\n",
       "23551    2017\n",
       "23552    2017\n",
       "Name: exposition_year, Length: 23553, dtype: int64"
      ]
     },
     "execution_count": 81,
     "metadata": {},
     "output_type": "execute_result"
    }
   ],
   "source": [
    "flats['exposition_year'] = pd.DatetimeIndex(flats['first_day_exposition']).year\n",
    "flats['exposition_year']"
   ]
  },
  {
   "cell_type": "markdown",
   "metadata": {},
   "source": [
    "**Этаж квартиры в категориях первый, последний, другой**"
   ]
  },
  {
   "cell_type": "markdown",
   "metadata": {},
   "source": [
    "Для обеспечения возможности дальнейшей обработки категорий этажа квартиры примем следующее перечисление:\n",
    "- первый -- (-1);\n",
    "- последний -- 1;\n",
    "- другой -- 0"
   ]
  },
  {
   "cell_type": "code",
   "execution_count": 82,
   "metadata": {},
   "outputs": [],
   "source": [
    "def flat_floor_cat(row):\n",
    "    floor = row['floor']\n",
    "    floor_total = row['floors_total']\n",
    "    \n",
    "    if floor == 1: return -1\n",
    "    if floor == floor_total: return 1\n",
    "    return 0"
   ]
  },
  {
   "cell_type": "code",
   "execution_count": 83,
   "metadata": {},
   "outputs": [
    {
     "data": {
      "text/plain": [
       "array([ 0, -1,  1], dtype=int64)"
      ]
     },
     "execution_count": 83,
     "metadata": {},
     "output_type": "execute_result"
    }
   ],
   "source": [
    "flats['flat_floor'] = flats.apply(flat_floor_cat, axis=1)\n",
    "flats['flat_floor'].unique()"
   ]
  },
  {
   "cell_type": "markdown",
   "metadata": {},
   "source": [
    "**Cоотношение жилой и общей площади**"
   ]
  },
  {
   "cell_type": "code",
   "execution_count": 84,
   "metadata": {},
   "outputs": [
    {
     "name": "stdout",
     "output_type": "stream",
     "text": [
      "[0.02158273 0.03846154 0.06958763 ... 1.13333333 1.28787879 1.30769231]\n",
      "Дробная часть НЕ всех значений равна нулю\n"
     ]
    }
   ],
   "source": [
    "flats['living_total_areas_relation'] = flats['living_area'] / flats['total_area']\n",
    "num_quick_view(flats['living_total_areas_relation'])"
   ]
  },
  {
   "cell_type": "markdown",
   "metadata": {},
   "source": [
    "Жилая площадь не может быть больше общей, т.е полученные соотношения не могут быть больше единицы. При этом очень малое соотношение (2, 3%) также является аномальным значением. Значения столбца требуют дальнейшей обработки"
   ]
  },
  {
   "cell_type": "markdown",
   "metadata": {},
   "source": [
    "**Cоотношение площади кухни и общей площади**"
   ]
  },
  {
   "cell_type": "code",
   "execution_count": 85,
   "metadata": {},
   "outputs": [
    {
     "name": "stdout",
     "output_type": "stream",
     "text": [
      "[0.02538071 0.02615063 0.02923977 ... 0.72463768 0.7398374  0.78787879]\n",
      "Дробная часть НЕ всех значений равна нулю\n"
     ]
    }
   ],
   "source": [
    "flats['kitchen_total_areas_relation'] = flats['kitchen_area'] / flats['total_area']\n",
    "num_quick_view(flats['kitchen_total_areas_relation'])"
   ]
  },
  {
   "cell_type": "markdown",
   "metadata": {},
   "source": [
    "Кухня размером в 3/4 квартиры? Почему бы нет для ячеечной квартиры."
   ]
  },
  {
   "cell_type": "markdown",
   "metadata": {},
   "source": [
    "***Промежуточный итог***  \n",
    "  \n",
    "В DataFrame добавленны данные, которые позволят провести более точный и удобный анализ, точнее ответить на поставленные вопросы."
   ]
  },
  {
   "cell_type": "markdown",
   "metadata": {},
   "source": [
    "# 4  Исследовательский анализ данных"
   ]
  },
  {
   "cell_type": "markdown",
   "metadata": {},
   "source": [
    "**Изучить следующие параметры: площадь, цена, число комнат, высота потолков; построить гистограммы для каждого параметра**\n"
   ]
  },
  {
   "cell_type": "markdown",
   "metadata": {},
   "source": [
    "**Площадь квартиры**"
   ]
  },
  {
   "cell_type": "code",
   "execution_count": 86,
   "metadata": {},
   "outputs": [],
   "source": [
    "import matplotlib.pyplot as plt\n",
    "from matplotlib.gridspec import GridSpec"
   ]
  },
  {
   "cell_type": "code",
   "execution_count": 87,
   "metadata": {},
   "outputs": [
    {
     "data": {
      "image/png": "[encoded data removed]",
      "text/plain": [
       "<Figure size 1080x360 with 1 Axes>"
      ]
     },
     "metadata": {
      "needs_background": "light"
     },
     "output_type": "display_data"
    }
   ],
   "source": [
    "hists(flats['total_area'], 0, bins=100, )"
   ]
  },
  {
   "cell_type": "code",
   "execution_count": 88,
   "metadata": {},
   "outputs": [
    {
     "data": {
      "image/png": "[encoded data removed]",
      "text/plain": [
       "<Figure size 1080x360 with 2 Axes>"
      ]
     },
     "metadata": {
      "needs_background": "light"
     },
     "output_type": "display_data"
    }
   ],
   "source": [
    "rare_out_plot(flats['total_area'])"
   ]
  },
  {
   "cell_type": "code",
   "execution_count": 89,
   "metadata": {},
   "outputs": [
    {
     "data": {
      "text/plain": [
       "count    23553.000000\n",
       "mean        60.408173\n",
       "std         35.596579\n",
       "min         12.000000\n",
       "25%         40.000000\n",
       "50%         52.000000\n",
       "75%         70.000000\n",
       "max        900.000000\n",
       "Name: total_area, dtype: float64"
      ]
     },
     "execution_count": 89,
     "metadata": {},
     "output_type": "execute_result"
    }
   ],
   "source": [
    "flats['total_area'].describe()"
   ]
  },
  {
   "cell_type": "code",
   "execution_count": 90,
   "metadata": {},
   "outputs": [
    {
     "data": {
      "text/plain": [
       "197.0959999999999"
      ]
     },
     "execution_count": 90,
     "metadata": {},
     "output_type": "execute_result"
    }
   ],
   "source": [
    "flats['total_area'].quantile(0.99)"
   ]
  },
  {
   "cell_type": "markdown",
   "metadata": {},
   "source": [
    "Квартиры с площадью выше 200 м2 составляют 1% от общего их числа. Поэтому могут быть удалены из рассмотрения на текущем этапе, как непредставительные"
   ]
  },
  {
   "cell_type": "code",
   "execution_count": 91,
   "metadata": {},
   "outputs": [
    {
     "data": {
      "image/png": "[encoded data removed]",
      "text/plain": [
       "<Figure size 1080x360 with 2 Axes>"
      ]
     },
     "metadata": {
      "needs_background": "light"
     },
     "output_type": "display_data"
    }
   ],
   "source": [
    "hists(flats['total_area'], 1, 50, [(0, 200)])"
   ]
  },
  {
   "cell_type": "code",
   "execution_count": 92,
   "metadata": {},
   "outputs": [
    {
     "data": {
      "text/plain": [
       "125.0"
      ]
     },
     "execution_count": 92,
     "metadata": {},
     "output_type": "execute_result"
    }
   ],
   "source": [
    "flats['total_area'].quantile(0.96)"
   ]
  },
  {
   "cell_type": "markdown",
   "metadata": {},
   "source": [
    "***Промежуточный итог***  \n",
    "  \n",
    "С первого взгляда видно, что имеются аномальные забросы площадей в 4-ой четверти данных. При этом аномальное количесвто площадей укладывается в 4% от общего числа. Данные значения могут быть впоследствии удалены"
   ]
  },
  {
   "cell_type": "markdown",
   "metadata": {},
   "source": [
    "**Цена квартиры**"
   ]
  },
  {
   "cell_type": "code",
   "execution_count": 93,
   "metadata": {},
   "outputs": [
    {
     "data": {
      "image/png": "[encoded data removed]",
      "text/plain": [
       "<Figure size 1080x360 with 1 Axes>"
      ]
     },
     "metadata": {
      "needs_background": "light"
     },
     "output_type": "display_data"
    }
   ],
   "source": [
    "hists(flats['last_price'], 0, bins=100)"
   ]
  },
  {
   "cell_type": "code",
   "execution_count": 94,
   "metadata": {},
   "outputs": [
    {
     "data": {
      "image/png": "[encoded data removed]",
      "text/plain": [
       "<Figure size 1080x360 with 2 Axes>"
      ]
     },
     "metadata": {
      "needs_background": "light"
     },
     "output_type": "display_data"
    }
   ],
   "source": [
    "rare_out_plot(flats['last_price'])"
   ]
  },
  {
   "cell_type": "code",
   "execution_count": 95,
   "metadata": {},
   "outputs": [
    {
     "data": {
      "text/plain": [
       "count    2.355300e+04\n",
       "mean     6.547000e+06\n",
       "std      1.090582e+07\n",
       "min      1.219000e+04\n",
       "25%      3.440000e+06\n",
       "50%      4.650000e+06\n",
       "75%      6.800000e+06\n",
       "max      7.630000e+08\n",
       "Name: last_price, dtype: float64"
      ]
     },
     "execution_count": 95,
     "metadata": {},
     "output_type": "execute_result"
    }
   ],
   "source": [
    "flats['last_price'].describe()"
   ]
  },
  {
   "cell_type": "code",
   "execution_count": 96,
   "metadata": {},
   "outputs": [
    {
     "data": {
      "text/plain": [
       "36000000.0"
      ]
     },
     "execution_count": 96,
     "metadata": {},
     "output_type": "execute_result"
    }
   ],
   "source": [
    "flats['last_price'].quantile(0.99)"
   ]
  },
  {
   "cell_type": "markdown",
   "metadata": {},
   "source": [
    "Квартиры стоимостью выше 36 млн составляют 1% от общего их числа. Поэтому могут быть удалены из рассмотрения на текущем этапе, как непредставительные"
   ]
  },
  {
   "cell_type": "code",
   "execution_count": 97,
   "metadata": {},
   "outputs": [
    {
     "data": {
      "image/png": "[encoded data removed]",
      "text/plain": [
       "<Figure size 1080x360 with 2 Axes>"
      ]
     },
     "metadata": {
      "needs_background": "light"
     },
     "output_type": "display_data"
    }
   ],
   "source": [
    "hists(flats['last_price'], 1, 360, [(0, 36000000)])"
   ]
  },
  {
   "cell_type": "markdown",
   "metadata": {},
   "source": [
    "***Промежуточный итог***  \n",
    "  \n",
    "Цена квартиры 763 000 000 аномально высока. Отбросив 1% максимальных цен данные стали более показательными. На следующих этапах обработки данных исследование в этом направлении следует продолжить"
   ]
  },
  {
   "cell_type": "markdown",
   "metadata": {},
   "source": [
    "**Число комнат**"
   ]
  },
  {
   "cell_type": "code",
   "execution_count": 98,
   "metadata": {},
   "outputs": [
    {
     "data": {
      "image/png": "[encoded data removed]",
      "text/plain": [
       "<Figure size 1080x360 with 1 Axes>"
      ]
     },
     "metadata": {
      "needs_background": "light"
     },
     "output_type": "display_data"
    }
   ],
   "source": [
    "hists(flats['rooms'], 0)"
   ]
  },
  {
   "cell_type": "code",
   "execution_count": 99,
   "metadata": {},
   "outputs": [
    {
     "data": {
      "text/plain": [
       "count    23553.000000\n",
       "mean         2.076296\n",
       "std          1.074736\n",
       "min          0.000000\n",
       "25%          1.000000\n",
       "50%          2.000000\n",
       "75%          3.000000\n",
       "max         19.000000\n",
       "Name: rooms, dtype: float64"
      ]
     },
     "execution_count": 99,
     "metadata": {},
     "output_type": "execute_result"
    }
   ],
   "source": [
    "flats['rooms'].describe()"
   ]
  },
  {
   "cell_type": "code",
   "execution_count": 100,
   "metadata": {},
   "outputs": [
    {
     "data": {
      "text/plain": [
       "8.0"
      ]
     },
     "execution_count": 100,
     "metadata": {},
     "output_type": "execute_result"
    }
   ],
   "source": [
    "flats['rooms'].quantile(0.999)"
   ]
  },
  {
   "cell_type": "markdown",
   "metadata": {},
   "source": [
    "Квартиры количеством комнат выше 8 составляют 0,1% от общего их числа. Поэтому могут быть удалены из рассмотрения на текущем этапе, как непредставительные"
   ]
  },
  {
   "cell_type": "code",
   "execution_count": 101,
   "metadata": {},
   "outputs": [
    {
     "data": {
      "image/png": "[encoded data removed]",
      "text/plain": [
       "<Figure size 1080x360 with 2 Axes>"
      ]
     },
     "metadata": {
      "needs_background": "light"
     },
     "output_type": "display_data"
    }
   ],
   "source": [
    "hists(flats['rooms'], 1, bins=8, ranges=[(0, 8)])"
   ]
  },
  {
   "cell_type": "markdown",
   "metadata": {},
   "source": [
    "***Промежуточный итог***  \n",
    "  \n",
    "Ограничив рассмотрение количества комнат восмью стало наглядно видно, что основная масса кварир имеет от 2 до 4-х комнат, что соответствует ожидаемому результату."
   ]
  },
  {
   "cell_type": "markdown",
   "metadata": {},
   "source": [
    "**Высота потолков**"
   ]
  },
  {
   "cell_type": "code",
   "execution_count": 102,
   "metadata": {},
   "outputs": [
    {
     "data": {
      "image/png": "[encoded data removed]",
      "text/plain": [
       "<Figure size 1080x360 with 1 Axes>"
      ]
     },
     "metadata": {
      "needs_background": "light"
     },
     "output_type": "display_data"
    }
   ],
   "source": [
    "hists(flats['ceiling_height'], 0)"
   ]
  },
  {
   "cell_type": "code",
   "execution_count": 103,
   "metadata": {},
   "outputs": [
    {
     "data": {
      "image/png": "[encoded data removed]",
      "text/plain": [
       "<Figure size 1080x360 with 2 Axes>"
      ]
     },
     "metadata": {
      "needs_background": "light"
     },
     "output_type": "display_data"
    }
   ],
   "source": [
    "rare_out_plot(flats['ceiling_height'])"
   ]
  },
  {
   "cell_type": "code",
   "execution_count": 104,
   "metadata": {},
   "outputs": [
    {
     "data": {
      "text/plain": [
       "count    23553.000000\n",
       "mean         2.734908\n",
       "std          0.984700\n",
       "min          1.000000\n",
       "25%          2.550000\n",
       "50%          2.650000\n",
       "75%          2.750000\n",
       "max        100.000000\n",
       "Name: ceiling_height, dtype: float64"
      ]
     },
     "execution_count": 104,
     "metadata": {},
     "output_type": "execute_result"
    }
   ],
   "source": [
    "flats['ceiling_height'].describe()"
   ]
  },
  {
   "cell_type": "code",
   "execution_count": 105,
   "metadata": {},
   "outputs": [
    {
     "data": {
      "text/plain": [
       "2.5"
      ]
     },
     "execution_count": 105,
     "metadata": {},
     "output_type": "execute_result"
    }
   ],
   "source": [
    "flats['ceiling_height'].quantile(0.01)"
   ]
  },
  {
   "cell_type": "code",
   "execution_count": 106,
   "metadata": {},
   "outputs": [
    {
     "data": {
      "text/plain": [
       "3.6"
      ]
     },
     "execution_count": 106,
     "metadata": {},
     "output_type": "execute_result"
    }
   ],
   "source": [
    "flats['ceiling_height'].quantile(0.99)"
   ]
  },
  {
   "cell_type": "markdown",
   "metadata": {},
   "source": [
    "Высота птолков ниже 2,.5 м и выше 3.6 м в сумме составляют 2% от общего их числа. Поэтому могут быть удалены из рассмотрения на текущем этапе, как непредставительные"
   ]
  },
  {
   "cell_type": "code",
   "execution_count": 107,
   "metadata": {},
   "outputs": [
    {
     "data": {
      "image/png": "[encoded data removed]",
      "text/plain": [
       "<Figure size 1080x360 with 2 Axes>"
      ]
     },
     "metadata": {
      "needs_background": "light"
     },
     "output_type": "display_data"
    }
   ],
   "source": [
    "hists(flats['ceiling_height'], 1, bins=10, ranges=[(2.5, 3.6)])"
   ]
  },
  {
   "cell_type": "markdown",
   "metadata": {},
   "source": [
    "***Промежуточный итог***  \n",
    "  \n",
    "Ограничив рассмотрение высоты потолков от 2.5 до 3.6 м стало наглядно видно, что основная масса кварир имеет потолки от 2.6 м до 2.8 м, что соответствует ожидаемому результату."
   ]
  },
  {
   "cell_type": "markdown",
   "metadata": {},
   "source": [
    "**Изучить время продажи квартиры; построить гистограмму; посчитать среднее и медиану; выяснить, сколько времени обычно занимает продажа; определить когда можно считать, что продажи прошли очень быстро, а когда необычно долго**"
   ]
  },
  {
   "cell_type": "code",
   "execution_count": 108,
   "metadata": {},
   "outputs": [
    {
     "data": {
      "image/png": "[encoded data removed]",
      "text/plain": [
       "<Figure size 1080x360 with 1 Axes>"
      ]
     },
     "metadata": {
      "needs_background": "light"
     },
     "output_type": "display_data"
    }
   ],
   "source": [
    "hists(flats['days_exposition'], 0, bins=100)"
   ]
  },
  {
   "cell_type": "code",
   "execution_count": 109,
   "metadata": {},
   "outputs": [
    {
     "data": {
      "text/plain": [
       "count    23553.000000\n",
       "mean       171.231138\n",
       "std        206.337261\n",
       "min          1.000000\n",
       "25%         45.000000\n",
       "50%         94.000000\n",
       "75%        199.000000\n",
       "max       1580.000000\n",
       "Name: days_exposition, dtype: float64"
      ]
     },
     "execution_count": 109,
     "metadata": {},
     "output_type": "execute_result"
    }
   ],
   "source": [
    "flats['days_exposition'].describe()"
   ]
  },
  {
   "cell_type": "code",
   "execution_count": 110,
   "metadata": {},
   "outputs": [
    {
     "data": {
      "text/plain": [
       "94.0"
      ]
     },
     "execution_count": 110,
     "metadata": {},
     "output_type": "execute_result"
    }
   ],
   "source": [
    "flats['days_exposition'].median()"
   ]
  },
  {
   "cell_type": "markdown",
   "metadata": {},
   "source": [
    "***Промежуточный итог***\n",
    "\n",
    "Среднее: 171.231138.  \n",
    "Медиана: 94  \n",
    "  \n",
    "Обычно, в среднем, продажа квартиры занимет 3 месяца. Если продажа квартиры длилась менее 45 дней -- продажа прошла очень быстро. Если продажа квартиры длилась более 200 дней -- продажа прошла необычайно долго."
   ]
  },
  {
   "cell_type": "markdown",
   "metadata": {},
   "source": [
    "**Убрать редкие и выбивающиеся значения**"
   ]
  },
  {
   "cell_type": "markdown",
   "metadata": {},
   "source": [
    "*_Редкими_* будем считать значения, суммарное процентное вхождение которых в набор данных не превышает некоторого значения (по умолчанию -- 1%).  \n",
    "*_Выбивающимися_*, в общем случае, будем считать значения, попадающие в группу по некторому квантилю (по умолчанию -- 0.99, в некоторых случаях -- 0.999), т.е максимальные значения, сумма процентов вхождений в набор данных которых равна некоторому значению (по умолчанию -- 1%). "
   ]
  },
  {
   "cell_type": "code",
   "execution_count": 111,
   "metadata": {},
   "outputs": [],
   "source": [
    "# Размеры набора данных до очистки от редких и выбивающихся значений\n",
    "df_dim_before = flats.shape"
   ]
  },
  {
   "cell_type": "markdown",
   "metadata": {},
   "source": [
    "**Столбец _total_images_**"
   ]
  },
  {
   "cell_type": "code",
   "execution_count": 112,
   "metadata": {},
   "outputs": [
    {
     "data": {
      "text/plain": [
       "count    23553.000000\n",
       "mean         9.880695\n",
       "std          5.680817\n",
       "min          0.000000\n",
       "25%          6.000000\n",
       "50%          9.000000\n",
       "75%         14.000000\n",
       "max         50.000000\n",
       "Name: total_images, dtype: float64"
      ]
     },
     "execution_count": 112,
     "metadata": {},
     "output_type": "execute_result"
    }
   ],
   "source": [
    "flats['total_images'].describe()"
   ]
  },
  {
   "cell_type": "markdown",
   "metadata": {},
   "source": [
    "Выбивающихся значений нет"
   ]
  },
  {
   "cell_type": "code",
   "execution_count": 113,
   "metadata": {
    "scrolled": true
   },
   "outputs": [
    {
     "name": "stdout",
     "output_type": "stream",
     "text": [
      "    count   percent\n",
      "10   1781  7.561669\n",
      "9    1718  7.294188\n",
      "20   1693  7.188044\n",
      "8    1580  6.708275\n",
      "7    1512  6.419564\n",
      "6    1478  6.275209\n",
      "11   1360  5.774211\n",
      "5    1277  5.421815\n",
      "12   1222  5.188299\n",
      "0    1044  4.432556\n",
      "13   1011  4.292447\n",
      "14    984  4.177812\n",
      "4     966  4.101388\n",
      "15    946  4.016473\n",
      "1     859  3.647094\n",
      "3     761  3.231011\n",
      "16    759  3.222519\n",
      "17    649  2.755488\n",
      "18    640  2.717276\n",
      "2     637  2.704539\n",
      "19    602  2.555938\n",
      "23     16  0.067932\n",
      "21     11  0.046703\n",
      "24      8  0.033966\n",
      "22      8  0.033966\n",
      "26      5  0.021229\n",
      "28      4  0.016983\n",
      "32      4  0.016983\n",
      "50      3  0.012737\n",
      "29      3  0.012737\n",
      "31      2  0.008491\n",
      "35      2  0.008491\n",
      "30      2  0.008491\n",
      "27      2  0.008491\n",
      "37      1  0.004246\n",
      "39      1  0.004246\n",
      "25      1  0.004246\n",
      "42      1  0.004246\n"
     ]
    }
   ],
   "source": [
    "value_counts_percent(flats['total_images'])"
   ]
  },
  {
   "cell_type": "code",
   "execution_count": 114,
   "metadata": {},
   "outputs": [
    {
     "name": "stdout",
     "output_type": "stream",
     "text": [
      "    count   percent\n",
      "10   1781  7.561669\n",
      "9    1718  7.294188\n",
      "20   1693  7.188044\n",
      "8    1580  6.708275\n",
      "7    1512  6.419564\n",
      "6    1478  6.275209\n",
      "11   1360  5.774211\n",
      "5    1277  5.421815\n",
      "12   1222  5.188299\n",
      "0    1044  4.432556\n",
      "13   1011  4.292447\n",
      "14    984  4.177812\n",
      "4     966  4.101388\n",
      "15    946  4.016473\n",
      "1     859  3.647094\n",
      "3     761  3.231011\n",
      "16    759  3.222519\n",
      "17    649  2.755488\n",
      "18    640  2.717276\n",
      "2     637  2.704539\n",
      "19    602  2.555938\n"
     ]
    }
   ],
   "source": [
    "cut_value_counts_percent(flats['total_images'], 1)"
   ]
  },
  {
   "cell_type": "markdown",
   "metadata": {},
   "source": [
    "Редкие значения укладываются в 1% всех значений столбца. Удалим их"
   ]
  },
  {
   "cell_type": "code",
   "execution_count": 115,
   "metadata": {},
   "outputs": [
    {
     "data": {
      "text/plain": [
       "[9.0, 9.0]"
      ]
     },
     "execution_count": 115,
     "metadata": {},
     "output_type": "execute_result"
    }
   ],
   "source": [
    "drop_rare_out_values(flats['total_images'], quantile=NONE)"
   ]
  },
  {
   "cell_type": "markdown",
   "metadata": {},
   "source": [
    "**Столбец _last_price_**"
   ]
  },
  {
   "cell_type": "code",
   "execution_count": 116,
   "metadata": {},
   "outputs": [
    {
     "data": {
      "text/plain": [
       "count    2.347900e+04\n",
       "mean     6.536433e+06\n",
       "std      1.091319e+07\n",
       "min      1.219000e+04\n",
       "25%      3.429000e+06\n",
       "50%      4.650000e+06\n",
       "75%      6.775000e+06\n",
       "max      7.630000e+08\n",
       "Name: last_price, dtype: float64"
      ]
     },
     "execution_count": 116,
     "metadata": {},
     "output_type": "execute_result"
    }
   ],
   "source": [
    "flats['last_price'].describe()"
   ]
  },
  {
   "cell_type": "code",
   "execution_count": 117,
   "metadata": {},
   "outputs": [
    {
     "data": {
      "text/plain": [
       "20000000.0"
      ]
     },
     "execution_count": 117,
     "metadata": {},
     "output_type": "execute_result"
    }
   ],
   "source": [
    "flats['last_price'].quantile(0.97)"
   ]
  },
  {
   "cell_type": "markdown",
   "metadata": {},
   "source": [
    "Поскольку мы исследуем массовый рынок по продаже квартир, будем считать выбивающимися значениями цены квартир более 20 млн. Удалим из набора эти квартиры"
   ]
  },
  {
   "cell_type": "code",
   "execution_count": 118,
   "metadata": {},
   "outputs": [
    {
     "data": {
      "text/plain": [
       "[4650000.0, 4650000.0]"
      ]
     },
     "execution_count": 118,
     "metadata": {},
     "output_type": "execute_result"
    }
   ],
   "source": [
    "drop_rare_out_values(flats['last_price'], quantile=0.97, cut_percent=NONE)"
   ]
  },
  {
   "cell_type": "code",
   "execution_count": 119,
   "metadata": {},
   "outputs": [
    {
     "name": "stdout",
     "output_type": "stream",
     "text": [
      "          count   percent\n",
      "4500000     340  1.493455\n",
      "3500000     290  1.273829\n",
      "4300000     260  1.142054\n",
      "4000000     260  1.142054\n",
      "4200000     259  1.137661\n",
      "...         ...       ...\n",
      "3935000       1  0.004393\n",
      "4148000       1  0.004393\n",
      "9735000       1  0.004393\n",
      "2182000       1  0.004393\n",
      "12288000      1  0.004393\n",
      "\n",
      "[2558 rows x 2 columns]\n"
     ]
    }
   ],
   "source": [
    "value_counts_percent(flats['last_price'])"
   ]
  },
  {
   "cell_type": "markdown",
   "metadata": {},
   "source": [
    "Разброс цен очень широкий, поэтому выбрать редкие значения не предоставляется возможным"
   ]
  },
  {
   "cell_type": "markdown",
   "metadata": {},
   "source": [
    "**Столбец _total_area_**"
   ]
  },
  {
   "cell_type": "code",
   "execution_count": 120,
   "metadata": {},
   "outputs": [
    {
     "data": {
      "text/plain": [
       "count    22766.000000\n",
       "mean        56.695058\n",
       "std         24.557723\n",
       "min         12.000000\n",
       "25%         40.000000\n",
       "50%         51.000000\n",
       "75%         67.000000\n",
       "max        320.000000\n",
       "Name: total_area, dtype: float64"
      ]
     },
     "execution_count": 120,
     "metadata": {},
     "output_type": "execute_result"
    }
   ],
   "source": [
    "flats['total_area'].describe()"
   ]
  },
  {
   "cell_type": "code",
   "execution_count": 121,
   "metadata": {},
   "outputs": [
    {
     "data": {
      "text/plain": [
       "132.0"
      ]
     },
     "execution_count": 121,
     "metadata": {},
     "output_type": "execute_result"
    }
   ],
   "source": [
    "flats['total_area'].quantile(0.985)"
   ]
  },
  {
   "cell_type": "markdown",
   "metadata": {},
   "source": [
    "Квартиры в новостройках зачастую имеют площадь более 120 кв.м. Поэтому будем считать выбивающимися значения квантиля 0.985 (1,5% от общего числа квартир). Удалим из набора эти квартиры"
   ]
  },
  {
   "cell_type": "code",
   "execution_count": 122,
   "metadata": {},
   "outputs": [
    {
     "data": {
      "text/plain": [
       "[51.0, 51.0]"
      ]
     },
     "execution_count": 122,
     "metadata": {},
     "output_type": "execute_result"
    }
   ],
   "source": [
    "drop_rare_out_values(flats['total_area'], quantile=0.985, cut_percent=NONE)"
   ]
  },
  {
   "cell_type": "code",
   "execution_count": 123,
   "metadata": {},
   "outputs": [
    {
     "name": "stdout",
     "output_type": "stream",
     "text": [
      "       count   percent\n",
      "45.00    418  1.864324\n",
      "42.00    383  1.708220\n",
      "60.00    347  1.547656\n",
      "31.00    345  1.538736\n",
      "44.00    344  1.534276\n",
      "...      ...       ...\n",
      "26.05      1  0.004460\n",
      "59.45      1  0.004460\n",
      "58.54      1  0.004460\n",
      "92.90      1  0.004460\n",
      "78.96      1  0.004460\n",
      "\n",
      "[1716 rows x 2 columns]\n"
     ]
    }
   ],
   "source": [
    "value_counts_percent(flats['total_area'])"
   ]
  },
  {
   "cell_type": "markdown",
   "metadata": {},
   "source": [
    "Разброс площадей квартир очень широкий, поэтому выбрать редкие значения не предоставляется возможным"
   ]
  },
  {
   "cell_type": "markdown",
   "metadata": {},
   "source": [
    "**Столбец _first_day_exposition_**"
   ]
  },
  {
   "cell_type": "code",
   "execution_count": 124,
   "metadata": {},
   "outputs": [
    {
     "data": {
      "text/plain": [
       "count                   22421\n",
       "unique                   1482\n",
       "top       2018-02-01T00:00:00\n",
       "freq                      343\n",
       "Name: first_day_exposition, dtype: object"
      ]
     },
     "execution_count": 124,
     "metadata": {},
     "output_type": "execute_result"
    }
   ],
   "source": [
    "flats['first_day_exposition'].describe()"
   ]
  },
  {
   "cell_type": "code",
   "execution_count": 125,
   "metadata": {},
   "outputs": [
    {
     "data": {
      "text/plain": [
       "'2014-11-27T00:00:00'"
      ]
     },
     "execution_count": 125,
     "metadata": {},
     "output_type": "execute_result"
    }
   ],
   "source": [
    "flats['first_day_exposition'].min()"
   ]
  },
  {
   "cell_type": "code",
   "execution_count": 126,
   "metadata": {},
   "outputs": [
    {
     "data": {
      "text/plain": [
       "'2019-05-03T00:00:00'"
      ]
     },
     "execution_count": 126,
     "metadata": {},
     "output_type": "execute_result"
    }
   ],
   "source": [
    "flats['first_day_exposition'].max()"
   ]
  },
  {
   "cell_type": "code",
   "execution_count": 127,
   "metadata": {},
   "outputs": [
    {
     "name": "stdout",
     "output_type": "stream",
     "text": [
      "                     count   percent\n",
      "2018-02-01T00:00:00    343  1.529816\n",
      "2017-11-10T00:00:00    211  0.941082\n",
      "2017-10-13T00:00:00    120  0.535213\n",
      "2017-09-27T00:00:00     96  0.428170\n",
      "2018-03-26T00:00:00     90  0.401409\n",
      "...                    ...       ...\n",
      "2016-08-21T00:00:00      1  0.004460\n",
      "2016-12-29T00:00:00      1  0.004460\n",
      "2015-06-08T00:00:00      1  0.004460\n",
      "2015-04-19T00:00:00      1  0.004460\n",
      "2016-08-24T00:00:00      1  0.004460\n",
      "\n",
      "[1482 rows x 2 columns]\n"
     ]
    }
   ],
   "source": [
    "value_counts_percent(flats['first_day_exposition'])"
   ]
  },
  {
   "cell_type": "markdown",
   "metadata": {},
   "source": [
    "Выбивающихся значений нет. Разброс дат очень широкий, поэтому выбрать редкие значения не предоставляется возможным"
   ]
  },
  {
   "cell_type": "markdown",
   "metadata": {},
   "source": [
    "**Столбец _rooms_**"
   ]
  },
  {
   "cell_type": "code",
   "execution_count": 128,
   "metadata": {},
   "outputs": [
    {
     "data": {
      "text/plain": [
       "count    22421.000000\n",
       "mean         1.974176\n",
       "std          0.919946\n",
       "min          0.000000\n",
       "25%          1.000000\n",
       "50%          2.000000\n",
       "75%          3.000000\n",
       "max          7.000000\n",
       "Name: rooms, dtype: float64"
      ]
     },
     "execution_count": 128,
     "metadata": {},
     "output_type": "execute_result"
    }
   ],
   "source": [
    "flats['rooms'].describe()"
   ]
  },
  {
   "cell_type": "markdown",
   "metadata": {},
   "source": [
    "Выбивающихся значений нет"
   ]
  },
  {
   "cell_type": "code",
   "execution_count": 129,
   "metadata": {},
   "outputs": [
    {
     "name": "stdout",
     "output_type": "stream",
     "text": [
      "   count    percent\n",
      "1   7991  35.640694\n",
      "2   7811  34.837875\n",
      "3   5454  24.325409\n",
      "4    882   3.933812\n",
      "0    135   0.602114\n",
      "5    130   0.579814\n",
      "6     16   0.071362\n",
      "7      2   0.008920\n"
     ]
    }
   ],
   "source": [
    "value_counts_percent(flats['rooms'])"
   ]
  },
  {
   "cell_type": "code",
   "execution_count": 130,
   "metadata": {},
   "outputs": [
    {
     "name": "stdout",
     "output_type": "stream",
     "text": [
      "   count    percent\n",
      "1   7991  35.640694\n",
      "2   7811  34.837875\n",
      "3   5454  24.325409\n",
      "4    882   3.933812\n",
      "0    135   0.602114\n",
      "5    130   0.579814\n"
     ]
    }
   ],
   "source": [
    "cut_value_counts_percent(flats['rooms'], 0.5)"
   ]
  },
  {
   "cell_type": "markdown",
   "metadata": {},
   "source": [
    "Редкими являются квартиры с 6-ю и 7-ю комнатами. Удалим их из набора данных"
   ]
  },
  {
   "cell_type": "code",
   "execution_count": 131,
   "metadata": {},
   "outputs": [
    {
     "data": {
      "text/plain": [
       "[2.0, 2.0]"
      ]
     },
     "execution_count": 131,
     "metadata": {},
     "output_type": "execute_result"
    }
   ],
   "source": [
    "drop_rare_out_values(flats['rooms'], quantile=NONE, cut_percent=0.5)"
   ]
  },
  {
   "cell_type": "markdown",
   "metadata": {},
   "source": [
    "**Столбец _floors_total_**"
   ]
  },
  {
   "cell_type": "code",
   "execution_count": 132,
   "metadata": {},
   "outputs": [
    {
     "data": {
      "text/plain": [
       "count    22403.000000\n",
       "mean        10.760300\n",
       "std          6.627476\n",
       "min          1.000000\n",
       "25%          5.000000\n",
       "50%          9.000000\n",
       "75%         16.000000\n",
       "max         60.000000\n",
       "Name: floors_total, dtype: float64"
      ]
     },
     "execution_count": 132,
     "metadata": {},
     "output_type": "execute_result"
    }
   ],
   "source": [
    "flats['floors_total'].describe()"
   ]
  },
  {
   "cell_type": "code",
   "execution_count": 133,
   "metadata": {},
   "outputs": [
    {
     "name": "stdout",
     "output_type": "stream",
     "text": [
      "    count    percent\n",
      "5    5560  24.818105\n",
      "9    3697  16.502254\n",
      "16   1319   5.887604\n",
      "12   1312   5.856359\n",
      "10   1125   5.021649\n",
      "4    1096   4.892202\n",
      "25   1041   4.646699\n",
      "17    808   3.606660\n",
      "6     741   3.307593\n",
      "3     622   2.776414\n",
      "14    541   2.414855\n",
      "7     485   2.164889\n",
      "18    483   2.155961\n",
      "24    455   2.030978\n",
      "2     362   1.615855\n",
      "15    344   1.535509\n",
      "23    343   1.531045\n",
      "19    324   1.446235\n",
      "8     301   1.343570\n",
      "22    279   1.245369\n",
      "20    253   1.129313\n",
      "13    213   0.950766\n",
      "11    184   0.821319\n",
      "27    163   0.727581\n",
      "21    153   0.682944\n",
      "26    122   0.544570\n",
      "1      25   0.111592\n",
      "35     23   0.102665\n",
      "28     21   0.093737\n",
      "36      3   0.013391\n",
      "52      1   0.004464\n",
      "37      1   0.004464\n",
      "34      1   0.004464\n",
      "60      1   0.004464\n",
      "29      1   0.004464\n"
     ]
    }
   ],
   "source": [
    "value_counts_percent(flats['floors_total'])"
   ]
  },
  {
   "cell_type": "code",
   "execution_count": 134,
   "metadata": {},
   "outputs": [
    {
     "name": "stdout",
     "output_type": "stream",
     "text": [
      "    count    percent\n",
      "5    5560  24.818105\n",
      "9    3697  16.502254\n",
      "16   1319   5.887604\n",
      "12   1312   5.856359\n",
      "10   1125   5.021649\n",
      "4    1096   4.892202\n",
      "25   1041   4.646699\n",
      "17    808   3.606660\n",
      "6     741   3.307593\n",
      "3     622   2.776414\n",
      "14    541   2.414855\n",
      "7     485   2.164889\n",
      "18    483   2.155961\n",
      "24    455   2.030978\n",
      "2     362   1.615855\n",
      "15    344   1.535509\n",
      "23    343   1.531045\n",
      "19    324   1.446235\n",
      "8     301   1.343570\n",
      "22    279   1.245369\n",
      "20    253   1.129313\n",
      "13    213   0.950766\n",
      "11    184   0.821319\n",
      "27    163   0.727581\n",
      "21    153   0.682944\n",
      "26    122   0.544570\n"
     ]
    }
   ],
   "source": [
    "cut_value_counts_percent(flats['floors_total'], 0.5)"
   ]
  },
  {
   "cell_type": "code",
   "execution_count": 135,
   "metadata": {},
   "outputs": [
    {
     "data": {
      "text/plain": [
       "27"
      ]
     },
     "execution_count": 135,
     "metadata": {},
     "output_type": "execute_result"
    }
   ],
   "source": [
    "tmp_df = cut_value_counts_percent(flats['floors_total'], 0.5, ret=True)\n",
    "tmp_df.index.max()"
   ]
  },
  {
   "cell_type": "code",
   "execution_count": 136,
   "metadata": {},
   "outputs": [
    {
     "data": {
      "text/plain": [
       "27.0"
      ]
     },
     "execution_count": 136,
     "metadata": {},
     "output_type": "execute_result"
    }
   ],
   "source": [
    "flats['floors_total'].quantile(0.995)"
   ]
  },
  {
   "cell_type": "markdown",
   "metadata": {},
   "source": [
    "Хотя cредняя этажность новостроек в С.Пб -- 14,6 (https://yandex.ru/turbo?text=https%3A%2F%2Fwww.forbes.ru%2Fbiznes%2F371755-kak-rastut-goroda-etazhnost-rossiyskih-gorodov-vyrosla-v-dva-raza-za-tri-desyatiletiya), редкие и выбивающиеся значения в нашем наборе данных ограничены 27 этажами. Удалим их"
   ]
  },
  {
   "cell_type": "code",
   "execution_count": 137,
   "metadata": {},
   "outputs": [
    {
     "data": {
      "text/plain": [
       "[9.0, 9.0]"
      ]
     },
     "execution_count": 137,
     "metadata": {},
     "output_type": "execute_result"
    }
   ],
   "source": [
    "drop_rare_out_values(flats['floors_total'], quantile=NONE, cut_percent=0.5)"
   ]
  },
  {
   "cell_type": "code",
   "execution_count": 138,
   "metadata": {},
   "outputs": [
    {
     "name": "stdout",
     "output_type": "stream",
     "text": [
      "    count    percent\n",
      "5    5560  24.903700\n",
      "9    3697  16.559169\n",
      "16   1319   5.907910\n",
      "12   1312   5.876556\n",
      "10   1125   5.038968\n",
      "4    1096   4.909075\n",
      "25   1041   4.662725\n",
      "17    808   3.619099\n",
      "6     741   3.319000\n",
      "3     622   2.785989\n",
      "14    541   2.423184\n",
      "7     485   2.172355\n",
      "18    483   2.163397\n",
      "24    455   2.037983\n",
      "2     362   1.621428\n",
      "15    344   1.540804\n",
      "23    343   1.536325\n",
      "19    324   1.451223\n",
      "8     301   1.348204\n",
      "22    279   1.249664\n",
      "20    253   1.133208\n",
      "13    213   0.954045\n",
      "11    184   0.824151\n",
      "27    163   0.730090\n",
      "21    153   0.685300\n",
      "26    122   0.546448\n"
     ]
    }
   ],
   "source": [
    "value_counts_percent(flats['floors_total'])"
   ]
  },
  {
   "cell_type": "markdown",
   "metadata": {},
   "source": [
    "**Столбец _ceiling_height_**"
   ]
  },
  {
   "cell_type": "code",
   "execution_count": 139,
   "metadata": {},
   "outputs": [
    {
     "data": {
      "text/plain": [
       "count    22326.000000\n",
       "mean         2.717840\n",
       "std          0.988248\n",
       "min          1.000000\n",
       "25%          2.550000\n",
       "50%          2.650000\n",
       "75%          2.750000\n",
       "max        100.000000\n",
       "Name: ceiling_height, dtype: float64"
      ]
     },
     "execution_count": 139,
     "metadata": {},
     "output_type": "execute_result"
    }
   ],
   "source": [
    "flats['ceiling_height'].describe()"
   ]
  },
  {
   "cell_type": "code",
   "execution_count": 140,
   "metadata": {},
   "outputs": [
    {
     "data": {
      "text/plain": [
       "3.2"
      ]
     },
     "execution_count": 140,
     "metadata": {},
     "output_type": "execute_result"
    }
   ],
   "source": [
    "flats['ceiling_height'].quantile(0.97)"
   ]
  },
  {
   "cell_type": "markdown",
   "metadata": {},
   "source": [
    "Стандартная высота потолков составляет от 2,5 до 3,2 м (https://www.ivd.ru/stroitelstvo-i-remont/potolok/standartnaya-vysota-potolkov-v-kvartire-kakoj-ona-byvaet-i-kak-ee-izmenit-42011) Удалим выбивающиеся значения по квантилю 0.97"
   ]
  },
  {
   "cell_type": "code",
   "execution_count": 141,
   "metadata": {},
   "outputs": [
    {
     "data": {
      "text/plain": [
       "[2.65, 2.65]"
      ]
     },
     "execution_count": 141,
     "metadata": {},
     "output_type": "execute_result"
    }
   ],
   "source": [
    "drop_rare_out_values(flats['ceiling_height'], quantile=0.97, cut_percent=NONE)"
   ]
  },
  {
   "cell_type": "code",
   "execution_count": 142,
   "metadata": {},
   "outputs": [
    {
     "data": {
      "text/plain": [
       "3.15"
      ]
     },
     "execution_count": 142,
     "metadata": {},
     "output_type": "execute_result"
    }
   ],
   "source": [
    "tmp_df = cut_value_counts_percent(flats['ceiling_height'], 1, ret=True)\n",
    "tmp_df.index.max()"
   ]
  },
  {
   "cell_type": "markdown",
   "metadata": {},
   "source": [
    "Удалим редкие значения, суммарное количество которых не превышает 1% от общего числа значений"
   ]
  },
  {
   "cell_type": "code",
   "execution_count": 143,
   "metadata": {},
   "outputs": [
    {
     "data": {
      "text/plain": [
       "[2.65, 2.65]"
      ]
     },
     "execution_count": 143,
     "metadata": {},
     "output_type": "execute_result"
    }
   ],
   "source": [
    "drop_rare_out_values(flats['ceiling_height'], quantile=NONE)"
   ]
  },
  {
   "cell_type": "code",
   "execution_count": 144,
   "metadata": {},
   "outputs": [
    {
     "name": "stdout",
     "output_type": "stream",
     "text": [
      "      count    percent\n",
      "2.55   4205  19.691861\n",
      "2.50   3494  16.362274\n",
      "2.70   3143  14.718554\n",
      "2.75   2349  11.000281\n",
      "2.60   2246  10.517936\n",
      "3.00   1713   8.021916\n",
      "2.80   1328   6.218975\n",
      "2.65   1154   5.404140\n",
      "3.10    165   0.772689\n",
      "2.90    147   0.688396\n",
      "2.56    138   0.646249\n",
      "2.57    101   0.472979\n",
      "2.85     95   0.444882\n",
      "2.66     86   0.402735\n",
      "2.54     83   0.388686\n",
      "2.64     81   0.379320\n",
      "2.52     79   0.369954\n",
      "2.53     67   0.313759\n",
      "2.58     62   0.290344\n",
      "2.76     60   0.280978\n",
      "2.77     59   0.276295\n",
      "2.78     50   0.234148\n",
      "3.15     48   0.224782\n",
      "2.95     40   0.187319\n",
      "3.05     38   0.177953\n",
      "2.67     36   0.168587\n",
      "2.51     34   0.159221\n",
      "2.73     32   0.149855\n",
      "2.72     30   0.140489\n",
      "2.74     27   0.126440\n",
      "2.40     23   0.107708\n",
      "2.68     22   0.103025\n",
      "2.84     19   0.088976\n",
      "2.82     18   0.084293\n",
      "2.45     14   0.065561\n",
      "2.59     14   0.065561\n",
      "3.12     14   0.065561\n",
      "2.83     14   0.065561\n",
      "2.62     13   0.060879\n",
      "2.63     13   0.060879\n"
     ]
    }
   ],
   "source": [
    "value_counts_percent(flats['ceiling_height'])"
   ]
  },
  {
   "cell_type": "markdown",
   "metadata": {},
   "source": [
    "Приведем высоту потолков к значениям из списка: \\[2.50, 2.55, 2.60, 2.65, 2.70, 2.75, 2.80, 2.85, 2.90, 2.95, 3.00, 3.05, 3.10\\]"
   ]
  },
  {
   "cell_type": "code",
   "execution_count": 145,
   "metadata": {},
   "outputs": [],
   "source": [
    "std_ceils = [2.50, 2.55, 2.60, 2.65, 2.70, 2.75, 2.80, 2.85, 2.90, 2.95, 3.00, 3.05, 3.10]\n",
    "\n",
    "def std_ceil(row):\n",
    "    \n",
    "    ceil = row['ceiling_height']\n",
    "    deltas = []\n",
    "    \n",
    "    for i in std_ceils:\n",
    "        deltas.append(abs(ceil - i))\n",
    "        \n",
    "    return std_ceils[deltas.index(min(deltas))]"
   ]
  },
  {
   "cell_type": "code",
   "execution_count": 146,
   "metadata": {},
   "outputs": [
    {
     "data": {
      "text/plain": [
       "array([2.7 , 2.75, 2.55, 2.65, 2.5 , 3.  , 2.6 , 3.05, 2.8 , 2.9 , 2.85,\n",
       "       3.1 , 2.95])"
      ]
     },
     "execution_count": 146,
     "metadata": {},
     "output_type": "execute_result"
    }
   ],
   "source": [
    "flats['ceiling_height'] = flats.apply(std_ceil, axis=1)\n",
    "flats['ceiling_height'].unique()"
   ]
  },
  {
   "cell_type": "code",
   "execution_count": 147,
   "metadata": {},
   "outputs": [
    {
     "name": "stdout",
     "output_type": "stream",
     "text": [
      "      count    percent\n",
      "2.55   4594  21.513534\n",
      "2.50   3644  17.064719\n",
      "2.70   3195  14.962068\n",
      "2.75   2527  11.833848\n",
      "2.60   2335  10.934719\n",
      "3.00   1713   8.021916\n",
      "2.80   1396   6.537417\n",
      "2.65   1370   6.415660\n",
      "3.10    227   1.063033\n",
      "2.90    147   0.688396\n",
      "2.85    128   0.599419\n",
      "2.95     40   0.187319\n",
      "3.05     38   0.177953\n"
     ]
    }
   ],
   "source": [
    "value_counts_percent(flats['ceiling_height'])"
   ]
  },
  {
   "cell_type": "markdown",
   "metadata": {},
   "source": [
    "**Столбец _living_area_**"
   ]
  },
  {
   "cell_type": "code",
   "execution_count": 148,
   "metadata": {},
   "outputs": [
    {
     "data": {
      "text/plain": [
       "count    21354.000000\n",
       "mean        30.921016\n",
       "std         13.562613\n",
       "min          2.000000\n",
       "25%         18.200000\n",
       "50%         29.400000\n",
       "75%         40.000000\n",
       "max        100.000000\n",
       "Name: living_area, dtype: float64"
      ]
     },
     "execution_count": 148,
     "metadata": {},
     "output_type": "execute_result"
    }
   ],
   "source": [
    "flats['living_area'].describe()"
   ]
  },
  {
   "cell_type": "markdown",
   "metadata": {},
   "source": [
    "Выбивающиеся значения отсутствуют"
   ]
  },
  {
   "cell_type": "code",
   "execution_count": 149,
   "metadata": {},
   "outputs": [
    {
     "name": "stdout",
     "output_type": "stream",
     "text": [
      "       count   percent\n",
      "18.00    863  4.041397\n",
      "17.00    826  3.868128\n",
      "30.00    575  2.692704\n",
      "32.00    496  2.322750\n",
      "29.00    482  2.257188\n",
      "...      ...       ...\n",
      "18.03      1  0.004683\n",
      "26.21      1  0.004683\n",
      "34.14      1  0.004683\n",
      "18.04      1  0.004683\n",
      "15.55      1  0.004683\n",
      "\n",
      "[1370 rows x 2 columns]\n"
     ]
    }
   ],
   "source": [
    "value_counts_percent(flats['living_area'])"
   ]
  },
  {
   "cell_type": "markdown",
   "metadata": {},
   "source": [
    "Разброс жилых площадей квартир очень широкий, поэтому выбрать редкие значения не предоставляется возможным"
   ]
  },
  {
   "cell_type": "markdown",
   "metadata": {},
   "source": [
    "Жилая площадь не может превышать общей площади квартиры. Ранее мы сформировали столбец *living_total_areas_relation*, в котором записали соотношения жилой площади к общей площади квартиры"
   ]
  },
  {
   "cell_type": "code",
   "execution_count": 150,
   "metadata": {},
   "outputs": [
    {
     "data": {
      "text/plain": [
       "count    21354.000000\n",
       "mean         0.563780\n",
       "std          0.101612\n",
       "min          0.038462\n",
       "25%          0.496503\n",
       "50%          0.568966\n",
       "75%          0.631797\n",
       "max          1.307692\n",
       "Name: living_total_areas_relation, dtype: float64"
      ]
     },
     "execution_count": 150,
     "metadata": {},
     "output_type": "execute_result"
    }
   ],
   "source": [
    "flats['living_total_areas_relation'].describe()"
   ]
  },
  {
   "cell_type": "code",
   "execution_count": 151,
   "metadata": {},
   "outputs": [
    {
     "data": {
      "text/plain": [
       "0.7857142857142857"
      ]
     },
     "execution_count": 151,
     "metadata": {},
     "output_type": "execute_result"
    }
   ],
   "source": [
    "flats['living_total_areas_relation'].quantile(0.99)"
   ]
  },
  {
   "cell_type": "markdown",
   "metadata": {},
   "source": [
    "Жилая площадь, занимающая 3/4 квартиры выглядит очень убедительно. Выбивающиеся значения укладываются в 1% от общего числа значений. Удалим их."
   ]
  },
  {
   "cell_type": "code",
   "execution_count": 152,
   "metadata": {},
   "outputs": [
    {
     "data": {
      "text/plain": [
       "[0.5689655172413793, 0.5689655172413793]"
      ]
     },
     "execution_count": 152,
     "metadata": {},
     "output_type": "execute_result"
    }
   ],
   "source": [
    "drop_rare_out_values(flats['living_total_areas_relation'], quantile=0.99, cut_percent=NONE)"
   ]
  },
  {
   "cell_type": "markdown",
   "metadata": {},
   "source": [
    "**Столбец _floor_**"
   ]
  },
  {
   "cell_type": "code",
   "execution_count": 153,
   "metadata": {},
   "outputs": [
    {
     "data": {
      "text/plain": [
       "count    21136.000000\n",
       "mean         5.968395\n",
       "std          4.891599\n",
       "min          1.000000\n",
       "25%          2.000000\n",
       "50%          4.000000\n",
       "75%          8.000000\n",
       "max         27.000000\n",
       "Name: floor, dtype: float64"
      ]
     },
     "execution_count": 153,
     "metadata": {},
     "output_type": "execute_result"
    }
   ],
   "source": [
    "flats['floor'].describe()"
   ]
  },
  {
   "cell_type": "code",
   "execution_count": 154,
   "metadata": {},
   "outputs": [
    {
     "data": {
      "text/plain": [
       "27"
      ]
     },
     "execution_count": 154,
     "metadata": {},
     "output_type": "execute_result"
    }
   ],
   "source": [
    "flats['floors_total'].max()"
   ]
  },
  {
   "cell_type": "code",
   "execution_count": 155,
   "metadata": {},
   "outputs": [
    {
     "name": "stdout",
     "output_type": "stream",
     "text": [
      "    count    percent\n",
      "5    5157  24.399129\n",
      "9    3651  17.273846\n",
      "12   1295   6.126987\n",
      "16   1286   6.084406\n",
      "10   1116   5.280091\n",
      "25   1025   4.849546\n",
      "4     908   4.295988\n",
      "17    786   3.718774\n",
      "6     548   2.592733\n",
      "3     544   2.573808\n",
      "14    527   2.493376\n",
      "18    469   2.218963\n",
      "24    446   2.110144\n",
      "7     425   2.010787\n",
      "23    337   1.594436\n",
      "15    337   1.594436\n",
      "2     332   1.570780\n",
      "19    316   1.495079\n",
      "8     286   1.353142\n",
      "22    275   1.301098\n",
      "20    250   1.182816\n",
      "13    211   0.998297\n",
      "11    178   0.842165\n",
      "27    162   0.766465\n",
      "21    148   0.700227\n",
      "26    121   0.572483\n"
     ]
    }
   ],
   "source": [
    "value_counts_percent(flats['floors_total'])"
   ]
  },
  {
   "cell_type": "markdown",
   "metadata": {},
   "source": [
    "Редких и выбивающихся значений нет"
   ]
  },
  {
   "cell_type": "markdown",
   "metadata": {},
   "source": [
    "**Столбец _is_apartment_**"
   ]
  },
  {
   "cell_type": "code",
   "execution_count": 156,
   "metadata": {},
   "outputs": [
    {
     "data": {
      "text/plain": [
       "count     21136\n",
       "unique        2\n",
       "top       False\n",
       "freq      21106\n",
       "Name: is_apartment, dtype: object"
      ]
     },
     "execution_count": 156,
     "metadata": {},
     "output_type": "execute_result"
    }
   ],
   "source": [
    "flats['is_apartment'].describe()"
   ]
  },
  {
   "cell_type": "markdown",
   "metadata": {},
   "source": [
    "Редких и выбивающихся значений нет"
   ]
  },
  {
   "cell_type": "markdown",
   "metadata": {},
   "source": [
    "**Столбец _studio_**"
   ]
  },
  {
   "cell_type": "code",
   "execution_count": 157,
   "metadata": {},
   "outputs": [
    {
     "data": {
      "text/plain": [
       "count     21136\n",
       "unique        2\n",
       "top       False\n",
       "freq      21016\n",
       "Name: studio, dtype: object"
      ]
     },
     "execution_count": 157,
     "metadata": {},
     "output_type": "execute_result"
    }
   ],
   "source": [
    "flats['studio'].describe()"
   ]
  },
  {
   "cell_type": "markdown",
   "metadata": {},
   "source": [
    "Редких и выбивающихся значений нет"
   ]
  },
  {
   "cell_type": "markdown",
   "metadata": {},
   "source": [
    "**Столбец _open_plan_**"
   ]
  },
  {
   "cell_type": "code",
   "execution_count": 158,
   "metadata": {},
   "outputs": [
    {
     "data": {
      "text/plain": [
       "count     21136\n",
       "unique        2\n",
       "top       False\n",
       "freq      21130\n",
       "Name: open_plan, dtype: object"
      ]
     },
     "execution_count": 158,
     "metadata": {},
     "output_type": "execute_result"
    }
   ],
   "source": [
    "flats['open_plan'].describe()"
   ]
  },
  {
   "cell_type": "markdown",
   "metadata": {},
   "source": [
    "Редких и выбивающихся значений нет"
   ]
  },
  {
   "cell_type": "markdown",
   "metadata": {},
   "source": [
    "**Столбец _kitchen_area_**"
   ]
  },
  {
   "cell_type": "code",
   "execution_count": 159,
   "metadata": {},
   "outputs": [
    {
     "data": {
      "text/plain": [
       "count    21136.000000\n",
       "mean         9.742369\n",
       "std          4.156023\n",
       "min          1.300000\n",
       "25%          7.000000\n",
       "50%          9.000000\n",
       "75%         11.000000\n",
       "max         64.000000\n",
       "Name: kitchen_area, dtype: float64"
      ]
     },
     "execution_count": 159,
     "metadata": {},
     "output_type": "execute_result"
    }
   ],
   "source": [
    "flats['kitchen_area'].describe()"
   ]
  },
  {
   "cell_type": "markdown",
   "metadata": {},
   "source": [
    "Площадь кухни не может превышать общей площади квартиры. Ранее мы сформировали столбец *kitchen_total_areas_relation*, в котором записали соотношения площади кухни к общей площади квартиры"
   ]
  },
  {
   "cell_type": "code",
   "execution_count": 160,
   "metadata": {},
   "outputs": [
    {
     "data": {
      "text/plain": [
       "count    21136.000000\n",
       "mean         0.189907\n",
       "std          0.069035\n",
       "min          0.043524\n",
       "25%          0.139344\n",
       "50%          0.174094\n",
       "75%          0.235294\n",
       "max          0.739837\n",
       "Name: kitchen_total_areas_relation, dtype: float64"
      ]
     },
     "execution_count": 160,
     "metadata": {},
     "output_type": "execute_result"
    }
   ],
   "source": [
    "flats['kitchen_total_areas_relation'].describe()"
   ]
  },
  {
   "cell_type": "code",
   "execution_count": 161,
   "metadata": {},
   "outputs": [
    {
     "data": {
      "text/html": [
       "<div>\n",
       "<style scoped>\n",
       "    .dataframe tbody tr th:only-of-type {\n",
       "        vertical-align: middle;\n",
       "    }\n",
       "\n",
       "    .dataframe tbody tr th {\n",
       "        vertical-align: top;\n",
       "    }\n",
       "\n",
       "    .dataframe thead th {\n",
       "        text-align: right;\n",
       "    }\n",
       "</style>\n",
       "<table border=\"1\" class=\"dataframe\">\n",
       "  <thead>\n",
       "    <tr style=\"text-align: right;\">\n",
       "      <th></th>\n",
       "      <th>Unnamed: 0</th>\n",
       "      <th>total_images</th>\n",
       "      <th>last_price</th>\n",
       "      <th>total_area</th>\n",
       "      <th>first_day_exposition</th>\n",
       "      <th>rooms</th>\n",
       "      <th>ceiling_height</th>\n",
       "      <th>floors_total</th>\n",
       "      <th>living_area</th>\n",
       "      <th>floor</th>\n",
       "      <th>is_apartment</th>\n",
       "      <th>studio</th>\n",
       "      <th>open_plan</th>\n",
       "      <th>kitchen_area</th>\n",
       "      <th>balcony</th>\n",
       "      <th>locality_name</th>\n",
       "      <th>airports_nearest</th>\n",
       "      <th>city_centers_nearest</th>\n",
       "      <th>parks_around_3000</th>\n",
       "      <th>parks_nearest</th>\n",
       "      <th>ponds_around_3000</th>\n",
       "      <th>ponds_nearest</th>\n",
       "      <th>days_exposition</th>\n",
       "      <th>total_area_grp</th>\n",
       "      <th>last_price_grp</th>\n",
       "      <th>square_meter_price</th>\n",
       "      <th>exposition_day</th>\n",
       "      <th>exposition_month</th>\n",
       "      <th>exposition_year</th>\n",
       "      <th>flat_floor</th>\n",
       "      <th>living_total_areas_relation</th>\n",
       "      <th>kitchen_total_areas_relation</th>\n",
       "    </tr>\n",
       "  </thead>\n",
       "  <tbody>\n",
       "    <tr>\n",
       "      <th>15679</th>\n",
       "      <td>15780</td>\n",
       "      <td>9</td>\n",
       "      <td>12990000</td>\n",
       "      <td>119.6</td>\n",
       "      <td>2017-03-13T00:00:00</td>\n",
       "      <td>3</td>\n",
       "      <td>3.0</td>\n",
       "      <td>5</td>\n",
       "      <td>36.4</td>\n",
       "      <td>4</td>\n",
       "      <td>False</td>\n",
       "      <td>False</td>\n",
       "      <td>False</td>\n",
       "      <td>64.0</td>\n",
       "      <td>4</td>\n",
       "      <td>Пушкин</td>\n",
       "      <td>18616</td>\n",
       "      <td>30770</td>\n",
       "      <td>1</td>\n",
       "      <td>569</td>\n",
       "      <td>0</td>\n",
       "      <td>-1</td>\n",
       "      <td>161</td>\n",
       "      <td>10</td>\n",
       "      <td>10</td>\n",
       "      <td>108612.040134</td>\n",
       "      <td>13</td>\n",
       "      <td>3</td>\n",
       "      <td>2017</td>\n",
       "      <td>0</td>\n",
       "      <td>0.304348</td>\n",
       "      <td>0.535117</td>\n",
       "    </tr>\n",
       "    <tr>\n",
       "      <th>19375</th>\n",
       "      <td>19499</td>\n",
       "      <td>10</td>\n",
       "      <td>8000000</td>\n",
       "      <td>118.0</td>\n",
       "      <td>2017-08-31T00:00:00</td>\n",
       "      <td>3</td>\n",
       "      <td>3.0</td>\n",
       "      <td>5</td>\n",
       "      <td>36.0</td>\n",
       "      <td>4</td>\n",
       "      <td>False</td>\n",
       "      <td>False</td>\n",
       "      <td>False</td>\n",
       "      <td>64.0</td>\n",
       "      <td>4</td>\n",
       "      <td>Пушкин</td>\n",
       "      <td>18616</td>\n",
       "      <td>30770</td>\n",
       "      <td>1</td>\n",
       "      <td>569</td>\n",
       "      <td>0</td>\n",
       "      <td>-1</td>\n",
       "      <td>7</td>\n",
       "      <td>10</td>\n",
       "      <td>9</td>\n",
       "      <td>67796.610169</td>\n",
       "      <td>31</td>\n",
       "      <td>8</td>\n",
       "      <td>2017</td>\n",
       "      <td>0</td>\n",
       "      <td>0.305085</td>\n",
       "      <td>0.542373</td>\n",
       "    </tr>\n",
       "  </tbody>\n",
       "</table>\n",
       "</div>"
      ],
      "text/plain": [
       "       Unnamed: 0  total_images  last_price  total_area first_day_exposition  \\\n",
       "15679       15780             9    12990000       119.6  2017-03-13T00:00:00   \n",
       "19375       19499            10     8000000       118.0  2017-08-31T00:00:00   \n",
       "\n",
       "       rooms  ceiling_height  floors_total  living_area  floor is_apartment  \\\n",
       "15679      3             3.0             5         36.4      4        False   \n",
       "19375      3             3.0             5         36.0      4        False   \n",
       "\n",
       "       studio  open_plan  kitchen_area  balcony locality_name  \\\n",
       "15679   False      False          64.0        4        Пушкин   \n",
       "19375   False      False          64.0        4        Пушкин   \n",
       "\n",
       "       airports_nearest  city_centers_nearest  parks_around_3000  \\\n",
       "15679             18616                 30770                  1   \n",
       "19375             18616                 30770                  1   \n",
       "\n",
       "       parks_nearest  ponds_around_3000  ponds_nearest  days_exposition  \\\n",
       "15679            569                  0             -1              161   \n",
       "19375            569                  0             -1                7   \n",
       "\n",
       "       total_area_grp  last_price_grp  square_meter_price  exposition_day  \\\n",
       "15679              10              10       108612.040134              13   \n",
       "19375              10               9        67796.610169              31   \n",
       "\n",
       "       exposition_month  exposition_year  flat_floor  \\\n",
       "15679                 3             2017           0   \n",
       "19375                 8             2017           0   \n",
       "\n",
       "       living_total_areas_relation  kitchen_total_areas_relation  \n",
       "15679                     0.304348                      0.535117  \n",
       "19375                     0.305085                      0.542373  "
      ]
     },
     "execution_count": 161,
     "metadata": {},
     "output_type": "execute_result"
    }
   ],
   "source": [
    "flats.loc[flats['kitchen_area'] == 64,:]"
   ]
  },
  {
   "cell_type": "markdown",
   "metadata": {},
   "source": [
    "Площадь кухни 64 кв.м, жилая 36 кв.м. Что ж, такое, наверное, возможно. Хотелось бы взглянуть на такую квартиру.  \n",
    "  \n",
    "Выбивающихся значений нет"
   ]
  },
  {
   "cell_type": "code",
   "execution_count": 162,
   "metadata": {},
   "outputs": [
    {
     "name": "stdout",
     "output_type": "stream",
     "text": [
      "       count   percent\n",
      "10.00   1523  7.205715\n",
      "6.00    1267  5.994512\n",
      "9.00    1230  5.819455\n",
      "8.00    1206  5.705905\n",
      "7.00    1202  5.686980\n",
      "...      ...       ...\n",
      "4.30       1  0.004731\n",
      "13.74      1  0.004731\n",
      "5.82       1  0.004731\n",
      "5.28       1  0.004731\n",
      "9.38       1  0.004731\n",
      "\n",
      "[830 rows x 2 columns]\n"
     ]
    }
   ],
   "source": [
    "value_counts_percent(flats['kitchen_area'])"
   ]
  },
  {
   "cell_type": "markdown",
   "metadata": {},
   "source": [
    "Разброс жилых площадей кухонь очень широкий, поэтому выбрать редкие значения не предоставляется возможным"
   ]
  },
  {
   "cell_type": "markdown",
   "metadata": {},
   "source": [
    "**Столбец _balcony_**"
   ]
  },
  {
   "cell_type": "code",
   "execution_count": 163,
   "metadata": {},
   "outputs": [
    {
     "data": {
      "text/plain": [
       "count    21136.000000\n",
       "mean         0.608441\n",
       "std          0.961267\n",
       "min          0.000000\n",
       "25%          0.000000\n",
       "50%          0.000000\n",
       "75%          1.000000\n",
       "max          5.000000\n",
       "Name: balcony, dtype: float64"
      ]
     },
     "execution_count": 163,
     "metadata": {},
     "output_type": "execute_result"
    }
   ],
   "source": [
    "flats['balcony'].describe()"
   ]
  },
  {
   "cell_type": "code",
   "execution_count": 164,
   "metadata": {},
   "outputs": [
    {
     "name": "stdout",
     "output_type": "stream",
     "text": [
      "   count    percent\n",
      "0  13374  63.275927\n",
      "1   3848  18.205905\n",
      "2   3424  16.199849\n",
      "5    271   1.282173\n",
      "4    152   0.719152\n",
      "3     67   0.316995\n"
     ]
    }
   ],
   "source": [
    "value_counts_percent(flats['balcony'])"
   ]
  },
  {
   "cell_type": "markdown",
   "metadata": {},
   "source": [
    "Редких и выбивающихся значений нет"
   ]
  },
  {
   "cell_type": "markdown",
   "metadata": {},
   "source": [
    "**Столбец _locality_name_**"
   ]
  },
  {
   "cell_type": "code",
   "execution_count": 165,
   "metadata": {},
   "outputs": [
    {
     "data": {
      "text/plain": [
       "count               21094\n",
       "unique                355\n",
       "top       Санкт-Петербург\n",
       "freq                13519\n",
       "Name: locality_name, dtype: object"
      ]
     },
     "execution_count": 165,
     "metadata": {},
     "output_type": "execute_result"
    }
   ],
   "source": [
    "flats['locality_name'].describe()"
   ]
  },
  {
   "cell_type": "markdown",
   "metadata": {},
   "source": [
    "Редких и выбивающихся значений нет"
   ]
  },
  {
   "cell_type": "markdown",
   "metadata": {},
   "source": [
    "**Столбец _airports_nearest_**"
   ]
  },
  {
   "cell_type": "code",
   "execution_count": 166,
   "metadata": {},
   "outputs": [
    {
     "data": {
      "text/plain": [
       "count    21136.000000\n",
       "mean     21843.666493\n",
       "std      16914.459201\n",
       "min         -1.000000\n",
       "25%         -1.000000\n",
       "50%      20895.000000\n",
       "75%      35197.000000\n",
       "max      84869.000000\n",
       "Name: airports_nearest, dtype: float64"
      ]
     },
     "execution_count": 166,
     "metadata": {},
     "output_type": "execute_result"
    }
   ],
   "source": [
    "flats['airports_nearest'].describe()"
   ]
  },
  {
   "cell_type": "code",
   "execution_count": 167,
   "metadata": {},
   "outputs": [
    {
     "name": "stdout",
     "output_type": "stream",
     "text": [
      "        count    percent\n",
      "-1       5293  25.042581\n",
      " 37434     34   0.160863\n",
      " 21928     30   0.141938\n",
      " 44870     29   0.137207\n",
      " 39946     26   0.123013\n",
      "...       ...        ...\n",
      " 45306      1   0.004731\n",
      " 17134      1   0.004731\n",
      " 25322      1   0.004731\n",
      " 35559      1   0.004731\n",
      " 51230      1   0.004731\n",
      "\n",
      "[7398 rows x 2 columns]\n"
     ]
    }
   ],
   "source": [
    "value_counts_percent(flats['airports_nearest'])"
   ]
  },
  {
   "cell_type": "markdown",
   "metadata": {},
   "source": [
    "Четверть квартир не расположены рядом с аэропортом. Хотя расстояние в 84 км трудно считать близким расположением.  \n",
    "  \n",
    "Выбивающихся значений нет, разброс расстояний до аэропортов очень широкий, поэтому выбрать редкие значения не предоставляется возможным"
   ]
  },
  {
   "cell_type": "markdown",
   "metadata": {},
   "source": [
    "**Столбец _city_centers_nearest_**"
   ]
  },
  {
   "cell_type": "code",
   "execution_count": 168,
   "metadata": {},
   "outputs": [
    {
     "data": {
      "text/plain": [
       "count    21136.000000\n",
       "mean     11266.517553\n",
       "std       9753.282642\n",
       "min         -1.000000\n",
       "25%        666.500000\n",
       "50%      11791.000000\n",
       "75%      15541.000000\n",
       "max      65968.000000\n",
       "Name: city_centers_nearest, dtype: float64"
      ]
     },
     "execution_count": 168,
     "metadata": {},
     "output_type": "execute_result"
    }
   ],
   "source": [
    "flats['city_centers_nearest'].describe()"
   ]
  },
  {
   "cell_type": "code",
   "execution_count": 169,
   "metadata": {},
   "outputs": [
    {
     "name": "stdout",
     "output_type": "stream",
     "text": [
      "        count    percent\n",
      "-1       5276  24.962150\n",
      " 8460      34   0.160863\n",
      " 20802     30   0.141938\n",
      " 10720     26   0.123013\n",
      " 8370      24   0.113550\n",
      "...       ...        ...\n",
      " 9948       1   0.004731\n",
      " 30438      1   0.004731\n",
      " 32487      1   0.004731\n",
      " 5866       1   0.004731\n",
      " 32768      1   0.004731\n",
      "\n",
      "[6819 rows x 2 columns]\n"
     ]
    }
   ],
   "source": [
    "value_counts_percent(flats['city_centers_nearest'])"
   ]
  },
  {
   "cell_type": "markdown",
   "metadata": {},
   "source": [
    "Четверть квартир не расположены рядом с городскими центрами. Хотя расстояние в 65 км трудно считать близким расположением.  \n",
    "  \n",
    "Выбивающихся значений нет, разброс расстояний до аэропортов очень широкий, поэтому выбрать редкие значения не предоставляется возможным"
   ]
  },
  {
   "cell_type": "markdown",
   "metadata": {},
   "source": [
    "**Столбец _parks_around_3000_**"
   ]
  },
  {
   "cell_type": "code",
   "execution_count": 170,
   "metadata": {},
   "outputs": [
    {
     "data": {
      "text/plain": [
       "count    21136.000000\n",
       "mean         0.411289\n",
       "std          0.692918\n",
       "min          0.000000\n",
       "25%          0.000000\n",
       "50%          0.000000\n",
       "75%          1.000000\n",
       "max          3.000000\n",
       "Name: parks_around_3000, dtype: float64"
      ]
     },
     "execution_count": 170,
     "metadata": {},
     "output_type": "execute_result"
    }
   ],
   "source": [
    "flats['parks_around_3000'].describe()"
   ]
  },
  {
   "cell_type": "code",
   "execution_count": 171,
   "metadata": {},
   "outputs": [
    {
     "name": "stdout",
     "output_type": "stream",
     "text": [
      "   count    percent\n",
      "0  14556  68.868282\n",
      "1   4869  23.036525\n",
      "2   1309   6.193225\n",
      "3    402   1.901968\n"
     ]
    }
   ],
   "source": [
    "value_counts_percent(flats['parks_around_3000'])"
   ]
  },
  {
   "cell_type": "markdown",
   "metadata": {},
   "source": [
    "Редких и выбивающихся значений нет"
   ]
  },
  {
   "cell_type": "markdown",
   "metadata": {},
   "source": [
    "**Столбец _parks_nearest_**"
   ]
  },
  {
   "cell_type": "code",
   "execution_count": 172,
   "metadata": {},
   "outputs": [
    {
     "data": {
      "text/plain": [
       "count    21136.000000\n",
       "mean       155.390992\n",
       "std        302.593646\n",
       "min         -1.000000\n",
       "25%         -1.000000\n",
       "50%         -1.000000\n",
       "75%        252.000000\n",
       "max       3190.000000\n",
       "Name: parks_nearest, dtype: float64"
      ]
     },
     "execution_count": 172,
     "metadata": {},
     "output_type": "execute_result"
    }
   ],
   "source": [
    "flats['parks_nearest'].describe()"
   ]
  },
  {
   "cell_type": "code",
   "execution_count": 173,
   "metadata": {},
   "outputs": [
    {
     "name": "stdout",
     "output_type": "stream",
     "text": [
      "      count    percent\n",
      "-1    14553  68.854088\n",
      " 392     38   0.179788\n",
      " 441     38   0.179788\n",
      " 173     32   0.151400\n",
      " 456     31   0.146669\n",
      "...     ...        ...\n",
      " 625      1   0.004731\n",
      " 861      1   0.004731\n",
      " 917      1   0.004731\n",
      " 168      1   0.004731\n",
      " 3        1   0.004731\n",
      "\n",
      "[956 rows x 2 columns]\n"
     ]
    }
   ],
   "source": [
    "value_counts_percent(flats['parks_nearest'])"
   ]
  },
  {
   "cell_type": "markdown",
   "metadata": {},
   "source": [
    "Только у чуть более 30% квартир есть на допустимом удалении парк.  \n",
    "Выбивающихся значений нет, разброс расстояний до парков очень широкий, поэтому выбрать редкие значения не предоставляется возможным"
   ]
  },
  {
   "cell_type": "markdown",
   "metadata": {},
   "source": [
    "**Столбец _ponds_around_3000_**"
   ]
  },
  {
   "cell_type": "code",
   "execution_count": 174,
   "metadata": {},
   "outputs": [
    {
     "data": {
      "text/plain": [
       "count    21136.000000\n",
       "mean         0.528530\n",
       "std          0.828257\n",
       "min          0.000000\n",
       "25%          0.000000\n",
       "50%          0.000000\n",
       "75%          1.000000\n",
       "max          3.000000\n",
       "Name: ponds_around_3000, dtype: float64"
      ]
     },
     "execution_count": 174,
     "metadata": {},
     "output_type": "execute_result"
    }
   ],
   "source": [
    "flats['ponds_around_3000'].describe()"
   ]
  },
  {
   "cell_type": "code",
   "execution_count": 175,
   "metadata": {},
   "outputs": [
    {
     "name": "stdout",
     "output_type": "stream",
     "text": [
      "   count    percent\n",
      "0  13562  64.165405\n",
      "1   4996  23.637396\n",
      "2   1559   7.376041\n",
      "3   1019   4.821158\n"
     ]
    }
   ],
   "source": [
    "value_counts_percent(flats['ponds_around_3000'])"
   ]
  },
  {
   "cell_type": "markdown",
   "metadata": {},
   "source": [
    "Редких и выбивающихся значений нет"
   ]
  },
  {
   "cell_type": "markdown",
   "metadata": {},
   "source": [
    "**Столбец _ponds_nearest_**"
   ]
  },
  {
   "cell_type": "code",
   "execution_count": 176,
   "metadata": {},
   "outputs": [
    {
     "data": {
      "text/plain": [
       "count    21136.000000\n",
       "mean       190.393263\n",
       "std        304.465428\n",
       "min         -1.000000\n",
       "25%         -1.000000\n",
       "50%         -1.000000\n",
       "75%        366.000000\n",
       "max       1344.000000\n",
       "Name: ponds_nearest, dtype: float64"
      ]
     },
     "execution_count": 176,
     "metadata": {},
     "output_type": "execute_result"
    }
   ],
   "source": [
    "flats['ponds_nearest'].describe()"
   ]
  },
  {
   "cell_type": "code",
   "execution_count": 177,
   "metadata": {},
   "outputs": [
    {
     "name": "stdout",
     "output_type": "stream",
     "text": [
      "       count    percent\n",
      "-1     13562  64.165405\n",
      " 427      42   0.198713\n",
      " 433      38   0.179788\n",
      " 564      33   0.156132\n",
      " 454      32   0.151400\n",
      "...      ...        ...\n",
      " 994       1   0.004731\n",
      " 625       1   0.004731\n",
      " 1066      1   0.004731\n",
      " 1082      1   0.004731\n",
      " 977       1   0.004731\n",
      "\n",
      "[1070 rows x 2 columns]\n"
     ]
    }
   ],
   "source": [
    "value_counts_percent(flats['ponds_nearest'])"
   ]
  },
  {
   "cell_type": "markdown",
   "metadata": {},
   "source": [
    "Только у чуть более 1/3 квартир есть на допустимом удалении водоём.  \n",
    "Выбивающихся значений нет, разброс расстояний до водоёмов очень широкий, поэтому выбрать редкие значения не предоставляется возможным"
   ]
  },
  {
   "cell_type": "markdown",
   "metadata": {},
   "source": [
    "**Столбец _days_exposition_**"
   ]
  },
  {
   "cell_type": "code",
   "execution_count": 178,
   "metadata": {},
   "outputs": [
    {
     "data": {
      "text/plain": [
       "count    21136.000000\n",
       "mean       164.957135\n",
       "std        200.357037\n",
       "min          1.000000\n",
       "25%         45.000000\n",
       "50%         92.000000\n",
       "75%        193.000000\n",
       "max       1580.000000\n",
       "Name: days_exposition, dtype: float64"
      ]
     },
     "execution_count": 178,
     "metadata": {},
     "output_type": "execute_result"
    }
   ],
   "source": [
    "flats['days_exposition'].describe()"
   ]
  },
  {
   "cell_type": "code",
   "execution_count": 179,
   "metadata": {},
   "outputs": [
    {
     "data": {
      "text/plain": [
       "724.0"
      ]
     },
     "execution_count": 179,
     "metadata": {},
     "output_type": "execute_result"
    }
   ],
   "source": [
    "flats['days_exposition'].quantile(0.97)"
   ]
  },
  {
   "cell_type": "markdown",
   "metadata": {},
   "source": [
    "Ограничим возраст объявления 2-мя годами. Удалим 3% выбивающихся значений"
   ]
  },
  {
   "cell_type": "code",
   "execution_count": 180,
   "metadata": {},
   "outputs": [
    {
     "data": {
      "text/plain": [
       "[92.0, 92.0]"
      ]
     },
     "execution_count": 180,
     "metadata": {},
     "output_type": "execute_result"
    }
   ],
   "source": [
    "drop_rare_out_values(flats['days_exposition'], quantile=0.97, cut_percent=NONE)"
   ]
  },
  {
   "cell_type": "code",
   "execution_count": 181,
   "metadata": {},
   "outputs": [
    {
     "name": "stdout",
     "output_type": "stream",
     "text": [
      "     count   percent\n",
      "45     837  4.083126\n",
      "92     717  3.497732\n",
      "60     513  2.502561\n",
      "118    402  1.961071\n",
      "99     369  1.800088\n",
      "..     ...       ...\n",
      "709      1  0.004878\n",
      "693      1  0.004878\n",
      "696      1  0.004878\n",
      "634      1  0.004878\n",
      "657      1  0.004878\n",
      "\n",
      "[712 rows x 2 columns]\n"
     ]
    }
   ],
   "source": [
    "value_counts_percent(flats['days_exposition'])"
   ]
  },
  {
   "cell_type": "markdown",
   "metadata": {},
   "source": [
    "Разброс возрастов объявлений очень широкий, поэтому выбрать редкие значения не предоставляется возможным"
   ]
  },
  {
   "cell_type": "markdown",
   "metadata": {},
   "source": [
    "**Столбец _total_area_grp_**"
   ]
  },
  {
   "cell_type": "markdown",
   "metadata": {},
   "source": [
    "Столбец группового деления. Обработки не требует"
   ]
  },
  {
   "cell_type": "markdown",
   "metadata": {},
   "source": [
    "**Столбец _last_price_grp_**"
   ]
  },
  {
   "cell_type": "markdown",
   "metadata": {},
   "source": [
    "Столбец группового деления. Обработки не требует"
   ]
  },
  {
   "cell_type": "markdown",
   "metadata": {},
   "source": [
    "**Столбец _square_meter_price_**"
   ]
  },
  {
   "cell_type": "markdown",
   "metadata": {},
   "source": [
    "Производный столбец. Обработки не требует. Обработки требуют столбцы, формирующие значения данного"
   ]
  },
  {
   "cell_type": "markdown",
   "metadata": {},
   "source": [
    "**Столбец _exposition_day_**"
   ]
  },
  {
   "cell_type": "markdown",
   "metadata": {},
   "source": [
    "День даты подачи объявления. Обработки не требует"
   ]
  },
  {
   "cell_type": "markdown",
   "metadata": {},
   "source": [
    "**Столбец _exposition_month_**"
   ]
  },
  {
   "cell_type": "markdown",
   "metadata": {},
   "source": [
    "Месяц даты подачи объявления. Обработки не требует"
   ]
  },
  {
   "cell_type": "markdown",
   "metadata": {},
   "source": [
    "**Столбец _exposition_year_**"
   ]
  },
  {
   "cell_type": "markdown",
   "metadata": {},
   "source": [
    "Год даты подачи объявления. Обработки не требует"
   ]
  },
  {
   "cell_type": "markdown",
   "metadata": {},
   "source": [
    "**Столбец _flat_floor_**"
   ]
  },
  {
   "cell_type": "markdown",
   "metadata": {},
   "source": [
    "Столбец группового деления. Обработки не требует"
   ]
  },
  {
   "cell_type": "markdown",
   "metadata": {},
   "source": [
    "**Столбец _living_total_areas_relation_**"
   ]
  },
  {
   "cell_type": "markdown",
   "metadata": {},
   "source": [
    "Производный столбец. Обработки не требует. Обработки требуют столбцы,формирующие значения данного"
   ]
  },
  {
   "cell_type": "markdown",
   "metadata": {},
   "source": [
    "**Столбец _kitchen_total_areas_relation_**"
   ]
  },
  {
   "cell_type": "markdown",
   "metadata": {},
   "source": [
    "Производный столбец. Обработки не требует. Обработки требуют столбцы, формирующие значения данного"
   ]
  },
  {
   "cell_type": "code",
   "execution_count": 182,
   "metadata": {},
   "outputs": [
    {
     "data": {
      "text/plain": [
       "12.966501082664621"
      ]
     },
     "execution_count": 182,
     "metadata": {},
     "output_type": "execute_result"
    }
   ],
   "source": [
    "# Процент удаленных значений\n",
    "100 - (flats.shape[0] / df_dim_before[0] *100)"
   ]
  },
  {
   "cell_type": "markdown",
   "metadata": {},
   "source": [
    "***Промежуточный итог***  \n",
    "  \n",
    "Выбивающиеся и редкие значения удалены. Размер набора данных уменьшился на 12.97% -- не так мало, как бы хотелось, но будем считать, что до 15% это вполне допустимо.  \n",
    "  \n",
    "Без изменения остались столбцы: *first_day_exposition*, *floor*, *is_apartment*, *studio*, *open_plan*, *kitchen_area*, *balcony*, *locality_name*, *airports_nearest*, *city_centers_nearest*, *parks_around_3000*, *parks_nearest*, *ponds_around_3000*, *ponds_nearest*, *total_area_grp*, *last_price_grp*, *square_meter_price*, *exposition_day*, *exposition_month*, *exposition_year*, *flat_floor*, *living_total_areas_relation*, *kitchen_total_areas_relation*.  \n",
    "  \n",
    "Выбивающиеся значения были удалены в столбцах: *last_price*, *total_area*, *living_area*, *days_exposition*.\n",
    "\n",
    "Редкие значения были удалены в столбцах: *total_images*, *rooms*\n",
    "  \n",
    "Выбивающиеся и редкие значения были удалены в столбцах: *floors_total*, *ceiling_height*"
   ]
  },
  {
   "cell_type": "markdown",
   "metadata": {},
   "source": [
    "**Определить, какие факторы больше всего влияют на стоимость квартиры; изучить, как зависит цена от квадратного метра, числа комнат, удалённости от центра; изучить зависимость цены от того, на каком этаже расположена квартира: первом, последнем или другом, зависимость от даты размещения: дня недели, месяца и года**"
   ]
  },
  {
   "cell_type": "code",
   "execution_count": 183,
   "metadata": {},
   "outputs": [
    {
     "data": {
      "text/plain": [
       "last_price                      1.000000\n",
       "last_price_grp                  0.888721\n",
       "total_area                      0.738426\n",
       "square_meter_price              0.678867\n",
       "total_area_grp                  0.666493\n",
       "living_area                     0.609825\n",
       "kitchen_area                    0.555790\n",
       "rooms                           0.439969\n",
       "ceiling_height                  0.357541\n",
       "airports_nearest                0.309782\n",
       "ponds_around_3000               0.282619\n",
       "parks_around_3000               0.250938\n",
       "parks_nearest                   0.244557\n",
       "ponds_nearest                   0.192164\n",
       "floors_total                    0.191009\n",
       "total_images                    0.163443\n",
       "floor                           0.133254\n",
       "balcony                         0.085491\n",
       "city_centers_nearest            0.077578\n",
       "days_exposition                 0.072164\n",
       "flat_floor                      0.038537\n",
       "living_total_areas_relation     0.010376\n",
       "exposition_year                 0.005995\n",
       "exposition_month                0.005036\n",
       "exposition_day                 -0.001492\n",
       "open_plan                      -0.004464\n",
       "Unnamed: 0                     -0.010325\n",
       "studio                         -0.053196\n",
       "kitchen_total_areas_relation   -0.105062\n",
       "Name: last_price, dtype: float64"
      ]
     },
     "execution_count": 183,
     "metadata": {},
     "output_type": "execute_result"
    }
   ],
   "source": [
    "flats.corr()['last_price'].sort_values(ascending=False)"
   ]
  },
  {
   "cell_type": "markdown",
   "metadata": {},
   "source": [
    "***Промежуточный итог***  \n",
    "  \n",
    "Больше всего на стоимость квартиры влияет её полная площадь и все зависимые от нее (площади) характеристики квартиры -- жилая площадь, площадь кухни, количество комнат.  \n",
    "Зависимость стоимости квартиры от цены на квадратный метр -- выше среднего.  \n",
    "Зависимость стоимости квартиры от количества комнат -- ниже среднего.  \n",
    "Зависимость стоимости квартиры от удаленности от центра -- низкая.  \n",
    "Зависимость стоимости квартиры от этажа квартиры -- низкая.  \n",
    "Зависимость стоимости квартиры от даты (день, месяц, год) размещения объявления о продаже -- пренебрежительно мала"
   ]
  },
  {
   "cell_type": "markdown",
   "metadata": {},
   "source": [
    "**Выбрать 10 населённых пунктов с наибольшим числом объявлений; посчитать среднюю цену квадратного метра в этих населённых пунктах; выделить населённые пункты с самой высокой и низкой стоимостью жилья**"
   ]
  },
  {
   "cell_type": "code",
   "execution_count": 184,
   "metadata": {},
   "outputs": [
    {
     "name": "stdout",
     "output_type": "stream",
     "text": [
      "                   count\n",
      "locality_name           \n",
      "Санкт-Петербург    13109\n",
      "посёлок Мурино       484\n",
      "посёлок Шушары       422\n",
      "Всеволожск           369\n",
      "Пушкин               324\n",
      "Колпино              321\n",
      "посёлок Парголово    308\n",
      "Гатчина              281\n",
      "деревня Кудрово      259\n",
      "Выборг               208\n"
     ]
    }
   ],
   "source": [
    "pt = flats.pivot_table(index='locality_name', values='last_price', aggfunc='count')\n",
    "pt.columns = ['count']\n",
    "pt.sort_values(by='count', ascending=False, inplace=True)\n",
    "top10 = pt.head(10)\n",
    "print(top10)"
   ]
  },
  {
   "cell_type": "code",
   "execution_count": 185,
   "metadata": {},
   "outputs": [
    {
     "data": {
      "text/plain": [
       "Index(['Санкт-Петербург', 'посёлок Мурино', 'посёлок Шушары', 'Всеволожск',\n",
       "       'Пушкин', 'Колпино', 'посёлок Парголово', 'Гатчина', 'деревня Кудрово',\n",
       "       'Выборг'],\n",
       "      dtype='object', name='locality_name')"
      ]
     },
     "execution_count": 185,
     "metadata": {},
     "output_type": "execute_result"
    }
   ],
   "source": [
    "names_top10 = top10.index\n",
    "names_top10"
   ]
  },
  {
   "cell_type": "code",
   "execution_count": 186,
   "metadata": {},
   "outputs": [
    {
     "data": {
      "text/html": [
       "<div>\n",
       "<style scoped>\n",
       "    .dataframe tbody tr th:only-of-type {\n",
       "        vertical-align: middle;\n",
       "    }\n",
       "\n",
       "    .dataframe tbody tr th {\n",
       "        vertical-align: top;\n",
       "    }\n",
       "\n",
       "    .dataframe thead th {\n",
       "        text-align: right;\n",
       "    }\n",
       "</style>\n",
       "<table border=\"1\" class=\"dataframe\">\n",
       "  <thead>\n",
       "    <tr style=\"text-align: right;\">\n",
       "      <th></th>\n",
       "      <th>locality_name</th>\n",
       "      <th>square_meter_price_mean</th>\n",
       "    </tr>\n",
       "  </thead>\n",
       "  <tbody>\n",
       "    <tr>\n",
       "      <th>0</th>\n",
       "      <td>Санкт-Петербург</td>\n",
       "      <td>108079.147141</td>\n",
       "    </tr>\n",
       "    <tr>\n",
       "      <th>1</th>\n",
       "      <td>Пушкин</td>\n",
       "      <td>101350.337477</td>\n",
       "    </tr>\n",
       "    <tr>\n",
       "      <th>2</th>\n",
       "      <td>деревня Кудрово</td>\n",
       "      <td>92198.808421</td>\n",
       "    </tr>\n",
       "    <tr>\n",
       "      <th>3</th>\n",
       "      <td>посёлок Парголово</td>\n",
       "      <td>90235.745774</td>\n",
       "    </tr>\n",
       "    <tr>\n",
       "      <th>4</th>\n",
       "      <td>посёлок Мурино</td>\n",
       "      <td>85577.654560</td>\n",
       "    </tr>\n",
       "    <tr>\n",
       "      <th>5</th>\n",
       "      <td>посёлок Шушары</td>\n",
       "      <td>78472.758927</td>\n",
       "    </tr>\n",
       "    <tr>\n",
       "      <th>6</th>\n",
       "      <td>Колпино</td>\n",
       "      <td>75405.780498</td>\n",
       "    </tr>\n",
       "    <tr>\n",
       "      <th>7</th>\n",
       "      <td>Гатчина</td>\n",
       "      <td>68934.902761</td>\n",
       "    </tr>\n",
       "    <tr>\n",
       "      <th>8</th>\n",
       "      <td>Всеволожск</td>\n",
       "      <td>67213.368523</td>\n",
       "    </tr>\n",
       "    <tr>\n",
       "      <th>9</th>\n",
       "      <td>Выборг</td>\n",
       "      <td>57987.390009</td>\n",
       "    </tr>\n",
       "  </tbody>\n",
       "</table>\n",
       "</div>"
      ],
      "text/plain": [
       "       locality_name  square_meter_price_mean\n",
       "0    Санкт-Петербург            108079.147141\n",
       "1             Пушкин            101350.337477\n",
       "2    деревня Кудрово             92198.808421\n",
       "3  посёлок Парголово             90235.745774\n",
       "4     посёлок Мурино             85577.654560\n",
       "5     посёлок Шушары             78472.758927\n",
       "6            Колпино             75405.780498\n",
       "7            Гатчина             68934.902761\n",
       "8         Всеволожск             67213.368523\n",
       "9             Выборг             57987.390009"
      ]
     },
     "execution_count": 186,
     "metadata": {},
     "output_type": "execute_result"
    }
   ],
   "source": [
    "tmp_df_data = []\n",
    "\n",
    "for i in names_top10:\n",
    "    tmp_df_data.append(\n",
    "    [\n",
    "        i,\n",
    "        (flats.loc[flats['locality_name'] == i, 'square_meter_price'].sum() / \n",
    "         flats.loc[flats['locality_name'] == i, 'square_meter_price'].count())\n",
    "    ])\n",
    "    \n",
    "tmp_df = pd.DataFrame(columns=['locality_name', 'square_meter_price_mean'], data=tmp_df_data)\n",
    "tmp_df.sort_values(by='square_meter_price_mean', ascending=False).reset_index(drop=True)"
   ]
  },
  {
   "cell_type": "markdown",
   "metadata": {},
   "source": [
    "***Промежуточный итог***  \n",
    "  \n",
    "Десять населеннызх пунктов с самой дорогой жилой недвижимостью выделены, средние цены квадратного метра для них посчитаны.  \n",
    "Наиболее дорогая недвижимость, ожидаемо, в Санкт-Петербурге.  \n",
    "Наименее дорогая недвижимость в Выборге"
   ]
  },
  {
   "cell_type": "markdown",
   "metadata": {},
   "source": [
    "**Выделить квартиры в Санкт-Петербурге; выяснить, какая область входит в центр -- создать столбец с расстоянием до центра в километрах: округлить до целых значений, посчитать среднюю цену для каждого километра, построить график: он должен показывать, как цена зависит от удалённости от центра**"
   ]
  },
  {
   "cell_type": "code",
   "execution_count": 187,
   "metadata": {},
   "outputs": [],
   "source": [
    "import math"
   ]
  },
  {
   "cell_type": "code",
   "execution_count": 188,
   "metadata": {},
   "outputs": [],
   "source": [
    "def zones_ceiling(row):\n",
    "    value = row['city_centers_nearest']\n",
    "    return math.ceil(value / 1000)"
   ]
  },
  {
   "cell_type": "code",
   "execution_count": 189,
   "metadata": {},
   "outputs": [
    {
     "name": "stderr",
     "output_type": "stream",
     "text": [
      "<ipython-input-189-77b464c0b4d2>:2: SettingWithCopyWarning: \n",
      "A value is trying to be set on a copy of a slice from a DataFrame.\n",
      "Try using .loc[row_indexer,col_indexer] = value instead\n",
      "\n",
      "See the caveats in the documentation: https://pandas.pydata.org/pandas-docs/stable/user_guide/indexing.html#returning-a-view-versus-a-copy\n",
      "  spb['city_centers_zones'] = spb.apply(zones_ceiling, axis=1)\n"
     ]
    }
   ],
   "source": [
    "spb = flats.loc[flats['locality_name'] == names_top10[0],:]\n",
    "spb['city_centers_zones'] = spb.apply(zones_ceiling, axis=1)"
   ]
  },
  {
   "cell_type": "code",
   "execution_count": 190,
   "metadata": {},
   "outputs": [
    {
     "data": {
      "text/plain": [
       "array([17, 14, 12, 16, 15, 11, 13, 10,  3,  5,  9,  0,  8,  7,  6, 22, 18,\n",
       "        4,  2, 25, 26, 24, 23, 19, 21, 29, 20,  1, 28, 30, 27],\n",
       "      dtype=int64)"
      ]
     },
     "execution_count": 190,
     "metadata": {},
     "output_type": "execute_result"
    }
   ],
   "source": [
    "zones = spb['city_centers_zones'].unique()\n",
    "zones"
   ]
  },
  {
   "cell_type": "code",
   "execution_count": 191,
   "metadata": {},
   "outputs": [
    {
     "data": {
      "text/plain": [
       "0     126478.993912\n",
       "1     119097.074030\n",
       "2     130133.005788\n",
       "3     117028.955602\n",
       "4     119166.323505\n",
       "5     130307.306823\n",
       "6     129415.002174\n",
       "7     128282.113398\n",
       "8     124430.906785\n",
       "9     115793.552486\n",
       "10    109101.697703\n",
       "11    109348.079947\n",
       "12    105317.720942\n",
       "13    108136.826300\n",
       "14    106813.109149\n",
       "15    104541.128119\n",
       "16    101726.098986\n",
       "17     99191.361521\n",
       "18     95699.006284\n",
       "19     95271.179029\n",
       "20     95505.097638\n",
       "21    102305.967099\n",
       "22     91053.609337\n",
       "23     87971.354822\n",
       "24     91385.690165\n",
       "25     82440.343912\n",
       "26     90732.298654\n",
       "27     85899.758454\n",
       "28     70312.500000\n",
       "29     82057.341826\n",
       "30     56976.744186\n",
       "Name: zones_square_meter_price, dtype: float64"
      ]
     },
     "execution_count": 191,
     "metadata": {},
     "output_type": "execute_result"
    }
   ],
   "source": [
    "tmp_df_data = []\n",
    "\n",
    "for i in zones:\n",
    "    tmp_df_data.append(\n",
    "    [\n",
    "        i,\n",
    "        (spb.loc[spb['city_centers_zones'] == i, 'square_meter_price'].sum() / \n",
    "         spb.loc[spb['city_centers_zones'] == i, 'square_meter_price'].count())\n",
    "    ])\n",
    "    \n",
    "tmp_df = pd.DataFrame(columns=['city_centers_zones', 'zones_square_meter_price'], data=tmp_df_data)\n",
    "tmp_df = tmp_df.sort_values(by='city_centers_zones').reset_index(drop=True)\n",
    "tmp_df = tmp_df.loc[:, 'zones_square_meter_price']\n",
    "tmp_df"
   ]
  },
  {
   "cell_type": "code",
   "execution_count": 192,
   "metadata": {},
   "outputs": [
    {
     "data": {
      "text/plain": [
       "<matplotlib.axes._subplots.AxesSubplot at 0x14c71b4a310>"
      ]
     },
     "execution_count": 192,
     "metadata": {},
     "output_type": "execute_result"
    },
    {
     "data": {
      "image/png": "[encoded data removed]",
      "text/plain": [
       "<Figure size 1080x360 with 1 Axes>"
      ]
     },
     "metadata": {
      "needs_background": "light"
     },
     "output_type": "display_data"
    }
   ],
   "source": [
    "tmp_df.plot(grid=True, figsize=(15,5), style='x-')"
   ]
  },
  {
   "cell_type": "code",
   "execution_count": 193,
   "metadata": {},
   "outputs": [
    {
     "name": "stdout",
     "output_type": "stream",
     "text": [
      "119166.32350541228\n",
      "115793.55248604353\n"
     ]
    }
   ],
   "source": [
    "print(tmp_df[4])\n",
    "print(tmp_df[9])"
   ]
  },
  {
   "cell_type": "markdown",
   "metadata": {},
   "source": [
    "***Промежуточный итог***  \n",
    "  \n",
    "Выделены квартиры в Санкт-Петербурге. Создан столбец с расстоянием до центра в километрах, округленный до целых значений.  Посчитана средняя цена для каждого километра. Построен график, показывающий, как цена зависит от удалённости от центра.  \n",
    "Центром будем считать область, входящую в зону с удалением от центра не более 9 км -- после данной удаленности цена неуклонно снижается."
   ]
  },
  {
   "cell_type": "markdown",
   "metadata": {},
   "source": [
    "**Выделить сегмент квартир в центре; проанализировать эту территорию и изучить следующие параметры: площадь, цена, число комнат, высота потолков; также выделить факторы, которые влияют на стоимость квартиры (число комнат, этаж, удалённость от центра, дата размещения объявления)**"
   ]
  },
  {
   "cell_type": "code",
   "execution_count": 194,
   "metadata": {},
   "outputs": [],
   "source": [
    "spb_center = spb.loc[spb['city_centers_zones'] <= 9, :]"
   ]
  },
  {
   "cell_type": "markdown",
   "metadata": {},
   "source": [
    "**Площадь квартир**"
   ]
  },
  {
   "cell_type": "code",
   "execution_count": 195,
   "metadata": {},
   "outputs": [
    {
     "data": {
      "image/png": "[encoded data removed]",
      "text/plain": [
       "<Figure size 1080x360 with 1 Axes>"
      ]
     },
     "metadata": {
      "needs_background": "light"
     },
     "output_type": "display_data"
    }
   ],
   "source": [
    "hists(spb_center['total_area'], 0, bins=100)"
   ]
  },
  {
   "cell_type": "code",
   "execution_count": 196,
   "metadata": {},
   "outputs": [
    {
     "data": {
      "image/png": "[encoded data removed]",
      "text/plain": [
       "<Figure size 1080x360 with 2 Axes>"
      ]
     },
     "metadata": {
      "needs_background": "light"
     },
     "output_type": "display_data"
    }
   ],
   "source": [
    "rare_out_plot(spb_center['total_area'])"
   ]
  },
  {
   "cell_type": "code",
   "execution_count": 197,
   "metadata": {},
   "outputs": [
    {
     "data": {
      "image/png": "[encoded data removed]",
      "text/plain": [
       "<Figure size 1080x360 with 2 Axes>"
      ]
     },
     "metadata": {
      "needs_background": "light"
     },
     "output_type": "display_data"
    }
   ],
   "source": [
    "rare_out_plot(flats['total_area'])"
   ]
  },
  {
   "cell_type": "code",
   "execution_count": 198,
   "metadata": {},
   "outputs": [
    {
     "data": {
      "text/plain": [
       "count    2662.000000\n",
       "mean       65.982735\n",
       "std        23.836184\n",
       "min        13.000000\n",
       "25%        46.000000\n",
       "50%        63.000000\n",
       "75%        82.750000\n",
       "max       131.800000\n",
       "Name: total_area, dtype: float64"
      ]
     },
     "execution_count": 198,
     "metadata": {},
     "output_type": "execute_result"
    }
   ],
   "source": [
    "spb_center['total_area'].describe()"
   ]
  },
  {
   "cell_type": "markdown",
   "metadata": {},
   "source": [
    "***Промежуточный итог***  \n",
    "  \n",
    "Квартиры в центре имеют, в большинсте случаев, площадь от 40 кв.м. до 120 кв.м., при этом вариантов площадей в этом диапазоне большое множество. Иными словами, квартиры в центре имеют такие же площади, как все квартиры в целом."
   ]
  },
  {
   "cell_type": "markdown",
   "metadata": {},
   "source": [
    "**Цена квартир**"
   ]
  },
  {
   "cell_type": "code",
   "execution_count": 199,
   "metadata": {},
   "outputs": [
    {
     "data": {
      "image/png": "[encoded data removed]",
      "text/plain": [
       "<Figure size 1080x360 with 1 Axes>"
      ]
     },
     "metadata": {
      "needs_background": "light"
     },
     "output_type": "display_data"
    }
   ],
   "source": [
    "hists(spb_center['last_price'], 0, bins=100)"
   ]
  },
  {
   "cell_type": "code",
   "execution_count": 200,
   "metadata": {},
   "outputs": [
    {
     "data": {
      "image/png": "[encoded data removed]",
      "text/plain": [
       "<Figure size 1080x360 with 2 Axes>"
      ]
     },
     "metadata": {
      "needs_background": "light"
     },
     "output_type": "display_data"
    }
   ],
   "source": [
    "rare_out_plot(spb_center['last_price'])"
   ]
  },
  {
   "cell_type": "code",
   "execution_count": 201,
   "metadata": {},
   "outputs": [
    {
     "data": {
      "image/png": "[encoded data removed]",
      "text/plain": [
       "<Figure size 1080x360 with 2 Axes>"
      ]
     },
     "metadata": {
      "needs_background": "light"
     },
     "output_type": "display_data"
    }
   ],
   "source": [
    "rare_out_plot(flats['last_price'])"
   ]
  },
  {
   "cell_type": "code",
   "execution_count": 202,
   "metadata": {},
   "outputs": [
    {
     "data": {
      "text/plain": [
       "count    2.662000e+03\n",
       "mean     8.095929e+06\n",
       "std      3.529581e+06\n",
       "min      1.600000e+06\n",
       "25%      5.500000e+06\n",
       "50%      7.300000e+06\n",
       "75%      9.990000e+06\n",
       "max      1.995000e+07\n",
       "Name: last_price, dtype: float64"
      ]
     },
     "execution_count": 202,
     "metadata": {},
     "output_type": "execute_result"
    }
   ],
   "source": [
    "spb_center['last_price'].describe()"
   ]
  },
  {
   "cell_type": "markdown",
   "metadata": {},
   "source": [
    "***Промежуточный итог***  \n",
    "  \n",
    "Квартиры в центре по цене занимают второую половину диапазона цен всех квартир, при этом вариантов цен в этом диапазоне большое множество"
   ]
  },
  {
   "cell_type": "markdown",
   "metadata": {},
   "source": [
    "**Число комнат**"
   ]
  },
  {
   "cell_type": "code",
   "execution_count": 203,
   "metadata": {},
   "outputs": [
    {
     "data": {
      "image/png": "[encoded data removed]",
      "text/plain": [
       "<Figure size 1080x360 with 1 Axes>"
      ]
     },
     "metadata": {
      "needs_background": "light"
     },
     "output_type": "display_data"
    }
   ],
   "source": [
    "hists(spb_center['rooms'], 0, bins=5)"
   ]
  },
  {
   "cell_type": "code",
   "execution_count": 204,
   "metadata": {},
   "outputs": [
    {
     "data": {
      "image/png": "[encoded data removed]",
      "text/plain": [
       "<Figure size 1080x360 with 2 Axes>"
      ]
     },
     "metadata": {
      "needs_background": "light"
     },
     "output_type": "display_data"
    }
   ],
   "source": [
    "rare_out_plot(spb_center['rooms'])"
   ]
  },
  {
   "cell_type": "code",
   "execution_count": 205,
   "metadata": {},
   "outputs": [
    {
     "data": {
      "image/png": "[encoded data removed]",
      "text/plain": [
       "<Figure size 1080x360 with 2 Axes>"
      ]
     },
     "metadata": {
      "needs_background": "light"
     },
     "output_type": "display_data"
    }
   ],
   "source": [
    "rare_out_plot(flats['rooms'])"
   ]
  },
  {
   "cell_type": "markdown",
   "metadata": {},
   "source": [
    "***Промежуточный итог***  \n",
    "  \n",
    "Число комнат в квартирах центра в большинстве случаев колеблется от 1 до 3, что практически идентично ситуации по всем квартирам в целом."
   ]
  },
  {
   "cell_type": "markdown",
   "metadata": {},
   "source": [
    "**Высота потолков**"
   ]
  },
  {
   "cell_type": "code",
   "execution_count": 206,
   "metadata": {},
   "outputs": [
    {
     "data": {
      "image/png": "[encoded data removed]",
      "text/plain": [
       "<Figure size 1080x360 with 1 Axes>"
      ]
     },
     "metadata": {
      "needs_background": "light"
     },
     "output_type": "display_data"
    }
   ],
   "source": [
    "hists(spb_center['ceiling_height'], 0, bins=10)"
   ]
  },
  {
   "cell_type": "code",
   "execution_count": 207,
   "metadata": {},
   "outputs": [
    {
     "data": {
      "image/png": "[encoded data removed]",
      "text/plain": [
       "<Figure size 1080x360 with 1 Axes>"
      ]
     },
     "metadata": {
      "needs_background": "light"
     },
     "output_type": "display_data"
    }
   ],
   "source": [
    "hists(flats['ceiling_height'], 0, bins=10)"
   ]
  },
  {
   "cell_type": "code",
   "execution_count": 208,
   "metadata": {},
   "outputs": [
    {
     "data": {
      "image/png": "[encoded data removed]",
      "text/plain": [
       "<Figure size 1080x360 with 2 Axes>"
      ]
     },
     "metadata": {
      "needs_background": "light"
     },
     "output_type": "display_data"
    }
   ],
   "source": [
    "rare_out_plot(spb_center['ceiling_height'])"
   ]
  },
  {
   "cell_type": "code",
   "execution_count": 209,
   "metadata": {},
   "outputs": [
    {
     "data": {
      "image/png": "[encoded data removed]",
      "text/plain": [
       "<Figure size 1080x360 with 2 Axes>"
      ]
     },
     "metadata": {
      "needs_background": "light"
     },
     "output_type": "display_data"
    }
   ],
   "source": [
    "rare_out_plot(flats['ceiling_height'])"
   ]
  },
  {
   "cell_type": "markdown",
   "metadata": {},
   "source": [
    "***Промежуточный итог***  \n",
    "  \n",
    "Квартиры центра гораздо чаще имеют высоту потолков 3.0 м и выше, по сравнению с квартирами в целом"
   ]
  },
  {
   "cell_type": "markdown",
   "metadata": {},
   "source": [
    "**Выделить факторы, которые влияют на стоимость квартиры (число комнат, этаж, удалённость от центра, дата размещения объявления)**"
   ]
  },
  {
   "cell_type": "code",
   "execution_count": 210,
   "metadata": {},
   "outputs": [
    {
     "data": {
      "text/plain": [
       "last_price                      1.000000\n",
       "last_price_grp                  0.829201\n",
       "total_area                      0.736527\n",
       "total_area_grp                  0.701395\n",
       "living_area                     0.599972\n",
       "square_meter_price              0.535545\n",
       "kitchen_area                    0.532221\n",
       "rooms                           0.441817\n",
       "ceiling_height                  0.210772\n",
       "floor                           0.136653\n",
       "total_images                    0.120820\n",
       "parks_nearest                   0.119850\n",
       "days_exposition                 0.116703\n",
       "balcony                         0.116098\n",
       "ponds_around_3000               0.115759\n",
       "floors_total                    0.108795\n",
       "flat_floor                      0.107442\n",
       "parks_around_3000               0.076681\n",
       "ponds_nearest                   0.055543\n",
       "exposition_month                0.011344\n",
       "living_total_areas_relation     0.008494\n",
       "exposition_day                  0.003252\n",
       "exposition_year                -0.002848\n",
       "open_plan                      -0.014260\n",
       "airports_nearest               -0.015319\n",
       "Unnamed: 0                     -0.022064\n",
       "studio                         -0.045689\n",
       "kitchen_total_areas_relation   -0.071991\n",
       "city_centers_zones             -0.164817\n",
       "city_centers_nearest           -0.169632\n",
       "Name: last_price, dtype: float64"
      ]
     },
     "execution_count": 210,
     "metadata": {},
     "output_type": "execute_result"
    }
   ],
   "source": [
    "spb_center.corr()['last_price'].sort_values(ascending=False)"
   ]
  },
  {
   "cell_type": "markdown",
   "metadata": {},
   "source": [
    "***Промежуточный итог***  \n",
    "  \n",
    "Больше всего на стоимость квартиры влияет её полная площадь и все зависимые от нее (площади) характеристики квартиры -- жилая площадь, площадь кухни, количество комнат.  \n",
    "    \n",
    "Зависимость стоимости квартиры от количества комнат -- ниже среднего.  \n",
    "Зависимость стоимости квартиры от удаленности от центра -- низкая.  \n",
    "Зависимость стоимости квартиры от этажа квартиры -- низкая.  \n",
    "Зависимость стоимости квартиры от даты размещения объявления о продажи квартиры -- низкая"
   ]
  },
  {
   "cell_type": "markdown",
   "metadata": {},
   "source": [
    "# 5 Вывод"
   ]
  },
  {
   "cell_type": "markdown",
   "metadata": {},
   "source": [
    "После первого, общего взгляда на данные было выполнено:\n",
    "- переименованы столбцы в *city_centers_nearest*, *parks_around_3000*, *ponds_around_3000*;\n",
    "- заменены типы данных:\n",
    " - _float64_ на _int64_ для столбцов: *last_price*, *floors_total*, *balcony*, *airports_nearest*, *city_centers_nearest*, *parks_around_3000*, *parks_nearest*, *ponds_around_3000*, *ponds_nearest*, *days_exposition*Ж\n",
    " - _str_ в _datetime_ для *first_day_exposition*;\n",
    "- удалены аномальные значения в столбцах: *rooms*, *floors_total*, *locality_name*;\n",
    "- заменены аномальные значения на референтные для столбцов: *ceiling_height*, *living_area*, *is_apartment*, *kitchen_area*, *balcony*, *airports_nearest*, *city_centers_nearest*, *parks_around_3000*, *parks_nearest*, *ponds_around_3000*, *ponds_nearest*, *days_exposition*.\n",
    "\n",
    "Затем в DataFrame были добавленны данные, которые позволили провести более точный и удобный анализ, точнее ответить на поставленные вопросы, а именно:\n",
    "- цена квадратного метра;\n",
    "- день недели публикации объявления;\n",
    "- месяц публикации объявления;\n",
    "- год публикации объявления;\n",
    "- этаж квартиры в категориях первый, последний, другой;\n",
    "- соотношение жилой и общей площади;\n",
    "- соотношение площади кухни и общей площади.\n",
    "\n",
    "Затем были изучены следующие параметры квартир: площадь, цена, число комнат, высота потолков; были построены гистограммы для каждого параметра. В итоге были сделаны следующие выводы:  \n",
    "1. *Площад квартир.* С первого взгляда было видно, что имелись аномальные выбросы площадей в 4-ой четверти данных. При этом аномальное количесвто площадей укладывалось в 4% от общего числа.    \n",
    "2. *Цена квартир.* Отбросив 1% максимальных цен на квартиры данные стали более показательными. На следующих этапах обработки данных исследование в этом направлении было продолжено.  \n",
    "3. *Количество комнат.* Ограничив рассмотрение количества комнат восмью стало наглядно видно, что основная масса кварир имеет от 2 до 4-х комнат, что соответствует ожидаемому результату.\n",
    "4. *Высота потолков*. Ограничив рассмотрение высоты потолков от 2.5 до 3.6 м стало наглядно видно, что основная масса кварир имеет потолки от 2.6 м до 2.8 м, что соответствует ожидаемому результату.\n",
    "\n",
    "Далее было изучено время продажи квартиры; построена гистограмма данного параметра; посчитно среднее и медиана; выяснено, сколько времени обычно занимает продажа; определено когда можно считать, что продажи прошли очень быстро, а когда необычно долго:\n",
    "- среднее: 171;  \n",
    "- медиана: 94;  \n",
    "- обычно, в среднем, продажа квартиры занимет 3 месяца;  \n",
    "- если продажа квартиры длилась менее 45 дней -- продажа прошла очень быстро;  \n",
    "- если продажа квартиры длилась более 200 дней -- продажа прошла необычайно долго.  \n",
    "\n",
    "Затем были убраны редкие и выбивающиеся значения. После данных преобразований размер набора данных уменьшился на 12.97% -- не так мало, как бы хотелось, но будем считать, что до 15% это вполне допустимо. По результатам данного этапа:\n",
    "- *без изменения остались столбцы*: *first_day_exposition*, *floor*, *is_apartment*, *studio*, *open_plan*, *kitchen_area*, *balcony*, *locality_name*, *airports_nearest*, *city_centers_nearest*, *parks_around_3000*, *parks_nearest*, *ponds_around_3000*, *ponds_nearest*, *total_area_grp*, *last_price_grp*, *square_meter_price*, *exposition_day*, *exposition_month*, *exposition_year*, *flat_floor*, *living_total_areas_relation*, *kitchen_total_areas_relation*.  \n",
    "- *выбивающиеся значения были удалены в столбцах*: *last_price*, *total_area*, *living_area*, *days_exposition*.\n",
    "- *редкие значения были удалены в столбцах*: *total_images*, *rooms*\n",
    "- *выбивающиеся и редкие значения были удалены в столбцах*: *floors_total*, *ceiling_height*\n",
    "\n",
    "Далее было определено, какие факторы больше всего влияют на стоимость квартиры; изучено, как зависит цена от квадратного метра, числа комнат, удалённости от центра; изучена зависимость цены от того, на каком этаже расположена квартира: первом, последнем или другом, зависимость от даты размещения: дня недели, месяца и года. Были сделаны следующие выводы:\n",
    "- больше всего на стоимость квартиры влияет её полная площадь и все зависимые от нее (площади) характеристики квартиры -- жилая площадь, площадь кухни, количество комнат;  \n",
    "- зависимость стоимости квартиры от цены на квадратный метр -- выше среднего;  \n",
    "- зависимость стоимости квартиры от количества комнат -- ниже среднего;  \n",
    "- зависимость стоимости квартиры от удаленности от центра -- низкая;  \n",
    "- зависимость стоимости квартиры от этажа квартиры -- низкая;  \n",
    "- зависимость стоимости квартиры от даты (день, месяц, год) размещения объявления о продаже -- пренебрежительно мала\n",
    "\n",
    "Затем были выбраны 10 населённых пунктов с наибольшим числом объявлений; посчитано средняя цена квадратного метра в этих населённых пунктах; выделены населённые пункты с самой высокой и низкой стоимостью жилья. Наиболее дорогая недвижимость, ожидаемо, оказалась в Санкт-Петербурге. Наименее дорогая недвижимость -- в Выборге.\n",
    "\n",
    "Далее были выделены квартиры в Санкт-Петербурге; выяснено, какая область входит в центр -- создан столбец с расстоянием до центра в километрах, округленное до целых значений, посчитна средняя цена для каждого километра, построен график, который показал, как цена зависит от удалённости от центра. По итогам данного задания центром псчитали область, входящую в зону с удалением от центра не более 9 км -- после данной удаленности цена квартир неуклонно снижается.\n",
    "\n",
    "В финале был выделить сегмент квартир в центре; проанализирована эта территория и изучены следующие параметры: площадь, цена, число комнат, высота потолков; также были выделены факторы, которые влияют на стоимость квартиры (число комнат, этаж, удалённость от центра, дата размещения объявления). По итогам выполнения задания были сделаны следующие выводы:  \n",
    "1. *Площадь квартир.* Квартиры в центре имеют, в большинсте случаев, площадь от 40 кв.м. до 120 кв.м., при этом вариантов площадей в этом диапазоне большое множество. Иными словами, квартиры в центре имеют такие же площади, как все квартиры в целом.\n",
    "2. *Цена квартир.* Квартиры в центре по цене занимают второую половину диапазона цен всех квартир, при этом вариантов цен в этом диапазоне большое множество\n",
    "3. *Число комнат.* Число комнат в квартирах центра в большинстве случаев колеблется от 1 до 3, что практически идентично ситуации по всем квартирам в целом.\n",
    "4. *Высота потолков.* Квартиры центра гораздо чаще имеют высоту потолков 3.0 м и выше, по сравнению с квартирами в целом\n",
    "5. Больше всего на стоимость квартиры влияет её полная площадь и все зависимые от нее (площади) характеристики квартиры -- жилая площадь, площадь кухни, количество комнат. При этом:  \n",
    " - зависимость стоимости квартиры от количества комнат -- ниже среднего.  \n",
    " - зависимость стоимости квартиры от удаленности от центра -- низкая.  \n",
    " - зависимость стоимости квартиры от этажа квартиры -- низкая.  \n",
    " - зависимость стоимости квартиры от даты размещения объявления о продаже -- низкая, но выше, по сравнению со всеми квартирами в целом"
   ]
  }
 ],
 "metadata": {
  "kernelspec": {
   "display_name": "Python 3",
   "language": "python",
   "name": "python3"
  },
  "language_info": {
   "codemirror_mode": {
    "name": "ipython",
    "version": 3
   },
   "file_extension": ".py",
   "mimetype": "text/x-python",
   "name": "python",
   "nbconvert_exporter": "python",
   "pygments_lexer": "ipython3",
   "version": "3.8.3"
  },
  "toc": {
   "base_numbering": 1,
   "nav_menu": {},
   "number_sections": false,
   "sideBar": true,
   "skip_h1_title": false,
   "title_cell": "Table of Contents",
   "title_sidebar": "Contents",
   "toc_cell": false,
   "toc_position": {},
   "toc_section_display": true,
   "toc_window_display": false
  }
 },
 "nbformat": 4,
 "nbformat_minor": 4
}
