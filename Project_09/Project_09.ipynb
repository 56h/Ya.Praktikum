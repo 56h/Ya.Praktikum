{
 "cells": [
  {
   "cell_type": "markdown",
   "metadata": {},
   "source": [
    "# 1 Введение"
   ]
  },
  {
   "cell_type": "markdown",
   "metadata": {},
   "source": [
    "## 1.1 Постановка задачи"
   ]
  },
  {
   "cell_type": "markdown",
   "metadata": {},
   "source": [
    "**Заказчик** -- страховая компания  \n",
    "  \n",
    "**Задача** -- разработать метод преобразования данных так, чтобы по ним было сложно восстановить персональную информацию для защиты данных клиентов. При этом при преобразовании данных качество моделей машинного обучения не должно ухудшаться"
   ]
  },
  {
   "cell_type": "markdown",
   "metadata": {},
   "source": [
    "## 1.2 Исходные данные"
   ]
  },
  {
   "cell_type": "markdown",
   "metadata": {},
   "source": [
    "### 1.2.1 Переданные файлы\n",
    "- insurance.csv"
   ]
  },
  {
   "cell_type": "markdown",
   "metadata": {},
   "source": [
    "### 1.2.3 Описание данных"
   ]
  },
  {
   "cell_type": "markdown",
   "metadata": {},
   "source": [
    "**Признаки**: пол, возраст и зарплата застрахованного, количество членов его семьи  \n",
    "**Целевой признак**: количество страховых выплат клиенту за последние 5 лет."
   ]
  },
  {
   "cell_type": "markdown",
   "metadata": {},
   "source": [
    "## 1.3 План обработки и анализа данных"
   ]
  },
  {
   "cell_type": "markdown",
   "metadata": {},
   "source": [
    "### 1.3.1 Предобработка данных\n",
    "- обзор данных"
   ]
  },
  {
   "cell_type": "markdown",
   "metadata": {},
   "source": [
    "### 1.3.2 Выбор алгоритма преобразования"
   ]
  },
  {
   "cell_type": "markdown",
   "metadata": {},
   "source": [
    "### 1.3.3 Проверка алгоритма преобразования"
   ]
  },
  {
   "cell_type": "markdown",
   "metadata": {},
   "source": [
    "### 1.3.6 Вывод"
   ]
  },
  {
   "cell_type": "markdown",
   "metadata": {},
   "source": [
    "## 1.4 Пользовательские функции"
   ]
  },
  {
   "cell_type": "code",
   "execution_count": 1,
   "metadata": {},
   "outputs": [],
   "source": [
    "import numpy as np\n",
    "import pandas as pd\n",
    "from sklearn.linear_model import LinearRegression\n",
    "from sklearn.metrics import r2_score\n",
    "\n",
    "pd.options.display.float_format = '{:.2f}'.format\n",
    "pd.options.display.max_rows = 10\n",
    "#pd.options.display.max_columns = 50\n",
    "pd.options.mode.chained_assignment = None"
   ]
  },
  {
   "cell_type": "markdown",
   "metadata": {},
   "source": [
    "# 2 Основная часть"
   ]
  },
  {
   "cell_type": "markdown",
   "metadata": {},
   "source": [
    "## 2.1 Предобработка данных"
   ]
  },
  {
   "cell_type": "markdown",
   "metadata": {},
   "source": [
    "**Обзор данных**"
   ]
  },
  {
   "cell_type": "code",
   "execution_count": 2,
   "metadata": {},
   "outputs": [],
   "source": [
    "data = pd.read_csv('insurance.csv')"
   ]
  },
  {
   "cell_type": "code",
   "execution_count": 3,
   "metadata": {},
   "outputs": [
    {
     "data": {
      "text/html": [
       "<div>\n",
       "<style scoped>\n",
       "    .dataframe tbody tr th:only-of-type {\n",
       "        vertical-align: middle;\n",
       "    }\n",
       "\n",
       "    .dataframe tbody tr th {\n",
       "        vertical-align: top;\n",
       "    }\n",
       "\n",
       "    .dataframe thead th {\n",
       "        text-align: right;\n",
       "    }\n",
       "</style>\n",
       "<table border=\"1\" class=\"dataframe\">\n",
       "  <thead>\n",
       "    <tr style=\"text-align: right;\">\n",
       "      <th></th>\n",
       "      <th>Пол</th>\n",
       "      <th>Возраст</th>\n",
       "      <th>Зарплата</th>\n",
       "      <th>Члены семьи</th>\n",
       "      <th>Страховые выплаты</th>\n",
       "    </tr>\n",
       "  </thead>\n",
       "  <tbody>\n",
       "    <tr>\n",
       "      <td>0</td>\n",
       "      <td>1</td>\n",
       "      <td>41.00</td>\n",
       "      <td>49600.00</td>\n",
       "      <td>1</td>\n",
       "      <td>0</td>\n",
       "    </tr>\n",
       "    <tr>\n",
       "      <td>1</td>\n",
       "      <td>0</td>\n",
       "      <td>46.00</td>\n",
       "      <td>38000.00</td>\n",
       "      <td>1</td>\n",
       "      <td>1</td>\n",
       "    </tr>\n",
       "    <tr>\n",
       "      <td>2</td>\n",
       "      <td>0</td>\n",
       "      <td>29.00</td>\n",
       "      <td>21000.00</td>\n",
       "      <td>0</td>\n",
       "      <td>0</td>\n",
       "    </tr>\n",
       "    <tr>\n",
       "      <td>3</td>\n",
       "      <td>0</td>\n",
       "      <td>21.00</td>\n",
       "      <td>41700.00</td>\n",
       "      <td>2</td>\n",
       "      <td>0</td>\n",
       "    </tr>\n",
       "    <tr>\n",
       "      <td>4</td>\n",
       "      <td>1</td>\n",
       "      <td>28.00</td>\n",
       "      <td>26100.00</td>\n",
       "      <td>0</td>\n",
       "      <td>0</td>\n",
       "    </tr>\n",
       "    <tr>\n",
       "      <td>...</td>\n",
       "      <td>...</td>\n",
       "      <td>...</td>\n",
       "      <td>...</td>\n",
       "      <td>...</td>\n",
       "      <td>...</td>\n",
       "    </tr>\n",
       "    <tr>\n",
       "      <td>4995</td>\n",
       "      <td>0</td>\n",
       "      <td>28.00</td>\n",
       "      <td>35700.00</td>\n",
       "      <td>2</td>\n",
       "      <td>0</td>\n",
       "    </tr>\n",
       "    <tr>\n",
       "      <td>4996</td>\n",
       "      <td>0</td>\n",
       "      <td>34.00</td>\n",
       "      <td>52400.00</td>\n",
       "      <td>1</td>\n",
       "      <td>0</td>\n",
       "    </tr>\n",
       "    <tr>\n",
       "      <td>4997</td>\n",
       "      <td>0</td>\n",
       "      <td>20.00</td>\n",
       "      <td>33900.00</td>\n",
       "      <td>2</td>\n",
       "      <td>0</td>\n",
       "    </tr>\n",
       "    <tr>\n",
       "      <td>4998</td>\n",
       "      <td>1</td>\n",
       "      <td>22.00</td>\n",
       "      <td>32700.00</td>\n",
       "      <td>3</td>\n",
       "      <td>0</td>\n",
       "    </tr>\n",
       "    <tr>\n",
       "      <td>4999</td>\n",
       "      <td>1</td>\n",
       "      <td>28.00</td>\n",
       "      <td>40600.00</td>\n",
       "      <td>1</td>\n",
       "      <td>0</td>\n",
       "    </tr>\n",
       "  </tbody>\n",
       "</table>\n",
       "<p>5000 rows × 5 columns</p>\n",
       "</div>"
      ],
      "text/plain": [
       "      Пол  Возраст  Зарплата  Члены семьи  Страховые выплаты\n",
       "0       1    41.00  49600.00            1                  0\n",
       "1       0    46.00  38000.00            1                  1\n",
       "2       0    29.00  21000.00            0                  0\n",
       "3       0    21.00  41700.00            2                  0\n",
       "4       1    28.00  26100.00            0                  0\n",
       "...   ...      ...       ...          ...                ...\n",
       "4995    0    28.00  35700.00            2                  0\n",
       "4996    0    34.00  52400.00            1                  0\n",
       "4997    0    20.00  33900.00            2                  0\n",
       "4998    1    22.00  32700.00            3                  0\n",
       "4999    1    28.00  40600.00            1                  0\n",
       "\n",
       "[5000 rows x 5 columns]"
      ]
     },
     "execution_count": 3,
     "metadata": {},
     "output_type": "execute_result"
    }
   ],
   "source": [
    "data"
   ]
  },
  {
   "cell_type": "code",
   "execution_count": 4,
   "metadata": {},
   "outputs": [
    {
     "name": "stdout",
     "output_type": "stream",
     "text": [
      "<class 'pandas.core.frame.DataFrame'>\n",
      "RangeIndex: 5000 entries, 0 to 4999\n",
      "Data columns (total 5 columns):\n",
      "Пол                  5000 non-null int64\n",
      "Возраст              5000 non-null float64\n",
      "Зарплата             5000 non-null float64\n",
      "Члены семьи          5000 non-null int64\n",
      "Страховые выплаты    5000 non-null int64\n",
      "dtypes: float64(2), int64(3)\n",
      "memory usage: 195.4 KB\n"
     ]
    }
   ],
   "source": [
    "data.info()"
   ]
  },
  {
   "cell_type": "code",
   "execution_count": 5,
   "metadata": {},
   "outputs": [
    {
     "data": {
      "text/html": [
       "<div>\n",
       "<style scoped>\n",
       "    .dataframe tbody tr th:only-of-type {\n",
       "        vertical-align: middle;\n",
       "    }\n",
       "\n",
       "    .dataframe tbody tr th {\n",
       "        vertical-align: top;\n",
       "    }\n",
       "\n",
       "    .dataframe thead th {\n",
       "        text-align: right;\n",
       "    }\n",
       "</style>\n",
       "<table border=\"1\" class=\"dataframe\">\n",
       "  <thead>\n",
       "    <tr style=\"text-align: right;\">\n",
       "      <th></th>\n",
       "      <th>Пол</th>\n",
       "      <th>Возраст</th>\n",
       "      <th>Зарплата</th>\n",
       "      <th>Члены семьи</th>\n",
       "      <th>Страховые выплаты</th>\n",
       "    </tr>\n",
       "  </thead>\n",
       "  <tbody>\n",
       "    <tr>\n",
       "      <td>count</td>\n",
       "      <td>5000.00</td>\n",
       "      <td>5000.00</td>\n",
       "      <td>5000.00</td>\n",
       "      <td>5000.00</td>\n",
       "      <td>5000.00</td>\n",
       "    </tr>\n",
       "    <tr>\n",
       "      <td>mean</td>\n",
       "      <td>0.50</td>\n",
       "      <td>30.95</td>\n",
       "      <td>39916.36</td>\n",
       "      <td>1.19</td>\n",
       "      <td>0.15</td>\n",
       "    </tr>\n",
       "    <tr>\n",
       "      <td>std</td>\n",
       "      <td>0.50</td>\n",
       "      <td>8.44</td>\n",
       "      <td>9900.08</td>\n",
       "      <td>1.09</td>\n",
       "      <td>0.46</td>\n",
       "    </tr>\n",
       "    <tr>\n",
       "      <td>min</td>\n",
       "      <td>0.00</td>\n",
       "      <td>18.00</td>\n",
       "      <td>5300.00</td>\n",
       "      <td>0.00</td>\n",
       "      <td>0.00</td>\n",
       "    </tr>\n",
       "    <tr>\n",
       "      <td>25%</td>\n",
       "      <td>0.00</td>\n",
       "      <td>24.00</td>\n",
       "      <td>33300.00</td>\n",
       "      <td>0.00</td>\n",
       "      <td>0.00</td>\n",
       "    </tr>\n",
       "    <tr>\n",
       "      <td>50%</td>\n",
       "      <td>0.00</td>\n",
       "      <td>30.00</td>\n",
       "      <td>40200.00</td>\n",
       "      <td>1.00</td>\n",
       "      <td>0.00</td>\n",
       "    </tr>\n",
       "    <tr>\n",
       "      <td>75%</td>\n",
       "      <td>1.00</td>\n",
       "      <td>37.00</td>\n",
       "      <td>46600.00</td>\n",
       "      <td>2.00</td>\n",
       "      <td>0.00</td>\n",
       "    </tr>\n",
       "    <tr>\n",
       "      <td>max</td>\n",
       "      <td>1.00</td>\n",
       "      <td>65.00</td>\n",
       "      <td>79000.00</td>\n",
       "      <td>6.00</td>\n",
       "      <td>5.00</td>\n",
       "    </tr>\n",
       "  </tbody>\n",
       "</table>\n",
       "</div>"
      ],
      "text/plain": [
       "          Пол  Возраст  Зарплата  Члены семьи  Страховые выплаты\n",
       "count 5000.00  5000.00   5000.00      5000.00            5000.00\n",
       "mean     0.50    30.95  39916.36         1.19               0.15\n",
       "std      0.50     8.44   9900.08         1.09               0.46\n",
       "min      0.00    18.00   5300.00         0.00               0.00\n",
       "25%      0.00    24.00  33300.00         0.00               0.00\n",
       "50%      0.00    30.00  40200.00         1.00               0.00\n",
       "75%      1.00    37.00  46600.00         2.00               0.00\n",
       "max      1.00    65.00  79000.00         6.00               5.00"
      ]
     },
     "execution_count": 5,
     "metadata": {},
     "output_type": "execute_result"
    }
   ],
   "source": [
    "data.describe()"
   ]
  },
  {
   "cell_type": "markdown",
   "metadata": {},
   "source": [
    "По итогам первого, общего взгляда на данные, можно сделать следующие выводы:\n",
    "\n",
    "- набор данных состоит из 5 столбцов и 5000 строк;\n",
    "- имена столбцов читабельны, но требуют приведения их к привычному виду (\"under_score\" нотации);\n",
    "- пропуски в данных отсутствуют.\n",
    "  \n",
    "Необходимо сменить типы данных (в случае возможности):\n",
    "- *Возраст* на *int*;\n",
    "- *Зарплата* на *int*."
   ]
  },
  {
   "cell_type": "markdown",
   "metadata": {},
   "source": [
    "**Корректировка имён столбцов**"
   ]
  },
  {
   "cell_type": "code",
   "execution_count": 6,
   "metadata": {},
   "outputs": [
    {
     "data": {
      "text/plain": [
       "Index(['пол', 'возраст', 'зарплата', 'члены_семьи', 'страховые_выплаты'], dtype='object')"
      ]
     },
     "execution_count": 6,
     "metadata": {},
     "output_type": "execute_result"
    }
   ],
   "source": [
    "data.rename(columns={'Пол': 'пол',\n",
    "                     'Возраст': 'возраст',\n",
    "                     'Зарплата': 'зарплата',\n",
    "                     'Члены семьи': 'члены_семьи',\n",
    "                     'Страховые выплаты': 'страховые_выплаты',\n",
    "                    }, inplace=True)\n",
    "data.columns"
   ]
  },
  {
   "cell_type": "markdown",
   "metadata": {},
   "source": [
    "**Преобразование типов данных столбцов**"
   ]
  },
  {
   "cell_type": "code",
   "execution_count": 7,
   "metadata": {},
   "outputs": [
    {
     "name": "stdout",
     "output_type": "stream",
     "text": [
      "<class 'pandas.core.frame.DataFrame'>\n",
      "RangeIndex: 5000 entries, 0 to 4999\n",
      "Data columns (total 5 columns):\n",
      "пол                  5000 non-null int64\n",
      "возраст              5000 non-null int64\n",
      "зарплата             5000 non-null int64\n",
      "члены_семьи          5000 non-null int64\n",
      "страховые_выплаты    5000 non-null int64\n",
      "dtypes: int64(5)\n",
      "memory usage: 195.4 KB\n"
     ]
    }
   ],
   "source": [
    "data['возраст'] = data['возраст'].astype(int)\n",
    "data['зарплата'] = data['зарплата'].astype(int)\n",
    "data.info()"
   ]
  },
  {
   "cell_type": "markdown",
   "metadata": {},
   "source": [
    "**Удаление дубликатов строк**"
   ]
  },
  {
   "cell_type": "code",
   "execution_count": 8,
   "metadata": {},
   "outputs": [
    {
     "data": {
      "text/plain": [
       "153"
      ]
     },
     "execution_count": 8,
     "metadata": {},
     "output_type": "execute_result"
    }
   ],
   "source": [
    "data.duplicated().sum()"
   ]
  },
  {
   "cell_type": "code",
   "execution_count": 9,
   "metadata": {},
   "outputs": [
    {
     "data": {
      "text/plain": [
       "0"
      ]
     },
     "execution_count": 9,
     "metadata": {},
     "output_type": "execute_result"
    }
   ],
   "source": [
    "data.drop_duplicates(inplace=True)\n",
    "data.duplicated().sum()"
   ]
  },
  {
   "cell_type": "markdown",
   "metadata": {},
   "source": [
    "***Промежуточный итог***  \n",
    "  \n",
    "На данном этапе предобработки данных:\n",
    "- имена столбцов приведены к \"under_score\" нотации;\n",
    "- типы данных столбцов *Возраст*, *Зарплата* заменены на *int*;\n",
    "- удалены полные дубликаты строк.\n",
    "  \n",
    "Аномальные значения и пропуски в данных отсутствуют."
   ]
  },
  {
   "cell_type": "markdown",
   "metadata": {},
   "source": [
    "## 2.2 Выбор алгоритма преобразования"
   ]
  },
  {
   "cell_type": "markdown",
   "metadata": {},
   "source": [
    "Перед нами стоит задача обезличивания данных переданных признаков. Важно вести преобразование таким образом, чтобы свойства данных, влияние параметров на целевой признак осталось прежними. Это позволит обучить модель ML на преобразованных данных с таким же качеством, как и на исходных данных. Преобразование данных будем осуществлять используя свойство обратимости обратимой мтарицы.  \n",
    "Известно, что:\n",
    "$$\n",
    "\\begin{gather}\n",
    "    A\\cdot A^{-1} = A^{-1}\\cdot A = E&(1)\\\\\n",
    "    A\\cdot E=A&(2)\\\\\n",
    "    \\bigl(A\\cdot B\\bigr)\\cdot C = A\\cdot \\bigl(B\\cdot C\\bigr)&(3)\n",
    "\\end{gather}\n",
    "$$\n",
    "Пусть $Z$ -- обратимая матрица. Тогда, учитывая (1), (2) и (3) свойство обратимости может быть описано следующим образом:\n",
    "$$\n",
    "\\begin{gather}\n",
    "    A\\cdot Z = B\\\\\n",
    "    B\\cdot Z^{-1} = \\bigl(A\\cdot Z\\bigr)\\cdot Z^{-1} = A\\cdot \\bigl(Z\\cdot Z^{-1}\\bigr) = A \\cdot E = A\n",
    "\\end{gather}\n",
    "$$\n",
    "Проведём эксперимент:"
   ]
  },
  {
   "cell_type": "code",
   "execution_count": 10,
   "metadata": {},
   "outputs": [],
   "source": [
    "A = np.array([[ 1,  2,  3],\n",
    "              [ 4,  5,  6],\n",
    "              [ 7,  8,  9],\n",
    "              [10, 11, 12],\n",
    "              [13, 14, 15]])"
   ]
  },
  {
   "cell_type": "code",
   "execution_count": 11,
   "metadata": {},
   "outputs": [
    {
     "data": {
      "text/plain": [
       "array([[-0.34238658,  0.49704724,  0.43215143],\n",
       "       [-0.78948466,  0.15737492, -0.17047673],\n",
       "       [ 1.91454158, -0.44723717, -1.28427515]])"
      ]
     },
     "execution_count": 11,
     "metadata": {},
     "output_type": "execute_result"
    }
   ],
   "source": [
    "Z = np.random.normal(size = (3,3))\n",
    "np.linalg.inv(Z) # проверка на обратимость матрицы Z"
   ]
  },
  {
   "cell_type": "code",
   "execution_count": 12,
   "metadata": {},
   "outputs": [
    {
     "data": {
      "text/plain": [
       "array([[  5.11132043,  -3.76518578,  -0.11622045],\n",
       "       [ 13.68113875,  -8.44647386,   1.05292924],\n",
       "       [ 22.25095708, -13.12776193,   2.22207892],\n",
       "       [ 30.8207754 , -17.80905   ,   3.39122861],\n",
       "       [ 39.39059373, -22.49033808,   4.5603783 ]])"
      ]
     },
     "execution_count": 12,
     "metadata": {},
     "output_type": "execute_result"
    }
   ],
   "source": [
    "B = A @ Z\n",
    "B"
   ]
  },
  {
   "cell_type": "code",
   "execution_count": 13,
   "metadata": {},
   "outputs": [
    {
     "data": {
      "text/plain": [
       "array([[ 1.,  2.,  3.],\n",
       "       [ 4.,  5.,  6.],\n",
       "       [ 7.,  8.,  9.],\n",
       "       [10., 11., 12.],\n",
       "       [13., 14., 15.]])"
      ]
     },
     "execution_count": 13,
     "metadata": {},
     "output_type": "execute_result"
    }
   ],
   "source": [
    "B @ np.linalg.inv(Z)"
   ]
  },
  {
   "cell_type": "markdown",
   "metadata": {},
   "source": [
    "То приятное чувство, когда теория и практика полностью совпали. При этом состав элементов матрицы Z не имеет значения, важно лишь то, чтоб Z была обратимой.  \n",
    "  \n",
    "Таким образом, алгоритм преобразования данных сведётся к следующим шагам:\n",
    "- выделение признаков из набора данных;\n",
    "- формирование квадратной обратимой матрицы размером, равным количеству признаков -- матрицы обезличивания;\n",
    "- умножение матрицы признаков на матрицу обезличивания"
   ]
  },
  {
   "cell_type": "markdown",
   "metadata": {},
   "source": [
    "## 2.3 Проверка алгоритма преобразования"
   ]
  },
  {
   "cell_type": "markdown",
   "metadata": {},
   "source": [
    "Проверим наше утверждение, что качество модели ML, обученной на обезличенных данных таково же, как и качество модели ML, обученной на исходных данных"
   ]
  },
  {
   "cell_type": "code",
   "execution_count": 14,
   "metadata": {},
   "outputs": [
    {
     "data": {
      "text/plain": [
       "array([[-0.24654106,  0.22426977,  0.26461866,  0.30022465],\n",
       "       [ 0.41627574,  0.37209048, -0.14651143,  0.14768314],\n",
       "       [ 0.11843056,  0.28219764, -0.69328592,  0.07508809],\n",
       "       [ 0.04906915, -1.04318462,  0.26904606,  0.11131836]])"
      ]
     },
     "execution_count": 14,
     "metadata": {},
     "output_type": "execute_result"
    }
   ],
   "source": [
    "features = data.drop('страховые_выплаты', axis=1).values\n",
    "Z =np.random.normal(size = (4,4)) \n",
    "target = data['страховые_выплаты'].values\n",
    "np.linalg.inv(Z) # проверка на обратимость матрицы Z"
   ]
  },
  {
   "cell_type": "code",
   "execution_count": 15,
   "metadata": {},
   "outputs": [
    {
     "name": "stdout",
     "output_type": "stream",
     "text": [
      "Качество модели на исходных данных: 0.4302010046633359\n",
      "Качество модели на обезличенных данных: 0.43020100466333366\n"
     ]
    }
   ],
   "source": [
    "model = LinearRegression()\n",
    "model.fit(features, target)\n",
    "predictions = model.predict(features)\n",
    "print('Качество модели на исходных данных:',r2_score(target, predictions))\n",
    "\n",
    "Z_features = features @ Z\n",
    "model.fit(Z_features, target)\n",
    "predictions = model.predict(Z_features)\n",
    "print('Качество модели на обезличенных данных:',r2_score(target, predictions))"
   ]
  },
  {
   "cell_type": "markdown",
   "metadata": {},
   "source": [
    "***Промежуточный итог***  \n",
    "  \n",
    "Качество моделей, обученных на исходных и обезличенных данных, не меняется. Предложенный алгоритм обезличивания данных работоспособен"
   ]
  },
  {
   "cell_type": "markdown",
   "metadata": {},
   "source": [
    "# 3 Вывод"
   ]
  },
  {
   "cell_type": "markdown",
   "metadata": {},
   "source": [
    "В ходе выполнения работы было сделано следующее.  \n",
    "  \n",
    "По результатам этапа предобработки данных:\n",
    "- имена столбцов приведены к \"under_score\" нотации;\n",
    "- типы данных столбцов *Возраст*, *Зарплата* заменены на *int*;\n",
    "- удалены полные дубликаты строк.\n",
    "  \n",
    "Аномальные значения и пропуски в данных отсутствовали.  \n",
    "  \n",
    "Затем был пребложен алгоритм обезличивания данных, основанный на свойстве обратимости обратимой матрицы. Алгоритм преобразования данных свёлся к следующим шагам:\n",
    "- выделение признаков из набора данных;\n",
    "- формирование квадратной обратимой матрицы размером, равным количеству признаков -- матрицы обезличивания;\n",
    "- умножение матрицы признаков на матрицу обезличивания.\n",
    "  \n",
    "Затем была проверена работоспосодность предложенного алгоритма проверив утверждение о том, что качество модели ML, обученной на обезличенных данных таково же, как и качество модели ML, обученной на исходных данных. По результатам эксперимаента был сделан вывод о том, что качество моделей, обученных на исходных и обезличенных данных, не меняется.  \n",
    "  \n",
    "***Таким образом, предложенный алгоритм обезличивания данных работоспособен и может применяться Заказчиком для сокрытия персональных данных её клиентов***"
   ]
  }
 ],
 "metadata": {
  "kernelspec": {
   "display_name": "Python 3",
   "language": "python",
   "name": "python3"
  },
  "language_info": {
   "codemirror_mode": {
    "name": "ipython",
    "version": 3
   },
   "file_extension": ".py",
   "mimetype": "text/x-python",
   "name": "python",
   "nbconvert_exporter": "python",
   "pygments_lexer": "ipython3",
   "version": "3.8.3"
  },
  "toc": {
   "base_numbering": 1,
   "nav_menu": {},
   "number_sections": false,
   "sideBar": true,
   "skip_h1_title": false,
   "title_cell": "Table of Contents",
   "title_sidebar": "Contents",
   "toc_cell": false,
   "toc_position": {
    "height": "calc(100% - 180px)",
    "left": "10px",
    "top": "150px",
    "width": "376.771px"
   },
   "toc_section_display": true,
   "toc_window_display": true
  }
 },
 "nbformat": 4,
 "nbformat_minor": 4
}
