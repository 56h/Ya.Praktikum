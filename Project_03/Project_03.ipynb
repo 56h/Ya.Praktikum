{
 "cells": [
  {
   "cell_type": "markdown",
   "metadata": {},
   "source": [
    "# 1 Введение"
   ]
  },
  {
   "cell_type": "markdown",
   "metadata": {},
   "source": [
    "## 1.1 Постановка задачи"
   ]
  },
  {
   "cell_type": "markdown",
   "metadata": {},
   "source": [
    "**Заказчик** — федеральный оператор сотовой связи  \n",
    "  \n",
    "**Задача** -- клиентам предлагается два тарифных плана: «Смарт» и «Ультра»; необходимо понять, какой тариф приносит больше денег, чтобы скорректировать рекламный бюджет"
   ]
  },
  {
   "cell_type": "markdown",
   "metadata": {},
   "source": [
    "## 1.2 Исходные данные"
   ]
  },
  {
   "cell_type": "markdown",
   "metadata": {},
   "source": [
    "### 1.2.1 Описание тарифов"
   ]
  },
  {
   "cell_type": "markdown",
   "metadata": {},
   "source": [
    "#### 1.2.1.1 Тариф «Смарт»\n",
    "1. Ежемесячная плата: 550 рублей\n",
    "2. Включено 500 минут разговора, 50 сообщений и 15 Гб интернет-трафика\n",
    "3. Стоимость услуг сверх тарифного пакета:\n",
    " - минута разговора: 3 рубля\n",
    " - сообщение: 3 рубля\n",
    " - 1 Гб интернет-трафика: 200 рублей"
   ]
  },
  {
   "cell_type": "markdown",
   "metadata": {},
   "source": [
    "#### 1.2.1.2 Тариф «Ультра»\n",
    "1. Ежемесячная плата: 1950 рублей\n",
    "2. Включено 3000 минут разговора, 1000 сообщений и 30 Гб интернет-трафика\n",
    "3. Стоимость услуг сверх тарифного пакета:\n",
    " - минута разговора: 1 рубль\n",
    " - сообщение: 1 рубль\n",
    " - 1 Гб интернет-трафика: 150 рублей"
   ]
  },
  {
   "cell_type": "markdown",
   "metadata": {},
   "source": [
    "> **Внимание!** Заказчик всегда округляет вверх значения минут и мегабайтов. Если пользователь проговорил всего 1 секунду, в тарифе засчитывается целая минута."
   ]
  },
  {
   "cell_type": "markdown",
   "metadata": {},
   "source": [
    "### 1.2.2 Переданные файлы\n",
    "- users.csv\n",
    "- calls.csv\n",
    "- messages.csv\n",
    "- internet.csv\n",
    "- tariffs.csv"
   ]
  },
  {
   "cell_type": "markdown",
   "metadata": {},
   "source": [
    "### 1.2.3 Описание данных\n",
    "В нашем распоряжении данные 500 пользователей Заказчика: кто они, откуда, каким тарифом пользуются, сколько звонков и сообщений каждый отправил за 2018 год"
   ]
  },
  {
   "cell_type": "markdown",
   "metadata": {},
   "source": [
    "#### 1.2.3.1 Таблица *users* (информация о пользователях)\n",
    "- user_id — уникальный идентификатор пользователя\n",
    "- first_name — имя пользователя\n",
    "- last_name — фамилия пользователя\n",
    "- age — возраст пользователя (годы)\n",
    "- reg_date — дата подключения тарифа (день, месяц, год)\n",
    "- churn_date — дата прекращения пользования тарифом (если значение пропущено, то тариф ещё действовал на момент выгрузки данных)\n",
    "- city — город проживания пользователя\n",
    "- tariff — название тарифного плана"
   ]
  },
  {
   "cell_type": "markdown",
   "metadata": {},
   "source": [
    "#### 1.2.3.2 Таблица *calls* (информация о звонках)\n",
    "- id — уникальный номер звонка\n",
    "- call_date — дата звонка\n",
    "- duration — длительность звонка в минутах\n",
    "- user_id — идентификатор пользователя, сделавшего звонок"
   ]
  },
  {
   "cell_type": "markdown",
   "metadata": {},
   "source": [
    "#### 1.2.3.3 Таблица *messages* (информация о сообщениях)\n",
    "- id — уникальный номер сообщения\n",
    "- message_date — дата сообщения\n",
    "- user_id — идентификатор пользователя, отправившего сообщение"
   ]
  },
  {
   "cell_type": "markdown",
   "metadata": {},
   "source": [
    "#### 1.2.3.4 Таблица *internet* (информация об интернет-сессиях)\n",
    "- id — уникальный номер сессии\n",
    "- mb_used — объём потраченного за сессию интернет-трафика (в мегабайтах)\n",
    "- session_date — дата интернет-сессии\n",
    "- user_id — идентификатор пользователя"
   ]
  },
  {
   "cell_type": "markdown",
   "metadata": {},
   "source": [
    "#### 1.2.3.5 Таблица *tariffs* (информация о тарифах)\n",
    "- tariff_name — название тарифа\n",
    "- rub_monthly_fee — ежемесячная абонентская плата в рублях\n",
    "- minutes_included — количество минут разговора в месяц, включённых в абонентскую плату\n",
    "- messages_included — количество сообщений в месяц, включённых в абонентскую плату\n",
    "- mb_per_month_included — объём интернет-трафика, включённого в абонентскую плату (в мегабайтах)\n",
    "- rub_per_minute — стоимость минуты разговора сверх тарифного пакета (например, если в тарифе 100 минут разговора в месяц, то со 101 минуты будет взиматься плата)\n",
    "- rub_per_message — стоимость отправки сообщения сверх тарифного пакета\n",
    "- rub_per_gb — стоимость дополнительного гигабайта интернет-трафика сверх тарифного пакета (1 гигабайт = 1024 мегабайта)"
   ]
  },
  {
   "cell_type": "markdown",
   "metadata": {},
   "source": [
    "## 1.3 План обработки и анализа данных"
   ]
  },
  {
   "cell_type": "markdown",
   "metadata": {},
   "source": [
    "### 1.3.1 Подготовка данных\n",
    "- обзор данных, обнаружение пропусков, преобразование типов данных;\n",
    "- поиск и исправление ошибок в данных."
   ]
  },
  {
   "cell_type": "markdown",
   "metadata": {},
   "source": [
    "### 1.3.2 Дополнение набора данных\n",
    "- добавить количество сделанных звонков и израсходованных минут разговора по месяцам;\n",
    "- добавить количество отправленных сообщений по месяцам;\n",
    "- добавить объем израсходованного интернет-трафика по месяцам;\n",
    "- добавить помесячную выручку с каждого пользователя — вычесть бесплатный лимит из суммарного количества звонков, сообщений и интернет-трафика; остаток умножить на значение из тарифного плана; прибавить абонентскую плату, соответствующую тарифному плану."
   ]
  },
  {
   "cell_type": "markdown",
   "metadata": {},
   "source": [
    "### 1.3.3 Анализ данных\n",
    "- описать поведение клиентов оператора, исходя из выборки;\n",
    "- определить сколько минут разговора, сколько сообщений и какой объём интернет-трафика требуется пользователям каждого тарифа в месяц; посчитать для них среднее количество, дисперсию и стандартное отклонение; построить для них гистограммы; описать их распределения."
   ]
  },
  {
   "cell_type": "markdown",
   "metadata": {},
   "source": [
    "### 1.3.4 Проверка гипотез\n",
    "- средняя выручка пользователей тарифов «Ультра» и «Смарт» различается;\n",
    "- средняя выручка пользователей из Москвы отличается от выручки пользователей из других регионов."
   ]
  },
  {
   "cell_type": "markdown",
   "metadata": {},
   "source": [
    "### 1.3.5 Вывод"
   ]
  },
  {
   "cell_type": "markdown",
   "metadata": {},
   "source": [
    "## 1.4 Пользовательские функции"
   ]
  },
  {
   "cell_type": "code",
   "execution_count": 1,
   "metadata": {},
   "outputs": [],
   "source": [
    "import pandas as pd\n",
    "from numpy import mean, ceil, var\n",
    "import matplotlib.pyplot as plt\n",
    "from matplotlib.gridspec import GridSpec\n",
    "\n",
    "pd.options.display.float_format = '{:.2f}'.format"
   ]
  },
  {
   "cell_type": "code",
   "execution_count": 2,
   "metadata": {},
   "outputs": [],
   "source": [
    "def check_col_for_index(df, column): # bool\n",
    "    '''\n",
    "    Функция проверки совпадения значений столбца со значениями индекса\n",
    "    '''\n",
    "    \n",
    "    count = 0\n",
    "\n",
    "    for i in df.index:\n",
    "        if i != df.loc[i, column]: count += 1\n",
    "\n",
    "    return (count == 0)"
   ]
  },
  {
   "cell_type": "code",
   "execution_count": 3,
   "metadata": {},
   "outputs": [],
   "source": [
    "def value_counts_percent(column, ret=False):\n",
    "    '''\n",
    "    Функция вывода количества и процента от общего числа значений столбца\n",
    "    '''\n",
    "    temp_df = pd.DataFrame({\n",
    "                'count':column.value_counts(),\n",
    "                'percent': column.value_counts() / len(column) * 100})\n",
    "\n",
    "    if ret: return temp_df\n",
    "    else: print(temp_df)"
   ]
  },
  {
   "cell_type": "code",
   "execution_count": 4,
   "metadata": {},
   "outputs": [],
   "source": [
    "months = [1, 2, 3, 4, 5, 6, 7, 8, 9, 10, 11, 12]\n",
    "SMART = 0\n",
    "ULTRA = 1\n",
    "\n",
    "def meaning(tariff, _users, _calls, _internet, _messages):\n",
    "    #ежемесячная абонентская плата в рублях\n",
    "    rub_monthly_fee = tariffs.loc[tariff, 'rub_monthly_fee']\n",
    "\n",
    "    #количество минут разговора в месяц, включённых в абонентскую плату\n",
    "    minutes_included = tariffs.loc[tariff, 'minutes_included']\n",
    "\n",
    "    #количество сообщений в месяц, включённых в абонентскую плату\n",
    "    messages_included = tariffs.loc[tariff, 'messages_included']\n",
    "\n",
    "    #объём интернет-трафика, включённого в абонентскую плату (в мегабайтах)\n",
    "    mb_per_month_included = tariffs.loc[tariff, 'mb_per_month_included']\n",
    "\n",
    "    #стоимость минуты разговора сверх тарифного пакета\n",
    "    rub_per_minute = tariffs.loc[tariff, 'rub_per_minute']\n",
    "\n",
    "    #стоимость отправки сообщения сверх тарифного пакета\n",
    "    rub_per_message = tariffs.loc[tariff, 'rub_per_message']\n",
    "\n",
    "    #стоимость дополнительного гигабайта интернет-трафика сверх тарифного пакета (1 гигабайт = 1024 мегабайта)\n",
    "    rub_per_gb = tariffs.loc[tariff, 'rub_per_gb']\n",
    "\n",
    "    for i in _users.index:\n",
    "\n",
    "        user_id  = _users.loc[i, 'user_id']\n",
    "\n",
    "        receipt = 0\n",
    "\n",
    "        data = []\n",
    "        user_calls = _calls.loc[_calls['user_id'] == user_id, :]    \n",
    "\n",
    "        for month in months:\n",
    "            mothtly_calls = ceil(user_calls.loc[pd.DatetimeIndex(user_calls['call_date']).month == month, 'duration'].sum())\n",
    "            data.append(mothtly_calls)\n",
    "            if (mothtly_calls - minutes_included) > 0:\n",
    "                receipt += (mothtly_calls - minutes_included) * rub_per_minute\n",
    "\n",
    "        _users.loc[i, 'mothtly_calls_mean'] = ceil(mean(data))\n",
    "\n",
    "        data = []\n",
    "        user_internet = _internet.loc[_internet['user_id'] == user_id, :]\n",
    "\n",
    "        for month in months:\n",
    "            mothtly_internet = ceil(user_internet.loc[pd.DatetimeIndex(user_internet['session_date']).month == month, 'mb_used'].sum())\n",
    "            data.append(mothtly_internet)\n",
    "            if (mothtly_internet - mb_per_month_included) > 0:\n",
    "                receipt += ceil((mothtly_internet - mb_per_month_included) / 1024) * rub_per_gb\n",
    "\n",
    "        _users.loc[i, 'mothtly_internet_mean'] = ceil(mean(data))\n",
    "\n",
    "        data = []\n",
    "        user_messages = _messages.loc[(_messages['user_id'] == user_id), :]\n",
    "\n",
    "        for month in months:\n",
    "            mothtly_messages = user_messages.loc[pd.DatetimeIndex(user_messages['message_date']).month == month, 'message_date'].count()\n",
    "            data.append(mothtly_messages)\n",
    "            if (mothtly_messages - messages_included) > 0:\n",
    "                receipt += (mothtly_messages - messages_included) * rub_per_message\n",
    "\n",
    "        _users.loc[i, 'mothtly_messages_mean'] = ceil(mean(data))\n",
    "\n",
    "        _users.loc[i, 'receipt_mean'] = receipt / len(months) + rub_monthly_fee\n",
    "\n",
    "    _users.reset_index(drop=True, inplace=True)\n",
    "    \n",
    "    return receipt + _users.shape[0] * rub_monthly_fee"
   ]
  },
  {
   "cell_type": "code",
   "execution_count": 5,
   "metadata": {},
   "outputs": [],
   "source": [
    "def draw_graphs(column, SMART_title, ULTRA_title, mesurement):\n",
    "    \n",
    "    gs = GridSpec(2, 5, figure=plt.figure(constrained_layout=True, figsize=(15,8)))\n",
    "    \n",
    "    graphs = []\n",
    "\n",
    "    graphs.append(plt.subplot(gs.new_subplotspec((0, 0), colspan=1, rowspan=2)))\n",
    "    graphs[0].boxplot(users_smart[column])\n",
    "    graphs[0].set_title(SMART_title)\n",
    "    graphs[0].set_ylabel(mesurement)\n",
    "\n",
    "    graphs.append(plt.subplot(gs.new_subplotspec((0, 1), colspan=1, rowspan=2)))\n",
    "    graphs[1].boxplot(users_ultra[column])\n",
    "    graphs[1].set_title(ULTRA_title)\n",
    "    graphs[1].set_ylabel(mesurement)\n",
    "\n",
    "    graphs.append(plt.subplot(gs.new_subplotspec((0, 2), colspan=2, rowspan=1)))\n",
    "    graphs[2].hist(users_smart[column], alpha=0.7)\n",
    "    _mean = users_smart[column].mean()\n",
    "    _median = users_smart[column].median()\n",
    "    _, _xmax = plt.xlim()\n",
    "    _, _ymax = plt.ylim()\n",
    "    plt.axvline(_mean, color='red', linestyle='dashed', linewidth=2)\n",
    "    plt.axvline(_median, color='green', linestyle='dashed', linewidth=2)\n",
    "    plt.text(_xmax*0.75, _ymax*0.93, 'mean: {:.2f}'.format(_mean), color='red', ma='right')\n",
    "    plt.text(_xmax*0.75, _ymax*0.88, 'median: {:.2f}'.format(_median), color='green', ma='right')\n",
    "    graphs[2].set_title(SMART_title)\n",
    "    graphs[2].set_xlabel(mesurement)\n",
    "    graphs[2].set_ylabel('Количество')\n",
    "\n",
    "    graphs.append(plt.subplot(gs.new_subplotspec((1, 2), colspan=2, rowspan=1)))\n",
    "    graphs[3].hist(users_ultra[column], alpha=0.7)\n",
    "    _mean = users_ultra[column].mean()\n",
    "    _median = users_ultra[column].median()\n",
    "    _, _xmax = plt.xlim()\n",
    "    _, _ymax = plt.ylim()\n",
    "    plt.axvline(_mean, color='red', linestyle='dashed', linewidth=2)\n",
    "    plt.axvline(_median, color='green', linestyle='dashed', linewidth=2)\n",
    "    plt.text(_xmax*0.75, _ymax*0.93, 'mean: {:.2f}'.format(_mean), color='red', ma='right')\n",
    "    plt.text(_xmax*0.75, _ymax*0.88, 'median: {:.2f}'.format(_median), color='green', ma='right')\n",
    "    graphs[3].set_title(ULTRA_title)\n",
    "    graphs[3].set_xlabel(mesurement)\n",
    "    graphs[3].set_ylabel('Количество')\n",
    "\n",
    "    graphs.append(plt.subplot(gs.new_subplotspec((0, 4), colspan=1, rowspan=1)))\n",
    "    graphs[4].scatter(users_smart.index, users_smart[column], alpha=0.3)\n",
    "    graphs[4].set_title(SMART_title)\n",
    "    graphs[4].set_xlabel('Пользователи')\n",
    "    graphs[4].set_ylabel(mesurement)\n",
    "\n",
    "    graphs.append(plt.subplot(gs.new_subplotspec((1, 4), colspan=1, rowspan=1)))\n",
    "    graphs[5].scatter(users_ultra.index, users_ultra[column], alpha=0.3)\n",
    "    graphs[5].set_title(ULTRA_title)\n",
    "    graphs[5].set_xlabel('Пользователи')\n",
    "    graphs[5].set_ylabel(mesurement)\n",
    "\n",
    "    plt.show()"
   ]
  },
  {
   "cell_type": "code",
   "execution_count": 6,
   "metadata": {},
   "outputs": [],
   "source": [
    "def over_contents_print(tariff, df, column, content_limit):\n",
    "    print(tariff, ', over limit clients: ', df.loc[df[column] > content_limit, 'user_id'].count(),\n",
    "          ' (', df.loc[df[column] > content_limit, 'user_id'].count() / df.shape[0] * 100, ' %)', sep='')\n",
    "    print(tariff, ', over limit content: ', df.loc[df[column] > content_limit, column].sum(), \n",
    "          ' (', df.loc[df[column] > content_limit, column].sum() / df[column].sum() * 100, ' %)', sep='')"
   ]
  },
  {
   "cell_type": "code",
   "execution_count": 7,
   "metadata": {},
   "outputs": [],
   "source": [
    "def peceipt_graphs():\n",
    "\n",
    "    gs = GridSpec(2, 3, figure=plt.figure(constrained_layout=True, figsize=(15,8)))\n",
    "\n",
    "    graphs = []\n",
    "\n",
    "    graphs.append(plt.subplot(gs.new_subplotspec((0, 0), colspan=1, rowspan=1)))\n",
    "    graphs[0].hist(users_smart['receipt_mean'], alpha=0.7)\n",
    "    _mean = users_smart['receipt_mean'].mean()\n",
    "    _median = users_smart['receipt_mean'].median()\n",
    "    _, _xmax = plt.xlim()\n",
    "    _, _ymax = plt.ylim()\n",
    "    plt.axvline(_mean, color='red', linestyle='dashed', linewidth=2)\n",
    "    plt.axvline(_median, color='green', linestyle='dashed', linewidth=2)\n",
    "    plt.text(_xmax*0.75, _ymax*0.93, 'mean: {:.2f}'.format(_mean), color='red', ma='right')\n",
    "    plt.text(_xmax*0.75, _ymax*0.88, 'median: {:.2f}'.format(_median), color='green', ma='right')\n",
    "    graphs[0].set_title('SMART, выручка всех пользователей, руб.')\n",
    "    graphs[0].set_xlabel('Выручка, руб.')\n",
    "    graphs[0].set_ylabel('Количество')\n",
    "\n",
    "    graphs.append(plt.subplot(gs.new_subplotspec((0, 1), colspan=1, rowspan=1)))\n",
    "    graphs[1].hist(users_smart_mos['receipt_mean'], alpha=0.7)\n",
    "    _mean = users_smart_mos['receipt_mean'].mean()\n",
    "    _median = users_smart_mos['receipt_mean'].median()\n",
    "    _, _xmax = plt.xlim()\n",
    "    _, _ymax = plt.ylim()\n",
    "    plt.axvline(_mean, color='red', linestyle='dashed', linewidth=2)\n",
    "    plt.axvline(_median, color='green', linestyle='dashed', linewidth=2)\n",
    "    plt.text(_xmax*0.75, _ymax*0.93, 'mean: {:.2f}'.format(_mean), color='red', ma='right')\n",
    "    plt.text(_xmax*0.75, _ymax*0.88, 'median: {:.2f}'.format(_median), color='green', ma='right')\n",
    "    graphs[1].set_title('SMART, выручка пользователей из Москвы, руб.')\n",
    "    graphs[1].set_xlabel('Выручка, руб.')\n",
    "    graphs[1].set_ylabel('Количество')\n",
    "\n",
    "    graphs.append(plt.subplot(gs.new_subplotspec((0, 2), colspan=1, rowspan=1)))\n",
    "    graphs[2].hist(users_smart_nonmos['receipt_mean'], alpha=0.7)\n",
    "    _mean = users_smart_nonmos['receipt_mean'].mean()\n",
    "    _median = users_smart_nonmos['receipt_mean'].median()\n",
    "    _, _xmax = plt.xlim()\n",
    "    _, _ymax = plt.ylim()\n",
    "    plt.axvline(_mean, color='red', linestyle='dashed', linewidth=2)\n",
    "    plt.axvline(_median, color='green', linestyle='dashed', linewidth=2)\n",
    "    plt.text(_xmax*0.75, _ymax*0.93, 'mean: {:.2f}'.format(_mean), color='red', ma='right')\n",
    "    plt.text(_xmax*0.75, _ymax*0.88, 'median: {:.2f}'.format(_median), color='green', ma='right')\n",
    "    graphs[2].set_title('SMART, выручка пользователей из регионов, руб.')\n",
    "    graphs[2].set_xlabel('Выручка, руб.')\n",
    "    graphs[2].set_ylabel('Количество')\n",
    "\n",
    "    graphs.append(plt.subplot(gs.new_subplotspec((1, 0), colspan=1, rowspan=1)))\n",
    "    graphs[3].hist(users_ultra['receipt_mean'], alpha=0.7, bins=3)\n",
    "    _mean = users_ultra['receipt_mean'].mean()\n",
    "    _median = users_ultra['receipt_mean'].median()\n",
    "    _, _xmax = plt.xlim()\n",
    "    _, _ymax = plt.ylim()\n",
    "    plt.axvline(_mean, color='red', linestyle='dashed', linewidth=2)\n",
    "    plt.axvline(_median, color='green', linestyle='dashed', linewidth=2)\n",
    "    plt.text(_xmax*0.89, _ymax*0.93, 'mean: {:.2f}'.format(_mean), color='red', ma='right')\n",
    "    plt.text(_xmax*0.89, _ymax*0.88, 'median: {:.2f}'.format(_median), color='green', ma='right')\n",
    "    graphs[3].set_title('ULTRA, выручка всех пользователей, руб.')\n",
    "    graphs[3].set_xlabel('Выручка, руб.')\n",
    "    graphs[3].set_ylabel('Количество')\n",
    "\n",
    "    graphs.append(plt.subplot(gs.new_subplotspec((1, 1), colspan=1, rowspan=1)))\n",
    "    graphs[4].hist(users_ultra_mos['receipt_mean'], alpha=0.7, bins=3)\n",
    "    _mean = users_ultra_mos['receipt_mean'].mean()\n",
    "    _median = users_ultra_mos['receipt_mean'].median()\n",
    "    _, _xmax = plt.xlim()\n",
    "    _, _ymax = plt.ylim()\n",
    "    plt.axvline(_mean, color='red', linestyle='dashed', linewidth=2)\n",
    "    plt.axvline(_median, color='green', linestyle='dashed', linewidth=2)\n",
    "    plt.text(_xmax*0.93, _ymax*0.93, 'mean: {:.2f}'.format(_mean), color='red', ma='right')\n",
    "    plt.text(_xmax*0.93, _ymax*0.88, 'median: {:.2f}'.format(_median), color='green', ma='right')\n",
    "    graphs[4].set_title('ULTRA, выручка пользователей из Москвы, руб.')\n",
    "    graphs[4].set_xlabel('Выручка, руб.')\n",
    "    graphs[4].set_ylabel('Количество')\n",
    "\n",
    "    graphs.append(plt.subplot(gs.new_subplotspec((1, 2), colspan=1, rowspan=1)))\n",
    "    graphs[5].hist(users_ultra_nonmos['receipt_mean'], alpha=0.7, bins=3)\n",
    "    _mean = users_ultra_nonmos['receipt_mean'].mean()\n",
    "    _median = users_ultra_nonmos['receipt_mean'].median()\n",
    "    _, _xmax = plt.xlim()\n",
    "    _, _ymax = plt.ylim()\n",
    "    plt.axvline(_mean, color='red', linestyle='dashed', linewidth=2)\n",
    "    plt.axvline(_median, color='green', linestyle='dashed', linewidth=2)\n",
    "    plt.text(_xmax*0.89, _ymax*0.93, 'mean: {:.2f}'.format(_mean), color='red', ma='right')\n",
    "    plt.text(_xmax*0.89, _ymax*0.88, 'median: {:.2f}'.format(_median), color='green', ma='right')\n",
    "    graphs[5].set_title('ULTRA, выручка пользователей из регионов, руб.')\n",
    "    graphs[5].set_xlabel('Выручка, руб.')\n",
    "    graphs[5].set_ylabel('Количество')\n",
    "\n",
    "    plt.show()"
   ]
  },
  {
   "cell_type": "markdown",
   "metadata": {},
   "source": [
    "# 2 Основная часть"
   ]
  },
  {
   "cell_type": "markdown",
   "metadata": {},
   "source": [
    "## 2.1 Предобработка данных"
   ]
  },
  {
   "cell_type": "markdown",
   "metadata": {},
   "source": [
    "### 2.1.1 Обзор данных, удаление *null*-значений, преобразование типов данных"
   ]
  },
  {
   "cell_type": "markdown",
   "metadata": {},
   "source": [
    "#### 2.1.1.1 Таблица *users*"
   ]
  },
  {
   "cell_type": "code",
   "execution_count": 8,
   "metadata": {},
   "outputs": [],
   "source": [
    "users = pd.read_csv('users.csv')"
   ]
  },
  {
   "cell_type": "code",
   "execution_count": 9,
   "metadata": {},
   "outputs": [
    {
     "data": {
      "text/html": [
       "<div>\n",
       "<style scoped>\n",
       "    .dataframe tbody tr th:only-of-type {\n",
       "        vertical-align: middle;\n",
       "    }\n",
       "\n",
       "    .dataframe tbody tr th {\n",
       "        vertical-align: top;\n",
       "    }\n",
       "\n",
       "    .dataframe thead th {\n",
       "        text-align: right;\n",
       "    }\n",
       "</style>\n",
       "<table border=\"1\" class=\"dataframe\">\n",
       "  <thead>\n",
       "    <tr style=\"text-align: right;\">\n",
       "      <th></th>\n",
       "      <th>user_id</th>\n",
       "      <th>age</th>\n",
       "      <th>churn_date</th>\n",
       "      <th>city</th>\n",
       "      <th>first_name</th>\n",
       "      <th>last_name</th>\n",
       "      <th>reg_date</th>\n",
       "      <th>tariff</th>\n",
       "    </tr>\n",
       "  </thead>\n",
       "  <tbody>\n",
       "    <tr>\n",
       "      <th>0</th>\n",
       "      <td>1000</td>\n",
       "      <td>52</td>\n",
       "      <td>NaN</td>\n",
       "      <td>Краснодар</td>\n",
       "      <td>Рафаил</td>\n",
       "      <td>Верещагин</td>\n",
       "      <td>2018-05-25</td>\n",
       "      <td>ultra</td>\n",
       "    </tr>\n",
       "    <tr>\n",
       "      <th>1</th>\n",
       "      <td>1001</td>\n",
       "      <td>41</td>\n",
       "      <td>NaN</td>\n",
       "      <td>Москва</td>\n",
       "      <td>Иван</td>\n",
       "      <td>Ежов</td>\n",
       "      <td>2018-11-01</td>\n",
       "      <td>smart</td>\n",
       "    </tr>\n",
       "    <tr>\n",
       "      <th>2</th>\n",
       "      <td>1002</td>\n",
       "      <td>59</td>\n",
       "      <td>NaN</td>\n",
       "      <td>Стерлитамак</td>\n",
       "      <td>Евгений</td>\n",
       "      <td>Абрамович</td>\n",
       "      <td>2018-06-17</td>\n",
       "      <td>smart</td>\n",
       "    </tr>\n",
       "    <tr>\n",
       "      <th>3</th>\n",
       "      <td>1003</td>\n",
       "      <td>23</td>\n",
       "      <td>NaN</td>\n",
       "      <td>Москва</td>\n",
       "      <td>Белла</td>\n",
       "      <td>Белякова</td>\n",
       "      <td>2018-08-17</td>\n",
       "      <td>ultra</td>\n",
       "    </tr>\n",
       "    <tr>\n",
       "      <th>4</th>\n",
       "      <td>1004</td>\n",
       "      <td>68</td>\n",
       "      <td>NaN</td>\n",
       "      <td>Новокузнецк</td>\n",
       "      <td>Татьяна</td>\n",
       "      <td>Авдеенко</td>\n",
       "      <td>2018-05-14</td>\n",
       "      <td>ultra</td>\n",
       "    </tr>\n",
       "    <tr>\n",
       "      <th>...</th>\n",
       "      <td>...</td>\n",
       "      <td>...</td>\n",
       "      <td>...</td>\n",
       "      <td>...</td>\n",
       "      <td>...</td>\n",
       "      <td>...</td>\n",
       "      <td>...</td>\n",
       "      <td>...</td>\n",
       "    </tr>\n",
       "    <tr>\n",
       "      <th>495</th>\n",
       "      <td>1495</td>\n",
       "      <td>65</td>\n",
       "      <td>NaN</td>\n",
       "      <td>Иркутск</td>\n",
       "      <td>Авксентий</td>\n",
       "      <td>Фокин</td>\n",
       "      <td>2018-08-28</td>\n",
       "      <td>ultra</td>\n",
       "    </tr>\n",
       "    <tr>\n",
       "      <th>496</th>\n",
       "      <td>1496</td>\n",
       "      <td>36</td>\n",
       "      <td>NaN</td>\n",
       "      <td>Вологда</td>\n",
       "      <td>Трифон</td>\n",
       "      <td>Блохин</td>\n",
       "      <td>2018-01-27</td>\n",
       "      <td>smart</td>\n",
       "    </tr>\n",
       "    <tr>\n",
       "      <th>497</th>\n",
       "      <td>1497</td>\n",
       "      <td>32</td>\n",
       "      <td>NaN</td>\n",
       "      <td>Челябинск</td>\n",
       "      <td>Каролина</td>\n",
       "      <td>Агеева</td>\n",
       "      <td>2018-10-09</td>\n",
       "      <td>smart</td>\n",
       "    </tr>\n",
       "    <tr>\n",
       "      <th>498</th>\n",
       "      <td>1498</td>\n",
       "      <td>68</td>\n",
       "      <td>2018-10-25</td>\n",
       "      <td>Владикавказ</td>\n",
       "      <td>Всеволод</td>\n",
       "      <td>Акимчин</td>\n",
       "      <td>2018-07-19</td>\n",
       "      <td>smart</td>\n",
       "    </tr>\n",
       "    <tr>\n",
       "      <th>499</th>\n",
       "      <td>1499</td>\n",
       "      <td>35</td>\n",
       "      <td>NaN</td>\n",
       "      <td>Пермь</td>\n",
       "      <td>Гектор</td>\n",
       "      <td>Корнилов</td>\n",
       "      <td>2018-09-27</td>\n",
       "      <td>smart</td>\n",
       "    </tr>\n",
       "  </tbody>\n",
       "</table>\n",
       "<p>500 rows × 8 columns</p>\n",
       "</div>"
      ],
      "text/plain": [
       "     user_id  age  churn_date         city first_name  last_name    reg_date  \\\n",
       "0       1000   52         NaN    Краснодар     Рафаил  Верещагин  2018-05-25   \n",
       "1       1001   41         NaN       Москва       Иван       Ежов  2018-11-01   \n",
       "2       1002   59         NaN  Стерлитамак    Евгений  Абрамович  2018-06-17   \n",
       "3       1003   23         NaN       Москва      Белла   Белякова  2018-08-17   \n",
       "4       1004   68         NaN  Новокузнецк    Татьяна   Авдеенко  2018-05-14   \n",
       "..       ...  ...         ...          ...        ...        ...         ...   \n",
       "495     1495   65         NaN      Иркутск  Авксентий      Фокин  2018-08-28   \n",
       "496     1496   36         NaN      Вологда     Трифон     Блохин  2018-01-27   \n",
       "497     1497   32         NaN    Челябинск   Каролина     Агеева  2018-10-09   \n",
       "498     1498   68  2018-10-25  Владикавказ   Всеволод    Акимчин  2018-07-19   \n",
       "499     1499   35         NaN        Пермь     Гектор   Корнилов  2018-09-27   \n",
       "\n",
       "    tariff  \n",
       "0    ultra  \n",
       "1    smart  \n",
       "2    smart  \n",
       "3    ultra  \n",
       "4    ultra  \n",
       "..     ...  \n",
       "495  ultra  \n",
       "496  smart  \n",
       "497  smart  \n",
       "498  smart  \n",
       "499  smart  \n",
       "\n",
       "[500 rows x 8 columns]"
      ]
     },
     "execution_count": 9,
     "metadata": {},
     "output_type": "execute_result"
    }
   ],
   "source": [
    "users"
   ]
  },
  {
   "cell_type": "code",
   "execution_count": 10,
   "metadata": {},
   "outputs": [
    {
     "name": "stdout",
     "output_type": "stream",
     "text": [
      "<class 'pandas.core.frame.DataFrame'>\n",
      "RangeIndex: 500 entries, 0 to 499\n",
      "Data columns (total 8 columns):\n",
      " #   Column      Non-Null Count  Dtype \n",
      "---  ------      --------------  ----- \n",
      " 0   user_id     500 non-null    int64 \n",
      " 1   age         500 non-null    int64 \n",
      " 2   churn_date  38 non-null     object\n",
      " 3   city        500 non-null    object\n",
      " 4   first_name  500 non-null    object\n",
      " 5   last_name   500 non-null    object\n",
      " 6   reg_date    500 non-null    object\n",
      " 7   tariff      500 non-null    object\n",
      "dtypes: int64(2), object(6)\n",
      "memory usage: 31.4+ KB\n"
     ]
    }
   ],
   "source": [
    "users.info()"
   ]
  },
  {
   "cell_type": "code",
   "execution_count": 11,
   "metadata": {},
   "outputs": [
    {
     "data": {
      "text/plain": [
       "user_id         0\n",
       "age             0\n",
       "churn_date    462\n",
       "city            0\n",
       "first_name      0\n",
       "last_name       0\n",
       "reg_date        0\n",
       "tariff          0\n",
       "dtype: int64"
      ]
     },
     "execution_count": 11,
     "metadata": {},
     "output_type": "execute_result"
    }
   ],
   "source": [
    "users.isna().sum()"
   ]
  },
  {
   "cell_type": "markdown",
   "metadata": {},
   "source": [
    "1. Столбец *churn_date* имеет пропуски, которые должны быть удалены. Тип данных столбца необходимо заменить на *DateTime*.\n",
    "2. Тип данных столбца *reg_date* должен буть заменен на *DateTime*"
   ]
  },
  {
   "cell_type": "code",
   "execution_count": 12,
   "metadata": {},
   "outputs": [],
   "source": [
    "# Удаление пропусков в столбце churn_date\n",
    "users.fillna(0, inplace=True)"
   ]
  },
  {
   "cell_type": "code",
   "execution_count": 13,
   "metadata": {},
   "outputs": [
    {
     "data": {
      "text/html": [
       "<div>\n",
       "<style scoped>\n",
       "    .dataframe tbody tr th:only-of-type {\n",
       "        vertical-align: middle;\n",
       "    }\n",
       "\n",
       "    .dataframe tbody tr th {\n",
       "        vertical-align: top;\n",
       "    }\n",
       "\n",
       "    .dataframe thead th {\n",
       "        text-align: right;\n",
       "    }\n",
       "</style>\n",
       "<table border=\"1\" class=\"dataframe\">\n",
       "  <thead>\n",
       "    <tr style=\"text-align: right;\">\n",
       "      <th></th>\n",
       "      <th>user_id</th>\n",
       "      <th>age</th>\n",
       "      <th>churn_date</th>\n",
       "      <th>city</th>\n",
       "      <th>first_name</th>\n",
       "      <th>last_name</th>\n",
       "      <th>reg_date</th>\n",
       "      <th>tariff</th>\n",
       "    </tr>\n",
       "  </thead>\n",
       "  <tbody>\n",
       "    <tr>\n",
       "      <th>0</th>\n",
       "      <td>1000</td>\n",
       "      <td>52</td>\n",
       "      <td>1970-01-01</td>\n",
       "      <td>Краснодар</td>\n",
       "      <td>Рафаил</td>\n",
       "      <td>Верещагин</td>\n",
       "      <td>2018-05-25</td>\n",
       "      <td>ultra</td>\n",
       "    </tr>\n",
       "    <tr>\n",
       "      <th>1</th>\n",
       "      <td>1001</td>\n",
       "      <td>41</td>\n",
       "      <td>1970-01-01</td>\n",
       "      <td>Москва</td>\n",
       "      <td>Иван</td>\n",
       "      <td>Ежов</td>\n",
       "      <td>2018-11-01</td>\n",
       "      <td>smart</td>\n",
       "    </tr>\n",
       "    <tr>\n",
       "      <th>2</th>\n",
       "      <td>1002</td>\n",
       "      <td>59</td>\n",
       "      <td>1970-01-01</td>\n",
       "      <td>Стерлитамак</td>\n",
       "      <td>Евгений</td>\n",
       "      <td>Абрамович</td>\n",
       "      <td>2018-06-17</td>\n",
       "      <td>smart</td>\n",
       "    </tr>\n",
       "    <tr>\n",
       "      <th>3</th>\n",
       "      <td>1003</td>\n",
       "      <td>23</td>\n",
       "      <td>1970-01-01</td>\n",
       "      <td>Москва</td>\n",
       "      <td>Белла</td>\n",
       "      <td>Белякова</td>\n",
       "      <td>2018-08-17</td>\n",
       "      <td>ultra</td>\n",
       "    </tr>\n",
       "    <tr>\n",
       "      <th>4</th>\n",
       "      <td>1004</td>\n",
       "      <td>68</td>\n",
       "      <td>1970-01-01</td>\n",
       "      <td>Новокузнецк</td>\n",
       "      <td>Татьяна</td>\n",
       "      <td>Авдеенко</td>\n",
       "      <td>2018-05-14</td>\n",
       "      <td>ultra</td>\n",
       "    </tr>\n",
       "    <tr>\n",
       "      <th>...</th>\n",
       "      <td>...</td>\n",
       "      <td>...</td>\n",
       "      <td>...</td>\n",
       "      <td>...</td>\n",
       "      <td>...</td>\n",
       "      <td>...</td>\n",
       "      <td>...</td>\n",
       "      <td>...</td>\n",
       "    </tr>\n",
       "    <tr>\n",
       "      <th>495</th>\n",
       "      <td>1495</td>\n",
       "      <td>65</td>\n",
       "      <td>1970-01-01</td>\n",
       "      <td>Иркутск</td>\n",
       "      <td>Авксентий</td>\n",
       "      <td>Фокин</td>\n",
       "      <td>2018-08-28</td>\n",
       "      <td>ultra</td>\n",
       "    </tr>\n",
       "    <tr>\n",
       "      <th>496</th>\n",
       "      <td>1496</td>\n",
       "      <td>36</td>\n",
       "      <td>1970-01-01</td>\n",
       "      <td>Вологда</td>\n",
       "      <td>Трифон</td>\n",
       "      <td>Блохин</td>\n",
       "      <td>2018-01-27</td>\n",
       "      <td>smart</td>\n",
       "    </tr>\n",
       "    <tr>\n",
       "      <th>497</th>\n",
       "      <td>1497</td>\n",
       "      <td>32</td>\n",
       "      <td>1970-01-01</td>\n",
       "      <td>Челябинск</td>\n",
       "      <td>Каролина</td>\n",
       "      <td>Агеева</td>\n",
       "      <td>2018-10-09</td>\n",
       "      <td>smart</td>\n",
       "    </tr>\n",
       "    <tr>\n",
       "      <th>498</th>\n",
       "      <td>1498</td>\n",
       "      <td>68</td>\n",
       "      <td>2018-10-25</td>\n",
       "      <td>Владикавказ</td>\n",
       "      <td>Всеволод</td>\n",
       "      <td>Акимчин</td>\n",
       "      <td>2018-07-19</td>\n",
       "      <td>smart</td>\n",
       "    </tr>\n",
       "    <tr>\n",
       "      <th>499</th>\n",
       "      <td>1499</td>\n",
       "      <td>35</td>\n",
       "      <td>1970-01-01</td>\n",
       "      <td>Пермь</td>\n",
       "      <td>Гектор</td>\n",
       "      <td>Корнилов</td>\n",
       "      <td>2018-09-27</td>\n",
       "      <td>smart</td>\n",
       "    </tr>\n",
       "  </tbody>\n",
       "</table>\n",
       "<p>500 rows × 8 columns</p>\n",
       "</div>"
      ],
      "text/plain": [
       "     user_id  age churn_date         city first_name  last_name    reg_date  \\\n",
       "0       1000   52 1970-01-01    Краснодар     Рафаил  Верещагин  2018-05-25   \n",
       "1       1001   41 1970-01-01       Москва       Иван       Ежов  2018-11-01   \n",
       "2       1002   59 1970-01-01  Стерлитамак    Евгений  Абрамович  2018-06-17   \n",
       "3       1003   23 1970-01-01       Москва      Белла   Белякова  2018-08-17   \n",
       "4       1004   68 1970-01-01  Новокузнецк    Татьяна   Авдеенко  2018-05-14   \n",
       "..       ...  ...        ...          ...        ...        ...         ...   \n",
       "495     1495   65 1970-01-01      Иркутск  Авксентий      Фокин  2018-08-28   \n",
       "496     1496   36 1970-01-01      Вологда     Трифон     Блохин  2018-01-27   \n",
       "497     1497   32 1970-01-01    Челябинск   Каролина     Агеева  2018-10-09   \n",
       "498     1498   68 2018-10-25  Владикавказ   Всеволод    Акимчин  2018-07-19   \n",
       "499     1499   35 1970-01-01        Пермь     Гектор   Корнилов  2018-09-27   \n",
       "\n",
       "    tariff  \n",
       "0    ultra  \n",
       "1    smart  \n",
       "2    smart  \n",
       "3    ultra  \n",
       "4    ultra  \n",
       "..     ...  \n",
       "495  ultra  \n",
       "496  smart  \n",
       "497  smart  \n",
       "498  smart  \n",
       "499  smart  \n",
       "\n",
       "[500 rows x 8 columns]"
      ]
     },
     "execution_count": 13,
     "metadata": {},
     "output_type": "execute_result"
    }
   ],
   "source": [
    "# Замена типа данных столбца churn_date на DateTime\n",
    "users['churn_date'] = pd.to_datetime(users['churn_date'], format='%Y-%m-%d')\n",
    "users"
   ]
  },
  {
   "cell_type": "markdown",
   "metadata": {},
   "source": [
    "Будем иметь ввиду, что *churn_date* равная '1970-01-01' говорит о том, что абонент от оператора свзяи не ушёл"
   ]
  },
  {
   "cell_type": "code",
   "execution_count": 14,
   "metadata": {},
   "outputs": [
    {
     "name": "stdout",
     "output_type": "stream",
     "text": [
      "<class 'pandas.core.frame.DataFrame'>\n",
      "RangeIndex: 500 entries, 0 to 499\n",
      "Data columns (total 8 columns):\n",
      " #   Column      Non-Null Count  Dtype         \n",
      "---  ------      --------------  -----         \n",
      " 0   user_id     500 non-null    int64         \n",
      " 1   age         500 non-null    int64         \n",
      " 2   churn_date  500 non-null    datetime64[ns]\n",
      " 3   city        500 non-null    object        \n",
      " 4   first_name  500 non-null    object        \n",
      " 5   last_name   500 non-null    object        \n",
      " 6   reg_date    500 non-null    datetime64[ns]\n",
      " 7   tariff      500 non-null    object        \n",
      "dtypes: datetime64[ns](2), int64(2), object(4)\n",
      "memory usage: 31.4+ KB\n"
     ]
    }
   ],
   "source": [
    "# Замена типа данных столбца reg_date на DateTime\n",
    "users['reg_date'] = pd.to_datetime(users['reg_date'], format='%Y-%m-%d')\n",
    "users.info()"
   ]
  },
  {
   "cell_type": "markdown",
   "metadata": {},
   "source": [
    "***Промежуточный итог***  \n",
    "  \n",
    "На данном этапе предобработки данных в таблице *users*:\n",
    "- были удалены пропуски в столбце *churn_date*, тип данных столбца заменён на *DateTime*;\n",
    "- тип данных столбца *reg_date* был заменен на *DateTime*."
   ]
  },
  {
   "cell_type": "markdown",
   "metadata": {},
   "source": [
    "#### 2.1.1.2 Таблица *calls*"
   ]
  },
  {
   "cell_type": "code",
   "execution_count": 15,
   "metadata": {},
   "outputs": [],
   "source": [
    "calls = pd.read_csv('calls.csv')"
   ]
  },
  {
   "cell_type": "code",
   "execution_count": 16,
   "metadata": {},
   "outputs": [
    {
     "data": {
      "text/html": [
       "<div>\n",
       "<style scoped>\n",
       "    .dataframe tbody tr th:only-of-type {\n",
       "        vertical-align: middle;\n",
       "    }\n",
       "\n",
       "    .dataframe tbody tr th {\n",
       "        vertical-align: top;\n",
       "    }\n",
       "\n",
       "    .dataframe thead th {\n",
       "        text-align: right;\n",
       "    }\n",
       "</style>\n",
       "<table border=\"1\" class=\"dataframe\">\n",
       "  <thead>\n",
       "    <tr style=\"text-align: right;\">\n",
       "      <th></th>\n",
       "      <th>id</th>\n",
       "      <th>call_date</th>\n",
       "      <th>duration</th>\n",
       "      <th>user_id</th>\n",
       "    </tr>\n",
       "  </thead>\n",
       "  <tbody>\n",
       "    <tr>\n",
       "      <th>0</th>\n",
       "      <td>1000_0</td>\n",
       "      <td>2018-07-25</td>\n",
       "      <td>0.00</td>\n",
       "      <td>1000</td>\n",
       "    </tr>\n",
       "    <tr>\n",
       "      <th>1</th>\n",
       "      <td>1000_1</td>\n",
       "      <td>2018-08-17</td>\n",
       "      <td>0.00</td>\n",
       "      <td>1000</td>\n",
       "    </tr>\n",
       "    <tr>\n",
       "      <th>2</th>\n",
       "      <td>1000_2</td>\n",
       "      <td>2018-06-11</td>\n",
       "      <td>2.85</td>\n",
       "      <td>1000</td>\n",
       "    </tr>\n",
       "    <tr>\n",
       "      <th>3</th>\n",
       "      <td>1000_3</td>\n",
       "      <td>2018-09-21</td>\n",
       "      <td>13.80</td>\n",
       "      <td>1000</td>\n",
       "    </tr>\n",
       "    <tr>\n",
       "      <th>4</th>\n",
       "      <td>1000_4</td>\n",
       "      <td>2018-12-15</td>\n",
       "      <td>5.18</td>\n",
       "      <td>1000</td>\n",
       "    </tr>\n",
       "    <tr>\n",
       "      <th>...</th>\n",
       "      <td>...</td>\n",
       "      <td>...</td>\n",
       "      <td>...</td>\n",
       "      <td>...</td>\n",
       "    </tr>\n",
       "    <tr>\n",
       "      <th>202602</th>\n",
       "      <td>1499_215</td>\n",
       "      <td>2018-12-26</td>\n",
       "      <td>0.76</td>\n",
       "      <td>1499</td>\n",
       "    </tr>\n",
       "    <tr>\n",
       "      <th>202603</th>\n",
       "      <td>1499_216</td>\n",
       "      <td>2018-10-18</td>\n",
       "      <td>18.83</td>\n",
       "      <td>1499</td>\n",
       "    </tr>\n",
       "    <tr>\n",
       "      <th>202604</th>\n",
       "      <td>1499_217</td>\n",
       "      <td>2018-11-10</td>\n",
       "      <td>10.81</td>\n",
       "      <td>1499</td>\n",
       "    </tr>\n",
       "    <tr>\n",
       "      <th>202605</th>\n",
       "      <td>1499_218</td>\n",
       "      <td>2018-10-06</td>\n",
       "      <td>4.27</td>\n",
       "      <td>1499</td>\n",
       "    </tr>\n",
       "    <tr>\n",
       "      <th>202606</th>\n",
       "      <td>1499_219</td>\n",
       "      <td>2018-12-14</td>\n",
       "      <td>19.62</td>\n",
       "      <td>1499</td>\n",
       "    </tr>\n",
       "  </tbody>\n",
       "</table>\n",
       "<p>202607 rows × 4 columns</p>\n",
       "</div>"
      ],
      "text/plain": [
       "              id   call_date  duration  user_id\n",
       "0         1000_0  2018-07-25      0.00     1000\n",
       "1         1000_1  2018-08-17      0.00     1000\n",
       "2         1000_2  2018-06-11      2.85     1000\n",
       "3         1000_3  2018-09-21     13.80     1000\n",
       "4         1000_4  2018-12-15      5.18     1000\n",
       "...          ...         ...       ...      ...\n",
       "202602  1499_215  2018-12-26      0.76     1499\n",
       "202603  1499_216  2018-10-18     18.83     1499\n",
       "202604  1499_217  2018-11-10     10.81     1499\n",
       "202605  1499_218  2018-10-06      4.27     1499\n",
       "202606  1499_219  2018-12-14     19.62     1499\n",
       "\n",
       "[202607 rows x 4 columns]"
      ]
     },
     "execution_count": 16,
     "metadata": {},
     "output_type": "execute_result"
    }
   ],
   "source": [
    "calls"
   ]
  },
  {
   "cell_type": "code",
   "execution_count": 17,
   "metadata": {},
   "outputs": [
    {
     "name": "stdout",
     "output_type": "stream",
     "text": [
      "<class 'pandas.core.frame.DataFrame'>\n",
      "RangeIndex: 202607 entries, 0 to 202606\n",
      "Data columns (total 4 columns):\n",
      " #   Column     Non-Null Count   Dtype  \n",
      "---  ------     --------------   -----  \n",
      " 0   id         202607 non-null  object \n",
      " 1   call_date  202607 non-null  object \n",
      " 2   duration   202607 non-null  float64\n",
      " 3   user_id    202607 non-null  int64  \n",
      "dtypes: float64(1), int64(1), object(2)\n",
      "memory usage: 6.2+ MB\n"
     ]
    }
   ],
   "source": [
    "calls.info()"
   ]
  },
  {
   "cell_type": "markdown",
   "metadata": {},
   "source": [
    "Пропуски отсутствуют, переименовывать столбцы не требуется"
   ]
  },
  {
   "cell_type": "code",
   "execution_count": 18,
   "metadata": {},
   "outputs": [
    {
     "data": {
      "text/plain": [
       "str"
      ]
     },
     "execution_count": 18,
     "metadata": {},
     "output_type": "execute_result"
    }
   ],
   "source": [
    "type(calls.loc[0, 'call_date'])"
   ]
  },
  {
   "cell_type": "markdown",
   "metadata": {},
   "source": [
    "Тип данных столбца *call_date* необходимо преобразовать к *DateTime*"
   ]
  },
  {
   "cell_type": "code",
   "execution_count": 19,
   "metadata": {},
   "outputs": [
    {
     "name": "stdout",
     "output_type": "stream",
     "text": [
      "<class 'pandas.core.frame.DataFrame'>\n",
      "RangeIndex: 202607 entries, 0 to 202606\n",
      "Data columns (total 4 columns):\n",
      " #   Column     Non-Null Count   Dtype         \n",
      "---  ------     --------------   -----         \n",
      " 0   id         202607 non-null  object        \n",
      " 1   call_date  202607 non-null  datetime64[ns]\n",
      " 2   duration   202607 non-null  float64       \n",
      " 3   user_id    202607 non-null  int64         \n",
      "dtypes: datetime64[ns](1), float64(1), int64(1), object(1)\n",
      "memory usage: 6.2+ MB\n"
     ]
    }
   ],
   "source": [
    "calls['call_date'] = pd.to_datetime(calls['call_date'], format='%Y-%m-%d')\n",
    "calls.info()"
   ]
  },
  {
   "cell_type": "markdown",
   "metadata": {},
   "source": [
    "***Промежуточный итог***  \n",
    "  \n",
    "На данном этапе предобработки данных в таблице *calls*:\n",
    "- тип данных столбца *call_date* был заменен на *DateTime*."
   ]
  },
  {
   "cell_type": "markdown",
   "metadata": {},
   "source": [
    "#### 2.1.1.3 Таблица *internet*"
   ]
  },
  {
   "cell_type": "code",
   "execution_count": 20,
   "metadata": {},
   "outputs": [],
   "source": [
    "internet = pd.read_csv('internet.csv')"
   ]
  },
  {
   "cell_type": "code",
   "execution_count": 21,
   "metadata": {},
   "outputs": [
    {
     "data": {
      "text/html": [
       "<div>\n",
       "<style scoped>\n",
       "    .dataframe tbody tr th:only-of-type {\n",
       "        vertical-align: middle;\n",
       "    }\n",
       "\n",
       "    .dataframe tbody tr th {\n",
       "        vertical-align: top;\n",
       "    }\n",
       "\n",
       "    .dataframe thead th {\n",
       "        text-align: right;\n",
       "    }\n",
       "</style>\n",
       "<table border=\"1\" class=\"dataframe\">\n",
       "  <thead>\n",
       "    <tr style=\"text-align: right;\">\n",
       "      <th></th>\n",
       "      <th>Unnamed: 0</th>\n",
       "      <th>id</th>\n",
       "      <th>mb_used</th>\n",
       "      <th>session_date</th>\n",
       "      <th>user_id</th>\n",
       "    </tr>\n",
       "  </thead>\n",
       "  <tbody>\n",
       "    <tr>\n",
       "      <th>0</th>\n",
       "      <td>0</td>\n",
       "      <td>1000_0</td>\n",
       "      <td>112.95</td>\n",
       "      <td>2018-11-25</td>\n",
       "      <td>1000</td>\n",
       "    </tr>\n",
       "    <tr>\n",
       "      <th>1</th>\n",
       "      <td>1</td>\n",
       "      <td>1000_1</td>\n",
       "      <td>1052.81</td>\n",
       "      <td>2018-09-07</td>\n",
       "      <td>1000</td>\n",
       "    </tr>\n",
       "    <tr>\n",
       "      <th>2</th>\n",
       "      <td>2</td>\n",
       "      <td>1000_2</td>\n",
       "      <td>1197.26</td>\n",
       "      <td>2018-06-25</td>\n",
       "      <td>1000</td>\n",
       "    </tr>\n",
       "    <tr>\n",
       "      <th>3</th>\n",
       "      <td>3</td>\n",
       "      <td>1000_3</td>\n",
       "      <td>550.27</td>\n",
       "      <td>2018-08-22</td>\n",
       "      <td>1000</td>\n",
       "    </tr>\n",
       "    <tr>\n",
       "      <th>4</th>\n",
       "      <td>4</td>\n",
       "      <td>1000_4</td>\n",
       "      <td>302.56</td>\n",
       "      <td>2018-09-24</td>\n",
       "      <td>1000</td>\n",
       "    </tr>\n",
       "    <tr>\n",
       "      <th>...</th>\n",
       "      <td>...</td>\n",
       "      <td>...</td>\n",
       "      <td>...</td>\n",
       "      <td>...</td>\n",
       "      <td>...</td>\n",
       "    </tr>\n",
       "    <tr>\n",
       "      <th>149391</th>\n",
       "      <td>149391</td>\n",
       "      <td>1499_152</td>\n",
       "      <td>318.90</td>\n",
       "      <td>2018-10-03</td>\n",
       "      <td>1499</td>\n",
       "    </tr>\n",
       "    <tr>\n",
       "      <th>149392</th>\n",
       "      <td>149392</td>\n",
       "      <td>1499_153</td>\n",
       "      <td>490.13</td>\n",
       "      <td>2018-12-14</td>\n",
       "      <td>1499</td>\n",
       "    </tr>\n",
       "    <tr>\n",
       "      <th>149393</th>\n",
       "      <td>149393</td>\n",
       "      <td>1499_154</td>\n",
       "      <td>0.00</td>\n",
       "      <td>2018-10-27</td>\n",
       "      <td>1499</td>\n",
       "    </tr>\n",
       "    <tr>\n",
       "      <th>149394</th>\n",
       "      <td>149394</td>\n",
       "      <td>1499_155</td>\n",
       "      <td>1246.32</td>\n",
       "      <td>2018-11-26</td>\n",
       "      <td>1499</td>\n",
       "    </tr>\n",
       "    <tr>\n",
       "      <th>149395</th>\n",
       "      <td>149395</td>\n",
       "      <td>1499_156</td>\n",
       "      <td>544.37</td>\n",
       "      <td>2018-10-26</td>\n",
       "      <td>1499</td>\n",
       "    </tr>\n",
       "  </tbody>\n",
       "</table>\n",
       "<p>149396 rows × 5 columns</p>\n",
       "</div>"
      ],
      "text/plain": [
       "        Unnamed: 0        id  mb_used session_date  user_id\n",
       "0                0    1000_0   112.95   2018-11-25     1000\n",
       "1                1    1000_1  1052.81   2018-09-07     1000\n",
       "2                2    1000_2  1197.26   2018-06-25     1000\n",
       "3                3    1000_3   550.27   2018-08-22     1000\n",
       "4                4    1000_4   302.56   2018-09-24     1000\n",
       "...            ...       ...      ...          ...      ...\n",
       "149391      149391  1499_152   318.90   2018-10-03     1499\n",
       "149392      149392  1499_153   490.13   2018-12-14     1499\n",
       "149393      149393  1499_154     0.00   2018-10-27     1499\n",
       "149394      149394  1499_155  1246.32   2018-11-26     1499\n",
       "149395      149395  1499_156   544.37   2018-10-26     1499\n",
       "\n",
       "[149396 rows x 5 columns]"
      ]
     },
     "execution_count": 21,
     "metadata": {},
     "output_type": "execute_result"
    }
   ],
   "source": [
    "internet"
   ]
  },
  {
   "cell_type": "code",
   "execution_count": 22,
   "metadata": {},
   "outputs": [
    {
     "name": "stdout",
     "output_type": "stream",
     "text": [
      "<class 'pandas.core.frame.DataFrame'>\n",
      "RangeIndex: 149396 entries, 0 to 149395\n",
      "Data columns (total 5 columns):\n",
      " #   Column        Non-Null Count   Dtype  \n",
      "---  ------        --------------   -----  \n",
      " 0   Unnamed: 0    149396 non-null  int64  \n",
      " 1   id            149396 non-null  object \n",
      " 2   mb_used       149396 non-null  float64\n",
      " 3   session_date  149396 non-null  object \n",
      " 4   user_id       149396 non-null  int64  \n",
      "dtypes: float64(1), int64(2), object(2)\n",
      "memory usage: 5.7+ MB\n"
     ]
    }
   ],
   "source": [
    "internet.info()"
   ]
  },
  {
   "cell_type": "markdown",
   "metadata": {},
   "source": [
    "Пропуски отсутствуют, переименовывать столбцы не требуется"
   ]
  },
  {
   "cell_type": "code",
   "execution_count": 23,
   "metadata": {},
   "outputs": [
    {
     "data": {
      "text/plain": [
       "True"
      ]
     },
     "execution_count": 23,
     "metadata": {},
     "output_type": "execute_result"
    }
   ],
   "source": [
    "check_col_for_index(internet, internet.columns[0])"
   ]
  },
  {
   "cell_type": "markdown",
   "metadata": {},
   "source": [
    "Столбец *Unnamed 0* повторяет значения индексов набора данных, поэтому может быть удален"
   ]
  },
  {
   "cell_type": "code",
   "execution_count": 24,
   "metadata": {},
   "outputs": [
    {
     "data": {
      "text/html": [
       "<div>\n",
       "<style scoped>\n",
       "    .dataframe tbody tr th:only-of-type {\n",
       "        vertical-align: middle;\n",
       "    }\n",
       "\n",
       "    .dataframe tbody tr th {\n",
       "        vertical-align: top;\n",
       "    }\n",
       "\n",
       "    .dataframe thead th {\n",
       "        text-align: right;\n",
       "    }\n",
       "</style>\n",
       "<table border=\"1\" class=\"dataframe\">\n",
       "  <thead>\n",
       "    <tr style=\"text-align: right;\">\n",
       "      <th></th>\n",
       "      <th>id</th>\n",
       "      <th>mb_used</th>\n",
       "      <th>session_date</th>\n",
       "      <th>user_id</th>\n",
       "    </tr>\n",
       "  </thead>\n",
       "  <tbody>\n",
       "    <tr>\n",
       "      <th>0</th>\n",
       "      <td>1000_0</td>\n",
       "      <td>112.95</td>\n",
       "      <td>2018-11-25</td>\n",
       "      <td>1000</td>\n",
       "    </tr>\n",
       "    <tr>\n",
       "      <th>1</th>\n",
       "      <td>1000_1</td>\n",
       "      <td>1052.81</td>\n",
       "      <td>2018-09-07</td>\n",
       "      <td>1000</td>\n",
       "    </tr>\n",
       "    <tr>\n",
       "      <th>2</th>\n",
       "      <td>1000_2</td>\n",
       "      <td>1197.26</td>\n",
       "      <td>2018-06-25</td>\n",
       "      <td>1000</td>\n",
       "    </tr>\n",
       "    <tr>\n",
       "      <th>3</th>\n",
       "      <td>1000_3</td>\n",
       "      <td>550.27</td>\n",
       "      <td>2018-08-22</td>\n",
       "      <td>1000</td>\n",
       "    </tr>\n",
       "    <tr>\n",
       "      <th>4</th>\n",
       "      <td>1000_4</td>\n",
       "      <td>302.56</td>\n",
       "      <td>2018-09-24</td>\n",
       "      <td>1000</td>\n",
       "    </tr>\n",
       "    <tr>\n",
       "      <th>...</th>\n",
       "      <td>...</td>\n",
       "      <td>...</td>\n",
       "      <td>...</td>\n",
       "      <td>...</td>\n",
       "    </tr>\n",
       "    <tr>\n",
       "      <th>149391</th>\n",
       "      <td>1499_152</td>\n",
       "      <td>318.90</td>\n",
       "      <td>2018-10-03</td>\n",
       "      <td>1499</td>\n",
       "    </tr>\n",
       "    <tr>\n",
       "      <th>149392</th>\n",
       "      <td>1499_153</td>\n",
       "      <td>490.13</td>\n",
       "      <td>2018-12-14</td>\n",
       "      <td>1499</td>\n",
       "    </tr>\n",
       "    <tr>\n",
       "      <th>149393</th>\n",
       "      <td>1499_154</td>\n",
       "      <td>0.00</td>\n",
       "      <td>2018-10-27</td>\n",
       "      <td>1499</td>\n",
       "    </tr>\n",
       "    <tr>\n",
       "      <th>149394</th>\n",
       "      <td>1499_155</td>\n",
       "      <td>1246.32</td>\n",
       "      <td>2018-11-26</td>\n",
       "      <td>1499</td>\n",
       "    </tr>\n",
       "    <tr>\n",
       "      <th>149395</th>\n",
       "      <td>1499_156</td>\n",
       "      <td>544.37</td>\n",
       "      <td>2018-10-26</td>\n",
       "      <td>1499</td>\n",
       "    </tr>\n",
       "  </tbody>\n",
       "</table>\n",
       "<p>149396 rows × 4 columns</p>\n",
       "</div>"
      ],
      "text/plain": [
       "              id  mb_used session_date  user_id\n",
       "0         1000_0   112.95   2018-11-25     1000\n",
       "1         1000_1  1052.81   2018-09-07     1000\n",
       "2         1000_2  1197.26   2018-06-25     1000\n",
       "3         1000_3   550.27   2018-08-22     1000\n",
       "4         1000_4   302.56   2018-09-24     1000\n",
       "...          ...      ...          ...      ...\n",
       "149391  1499_152   318.90   2018-10-03     1499\n",
       "149392  1499_153   490.13   2018-12-14     1499\n",
       "149393  1499_154     0.00   2018-10-27     1499\n",
       "149394  1499_155  1246.32   2018-11-26     1499\n",
       "149395  1499_156   544.37   2018-10-26     1499\n",
       "\n",
       "[149396 rows x 4 columns]"
      ]
     },
     "execution_count": 24,
     "metadata": {},
     "output_type": "execute_result"
    }
   ],
   "source": [
    "internet = internet.drop(internet.columns[[0]], axis='columns')\n",
    "internet"
   ]
  },
  {
   "cell_type": "code",
   "execution_count": 25,
   "metadata": {},
   "outputs": [
    {
     "data": {
      "text/plain": [
       "str"
      ]
     },
     "execution_count": 25,
     "metadata": {},
     "output_type": "execute_result"
    }
   ],
   "source": [
    "type(internet.loc[0, 'session_date'])"
   ]
  },
  {
   "cell_type": "markdown",
   "metadata": {},
   "source": [
    "Тип данных столбца *session_date* необходимо преобразовать к *DateTime*"
   ]
  },
  {
   "cell_type": "code",
   "execution_count": 26,
   "metadata": {},
   "outputs": [
    {
     "name": "stdout",
     "output_type": "stream",
     "text": [
      "<class 'pandas.core.frame.DataFrame'>\n",
      "RangeIndex: 149396 entries, 0 to 149395\n",
      "Data columns (total 4 columns):\n",
      " #   Column        Non-Null Count   Dtype         \n",
      "---  ------        --------------   -----         \n",
      " 0   id            149396 non-null  object        \n",
      " 1   mb_used       149396 non-null  float64       \n",
      " 2   session_date  149396 non-null  datetime64[ns]\n",
      " 3   user_id       149396 non-null  int64         \n",
      "dtypes: datetime64[ns](1), float64(1), int64(1), object(1)\n",
      "memory usage: 4.6+ MB\n"
     ]
    }
   ],
   "source": [
    "internet['session_date'] = pd.to_datetime(internet['session_date'], format='%Y-%m-%d')\n",
    "internet.info()"
   ]
  },
  {
   "cell_type": "markdown",
   "metadata": {},
   "source": [
    "***Промежуточный итог***  \n",
    "  \n",
    "На данном этапе предобработки данных в таблице *internet*:\n",
    "- столбец *Unnamed 0* был удален;\n",
    "- тип данных столбца *session_date* был заменен на *DateTime*."
   ]
  },
  {
   "cell_type": "markdown",
   "metadata": {},
   "source": [
    "#### 2.1.1.4 Таблица *messages*"
   ]
  },
  {
   "cell_type": "code",
   "execution_count": 27,
   "metadata": {},
   "outputs": [],
   "source": [
    "messages = pd.read_csv('messages.csv')"
   ]
  },
  {
   "cell_type": "code",
   "execution_count": 28,
   "metadata": {},
   "outputs": [
    {
     "data": {
      "text/html": [
       "<div>\n",
       "<style scoped>\n",
       "    .dataframe tbody tr th:only-of-type {\n",
       "        vertical-align: middle;\n",
       "    }\n",
       "\n",
       "    .dataframe tbody tr th {\n",
       "        vertical-align: top;\n",
       "    }\n",
       "\n",
       "    .dataframe thead th {\n",
       "        text-align: right;\n",
       "    }\n",
       "</style>\n",
       "<table border=\"1\" class=\"dataframe\">\n",
       "  <thead>\n",
       "    <tr style=\"text-align: right;\">\n",
       "      <th></th>\n",
       "      <th>id</th>\n",
       "      <th>message_date</th>\n",
       "      <th>user_id</th>\n",
       "    </tr>\n",
       "  </thead>\n",
       "  <tbody>\n",
       "    <tr>\n",
       "      <th>0</th>\n",
       "      <td>1000_0</td>\n",
       "      <td>2018-06-27</td>\n",
       "      <td>1000</td>\n",
       "    </tr>\n",
       "    <tr>\n",
       "      <th>1</th>\n",
       "      <td>1000_1</td>\n",
       "      <td>2018-10-08</td>\n",
       "      <td>1000</td>\n",
       "    </tr>\n",
       "    <tr>\n",
       "      <th>2</th>\n",
       "      <td>1000_2</td>\n",
       "      <td>2018-08-04</td>\n",
       "      <td>1000</td>\n",
       "    </tr>\n",
       "    <tr>\n",
       "      <th>3</th>\n",
       "      <td>1000_3</td>\n",
       "      <td>2018-06-16</td>\n",
       "      <td>1000</td>\n",
       "    </tr>\n",
       "    <tr>\n",
       "      <th>4</th>\n",
       "      <td>1000_4</td>\n",
       "      <td>2018-12-05</td>\n",
       "      <td>1000</td>\n",
       "    </tr>\n",
       "    <tr>\n",
       "      <th>...</th>\n",
       "      <td>...</td>\n",
       "      <td>...</td>\n",
       "      <td>...</td>\n",
       "    </tr>\n",
       "    <tr>\n",
       "      <th>123031</th>\n",
       "      <td>1499_179</td>\n",
       "      <td>2018-12-12</td>\n",
       "      <td>1499</td>\n",
       "    </tr>\n",
       "    <tr>\n",
       "      <th>123032</th>\n",
       "      <td>1499_180</td>\n",
       "      <td>2018-09-28</td>\n",
       "      <td>1499</td>\n",
       "    </tr>\n",
       "    <tr>\n",
       "      <th>123033</th>\n",
       "      <td>1499_181</td>\n",
       "      <td>2018-09-27</td>\n",
       "      <td>1499</td>\n",
       "    </tr>\n",
       "    <tr>\n",
       "      <th>123034</th>\n",
       "      <td>1499_182</td>\n",
       "      <td>2018-11-15</td>\n",
       "      <td>1499</td>\n",
       "    </tr>\n",
       "    <tr>\n",
       "      <th>123035</th>\n",
       "      <td>1499_183</td>\n",
       "      <td>2018-11-16</td>\n",
       "      <td>1499</td>\n",
       "    </tr>\n",
       "  </tbody>\n",
       "</table>\n",
       "<p>123036 rows × 3 columns</p>\n",
       "</div>"
      ],
      "text/plain": [
       "              id message_date  user_id\n",
       "0         1000_0   2018-06-27     1000\n",
       "1         1000_1   2018-10-08     1000\n",
       "2         1000_2   2018-08-04     1000\n",
       "3         1000_3   2018-06-16     1000\n",
       "4         1000_4   2018-12-05     1000\n",
       "...          ...          ...      ...\n",
       "123031  1499_179   2018-12-12     1499\n",
       "123032  1499_180   2018-09-28     1499\n",
       "123033  1499_181   2018-09-27     1499\n",
       "123034  1499_182   2018-11-15     1499\n",
       "123035  1499_183   2018-11-16     1499\n",
       "\n",
       "[123036 rows x 3 columns]"
      ]
     },
     "execution_count": 28,
     "metadata": {},
     "output_type": "execute_result"
    }
   ],
   "source": [
    "messages"
   ]
  },
  {
   "cell_type": "code",
   "execution_count": 29,
   "metadata": {},
   "outputs": [
    {
     "name": "stdout",
     "output_type": "stream",
     "text": [
      "<class 'pandas.core.frame.DataFrame'>\n",
      "RangeIndex: 123036 entries, 0 to 123035\n",
      "Data columns (total 3 columns):\n",
      " #   Column        Non-Null Count   Dtype \n",
      "---  ------        --------------   ----- \n",
      " 0   id            123036 non-null  object\n",
      " 1   message_date  123036 non-null  object\n",
      " 2   user_id       123036 non-null  int64 \n",
      "dtypes: int64(1), object(2)\n",
      "memory usage: 2.8+ MB\n"
     ]
    }
   ],
   "source": [
    "messages.info()"
   ]
  },
  {
   "cell_type": "markdown",
   "metadata": {},
   "source": [
    "Пропуски отсутствуют, переименовывать столбцы не требуется"
   ]
  },
  {
   "cell_type": "code",
   "execution_count": 30,
   "metadata": {},
   "outputs": [
    {
     "data": {
      "text/plain": [
       "str"
      ]
     },
     "execution_count": 30,
     "metadata": {},
     "output_type": "execute_result"
    }
   ],
   "source": [
    "type(messages.loc[0, 'message_date'])"
   ]
  },
  {
   "cell_type": "markdown",
   "metadata": {},
   "source": [
    "Тип данных столбца *message_date* необходимо преобразовать к *DateTime*"
   ]
  },
  {
   "cell_type": "code",
   "execution_count": 31,
   "metadata": {},
   "outputs": [
    {
     "name": "stdout",
     "output_type": "stream",
     "text": [
      "<class 'pandas.core.frame.DataFrame'>\n",
      "RangeIndex: 123036 entries, 0 to 123035\n",
      "Data columns (total 3 columns):\n",
      " #   Column        Non-Null Count   Dtype         \n",
      "---  ------        --------------   -----         \n",
      " 0   id            123036 non-null  object        \n",
      " 1   message_date  123036 non-null  datetime64[ns]\n",
      " 2   user_id       123036 non-null  int64         \n",
      "dtypes: datetime64[ns](1), int64(1), object(1)\n",
      "memory usage: 2.8+ MB\n"
     ]
    }
   ],
   "source": [
    "messages['message_date'] = pd.to_datetime(messages['message_date'], format='%Y-%m-%d')\n",
    "messages.info()"
   ]
  },
  {
   "cell_type": "markdown",
   "metadata": {},
   "source": [
    "***Промежуточный итог***  \n",
    "  \n",
    "На данном этапе предобработки данных в таблице *messages*:\n",
    "- тип данных столбца *message_date* был заменен на *DateTime*."
   ]
  },
  {
   "cell_type": "markdown",
   "metadata": {},
   "source": [
    "#### 2.1.1.5 Таблица *tariffs*"
   ]
  },
  {
   "cell_type": "code",
   "execution_count": 32,
   "metadata": {},
   "outputs": [],
   "source": [
    "tariffs = pd.read_csv('tariffs.csv')"
   ]
  },
  {
   "cell_type": "code",
   "execution_count": 33,
   "metadata": {},
   "outputs": [
    {
     "data": {
      "text/html": [
       "<div>\n",
       "<style scoped>\n",
       "    .dataframe tbody tr th:only-of-type {\n",
       "        vertical-align: middle;\n",
       "    }\n",
       "\n",
       "    .dataframe tbody tr th {\n",
       "        vertical-align: top;\n",
       "    }\n",
       "\n",
       "    .dataframe thead th {\n",
       "        text-align: right;\n",
       "    }\n",
       "</style>\n",
       "<table border=\"1\" class=\"dataframe\">\n",
       "  <thead>\n",
       "    <tr style=\"text-align: right;\">\n",
       "      <th></th>\n",
       "      <th>messages_included</th>\n",
       "      <th>mb_per_month_included</th>\n",
       "      <th>minutes_included</th>\n",
       "      <th>rub_monthly_fee</th>\n",
       "      <th>rub_per_gb</th>\n",
       "      <th>rub_per_message</th>\n",
       "      <th>rub_per_minute</th>\n",
       "      <th>tariff_name</th>\n",
       "    </tr>\n",
       "  </thead>\n",
       "  <tbody>\n",
       "    <tr>\n",
       "      <th>0</th>\n",
       "      <td>50</td>\n",
       "      <td>15360</td>\n",
       "      <td>500</td>\n",
       "      <td>550</td>\n",
       "      <td>200</td>\n",
       "      <td>3</td>\n",
       "      <td>3</td>\n",
       "      <td>smart</td>\n",
       "    </tr>\n",
       "    <tr>\n",
       "      <th>1</th>\n",
       "      <td>1000</td>\n",
       "      <td>30720</td>\n",
       "      <td>3000</td>\n",
       "      <td>1950</td>\n",
       "      <td>150</td>\n",
       "      <td>1</td>\n",
       "      <td>1</td>\n",
       "      <td>ultra</td>\n",
       "    </tr>\n",
       "  </tbody>\n",
       "</table>\n",
       "</div>"
      ],
      "text/plain": [
       "   messages_included  mb_per_month_included  minutes_included  \\\n",
       "0                 50                  15360               500   \n",
       "1               1000                  30720              3000   \n",
       "\n",
       "   rub_monthly_fee  rub_per_gb  rub_per_message  rub_per_minute tariff_name  \n",
       "0              550         200                3               3       smart  \n",
       "1             1950         150                1               1       ultra  "
      ]
     },
     "execution_count": 33,
     "metadata": {},
     "output_type": "execute_result"
    }
   ],
   "source": [
    "tariffs"
   ]
  },
  {
   "cell_type": "markdown",
   "metadata": {},
   "source": [
    "Пропуски отсутствуют, переименовывать столбцы не требуется.  "
   ]
  },
  {
   "cell_type": "markdown",
   "metadata": {},
   "source": [
    "***Промежуточный итог***  \n",
    "  \n",
    "Таблица *tariffs* предобработки не требует."
   ]
  },
  {
   "cell_type": "markdown",
   "metadata": {},
   "source": [
    "### 2.1.2 Поиск и удаление аномальных значений"
   ]
  },
  {
   "cell_type": "markdown",
   "metadata": {},
   "source": [
    "#### 2.1.2.1 Таблица *users*"
   ]
  },
  {
   "cell_type": "code",
   "execution_count": 34,
   "metadata": {},
   "outputs": [
    {
     "data": {
      "text/html": [
       "<div>\n",
       "<style scoped>\n",
       "    .dataframe tbody tr th:only-of-type {\n",
       "        vertical-align: middle;\n",
       "    }\n",
       "\n",
       "    .dataframe tbody tr th {\n",
       "        vertical-align: top;\n",
       "    }\n",
       "\n",
       "    .dataframe thead th {\n",
       "        text-align: right;\n",
       "    }\n",
       "</style>\n",
       "<table border=\"1\" class=\"dataframe\">\n",
       "  <thead>\n",
       "    <tr style=\"text-align: right;\">\n",
       "      <th></th>\n",
       "      <th>user_id</th>\n",
       "      <th>age</th>\n",
       "      <th>churn_date</th>\n",
       "      <th>city</th>\n",
       "      <th>first_name</th>\n",
       "      <th>last_name</th>\n",
       "      <th>reg_date</th>\n",
       "      <th>tariff</th>\n",
       "    </tr>\n",
       "  </thead>\n",
       "  <tbody>\n",
       "    <tr>\n",
       "      <th>0</th>\n",
       "      <td>1000</td>\n",
       "      <td>52</td>\n",
       "      <td>1970-01-01</td>\n",
       "      <td>Краснодар</td>\n",
       "      <td>Рафаил</td>\n",
       "      <td>Верещагин</td>\n",
       "      <td>2018-05-25</td>\n",
       "      <td>ultra</td>\n",
       "    </tr>\n",
       "    <tr>\n",
       "      <th>1</th>\n",
       "      <td>1001</td>\n",
       "      <td>41</td>\n",
       "      <td>1970-01-01</td>\n",
       "      <td>Москва</td>\n",
       "      <td>Иван</td>\n",
       "      <td>Ежов</td>\n",
       "      <td>2018-11-01</td>\n",
       "      <td>smart</td>\n",
       "    </tr>\n",
       "    <tr>\n",
       "      <th>2</th>\n",
       "      <td>1002</td>\n",
       "      <td>59</td>\n",
       "      <td>1970-01-01</td>\n",
       "      <td>Стерлитамак</td>\n",
       "      <td>Евгений</td>\n",
       "      <td>Абрамович</td>\n",
       "      <td>2018-06-17</td>\n",
       "      <td>smart</td>\n",
       "    </tr>\n",
       "    <tr>\n",
       "      <th>3</th>\n",
       "      <td>1003</td>\n",
       "      <td>23</td>\n",
       "      <td>1970-01-01</td>\n",
       "      <td>Москва</td>\n",
       "      <td>Белла</td>\n",
       "      <td>Белякова</td>\n",
       "      <td>2018-08-17</td>\n",
       "      <td>ultra</td>\n",
       "    </tr>\n",
       "    <tr>\n",
       "      <th>4</th>\n",
       "      <td>1004</td>\n",
       "      <td>68</td>\n",
       "      <td>1970-01-01</td>\n",
       "      <td>Новокузнецк</td>\n",
       "      <td>Татьяна</td>\n",
       "      <td>Авдеенко</td>\n",
       "      <td>2018-05-14</td>\n",
       "      <td>ultra</td>\n",
       "    </tr>\n",
       "    <tr>\n",
       "      <th>...</th>\n",
       "      <td>...</td>\n",
       "      <td>...</td>\n",
       "      <td>...</td>\n",
       "      <td>...</td>\n",
       "      <td>...</td>\n",
       "      <td>...</td>\n",
       "      <td>...</td>\n",
       "      <td>...</td>\n",
       "    </tr>\n",
       "    <tr>\n",
       "      <th>495</th>\n",
       "      <td>1495</td>\n",
       "      <td>65</td>\n",
       "      <td>1970-01-01</td>\n",
       "      <td>Иркутск</td>\n",
       "      <td>Авксентий</td>\n",
       "      <td>Фокин</td>\n",
       "      <td>2018-08-28</td>\n",
       "      <td>ultra</td>\n",
       "    </tr>\n",
       "    <tr>\n",
       "      <th>496</th>\n",
       "      <td>1496</td>\n",
       "      <td>36</td>\n",
       "      <td>1970-01-01</td>\n",
       "      <td>Вологда</td>\n",
       "      <td>Трифон</td>\n",
       "      <td>Блохин</td>\n",
       "      <td>2018-01-27</td>\n",
       "      <td>smart</td>\n",
       "    </tr>\n",
       "    <tr>\n",
       "      <th>497</th>\n",
       "      <td>1497</td>\n",
       "      <td>32</td>\n",
       "      <td>1970-01-01</td>\n",
       "      <td>Челябинск</td>\n",
       "      <td>Каролина</td>\n",
       "      <td>Агеева</td>\n",
       "      <td>2018-10-09</td>\n",
       "      <td>smart</td>\n",
       "    </tr>\n",
       "    <tr>\n",
       "      <th>498</th>\n",
       "      <td>1498</td>\n",
       "      <td>68</td>\n",
       "      <td>2018-10-25</td>\n",
       "      <td>Владикавказ</td>\n",
       "      <td>Всеволод</td>\n",
       "      <td>Акимчин</td>\n",
       "      <td>2018-07-19</td>\n",
       "      <td>smart</td>\n",
       "    </tr>\n",
       "    <tr>\n",
       "      <th>499</th>\n",
       "      <td>1499</td>\n",
       "      <td>35</td>\n",
       "      <td>1970-01-01</td>\n",
       "      <td>Пермь</td>\n",
       "      <td>Гектор</td>\n",
       "      <td>Корнилов</td>\n",
       "      <td>2018-09-27</td>\n",
       "      <td>smart</td>\n",
       "    </tr>\n",
       "  </tbody>\n",
       "</table>\n",
       "<p>500 rows × 8 columns</p>\n",
       "</div>"
      ],
      "text/plain": [
       "     user_id  age churn_date         city first_name  last_name   reg_date  \\\n",
       "0       1000   52 1970-01-01    Краснодар     Рафаил  Верещагин 2018-05-25   \n",
       "1       1001   41 1970-01-01       Москва       Иван       Ежов 2018-11-01   \n",
       "2       1002   59 1970-01-01  Стерлитамак    Евгений  Абрамович 2018-06-17   \n",
       "3       1003   23 1970-01-01       Москва      Белла   Белякова 2018-08-17   \n",
       "4       1004   68 1970-01-01  Новокузнецк    Татьяна   Авдеенко 2018-05-14   \n",
       "..       ...  ...        ...          ...        ...        ...        ...   \n",
       "495     1495   65 1970-01-01      Иркутск  Авксентий      Фокин 2018-08-28   \n",
       "496     1496   36 1970-01-01      Вологда     Трифон     Блохин 2018-01-27   \n",
       "497     1497   32 1970-01-01    Челябинск   Каролина     Агеева 2018-10-09   \n",
       "498     1498   68 2018-10-25  Владикавказ   Всеволод    Акимчин 2018-07-19   \n",
       "499     1499   35 1970-01-01        Пермь     Гектор   Корнилов 2018-09-27   \n",
       "\n",
       "    tariff  \n",
       "0    ultra  \n",
       "1    smart  \n",
       "2    smart  \n",
       "3    ultra  \n",
       "4    ultra  \n",
       "..     ...  \n",
       "495  ultra  \n",
       "496  smart  \n",
       "497  smart  \n",
       "498  smart  \n",
       "499  smart  \n",
       "\n",
       "[500 rows x 8 columns]"
      ]
     },
     "execution_count": 34,
     "metadata": {},
     "output_type": "execute_result"
    }
   ],
   "source": [
    "users"
   ]
  },
  {
   "cell_type": "code",
   "execution_count": 35,
   "metadata": {},
   "outputs": [
    {
     "data": {
      "text/plain": [
       "500"
      ]
     },
     "execution_count": 35,
     "metadata": {},
     "output_type": "execute_result"
    }
   ],
   "source": [
    "len(users['user_id'].unique())"
   ]
  },
  {
   "cell_type": "markdown",
   "metadata": {},
   "source": [
    "Значения идентификаторов уникальны"
   ]
  },
  {
   "cell_type": "code",
   "execution_count": 36,
   "metadata": {},
   "outputs": [],
   "source": [
    "# Массив ID пользователей для последующего анализа\n",
    "user_ids = users['user_id'].unique()"
   ]
  },
  {
   "cell_type": "code",
   "execution_count": 37,
   "metadata": {},
   "outputs": [
    {
     "data": {
      "text/plain": [
       "array([18, 19, 20, 21, 22, 23, 24, 25, 26, 27, 28, 29, 30, 31, 32, 33, 34,\n",
       "       35, 36, 37, 38, 39, 40, 41, 42, 43, 44, 45, 46, 47, 48, 49, 50, 51,\n",
       "       52, 53, 54, 55, 56, 57, 58, 59, 60, 61, 62, 63, 64, 65, 66, 67, 68,\n",
       "       69, 70, 71, 72, 73, 74, 75], dtype=int64)"
      ]
     },
     "execution_count": 37,
     "metadata": {},
     "output_type": "execute_result"
    }
   ],
   "source": [
    "users['age'].sort_values().unique()"
   ]
  },
  {
   "cell_type": "code",
   "execution_count": 38,
   "metadata": {},
   "outputs": [
    {
     "data": {
      "text/plain": [
       "count                     500\n",
       "unique                    270\n",
       "top       2018-05-28 00:00:00\n",
       "freq                        8\n",
       "first     2018-01-01 00:00:00\n",
       "last      2018-12-31 00:00:00\n",
       "Name: reg_date, dtype: object"
      ]
     },
     "execution_count": 38,
     "metadata": {},
     "output_type": "execute_result"
    }
   ],
   "source": [
    "users['reg_date'].describe()"
   ]
  },
  {
   "cell_type": "code",
   "execution_count": 39,
   "metadata": {},
   "outputs": [
    {
     "data": {
      "text/plain": [
       "array(['ultra', 'smart'], dtype=object)"
      ]
     },
     "execution_count": 39,
     "metadata": {},
     "output_type": "execute_result"
    }
   ],
   "source": [
    "users['tariff'].unique()"
   ]
  },
  {
   "cell_type": "markdown",
   "metadata": {},
   "source": [
    "***Промежуточный итог***  \n",
    "  \n",
    "Аномальные значения в таблице *users* отсутствуют."
   ]
  },
  {
   "cell_type": "markdown",
   "metadata": {},
   "source": [
    "#### 2.1.2.2 Таблица *calls*"
   ]
  },
  {
   "cell_type": "code",
   "execution_count": 40,
   "metadata": {},
   "outputs": [
    {
     "data": {
      "text/html": [
       "<div>\n",
       "<style scoped>\n",
       "    .dataframe tbody tr th:only-of-type {\n",
       "        vertical-align: middle;\n",
       "    }\n",
       "\n",
       "    .dataframe tbody tr th {\n",
       "        vertical-align: top;\n",
       "    }\n",
       "\n",
       "    .dataframe thead th {\n",
       "        text-align: right;\n",
       "    }\n",
       "</style>\n",
       "<table border=\"1\" class=\"dataframe\">\n",
       "  <thead>\n",
       "    <tr style=\"text-align: right;\">\n",
       "      <th></th>\n",
       "      <th>id</th>\n",
       "      <th>call_date</th>\n",
       "      <th>duration</th>\n",
       "      <th>user_id</th>\n",
       "    </tr>\n",
       "  </thead>\n",
       "  <tbody>\n",
       "    <tr>\n",
       "      <th>0</th>\n",
       "      <td>1000_0</td>\n",
       "      <td>2018-07-25</td>\n",
       "      <td>0.00</td>\n",
       "      <td>1000</td>\n",
       "    </tr>\n",
       "    <tr>\n",
       "      <th>1</th>\n",
       "      <td>1000_1</td>\n",
       "      <td>2018-08-17</td>\n",
       "      <td>0.00</td>\n",
       "      <td>1000</td>\n",
       "    </tr>\n",
       "    <tr>\n",
       "      <th>2</th>\n",
       "      <td>1000_2</td>\n",
       "      <td>2018-06-11</td>\n",
       "      <td>2.85</td>\n",
       "      <td>1000</td>\n",
       "    </tr>\n",
       "    <tr>\n",
       "      <th>3</th>\n",
       "      <td>1000_3</td>\n",
       "      <td>2018-09-21</td>\n",
       "      <td>13.80</td>\n",
       "      <td>1000</td>\n",
       "    </tr>\n",
       "    <tr>\n",
       "      <th>4</th>\n",
       "      <td>1000_4</td>\n",
       "      <td>2018-12-15</td>\n",
       "      <td>5.18</td>\n",
       "      <td>1000</td>\n",
       "    </tr>\n",
       "    <tr>\n",
       "      <th>...</th>\n",
       "      <td>...</td>\n",
       "      <td>...</td>\n",
       "      <td>...</td>\n",
       "      <td>...</td>\n",
       "    </tr>\n",
       "    <tr>\n",
       "      <th>202602</th>\n",
       "      <td>1499_215</td>\n",
       "      <td>2018-12-26</td>\n",
       "      <td>0.76</td>\n",
       "      <td>1499</td>\n",
       "    </tr>\n",
       "    <tr>\n",
       "      <th>202603</th>\n",
       "      <td>1499_216</td>\n",
       "      <td>2018-10-18</td>\n",
       "      <td>18.83</td>\n",
       "      <td>1499</td>\n",
       "    </tr>\n",
       "    <tr>\n",
       "      <th>202604</th>\n",
       "      <td>1499_217</td>\n",
       "      <td>2018-11-10</td>\n",
       "      <td>10.81</td>\n",
       "      <td>1499</td>\n",
       "    </tr>\n",
       "    <tr>\n",
       "      <th>202605</th>\n",
       "      <td>1499_218</td>\n",
       "      <td>2018-10-06</td>\n",
       "      <td>4.27</td>\n",
       "      <td>1499</td>\n",
       "    </tr>\n",
       "    <tr>\n",
       "      <th>202606</th>\n",
       "      <td>1499_219</td>\n",
       "      <td>2018-12-14</td>\n",
       "      <td>19.62</td>\n",
       "      <td>1499</td>\n",
       "    </tr>\n",
       "  </tbody>\n",
       "</table>\n",
       "<p>202607 rows × 4 columns</p>\n",
       "</div>"
      ],
      "text/plain": [
       "              id  call_date  duration  user_id\n",
       "0         1000_0 2018-07-25      0.00     1000\n",
       "1         1000_1 2018-08-17      0.00     1000\n",
       "2         1000_2 2018-06-11      2.85     1000\n",
       "3         1000_3 2018-09-21     13.80     1000\n",
       "4         1000_4 2018-12-15      5.18     1000\n",
       "...          ...        ...       ...      ...\n",
       "202602  1499_215 2018-12-26      0.76     1499\n",
       "202603  1499_216 2018-10-18     18.83     1499\n",
       "202604  1499_217 2018-11-10     10.81     1499\n",
       "202605  1499_218 2018-10-06      4.27     1499\n",
       "202606  1499_219 2018-12-14     19.62     1499\n",
       "\n",
       "[202607 rows x 4 columns]"
      ]
     },
     "execution_count": 40,
     "metadata": {},
     "output_type": "execute_result"
    }
   ],
   "source": [
    "calls"
   ]
  },
  {
   "cell_type": "code",
   "execution_count": 41,
   "metadata": {},
   "outputs": [
    {
     "data": {
      "text/plain": [
       "202607"
      ]
     },
     "execution_count": 41,
     "metadata": {},
     "output_type": "execute_result"
    }
   ],
   "source": [
    "len(calls['id'].unique())"
   ]
  },
  {
   "cell_type": "markdown",
   "metadata": {},
   "source": [
    "Значения идентификаторов уникальны"
   ]
  },
  {
   "cell_type": "code",
   "execution_count": 42,
   "metadata": {},
   "outputs": [
    {
     "data": {
      "text/plain": [
       "count                  202607\n",
       "unique                    365\n",
       "top       2018-12-31 00:00:00\n",
       "freq                     1435\n",
       "first     2018-01-01 00:00:00\n",
       "last      2018-12-31 00:00:00\n",
       "Name: call_date, dtype: object"
      ]
     },
     "execution_count": 42,
     "metadata": {},
     "output_type": "execute_result"
    }
   ],
   "source": [
    "calls['call_date'].describe()"
   ]
  },
  {
   "cell_type": "code",
   "execution_count": 43,
   "metadata": {},
   "outputs": [
    {
     "data": {
      "text/plain": [
       "count   202607.00\n",
       "mean         6.76\n",
       "std          5.84\n",
       "min          0.00\n",
       "25%          1.30\n",
       "50%          6.00\n",
       "75%         10.70\n",
       "max         38.00\n",
       "Name: duration, dtype: float64"
      ]
     },
     "execution_count": 43,
     "metadata": {},
     "output_type": "execute_result"
    }
   ],
   "source": [
    "calls['duration'].describe()"
   ]
  },
  {
   "cell_type": "markdown",
   "metadata": {},
   "source": [
    "Нулевая длительность вызова -- аномальное значение"
   ]
  },
  {
   "cell_type": "code",
   "execution_count": 44,
   "metadata": {},
   "outputs": [
    {
     "data": {
      "text/plain": [
       "39613"
      ]
     },
     "execution_count": 44,
     "metadata": {},
     "output_type": "execute_result"
    }
   ],
   "source": [
    "calls.loc[calls['duration'] == 0, 'duration'].count() "
   ]
  },
  {
   "cell_type": "code",
   "execution_count": 45,
   "metadata": {},
   "outputs": [
    {
     "data": {
      "text/plain": [
       "19.551644316336553"
      ]
     },
     "execution_count": 45,
     "metadata": {},
     "output_type": "execute_result"
    }
   ],
   "source": [
    "calls.loc[calls['duration'] == 0, 'duration'].count() / calls.shape[0] * 100"
   ]
  },
  {
   "cell_type": "markdown",
   "metadata": {},
   "source": [
    "Нулевых вывзовов в наборе данных почти 20%. Удалять их пока нельзя"
   ]
  },
  {
   "cell_type": "code",
   "execution_count": 46,
   "metadata": {},
   "outputs": [
    {
     "data": {
      "text/html": [
       "<div>\n",
       "<style scoped>\n",
       "    .dataframe tbody tr th:only-of-type {\n",
       "        vertical-align: middle;\n",
       "    }\n",
       "\n",
       "    .dataframe tbody tr th {\n",
       "        vertical-align: top;\n",
       "    }\n",
       "\n",
       "    .dataframe thead th {\n",
       "        text-align: right;\n",
       "    }\n",
       "</style>\n",
       "<table border=\"1\" class=\"dataframe\">\n",
       "  <thead>\n",
       "    <tr style=\"text-align: right;\">\n",
       "      <th></th>\n",
       "      <th>id</th>\n",
       "      <th>call_date</th>\n",
       "      <th>duration</th>\n",
       "      <th>user_id</th>\n",
       "    </tr>\n",
       "  </thead>\n",
       "  <tbody>\n",
       "  </tbody>\n",
       "</table>\n",
       "</div>"
      ],
      "text/plain": [
       "Empty DataFrame\n",
       "Columns: [id, call_date, duration, user_id]\n",
       "Index: []"
      ]
     },
     "execution_count": 46,
     "metadata": {},
     "output_type": "execute_result"
    }
   ],
   "source": [
    "calls.loc[~calls['user_id'].isin(user_ids),:]"
   ]
  },
  {
   "cell_type": "markdown",
   "metadata": {},
   "source": [
    "Ссылки на идентификаторы пользователей корректны"
   ]
  },
  {
   "cell_type": "code",
   "execution_count": 47,
   "metadata": {},
   "outputs": [
    {
     "data": {
      "text/plain": [
       "492"
      ]
     },
     "execution_count": 47,
     "metadata": {},
     "output_type": "execute_result"
    }
   ],
   "source": [
    "len(calls.loc[calls['duration'] == 0, 'user_id'].unique())"
   ]
  },
  {
   "cell_type": "markdown",
   "metadata": {},
   "source": [
    "У всех пользвателей (за исключением 8) были нулевые вызовы. Значит это явление характерное для всех"
   ]
  },
  {
   "cell_type": "code",
   "execution_count": 48,
   "metadata": {},
   "outputs": [
    {
     "name": "stdout",
     "output_type": "stream",
     "text": [
      "      count  percent\n",
      "1377    336     0.85\n",
      "1168    308     0.78\n",
      "1453    295     0.74\n",
      "1375    290     0.73\n",
      "1196    262     0.66\n",
      "...     ...      ...\n",
      "1016      6     0.02\n",
      "1084      5     0.01\n",
      "1406      5     0.01\n",
      "1424      5     0.01\n",
      "1442      5     0.01\n",
      "\n",
      "[492 rows x 2 columns]\n"
     ]
    }
   ],
   "source": [
    "value_counts_percent(calls.loc[calls['duration'] == 0, 'user_id'])"
   ]
  },
  {
   "cell_type": "markdown",
   "metadata": {},
   "source": [
    "Нулевые вызовы представляют интерес для дополнительного исследования, выходящего за рамки текщих задач. Их количество у каждого из пользователей не превышает 1%. Поэтому они могут быть удалены, как ошибочное значения, не смотря на суммарное их количество равное почти 20% от набора данных. "
   ]
  },
  {
   "cell_type": "code",
   "execution_count": 49,
   "metadata": {},
   "outputs": [
    {
     "data": {
      "text/plain": [
       "count   162994.00\n",
       "mean         8.40\n",
       "std          5.35\n",
       "min          0.01\n",
       "25%          4.17\n",
       "50%          7.74\n",
       "75%         11.85\n",
       "max         38.00\n",
       "Name: duration, dtype: float64"
      ]
     },
     "execution_count": 49,
     "metadata": {},
     "output_type": "execute_result"
    }
   ],
   "source": [
    "calls = calls.loc[calls['duration'] != 0,:]\n",
    "calls['duration'].describe()"
   ]
  },
  {
   "cell_type": "code",
   "execution_count": 50,
   "metadata": {},
   "outputs": [
    {
     "data": {
      "text/plain": [
       "0.4552314809134078"
      ]
     },
     "execution_count": 50,
     "metadata": {},
     "output_type": "execute_result"
    }
   ],
   "source": [
    "calls.loc[calls['duration'] < 0.1, 'user_id'].count() / calls.shape[0] * 100"
   ]
  },
  {
   "cell_type": "markdown",
   "metadata": {},
   "source": [
    "Записи в наборе данных с длительностью вызова менее 6 сек составляют менее 0.5% от объема набра данных. Поэтому также могут быть удалены."
   ]
  },
  {
   "cell_type": "code",
   "execution_count": 51,
   "metadata": {},
   "outputs": [
    {
     "data": {
      "text/plain": [
       "count   162176.00\n",
       "mean         8.44\n",
       "std          5.33\n",
       "min          0.11\n",
       "25%          4.23\n",
       "50%          7.77\n",
       "75%         11.88\n",
       "max         38.00\n",
       "Name: duration, dtype: float64"
      ]
     },
     "execution_count": 51,
     "metadata": {},
     "output_type": "execute_result"
    }
   ],
   "source": [
    "calls = calls.loc[calls['duration'] > 0.1,:]\n",
    "calls['duration'].describe()"
   ]
  },
  {
   "cell_type": "markdown",
   "metadata": {},
   "source": [
    "***Промежуточный итог***  \n",
    "  \n",
    "Аномальными значениями в таблице *calls* были вывзовы длительностью менее 6 секунд, которые из набора данных успешно удалены."
   ]
  },
  {
   "cell_type": "markdown",
   "metadata": {},
   "source": [
    "#### 2.1.2.3 Таблица *internet*"
   ]
  },
  {
   "cell_type": "code",
   "execution_count": 52,
   "metadata": {},
   "outputs": [
    {
     "data": {
      "text/html": [
       "<div>\n",
       "<style scoped>\n",
       "    .dataframe tbody tr th:only-of-type {\n",
       "        vertical-align: middle;\n",
       "    }\n",
       "\n",
       "    .dataframe tbody tr th {\n",
       "        vertical-align: top;\n",
       "    }\n",
       "\n",
       "    .dataframe thead th {\n",
       "        text-align: right;\n",
       "    }\n",
       "</style>\n",
       "<table border=\"1\" class=\"dataframe\">\n",
       "  <thead>\n",
       "    <tr style=\"text-align: right;\">\n",
       "      <th></th>\n",
       "      <th>id</th>\n",
       "      <th>mb_used</th>\n",
       "      <th>session_date</th>\n",
       "      <th>user_id</th>\n",
       "    </tr>\n",
       "  </thead>\n",
       "  <tbody>\n",
       "    <tr>\n",
       "      <th>0</th>\n",
       "      <td>1000_0</td>\n",
       "      <td>112.95</td>\n",
       "      <td>2018-11-25</td>\n",
       "      <td>1000</td>\n",
       "    </tr>\n",
       "    <tr>\n",
       "      <th>1</th>\n",
       "      <td>1000_1</td>\n",
       "      <td>1052.81</td>\n",
       "      <td>2018-09-07</td>\n",
       "      <td>1000</td>\n",
       "    </tr>\n",
       "    <tr>\n",
       "      <th>2</th>\n",
       "      <td>1000_2</td>\n",
       "      <td>1197.26</td>\n",
       "      <td>2018-06-25</td>\n",
       "      <td>1000</td>\n",
       "    </tr>\n",
       "    <tr>\n",
       "      <th>3</th>\n",
       "      <td>1000_3</td>\n",
       "      <td>550.27</td>\n",
       "      <td>2018-08-22</td>\n",
       "      <td>1000</td>\n",
       "    </tr>\n",
       "    <tr>\n",
       "      <th>4</th>\n",
       "      <td>1000_4</td>\n",
       "      <td>302.56</td>\n",
       "      <td>2018-09-24</td>\n",
       "      <td>1000</td>\n",
       "    </tr>\n",
       "    <tr>\n",
       "      <th>...</th>\n",
       "      <td>...</td>\n",
       "      <td>...</td>\n",
       "      <td>...</td>\n",
       "      <td>...</td>\n",
       "    </tr>\n",
       "    <tr>\n",
       "      <th>149391</th>\n",
       "      <td>1499_152</td>\n",
       "      <td>318.90</td>\n",
       "      <td>2018-10-03</td>\n",
       "      <td>1499</td>\n",
       "    </tr>\n",
       "    <tr>\n",
       "      <th>149392</th>\n",
       "      <td>1499_153</td>\n",
       "      <td>490.13</td>\n",
       "      <td>2018-12-14</td>\n",
       "      <td>1499</td>\n",
       "    </tr>\n",
       "    <tr>\n",
       "      <th>149393</th>\n",
       "      <td>1499_154</td>\n",
       "      <td>0.00</td>\n",
       "      <td>2018-10-27</td>\n",
       "      <td>1499</td>\n",
       "    </tr>\n",
       "    <tr>\n",
       "      <th>149394</th>\n",
       "      <td>1499_155</td>\n",
       "      <td>1246.32</td>\n",
       "      <td>2018-11-26</td>\n",
       "      <td>1499</td>\n",
       "    </tr>\n",
       "    <tr>\n",
       "      <th>149395</th>\n",
       "      <td>1499_156</td>\n",
       "      <td>544.37</td>\n",
       "      <td>2018-10-26</td>\n",
       "      <td>1499</td>\n",
       "    </tr>\n",
       "  </tbody>\n",
       "</table>\n",
       "<p>149396 rows × 4 columns</p>\n",
       "</div>"
      ],
      "text/plain": [
       "              id  mb_used session_date  user_id\n",
       "0         1000_0   112.95   2018-11-25     1000\n",
       "1         1000_1  1052.81   2018-09-07     1000\n",
       "2         1000_2  1197.26   2018-06-25     1000\n",
       "3         1000_3   550.27   2018-08-22     1000\n",
       "4         1000_4   302.56   2018-09-24     1000\n",
       "...          ...      ...          ...      ...\n",
       "149391  1499_152   318.90   2018-10-03     1499\n",
       "149392  1499_153   490.13   2018-12-14     1499\n",
       "149393  1499_154     0.00   2018-10-27     1499\n",
       "149394  1499_155  1246.32   2018-11-26     1499\n",
       "149395  1499_156   544.37   2018-10-26     1499\n",
       "\n",
       "[149396 rows x 4 columns]"
      ]
     },
     "execution_count": 52,
     "metadata": {},
     "output_type": "execute_result"
    }
   ],
   "source": [
    "internet"
   ]
  },
  {
   "cell_type": "code",
   "execution_count": 53,
   "metadata": {},
   "outputs": [
    {
     "data": {
      "text/plain": [
       "149396"
      ]
     },
     "execution_count": 53,
     "metadata": {},
     "output_type": "execute_result"
    }
   ],
   "source": [
    "len(internet['id'].unique())"
   ]
  },
  {
   "cell_type": "markdown",
   "metadata": {},
   "source": [
    "Значения идентификаторов уникальны"
   ]
  },
  {
   "cell_type": "code",
   "execution_count": 54,
   "metadata": {},
   "outputs": [
    {
     "data": {
      "text/plain": [
       "count   149396.00\n",
       "mean       370.19\n",
       "std        278.30\n",
       "min          0.00\n",
       "25%        138.19\n",
       "50%        348.01\n",
       "75%        559.55\n",
       "max       1724.83\n",
       "Name: mb_used, dtype: float64"
      ]
     },
     "execution_count": 54,
     "metadata": {},
     "output_type": "execute_result"
    }
   ],
   "source": [
    "internet['mb_used'].describe()"
   ]
  },
  {
   "cell_type": "code",
   "execution_count": 55,
   "metadata": {},
   "outputs": [
    {
     "data": {
      "text/plain": [
       "13.118155773916303"
      ]
     },
     "execution_count": 55,
     "metadata": {},
     "output_type": "execute_result"
    }
   ],
   "source": [
    "internet.loc[internet['mb_used'] == 0, 'mb_used'].count() / internet.shape[0] * 100"
   ]
  },
  {
   "cell_type": "markdown",
   "metadata": {},
   "source": [
    "Пользователи иногда не используют Интернет? Да, такое может быть"
   ]
  },
  {
   "cell_type": "code",
   "execution_count": 56,
   "metadata": {},
   "outputs": [
    {
     "data": {
      "text/plain": [
       "count                  149396\n",
       "unique                    365\n",
       "top       2018-12-31 00:00:00\n",
       "freq                     1057\n",
       "first     2018-01-01 00:00:00\n",
       "last      2018-12-31 00:00:00\n",
       "Name: session_date, dtype: object"
      ]
     },
     "execution_count": 56,
     "metadata": {},
     "output_type": "execute_result"
    }
   ],
   "source": [
    "internet['session_date'].describe()"
   ]
  },
  {
   "cell_type": "markdown",
   "metadata": {},
   "source": [
    "Аномальные значения отсутствуют"
   ]
  },
  {
   "cell_type": "code",
   "execution_count": 57,
   "metadata": {},
   "outputs": [
    {
     "data": {
      "text/html": [
       "<div>\n",
       "<style scoped>\n",
       "    .dataframe tbody tr th:only-of-type {\n",
       "        vertical-align: middle;\n",
       "    }\n",
       "\n",
       "    .dataframe tbody tr th {\n",
       "        vertical-align: top;\n",
       "    }\n",
       "\n",
       "    .dataframe thead th {\n",
       "        text-align: right;\n",
       "    }\n",
       "</style>\n",
       "<table border=\"1\" class=\"dataframe\">\n",
       "  <thead>\n",
       "    <tr style=\"text-align: right;\">\n",
       "      <th></th>\n",
       "      <th>id</th>\n",
       "      <th>mb_used</th>\n",
       "      <th>session_date</th>\n",
       "      <th>user_id</th>\n",
       "    </tr>\n",
       "  </thead>\n",
       "  <tbody>\n",
       "  </tbody>\n",
       "</table>\n",
       "</div>"
      ],
      "text/plain": [
       "Empty DataFrame\n",
       "Columns: [id, mb_used, session_date, user_id]\n",
       "Index: []"
      ]
     },
     "execution_count": 57,
     "metadata": {},
     "output_type": "execute_result"
    }
   ],
   "source": [
    "internet.loc[~internet['user_id'].isin(user_ids),:]"
   ]
  },
  {
   "cell_type": "markdown",
   "metadata": {},
   "source": [
    "Ссылки на идентификаторы пользователей корректны"
   ]
  },
  {
   "cell_type": "markdown",
   "metadata": {},
   "source": [
    "***Промежуточный итог***  \n",
    "  \n",
    "Аномальные значения в таблице *internet* отсутствуют."
   ]
  },
  {
   "cell_type": "markdown",
   "metadata": {},
   "source": [
    "#### 2.1.2.4 Таблица *messages*"
   ]
  },
  {
   "cell_type": "code",
   "execution_count": 58,
   "metadata": {},
   "outputs": [
    {
     "data": {
      "text/html": [
       "<div>\n",
       "<style scoped>\n",
       "    .dataframe tbody tr th:only-of-type {\n",
       "        vertical-align: middle;\n",
       "    }\n",
       "\n",
       "    .dataframe tbody tr th {\n",
       "        vertical-align: top;\n",
       "    }\n",
       "\n",
       "    .dataframe thead th {\n",
       "        text-align: right;\n",
       "    }\n",
       "</style>\n",
       "<table border=\"1\" class=\"dataframe\">\n",
       "  <thead>\n",
       "    <tr style=\"text-align: right;\">\n",
       "      <th></th>\n",
       "      <th>id</th>\n",
       "      <th>message_date</th>\n",
       "      <th>user_id</th>\n",
       "    </tr>\n",
       "  </thead>\n",
       "  <tbody>\n",
       "    <tr>\n",
       "      <th>0</th>\n",
       "      <td>1000_0</td>\n",
       "      <td>2018-06-27</td>\n",
       "      <td>1000</td>\n",
       "    </tr>\n",
       "    <tr>\n",
       "      <th>1</th>\n",
       "      <td>1000_1</td>\n",
       "      <td>2018-10-08</td>\n",
       "      <td>1000</td>\n",
       "    </tr>\n",
       "    <tr>\n",
       "      <th>2</th>\n",
       "      <td>1000_2</td>\n",
       "      <td>2018-08-04</td>\n",
       "      <td>1000</td>\n",
       "    </tr>\n",
       "    <tr>\n",
       "      <th>3</th>\n",
       "      <td>1000_3</td>\n",
       "      <td>2018-06-16</td>\n",
       "      <td>1000</td>\n",
       "    </tr>\n",
       "    <tr>\n",
       "      <th>4</th>\n",
       "      <td>1000_4</td>\n",
       "      <td>2018-12-05</td>\n",
       "      <td>1000</td>\n",
       "    </tr>\n",
       "    <tr>\n",
       "      <th>...</th>\n",
       "      <td>...</td>\n",
       "      <td>...</td>\n",
       "      <td>...</td>\n",
       "    </tr>\n",
       "    <tr>\n",
       "      <th>123031</th>\n",
       "      <td>1499_179</td>\n",
       "      <td>2018-12-12</td>\n",
       "      <td>1499</td>\n",
       "    </tr>\n",
       "    <tr>\n",
       "      <th>123032</th>\n",
       "      <td>1499_180</td>\n",
       "      <td>2018-09-28</td>\n",
       "      <td>1499</td>\n",
       "    </tr>\n",
       "    <tr>\n",
       "      <th>123033</th>\n",
       "      <td>1499_181</td>\n",
       "      <td>2018-09-27</td>\n",
       "      <td>1499</td>\n",
       "    </tr>\n",
       "    <tr>\n",
       "      <th>123034</th>\n",
       "      <td>1499_182</td>\n",
       "      <td>2018-11-15</td>\n",
       "      <td>1499</td>\n",
       "    </tr>\n",
       "    <tr>\n",
       "      <th>123035</th>\n",
       "      <td>1499_183</td>\n",
       "      <td>2018-11-16</td>\n",
       "      <td>1499</td>\n",
       "    </tr>\n",
       "  </tbody>\n",
       "</table>\n",
       "<p>123036 rows × 3 columns</p>\n",
       "</div>"
      ],
      "text/plain": [
       "              id message_date  user_id\n",
       "0         1000_0   2018-06-27     1000\n",
       "1         1000_1   2018-10-08     1000\n",
       "2         1000_2   2018-08-04     1000\n",
       "3         1000_3   2018-06-16     1000\n",
       "4         1000_4   2018-12-05     1000\n",
       "...          ...          ...      ...\n",
       "123031  1499_179   2018-12-12     1499\n",
       "123032  1499_180   2018-09-28     1499\n",
       "123033  1499_181   2018-09-27     1499\n",
       "123034  1499_182   2018-11-15     1499\n",
       "123035  1499_183   2018-11-16     1499\n",
       "\n",
       "[123036 rows x 3 columns]"
      ]
     },
     "execution_count": 58,
     "metadata": {},
     "output_type": "execute_result"
    }
   ],
   "source": [
    "messages"
   ]
  },
  {
   "cell_type": "code",
   "execution_count": 59,
   "metadata": {},
   "outputs": [
    {
     "data": {
      "text/plain": [
       "123036"
      ]
     },
     "execution_count": 59,
     "metadata": {},
     "output_type": "execute_result"
    }
   ],
   "source": [
    "len(messages['id'].unique())"
   ]
  },
  {
   "cell_type": "markdown",
   "metadata": {},
   "source": [
    "Значения идентификаторов уникальны"
   ]
  },
  {
   "cell_type": "code",
   "execution_count": 60,
   "metadata": {},
   "outputs": [
    {
     "data": {
      "text/plain": [
       "count                  123036\n",
       "unique                    364\n",
       "top       2018-12-31 00:00:00\n",
       "freq                      859\n",
       "first     2018-01-02 00:00:00\n",
       "last      2018-12-31 00:00:00\n",
       "Name: message_date, dtype: object"
      ]
     },
     "execution_count": 60,
     "metadata": {},
     "output_type": "execute_result"
    }
   ],
   "source": [
    "messages['message_date'].describe()"
   ]
  },
  {
   "cell_type": "markdown",
   "metadata": {},
   "source": [
    "Аномальные значения отсутствуют"
   ]
  },
  {
   "cell_type": "code",
   "execution_count": 61,
   "metadata": {},
   "outputs": [
    {
     "data": {
      "text/html": [
       "<div>\n",
       "<style scoped>\n",
       "    .dataframe tbody tr th:only-of-type {\n",
       "        vertical-align: middle;\n",
       "    }\n",
       "\n",
       "    .dataframe tbody tr th {\n",
       "        vertical-align: top;\n",
       "    }\n",
       "\n",
       "    .dataframe thead th {\n",
       "        text-align: right;\n",
       "    }\n",
       "</style>\n",
       "<table border=\"1\" class=\"dataframe\">\n",
       "  <thead>\n",
       "    <tr style=\"text-align: right;\">\n",
       "      <th></th>\n",
       "      <th>id</th>\n",
       "      <th>message_date</th>\n",
       "      <th>user_id</th>\n",
       "    </tr>\n",
       "  </thead>\n",
       "  <tbody>\n",
       "  </tbody>\n",
       "</table>\n",
       "</div>"
      ],
      "text/plain": [
       "Empty DataFrame\n",
       "Columns: [id, message_date, user_id]\n",
       "Index: []"
      ]
     },
     "execution_count": 61,
     "metadata": {},
     "output_type": "execute_result"
    }
   ],
   "source": [
    "messages.loc[~messages['user_id'].isin(user_ids),:]"
   ]
  },
  {
   "cell_type": "markdown",
   "metadata": {},
   "source": [
    "Ссылки на идентификаторы пользователей корректны"
   ]
  },
  {
   "cell_type": "markdown",
   "metadata": {},
   "source": [
    "***Промежуточный итог***  \n",
    "  \n",
    "Аномальные значения в таблице *messages* отсутствуют."
   ]
  },
  {
   "cell_type": "markdown",
   "metadata": {},
   "source": [
    "#### 2.1.2.5 Таблица *tariffs*"
   ]
  },
  {
   "cell_type": "code",
   "execution_count": 62,
   "metadata": {},
   "outputs": [
    {
     "data": {
      "text/html": [
       "<div>\n",
       "<style scoped>\n",
       "    .dataframe tbody tr th:only-of-type {\n",
       "        vertical-align: middle;\n",
       "    }\n",
       "\n",
       "    .dataframe tbody tr th {\n",
       "        vertical-align: top;\n",
       "    }\n",
       "\n",
       "    .dataframe thead th {\n",
       "        text-align: right;\n",
       "    }\n",
       "</style>\n",
       "<table border=\"1\" class=\"dataframe\">\n",
       "  <thead>\n",
       "    <tr style=\"text-align: right;\">\n",
       "      <th></th>\n",
       "      <th>messages_included</th>\n",
       "      <th>mb_per_month_included</th>\n",
       "      <th>minutes_included</th>\n",
       "      <th>rub_monthly_fee</th>\n",
       "      <th>rub_per_gb</th>\n",
       "      <th>rub_per_message</th>\n",
       "      <th>rub_per_minute</th>\n",
       "      <th>tariff_name</th>\n",
       "    </tr>\n",
       "  </thead>\n",
       "  <tbody>\n",
       "    <tr>\n",
       "      <th>0</th>\n",
       "      <td>50</td>\n",
       "      <td>15360</td>\n",
       "      <td>500</td>\n",
       "      <td>550</td>\n",
       "      <td>200</td>\n",
       "      <td>3</td>\n",
       "      <td>3</td>\n",
       "      <td>smart</td>\n",
       "    </tr>\n",
       "    <tr>\n",
       "      <th>1</th>\n",
       "      <td>1000</td>\n",
       "      <td>30720</td>\n",
       "      <td>3000</td>\n",
       "      <td>1950</td>\n",
       "      <td>150</td>\n",
       "      <td>1</td>\n",
       "      <td>1</td>\n",
       "      <td>ultra</td>\n",
       "    </tr>\n",
       "  </tbody>\n",
       "</table>\n",
       "</div>"
      ],
      "text/plain": [
       "   messages_included  mb_per_month_included  minutes_included  \\\n",
       "0                 50                  15360               500   \n",
       "1               1000                  30720              3000   \n",
       "\n",
       "   rub_monthly_fee  rub_per_gb  rub_per_message  rub_per_minute tariff_name  \n",
       "0              550         200                3               3       smart  \n",
       "1             1950         150                1               1       ultra  "
      ]
     },
     "execution_count": 62,
     "metadata": {},
     "output_type": "execute_result"
    }
   ],
   "source": [
    "tariffs"
   ]
  },
  {
   "cell_type": "markdown",
   "metadata": {},
   "source": [
    "***Промежуточный итог***  \n",
    "  \n",
    "Аномальные значения в таблице *tariffs* отсутствуют."
   ]
  },
  {
   "cell_type": "markdown",
   "metadata": {},
   "source": [
    "## 2.2 Анализ данных"
   ]
  },
  {
   "cell_type": "code",
   "execution_count": 63,
   "metadata": {},
   "outputs": [
    {
     "name": "stdout",
     "output_type": "stream",
     "text": [
      "\"Smart\" users count: 351\n"
     ]
    }
   ],
   "source": [
    "# Выделение пользователй и связанных с ними данных, использующих тариф smart\n",
    "\n",
    "users_id_smart = users.loc[users['tariff'] == 'smart', 'user_id'].unique()\n",
    "\n",
    "print('\"Smart\" users count:', len(users_id_smart))\n",
    "\n",
    "users_smart = users.loc[users['user_id'].isin(users_id_smart), :]\n",
    "calls_smart = calls.loc[calls['user_id'].isin(users_id_smart), :]\n",
    "internet_smart = internet.loc[internet['user_id'].isin(users_id_smart), :]\n",
    "messages_smart = messages.loc[messages['user_id'].isin(users_id_smart), :]"
   ]
  },
  {
   "cell_type": "markdown",
   "metadata": {},
   "source": [
    "Для простоты и удобства анализа выделим средние месячные значения количества разговоров, общей длительности разговоров, объема израсходованного трафика и СМС для каждого пользователя по обоим тарифам."
   ]
  },
  {
   "cell_type": "code",
   "execution_count": 64,
   "metadata": {},
   "outputs": [
    {
     "name": "stderr",
     "output_type": "stream",
     "text": [
      "g:\\Anaconda\\lib\\site-packages\\pandas\\core\\indexing.py:845: SettingWithCopyWarning: \n",
      "A value is trying to be set on a copy of a slice from a DataFrame.\n",
      "Try using .loc[row_indexer,col_indexer] = value instead\n",
      "\n",
      "See the caveats in the documentation: https://pandas.pydata.org/pandas-docs/stable/user_guide/indexing.html#returning-a-view-versus-a-copy\n",
      "  self.obj[key] = _infer_fill_value(value)\n",
      "g:\\Anaconda\\lib\\site-packages\\pandas\\core\\indexing.py:966: SettingWithCopyWarning: \n",
      "A value is trying to be set on a copy of a slice from a DataFrame.\n",
      "Try using .loc[row_indexer,col_indexer] = value instead\n",
      "\n",
      "See the caveats in the documentation: https://pandas.pydata.org/pandas-docs/stable/user_guide/indexing.html#returning-a-view-versus-a-copy\n",
      "  self.obj[item] = s\n"
     ]
    }
   ],
   "source": [
    "# Определение среднего количества контента и выручки по каждому месяцу для каждого абонента тарифа smart\n",
    "\n",
    "SMART_receipt_total = meaning(SMART, users_smart, calls_smart, internet_smart, messages_smart)"
   ]
  },
  {
   "cell_type": "code",
   "execution_count": 65,
   "metadata": {},
   "outputs": [
    {
     "data": {
      "text/html": [
       "<div>\n",
       "<style scoped>\n",
       "    .dataframe tbody tr th:only-of-type {\n",
       "        vertical-align: middle;\n",
       "    }\n",
       "\n",
       "    .dataframe tbody tr th {\n",
       "        vertical-align: top;\n",
       "    }\n",
       "\n",
       "    .dataframe thead th {\n",
       "        text-align: right;\n",
       "    }\n",
       "</style>\n",
       "<table border=\"1\" class=\"dataframe\">\n",
       "  <thead>\n",
       "    <tr style=\"text-align: right;\">\n",
       "      <th></th>\n",
       "      <th>user_id</th>\n",
       "      <th>age</th>\n",
       "      <th>churn_date</th>\n",
       "      <th>city</th>\n",
       "      <th>first_name</th>\n",
       "      <th>last_name</th>\n",
       "      <th>reg_date</th>\n",
       "      <th>tariff</th>\n",
       "      <th>mothtly_calls_mean</th>\n",
       "      <th>mothtly_internet_mean</th>\n",
       "      <th>mothtly_messages_mean</th>\n",
       "      <th>receipt_mean</th>\n",
       "    </tr>\n",
       "  </thead>\n",
       "  <tbody>\n",
       "    <tr>\n",
       "      <th>0</th>\n",
       "      <td>1001</td>\n",
       "      <td>41</td>\n",
       "      <td>1970-01-01</td>\n",
       "      <td>Москва</td>\n",
       "      <td>Иван</td>\n",
       "      <td>Ежов</td>\n",
       "      <td>2018-11-01</td>\n",
       "      <td>smart</td>\n",
       "      <td>67.00</td>\n",
       "      <td>2706.00</td>\n",
       "      <td>0.00</td>\n",
       "      <td>600.00</td>\n",
       "    </tr>\n",
       "    <tr>\n",
       "      <th>1</th>\n",
       "      <td>1002</td>\n",
       "      <td>59</td>\n",
       "      <td>1970-01-01</td>\n",
       "      <td>Стерлитамак</td>\n",
       "      <td>Евгений</td>\n",
       "      <td>Абрамович</td>\n",
       "      <td>2018-06-17</td>\n",
       "      <td>smart</td>\n",
       "      <td>120.00</td>\n",
       "      <td>9671.00</td>\n",
       "      <td>6.00</td>\n",
       "      <td>833.33</td>\n",
       "    </tr>\n",
       "    <tr>\n",
       "      <th>2</th>\n",
       "      <td>1005</td>\n",
       "      <td>67</td>\n",
       "      <td>1970-01-01</td>\n",
       "      <td>Набережные Челны</td>\n",
       "      <td>Афанасий</td>\n",
       "      <td>Горлов</td>\n",
       "      <td>2018-01-25</td>\n",
       "      <td>smart</td>\n",
       "      <td>521.00</td>\n",
       "      <td>8308.00</td>\n",
       "      <td>46.00</td>\n",
       "      <td>753.75</td>\n",
       "    </tr>\n",
       "    <tr>\n",
       "      <th>3</th>\n",
       "      <td>1006</td>\n",
       "      <td>21</td>\n",
       "      <td>1970-01-01</td>\n",
       "      <td>Ульяновск</td>\n",
       "      <td>Леонид</td>\n",
       "      <td>Ермолаев</td>\n",
       "      <td>2018-02-26</td>\n",
       "      <td>smart</td>\n",
       "      <td>275.00</td>\n",
       "      <td>13683.00</td>\n",
       "      <td>0.00</td>\n",
       "      <td>900.00</td>\n",
       "    </tr>\n",
       "    <tr>\n",
       "      <th>4</th>\n",
       "      <td>1007</td>\n",
       "      <td>65</td>\n",
       "      <td>1970-01-01</td>\n",
       "      <td>Москва</td>\n",
       "      <td>Юна</td>\n",
       "      <td>Березина</td>\n",
       "      <td>2018-04-19</td>\n",
       "      <td>smart</td>\n",
       "      <td>346.00</td>\n",
       "      <td>10970.00</td>\n",
       "      <td>19.00</td>\n",
       "      <td>793.08</td>\n",
       "    </tr>\n",
       "    <tr>\n",
       "      <th>...</th>\n",
       "      <td>...</td>\n",
       "      <td>...</td>\n",
       "      <td>...</td>\n",
       "      <td>...</td>\n",
       "      <td>...</td>\n",
       "      <td>...</td>\n",
       "      <td>...</td>\n",
       "      <td>...</td>\n",
       "      <td>...</td>\n",
       "      <td>...</td>\n",
       "      <td>...</td>\n",
       "      <td>...</td>\n",
       "    </tr>\n",
       "    <tr>\n",
       "      <th>346</th>\n",
       "      <td>1494</td>\n",
       "      <td>62</td>\n",
       "      <td>1970-01-01</td>\n",
       "      <td>Омск</td>\n",
       "      <td>Ренат</td>\n",
       "      <td>Андропов</td>\n",
       "      <td>2018-08-17</td>\n",
       "      <td>smart</td>\n",
       "      <td>153.00</td>\n",
       "      <td>6417.00</td>\n",
       "      <td>0.00</td>\n",
       "      <td>733.33</td>\n",
       "    </tr>\n",
       "    <tr>\n",
       "      <th>347</th>\n",
       "      <td>1496</td>\n",
       "      <td>36</td>\n",
       "      <td>1970-01-01</td>\n",
       "      <td>Вологда</td>\n",
       "      <td>Трифон</td>\n",
       "      <td>Блохин</td>\n",
       "      <td>2018-01-27</td>\n",
       "      <td>smart</td>\n",
       "      <td>473.00</td>\n",
       "      <td>22579.00</td>\n",
       "      <td>39.00</td>\n",
       "      <td>2308.33</td>\n",
       "    </tr>\n",
       "    <tr>\n",
       "      <th>348</th>\n",
       "      <td>1497</td>\n",
       "      <td>32</td>\n",
       "      <td>1970-01-01</td>\n",
       "      <td>Челябинск</td>\n",
       "      <td>Каролина</td>\n",
       "      <td>Агеева</td>\n",
       "      <td>2018-10-09</td>\n",
       "      <td>smart</td>\n",
       "      <td>111.00</td>\n",
       "      <td>3799.00</td>\n",
       "      <td>5.00</td>\n",
       "      <td>637.33</td>\n",
       "    </tr>\n",
       "    <tr>\n",
       "      <th>349</th>\n",
       "      <td>1498</td>\n",
       "      <td>68</td>\n",
       "      <td>2018-10-25</td>\n",
       "      <td>Владикавказ</td>\n",
       "      <td>Всеволод</td>\n",
       "      <td>Акимчин</td>\n",
       "      <td>2018-07-19</td>\n",
       "      <td>smart</td>\n",
       "      <td>102.00</td>\n",
       "      <td>6203.00</td>\n",
       "      <td>14.00</td>\n",
       "      <td>919.67</td>\n",
       "    </tr>\n",
       "    <tr>\n",
       "      <th>350</th>\n",
       "      <td>1499</td>\n",
       "      <td>35</td>\n",
       "      <td>1970-01-01</td>\n",
       "      <td>Пермь</td>\n",
       "      <td>Гектор</td>\n",
       "      <td>Корнилов</td>\n",
       "      <td>2018-09-27</td>\n",
       "      <td>smart</td>\n",
       "      <td>129.00</td>\n",
       "      <td>4222.00</td>\n",
       "      <td>16.00</td>\n",
       "      <td>675.50</td>\n",
       "    </tr>\n",
       "  </tbody>\n",
       "</table>\n",
       "<p>351 rows × 12 columns</p>\n",
       "</div>"
      ],
      "text/plain": [
       "     user_id  age churn_date              city first_name  last_name  \\\n",
       "0       1001   41 1970-01-01            Москва       Иван       Ежов   \n",
       "1       1002   59 1970-01-01       Стерлитамак    Евгений  Абрамович   \n",
       "2       1005   67 1970-01-01  Набережные Челны   Афанасий     Горлов   \n",
       "3       1006   21 1970-01-01         Ульяновск     Леонид   Ермолаев   \n",
       "4       1007   65 1970-01-01            Москва        Юна   Березина   \n",
       "..       ...  ...        ...               ...        ...        ...   \n",
       "346     1494   62 1970-01-01              Омск      Ренат   Андропов   \n",
       "347     1496   36 1970-01-01           Вологда     Трифон     Блохин   \n",
       "348     1497   32 1970-01-01         Челябинск   Каролина     Агеева   \n",
       "349     1498   68 2018-10-25       Владикавказ   Всеволод    Акимчин   \n",
       "350     1499   35 1970-01-01             Пермь     Гектор   Корнилов   \n",
       "\n",
       "      reg_date tariff  mothtly_calls_mean  mothtly_internet_mean  \\\n",
       "0   2018-11-01  smart               67.00                2706.00   \n",
       "1   2018-06-17  smart              120.00                9671.00   \n",
       "2   2018-01-25  smart              521.00                8308.00   \n",
       "3   2018-02-26  smart              275.00               13683.00   \n",
       "4   2018-04-19  smart              346.00               10970.00   \n",
       "..         ...    ...                 ...                    ...   \n",
       "346 2018-08-17  smart              153.00                6417.00   \n",
       "347 2018-01-27  smart              473.00               22579.00   \n",
       "348 2018-10-09  smart              111.00                3799.00   \n",
       "349 2018-07-19  smart              102.00                6203.00   \n",
       "350 2018-09-27  smart              129.00                4222.00   \n",
       "\n",
       "     mothtly_messages_mean  receipt_mean  \n",
       "0                     0.00        600.00  \n",
       "1                     6.00        833.33  \n",
       "2                    46.00        753.75  \n",
       "3                     0.00        900.00  \n",
       "4                    19.00        793.08  \n",
       "..                     ...           ...  \n",
       "346                   0.00        733.33  \n",
       "347                  39.00       2308.33  \n",
       "348                   5.00        637.33  \n",
       "349                  14.00        919.67  \n",
       "350                  16.00        675.50  \n",
       "\n",
       "[351 rows x 12 columns]"
      ]
     },
     "execution_count": 65,
     "metadata": {},
     "output_type": "execute_result"
    }
   ],
   "source": [
    "users_smart"
   ]
  },
  {
   "cell_type": "code",
   "execution_count": 66,
   "metadata": {},
   "outputs": [
    {
     "name": "stdout",
     "output_type": "stream",
     "text": [
      "\"Ultra\" users count: 149\n"
     ]
    }
   ],
   "source": [
    "# Выделение пользователй и связанных с ними данных, использующих тариф ultra\n",
    "\n",
    "users_id_ultra = users.loc[users['tariff'] == 'ultra', 'user_id'].unique()\n",
    "\n",
    "print('\"Ultra\" users count:', len(users_id_ultra))\n",
    "\n",
    "users_ultra = users.loc[users['user_id'].isin(users_id_ultra), :]\n",
    "calls_ultra = calls.loc[calls['user_id'].isin(users_id_ultra), :]\n",
    "internet_ultra = internet.loc[internet['user_id'].isin(users_id_ultra), :]\n",
    "messages_ultra = messages.loc[messages['user_id'].isin(users_id_ultra), :]"
   ]
  },
  {
   "cell_type": "code",
   "execution_count": 67,
   "metadata": {},
   "outputs": [
    {
     "name": "stderr",
     "output_type": "stream",
     "text": [
      "g:\\Anaconda\\lib\\site-packages\\pandas\\core\\indexing.py:845: SettingWithCopyWarning: \n",
      "A value is trying to be set on a copy of a slice from a DataFrame.\n",
      "Try using .loc[row_indexer,col_indexer] = value instead\n",
      "\n",
      "See the caveats in the documentation: https://pandas.pydata.org/pandas-docs/stable/user_guide/indexing.html#returning-a-view-versus-a-copy\n",
      "  self.obj[key] = _infer_fill_value(value)\n",
      "g:\\Anaconda\\lib\\site-packages\\pandas\\core\\indexing.py:966: SettingWithCopyWarning: \n",
      "A value is trying to be set on a copy of a slice from a DataFrame.\n",
      "Try using .loc[row_indexer,col_indexer] = value instead\n",
      "\n",
      "See the caveats in the documentation: https://pandas.pydata.org/pandas-docs/stable/user_guide/indexing.html#returning-a-view-versus-a-copy\n",
      "  self.obj[item] = s\n"
     ]
    }
   ],
   "source": [
    "# Определение среднего количества контента по каждому месяцу для каждого абонента тарифа ultra\n",
    "\n",
    "ULTRA_receipt_total = meaning(ULTRA, users_ultra, calls_ultra, internet_ultra, messages_ultra)"
   ]
  },
  {
   "cell_type": "code",
   "execution_count": 68,
   "metadata": {},
   "outputs": [
    {
     "data": {
      "text/html": [
       "<div>\n",
       "<style scoped>\n",
       "    .dataframe tbody tr th:only-of-type {\n",
       "        vertical-align: middle;\n",
       "    }\n",
       "\n",
       "    .dataframe tbody tr th {\n",
       "        vertical-align: top;\n",
       "    }\n",
       "\n",
       "    .dataframe thead th {\n",
       "        text-align: right;\n",
       "    }\n",
       "</style>\n",
       "<table border=\"1\" class=\"dataframe\">\n",
       "  <thead>\n",
       "    <tr style=\"text-align: right;\">\n",
       "      <th></th>\n",
       "      <th>user_id</th>\n",
       "      <th>age</th>\n",
       "      <th>churn_date</th>\n",
       "      <th>city</th>\n",
       "      <th>first_name</th>\n",
       "      <th>last_name</th>\n",
       "      <th>reg_date</th>\n",
       "      <th>tariff</th>\n",
       "      <th>mothtly_calls_mean</th>\n",
       "      <th>mothtly_internet_mean</th>\n",
       "      <th>mothtly_messages_mean</th>\n",
       "      <th>receipt_mean</th>\n",
       "    </tr>\n",
       "  </thead>\n",
       "  <tbody>\n",
       "    <tr>\n",
       "      <th>0</th>\n",
       "      <td>1000</td>\n",
       "      <td>52</td>\n",
       "      <td>1970-01-01</td>\n",
       "      <td>Краснодар</td>\n",
       "      <td>Рафаил</td>\n",
       "      <td>Верещагин</td>\n",
       "      <td>2018-05-25</td>\n",
       "      <td>ultra</td>\n",
       "      <td>202.00</td>\n",
       "      <td>8950.00</td>\n",
       "      <td>42.00</td>\n",
       "      <td>1950.00</td>\n",
       "    </tr>\n",
       "    <tr>\n",
       "      <th>1</th>\n",
       "      <td>1003</td>\n",
       "      <td>23</td>\n",
       "      <td>1970-01-01</td>\n",
       "      <td>Москва</td>\n",
       "      <td>Белла</td>\n",
       "      <td>Белякова</td>\n",
       "      <td>2018-08-17</td>\n",
       "      <td>ultra</td>\n",
       "      <td>301.00</td>\n",
       "      <td>4774.00</td>\n",
       "      <td>32.00</td>\n",
       "      <td>1950.00</td>\n",
       "    </tr>\n",
       "    <tr>\n",
       "      <th>2</th>\n",
       "      <td>1004</td>\n",
       "      <td>68</td>\n",
       "      <td>1970-01-01</td>\n",
       "      <td>Новокузнецк</td>\n",
       "      <td>Татьяна</td>\n",
       "      <td>Авдеенко</td>\n",
       "      <td>2018-05-14</td>\n",
       "      <td>ultra</td>\n",
       "      <td>78.00</td>\n",
       "      <td>12421.00</td>\n",
       "      <td>100.00</td>\n",
       "      <td>1950.00</td>\n",
       "    </tr>\n",
       "    <tr>\n",
       "      <th>3</th>\n",
       "      <td>1013</td>\n",
       "      <td>36</td>\n",
       "      <td>1970-01-01</td>\n",
       "      <td>Иваново</td>\n",
       "      <td>Борис</td>\n",
       "      <td>Андреенко</td>\n",
       "      <td>2018-11-14</td>\n",
       "      <td>ultra</td>\n",
       "      <td>74.00</td>\n",
       "      <td>2544.00</td>\n",
       "      <td>4.00</td>\n",
       "      <td>1950.00</td>\n",
       "    </tr>\n",
       "    <tr>\n",
       "      <th>4</th>\n",
       "      <td>1016</td>\n",
       "      <td>58</td>\n",
       "      <td>1970-01-01</td>\n",
       "      <td>Омск</td>\n",
       "      <td>Марица</td>\n",
       "      <td>Сазонова</td>\n",
       "      <td>2018-11-21</td>\n",
       "      <td>ultra</td>\n",
       "      <td>10.00</td>\n",
       "      <td>2235.00</td>\n",
       "      <td>12.00</td>\n",
       "      <td>1950.00</td>\n",
       "    </tr>\n",
       "    <tr>\n",
       "      <th>...</th>\n",
       "      <td>...</td>\n",
       "      <td>...</td>\n",
       "      <td>...</td>\n",
       "      <td>...</td>\n",
       "      <td>...</td>\n",
       "      <td>...</td>\n",
       "      <td>...</td>\n",
       "      <td>...</td>\n",
       "      <td>...</td>\n",
       "      <td>...</td>\n",
       "      <td>...</td>\n",
       "      <td>...</td>\n",
       "    </tr>\n",
       "    <tr>\n",
       "      <th>144</th>\n",
       "      <td>1476</td>\n",
       "      <td>50</td>\n",
       "      <td>1970-01-01</td>\n",
       "      <td>Москва</td>\n",
       "      <td>Валентина</td>\n",
       "      <td>Семенова</td>\n",
       "      <td>2018-04-30</td>\n",
       "      <td>ultra</td>\n",
       "      <td>332.00</td>\n",
       "      <td>12525.00</td>\n",
       "      <td>4.00</td>\n",
       "      <td>1950.00</td>\n",
       "    </tr>\n",
       "    <tr>\n",
       "      <th>145</th>\n",
       "      <td>1485</td>\n",
       "      <td>34</td>\n",
       "      <td>1970-01-01</td>\n",
       "      <td>Киров</td>\n",
       "      <td>Таисия</td>\n",
       "      <td>Сухова</td>\n",
       "      <td>2018-12-29</td>\n",
       "      <td>ultra</td>\n",
       "      <td>46.00</td>\n",
       "      <td>1952.00</td>\n",
       "      <td>13.00</td>\n",
       "      <td>1950.00</td>\n",
       "    </tr>\n",
       "    <tr>\n",
       "      <th>146</th>\n",
       "      <td>1491</td>\n",
       "      <td>56</td>\n",
       "      <td>1970-01-01</td>\n",
       "      <td>Челябинск</td>\n",
       "      <td>Радислав</td>\n",
       "      <td>Андрейкин</td>\n",
       "      <td>2018-04-25</td>\n",
       "      <td>ultra</td>\n",
       "      <td>363.00</td>\n",
       "      <td>13456.00</td>\n",
       "      <td>36.00</td>\n",
       "      <td>1950.00</td>\n",
       "    </tr>\n",
       "    <tr>\n",
       "      <th>147</th>\n",
       "      <td>1493</td>\n",
       "      <td>71</td>\n",
       "      <td>1970-01-01</td>\n",
       "      <td>Красноярск</td>\n",
       "      <td>Таисия</td>\n",
       "      <td>Ахматулина</td>\n",
       "      <td>2018-11-24</td>\n",
       "      <td>ultra</td>\n",
       "      <td>59.00</td>\n",
       "      <td>4536.00</td>\n",
       "      <td>8.00</td>\n",
       "      <td>2100.00</td>\n",
       "    </tr>\n",
       "    <tr>\n",
       "      <th>148</th>\n",
       "      <td>1495</td>\n",
       "      <td>65</td>\n",
       "      <td>1970-01-01</td>\n",
       "      <td>Иркутск</td>\n",
       "      <td>Авксентий</td>\n",
       "      <td>Фокин</td>\n",
       "      <td>2018-08-28</td>\n",
       "      <td>ultra</td>\n",
       "      <td>308.00</td>\n",
       "      <td>10618.00</td>\n",
       "      <td>29.00</td>\n",
       "      <td>2100.00</td>\n",
       "    </tr>\n",
       "  </tbody>\n",
       "</table>\n",
       "<p>149 rows × 12 columns</p>\n",
       "</div>"
      ],
      "text/plain": [
       "     user_id  age churn_date         city first_name   last_name   reg_date  \\\n",
       "0       1000   52 1970-01-01    Краснодар     Рафаил   Верещагин 2018-05-25   \n",
       "1       1003   23 1970-01-01       Москва      Белла    Белякова 2018-08-17   \n",
       "2       1004   68 1970-01-01  Новокузнецк    Татьяна    Авдеенко 2018-05-14   \n",
       "3       1013   36 1970-01-01      Иваново      Борис   Андреенко 2018-11-14   \n",
       "4       1016   58 1970-01-01         Омск     Марица    Сазонова 2018-11-21   \n",
       "..       ...  ...        ...          ...        ...         ...        ...   \n",
       "144     1476   50 1970-01-01       Москва  Валентина    Семенова 2018-04-30   \n",
       "145     1485   34 1970-01-01        Киров     Таисия      Сухова 2018-12-29   \n",
       "146     1491   56 1970-01-01    Челябинск   Радислав   Андрейкин 2018-04-25   \n",
       "147     1493   71 1970-01-01   Красноярск     Таисия  Ахматулина 2018-11-24   \n",
       "148     1495   65 1970-01-01      Иркутск  Авксентий       Фокин 2018-08-28   \n",
       "\n",
       "    tariff  mothtly_calls_mean  mothtly_internet_mean  mothtly_messages_mean  \\\n",
       "0    ultra              202.00                8950.00                  42.00   \n",
       "1    ultra              301.00                4774.00                  32.00   \n",
       "2    ultra               78.00               12421.00                 100.00   \n",
       "3    ultra               74.00                2544.00                   4.00   \n",
       "4    ultra               10.00                2235.00                  12.00   \n",
       "..     ...                 ...                    ...                    ...   \n",
       "144  ultra              332.00               12525.00                   4.00   \n",
       "145  ultra               46.00                1952.00                  13.00   \n",
       "146  ultra              363.00               13456.00                  36.00   \n",
       "147  ultra               59.00                4536.00                   8.00   \n",
       "148  ultra              308.00               10618.00                  29.00   \n",
       "\n",
       "     receipt_mean  \n",
       "0         1950.00  \n",
       "1         1950.00  \n",
       "2         1950.00  \n",
       "3         1950.00  \n",
       "4         1950.00  \n",
       "..            ...  \n",
       "144       1950.00  \n",
       "145       1950.00  \n",
       "146       1950.00  \n",
       "147       2100.00  \n",
       "148       2100.00  \n",
       "\n",
       "[149 rows x 12 columns]"
      ]
     },
     "execution_count": 68,
     "metadata": {},
     "output_type": "execute_result"
    }
   ],
   "source": [
    "users_ultra"
   ]
  },
  {
   "cell_type": "code",
   "execution_count": 69,
   "metadata": {},
   "outputs": [
    {
     "data": {
      "text/html": [
       "<div>\n",
       "<style scoped>\n",
       "    .dataframe tbody tr th:only-of-type {\n",
       "        vertical-align: middle;\n",
       "    }\n",
       "\n",
       "    .dataframe tbody tr th {\n",
       "        vertical-align: top;\n",
       "    }\n",
       "\n",
       "    .dataframe thead th {\n",
       "        text-align: right;\n",
       "    }\n",
       "</style>\n",
       "<table border=\"1\" class=\"dataframe\">\n",
       "  <thead>\n",
       "    <tr style=\"text-align: right;\">\n",
       "      <th></th>\n",
       "      <th>age</th>\n",
       "      <th>mothtly_calls_mean</th>\n",
       "      <th>mothtly_internet_mean</th>\n",
       "      <th>mothtly_messages_mean</th>\n",
       "      <th>receipt_mean</th>\n",
       "    </tr>\n",
       "  </thead>\n",
       "  <tbody>\n",
       "    <tr>\n",
       "      <th>count</th>\n",
       "      <td>351.00</td>\n",
       "      <td>351.00</td>\n",
       "      <td>351.00</td>\n",
       "      <td>351.00</td>\n",
       "      <td>351.00</td>\n",
       "    </tr>\n",
       "    <tr>\n",
       "      <th>mean</th>\n",
       "      <td>46.46</td>\n",
       "      <td>209.43</td>\n",
       "      <td>8578.23</td>\n",
       "      <td>17.97</td>\n",
       "      <td>924.45</td>\n",
       "    </tr>\n",
       "    <tr>\n",
       "      <th>std</th>\n",
       "      <td>16.58</td>\n",
       "      <td>137.88</td>\n",
       "      <td>5029.98</td>\n",
       "      <td>18.61</td>\n",
       "      <td>343.14</td>\n",
       "    </tr>\n",
       "    <tr>\n",
       "      <th>min</th>\n",
       "      <td>18.00</td>\n",
       "      <td>0.00</td>\n",
       "      <td>0.00</td>\n",
       "      <td>0.00</td>\n",
       "      <td>550.00</td>\n",
       "    </tr>\n",
       "    <tr>\n",
       "      <th>25%</th>\n",
       "      <td>32.00</td>\n",
       "      <td>101.00</td>\n",
       "      <td>4319.50</td>\n",
       "      <td>4.00</td>\n",
       "      <td>658.29</td>\n",
       "    </tr>\n",
       "    <tr>\n",
       "      <th>50%</th>\n",
       "      <td>47.00</td>\n",
       "      <td>182.00</td>\n",
       "      <td>8137.00</td>\n",
       "      <td>12.00</td>\n",
       "      <td>833.33</td>\n",
       "    </tr>\n",
       "    <tr>\n",
       "      <th>75%</th>\n",
       "      <td>62.00</td>\n",
       "      <td>300.00</td>\n",
       "      <td>11999.50</td>\n",
       "      <td>27.00</td>\n",
       "      <td>1104.33</td>\n",
       "    </tr>\n",
       "    <tr>\n",
       "      <th>max</th>\n",
       "      <td>75.00</td>\n",
       "      <td>674.00</td>\n",
       "      <td>22579.00</td>\n",
       "      <td>91.00</td>\n",
       "      <td>2308.33</td>\n",
       "    </tr>\n",
       "    <tr>\n",
       "      <th>var</th>\n",
       "      <td>-</td>\n",
       "      <td>18956.76</td>\n",
       "      <td>25228574.79</td>\n",
       "      <td>345.31</td>\n",
       "      <td>117412.60</td>\n",
       "    </tr>\n",
       "  </tbody>\n",
       "</table>\n",
       "</div>"
      ],
      "text/plain": [
       "         age  mothtly_calls_mean  mothtly_internet_mean  \\\n",
       "count 351.00              351.00                 351.00   \n",
       "mean   46.46              209.43                8578.23   \n",
       "std    16.58              137.88                5029.98   \n",
       "min    18.00                0.00                   0.00   \n",
       "25%    32.00              101.00                4319.50   \n",
       "50%    47.00              182.00                8137.00   \n",
       "75%    62.00              300.00               11999.50   \n",
       "max    75.00              674.00               22579.00   \n",
       "var        -            18956.76            25228574.79   \n",
       "\n",
       "       mothtly_messages_mean  receipt_mean  \n",
       "count                 351.00        351.00  \n",
       "mean                   17.97        924.45  \n",
       "std                    18.61        343.14  \n",
       "min                     0.00        550.00  \n",
       "25%                     4.00        658.29  \n",
       "50%                    12.00        833.33  \n",
       "75%                    27.00       1104.33  \n",
       "max                    91.00       2308.33  \n",
       "var                   345.31     117412.60  "
      ]
     },
     "execution_count": 69,
     "metadata": {},
     "output_type": "execute_result"
    }
   ],
   "source": [
    "users_smart_describe = users_smart.describe().drop(['user_id'], axis='columns')\n",
    "users_smart_describe.loc['var', 'age'] = '-'\n",
    "users_smart_describe.loc['var', 'mothtly_calls_mean'] = var(users_smart['mothtly_calls_mean'])\n",
    "users_smart_describe.loc['var', 'mothtly_internet_mean'] = var(users_smart['mothtly_internet_mean'])\n",
    "users_smart_describe.loc['var', 'mothtly_messages_mean'] = var(users_smart['mothtly_messages_mean'])\n",
    "users_smart_describe.loc['var', 'receipt_mean'] = var(users_smart['receipt_mean'])\n",
    "users_smart_describe"
   ]
  },
  {
   "cell_type": "code",
   "execution_count": 70,
   "metadata": {},
   "outputs": [
    {
     "data": {
      "text/html": [
       "<div>\n",
       "<style scoped>\n",
       "    .dataframe tbody tr th:only-of-type {\n",
       "        vertical-align: middle;\n",
       "    }\n",
       "\n",
       "    .dataframe tbody tr th {\n",
       "        vertical-align: top;\n",
       "    }\n",
       "\n",
       "    .dataframe thead th {\n",
       "        text-align: right;\n",
       "    }\n",
       "</style>\n",
       "<table border=\"1\" class=\"dataframe\">\n",
       "  <thead>\n",
       "    <tr style=\"text-align: right;\">\n",
       "      <th></th>\n",
       "      <th>age</th>\n",
       "      <th>mothtly_calls_mean</th>\n",
       "      <th>mothtly_internet_mean</th>\n",
       "      <th>mothtly_messages_mean</th>\n",
       "      <th>receipt_mean</th>\n",
       "    </tr>\n",
       "  </thead>\n",
       "  <tbody>\n",
       "    <tr>\n",
       "      <th>count</th>\n",
       "      <td>149.00</td>\n",
       "      <td>149.00</td>\n",
       "      <td>149.00</td>\n",
       "      <td>149.00</td>\n",
       "      <td>149.00</td>\n",
       "    </tr>\n",
       "    <tr>\n",
       "      <th>mean</th>\n",
       "      <td>46.90</td>\n",
       "      <td>274.53</td>\n",
       "      <td>10725.96</td>\n",
       "      <td>27.50</td>\n",
       "      <td>2016.19</td>\n",
       "    </tr>\n",
       "    <tr>\n",
       "      <th>std</th>\n",
       "      <td>16.92</td>\n",
       "      <td>211.64</td>\n",
       "      <td>7341.04</td>\n",
       "      <td>28.19</td>\n",
       "      <td>157.47</td>\n",
       "    </tr>\n",
       "    <tr>\n",
       "      <th>min</th>\n",
       "      <td>18.00</td>\n",
       "      <td>0.00</td>\n",
       "      <td>0.00</td>\n",
       "      <td>0.00</td>\n",
       "      <td>1950.00</td>\n",
       "    </tr>\n",
       "    <tr>\n",
       "      <th>25%</th>\n",
       "      <td>31.00</td>\n",
       "      <td>91.00</td>\n",
       "      <td>4954.00</td>\n",
       "      <td>5.00</td>\n",
       "      <td>1950.00</td>\n",
       "    </tr>\n",
       "    <tr>\n",
       "      <th>50%</th>\n",
       "      <td>46.00</td>\n",
       "      <td>251.00</td>\n",
       "      <td>8951.00</td>\n",
       "      <td>21.00</td>\n",
       "      <td>1950.00</td>\n",
       "    </tr>\n",
       "    <tr>\n",
       "      <th>75%</th>\n",
       "      <td>63.00</td>\n",
       "      <td>391.00</td>\n",
       "      <td>14582.00</td>\n",
       "      <td>39.00</td>\n",
       "      <td>1975.00</td>\n",
       "    </tr>\n",
       "    <tr>\n",
       "      <th>max</th>\n",
       "      <td>75.00</td>\n",
       "      <td>1022.00</td>\n",
       "      <td>31367.00</td>\n",
       "      <td>122.00</td>\n",
       "      <td>2862.50</td>\n",
       "    </tr>\n",
       "    <tr>\n",
       "      <th>var</th>\n",
       "      <td>-</td>\n",
       "      <td>44489.22</td>\n",
       "      <td>53529184.94</td>\n",
       "      <td>789.14</td>\n",
       "      <td>24629.83</td>\n",
       "    </tr>\n",
       "  </tbody>\n",
       "</table>\n",
       "</div>"
      ],
      "text/plain": [
       "         age  mothtly_calls_mean  mothtly_internet_mean  \\\n",
       "count 149.00              149.00                 149.00   \n",
       "mean   46.90              274.53               10725.96   \n",
       "std    16.92              211.64                7341.04   \n",
       "min    18.00                0.00                   0.00   \n",
       "25%    31.00               91.00                4954.00   \n",
       "50%    46.00              251.00                8951.00   \n",
       "75%    63.00              391.00               14582.00   \n",
       "max    75.00             1022.00               31367.00   \n",
       "var        -            44489.22            53529184.94   \n",
       "\n",
       "       mothtly_messages_mean  receipt_mean  \n",
       "count                 149.00        149.00  \n",
       "mean                   27.50       2016.19  \n",
       "std                    28.19        157.47  \n",
       "min                     0.00       1950.00  \n",
       "25%                     5.00       1950.00  \n",
       "50%                    21.00       1950.00  \n",
       "75%                    39.00       1975.00  \n",
       "max                   122.00       2862.50  \n",
       "var                   789.14      24629.83  "
      ]
     },
     "execution_count": 70,
     "metadata": {},
     "output_type": "execute_result"
    }
   ],
   "source": [
    "users_ultra_describe = users_ultra.describe().drop(['user_id'], axis='columns')\n",
    "users_ultra_describe.loc['var', 'age'] = '-'\n",
    "users_ultra_describe.loc['var', 'mothtly_calls_mean'] = var(users_ultra['mothtly_calls_mean'])\n",
    "users_ultra_describe.loc['var', 'mothtly_internet_mean'] = var(users_ultra['mothtly_internet_mean'])\n",
    "users_ultra_describe.loc['var', 'mothtly_messages_mean'] = var(users_ultra['mothtly_messages_mean'])\n",
    "users_ultra_describe.loc['var', 'receipt_mean'] = var(users_ultra['receipt_mean'])\n",
    "users_ultra_describe"
   ]
  },
  {
   "cell_type": "markdown",
   "metadata": {},
   "source": [
    "Данные этих таблиц говорят о том, что пользователи тарифа ULTRA разговаривают, расходуют трафик и СМС больше пользователей тарифа SMART, средняя выручка тарифа ULTRA больше средней выручки тарифа SMART."
   ]
  },
  {
   "cell_type": "markdown",
   "metadata": {},
   "source": [
    "### 2.2.1 Средняя длительность разговоров  "
   ]
  },
  {
   "cell_type": "code",
   "execution_count": 71,
   "metadata": {},
   "outputs": [
    {
     "data": {
      "image/png": "[encoded data removed]",
      "text/plain": [
       "<Figure size 1080x576 with 6 Axes>"
      ]
     },
     "metadata": {
      "needs_background": "light"
     },
     "output_type": "display_data"
    }
   ],
   "source": [
    "# Сравнительное отображение средней длительности разговоров\n",
    "\n",
    "draw_graphs('mothtly_calls_mean', 'SMART, разговоров в месяц', 'ULTRA, разговоров в месяц', 'Разговоры, мин')"
   ]
  },
  {
   "cell_type": "code",
   "execution_count": 72,
   "metadata": {},
   "outputs": [
    {
     "name": "stdout",
     "output_type": "stream",
     "text": [
      "SMART, over limit clients: 11 (3.133903133903134 %)\n",
      "SMART, over limit content: 6046.0 (8.224731329070876 %)\n"
     ]
    }
   ],
   "source": [
    "over_contents_print('SMART', users_smart, 'mothtly_calls_mean', 500)"
   ]
  },
  {
   "cell_type": "markdown",
   "metadata": {},
   "source": [
    "Пользователи тарифа SMART в подавляющем большинстве разговаривают в среднем до 200 минут в месяц. При этом 11 пользователей (3% от общего числа) в среднем тратят на разговоры в месяц минут больше, чем предусмотрено в тарифе. Это превышение составляет в среднем 8% от общей суммы всех разговоров.\n",
    "  \n",
    "Пользователи тарифа ULTRA в подавляющем большинстве разговаривают до 400 минут в месяц, при этом пользователи, которые выходили бы за лимиты тарифа по разговорам отсутствуют."
   ]
  },
  {
   "cell_type": "markdown",
   "metadata": {},
   "source": [
    "### 2.2.2 Среднее количество трафика"
   ]
  },
  {
   "cell_type": "code",
   "execution_count": 73,
   "metadata": {},
   "outputs": [
    {
     "data": {
      "image/png": "[encoded data removed]",
      "text/plain": [
       "<Figure size 1080x576 with 6 Axes>"
      ]
     },
     "metadata": {
      "needs_background": "light"
     },
     "output_type": "display_data"
    }
   ],
   "source": [
    "# Сравнительное отображение среднего количества трафика\n",
    "\n",
    "draw_graphs('mothtly_internet_mean', 'SMART, интернет в месяц', 'ULTRA, интернет в месяц', 'Трафик, Мбайт')"
   ]
  },
  {
   "cell_type": "code",
   "execution_count": 74,
   "metadata": {},
   "outputs": [
    {
     "name": "stdout",
     "output_type": "stream",
     "text": [
      "SMART, over limit clients: 43 (12.250712250712251 %)\n",
      "SMART, over limit content: 748053.0 (24.844335361479395 %)\n"
     ]
    }
   ],
   "source": [
    "over_contents_print('SMART', users_smart, 'mothtly_internet_mean', 15000)"
   ]
  },
  {
   "cell_type": "code",
   "execution_count": 75,
   "metadata": {},
   "outputs": [
    {
     "name": "stdout",
     "output_type": "stream",
     "text": [
      "ULTRA, over limit clients: 2 (1.342281879194631 %)\n",
      "ULTRA, over limit content: 62721.0 (3.924556116753683 %)\n"
     ]
    }
   ],
   "source": [
    "over_contents_print('ULTRA', users_ultra, 'mothtly_internet_mean', 30000)"
   ]
  },
  {
   "cell_type": "markdown",
   "metadata": {},
   "source": [
    "Пользователи тарифа SMART активно используют интеренет -- подавляющее количество пользователей в среднем расходуют трафик до 15 ГБ в месяц. При этом 12% пользователей от общего их числа тратят трафика в месяц больше, чем предусмотрено в тарифе. Это превышение составляет в среднем почти 25% от общего объёма всего трафика.\n",
    "  \n",
    "Пользователи тарифа ULTRA используют интернет меньше, основная масса -- в среднем в пределах 15 ГБ (из 30 ГБ предусмотренных в тарифе). При этом 1% пользователей от общего их числа тратят трафика в месяц больше, чем предусмотрено в тарифе. Это превышение составляет в среднем почти 4% от общего объёма всего трафика."
   ]
  },
  {
   "cell_type": "markdown",
   "metadata": {},
   "source": [
    "### 2.2.3 Среднее количество СМС"
   ]
  },
  {
   "cell_type": "code",
   "execution_count": 76,
   "metadata": {},
   "outputs": [
    {
     "data": {
      "image/png": "[encoded data removed]",
      "text/plain": [
       "<Figure size 1080x576 with 6 Axes>"
      ]
     },
     "metadata": {
      "needs_background": "light"
     },
     "output_type": "display_data"
    }
   ],
   "source": [
    "# Сравнительное отображение среднего количества СМС\n",
    "\n",
    "draw_graphs('mothtly_messages_mean', 'SMART, СМС в месяц', 'ULTRA, СМС в месяц', 'Сообщения, шт.')"
   ]
  },
  {
   "cell_type": "code",
   "execution_count": 77,
   "metadata": {},
   "outputs": [
    {
     "name": "stdout",
     "output_type": "stream",
     "text": [
      "Over limit clients: 26 ( 7.4074074074074066 % )\n",
      "Over limit SMS: 1646.0 ( 26.089713108258046 % )\n"
     ]
    }
   ],
   "source": [
    "print('Over limit clients:', users_smart.loc[users_smart['mothtly_messages_mean'] > 50, 'user_id'].count(), '(',\n",
    "      users_smart.loc[users_smart['mothtly_messages_mean'] > 50, 'user_id'].count() / users_smart.shape[0] * 100, '% )')\n",
    "print('Over limit SMS:', users_smart.loc[users_smart['mothtly_messages_mean'] > 50, 'mothtly_messages_mean'].sum(),\n",
    "      '(',  users_smart.loc[users_smart['mothtly_messages_mean'] > 50, 'mothtly_messages_mean'].sum()\n",
    "          / users_smart['mothtly_messages_mean'].sum() * 100, '% )')"
   ]
  },
  {
   "cell_type": "markdown",
   "metadata": {},
   "source": [
    "Пользователи тарифа SMART в подавляющем большинстве пересылают до 30 СМС в месяц. При этом 7% пользователей от их общего числа тратят СМС больше, чем предусмотрено в тарифе. Это превышение составляет 26% от общего количества всех СМС.\n",
    "  \n",
    "Пользователи тарифа ULTRA также в подавляющем большинстве пересылают до 50 СМС в месяц, при этом пользователи, которые выходили бы за лимиты тарифа по количеству СМС отсутствуют."
   ]
  },
  {
   "cell_type": "markdown",
   "metadata": {},
   "source": [
    "### 2.2.4 Средняя выручка"
   ]
  },
  {
   "cell_type": "code",
   "execution_count": 78,
   "metadata": {},
   "outputs": [
    {
     "data": {
      "image/png": "[encoded data removed]",
      "text/plain": [
       "<Figure size 1080x576 with 6 Axes>"
      ]
     },
     "metadata": {
      "needs_background": "light"
     },
     "output_type": "display_data"
    }
   ],
   "source": [
    "users_smart_mos = users_smart.loc[users_smart['city'] == 'Москва', :]\n",
    "users_ultra_mos = users_ultra.loc[users_ultra['city'] == 'Москва', :]\n",
    "\n",
    "users_smart_nonmos = users_smart.loc[users_smart['city'] != 'Москва', :]\n",
    "users_ultra_nonmos = users_ultra.loc[users_ultra['city'] != 'Москва', :]\n",
    "\n",
    "peceipt_graphs()"
   ]
  },
  {
   "cell_type": "markdown",
   "metadata": {},
   "source": [
    "Средняя выручка тарифа ULTRA выше средней выручки тарифа SMART. При этом средняя выручка пользователей из Москвы для тарифа ULTRA наибольшая из всех. Средняя выручка пользователей тарифа SMART из Москвы ниже средней выручки пользоателей данного тарифа из регионов. Картина ожидаемая -- максимальная выручка дорого тарифа приходится на пользовоталей из Москвы"
   ]
  },
  {
   "cell_type": "markdown",
   "metadata": {},
   "source": [
    "***Промежуточный итог***  \n",
    "  \n",
    "По итогам проведённого анализа можно сделать следующие выводы:\n",
    "\n",
    "- пользователи тарифа SMART в подавляющем большинстве разговаривают в среднем до 200 минут в месяц; при этом 11 пользователей (3% от общего числа) в среднем тратят на разговоры в месяц минут больше, чем предусмотрено в тарифе; это превышение составляет в среднем 8% от общей суммы всех разговоров; пользователи тарифа ULTRA в подавляющем большинстве разговаривают до 400 минут в месяц, при этом пользователи, которые выходили бы за лимиты тарифа по разговорам отсутствуют;\n",
    "\n",
    "- пользователи тарифа SMART активно используют интеренет -- подавляющее количество пользователей в среднем расходуют трафик до 15 ГБ в месяц; при этом 12% пользователей от общего их числа тратят трафика в месяц больше, чем предусмотрено в тарифе; это превышение составляет в среднем почти 25% от общего объёма всего трафика; пользователи тарифа ULTRA используют интернет меньше, основная масса -- в среднем в пределах 15 ГБ (из 30 ГБ предусмотренных в тарифе); при этом 1% пользователей от общего их числа тратят трафика в месяц больше, чем предусмотрено в тарифе; это превышение составляет в среднем почти 4% от общего объёма всего трафика.\n",
    "\n",
    "- пользователи тарифа SMART в подавляющем большинстве в среднем пересылают до 30 СМС в месяц. При этом 7% пользователей от их общего числа тратят СМС больше, чем предусмотрено в тарифе. Это превышение составляет в среднем 26% от общего количества всех СМС; пользователи тарифа ULTRA в подавляющем большинстве в среднем пересылают до 50 СМС в месяц, при этом пользователи, которые выходили бы за лимиты тарифа по количеству СМС отсутствуют."
   ]
  },
  {
   "cell_type": "markdown",
   "metadata": {},
   "source": [
    "## 2.3 Проверка гипотез"
   ]
  },
  {
   "cell_type": "code",
   "execution_count": 79,
   "metadata": {},
   "outputs": [
    {
     "name": "stdout",
     "output_type": "stream",
     "text": [
      "Полная выручка по тарифу SMART: 194556.0\n",
      "Полная выручка по тарифу ULTRA: 292350.0\n",
      "Средняя выручка пользователей тарифа SMART: 924.45\n",
      "Средняя выручка пользователей тарифа ULTRA: 2016.19\n",
      "Средняя выручка пользователей тарифа SMART из Москвы: 865.85\n",
      "Средняя выручка пользователей тарифа ULTRA из Москвы: 2022.66\n",
      "Средняя выручка пользователей тарифа SMART из регионов: 938.28\n",
      "Средняя выручка пользователей тарифа ULTRA из регионов: 2014.42\n"
     ]
    }
   ],
   "source": [
    "print('Полная выручка по тарифу SMART:',SMART_receipt_total)\n",
    "print('Полная выручка по тарифу ULTRA:',ULTRA_receipt_total)\n",
    "print('Средняя выручка пользователей тарифа SMART: {:.2f}'.format(users_smart['receipt_mean'].describe()['mean']))\n",
    "print('Средняя выручка пользователей тарифа ULTRA: {:.2f}'.format(users_ultra['receipt_mean'].describe()['mean']))\n",
    "print('Средняя выручка пользователей тарифа SMART из Москвы: {:.2f}'.format(users_smart_mos['receipt_mean'].describe()['mean']))\n",
    "print('Средняя выручка пользователей тарифа ULTRA из Москвы: {:.2f}'.format(users_ultra_mos['receipt_mean'].describe()['mean']))\n",
    "print('Средняя выручка пользователей тарифа SMART из регионов: {:.2f}'.format(users_smart_nonmos['receipt_mean'].describe()['mean']))\n",
    "print('Средняя выручка пользователей тарифа ULTRA из регионов: {:.2f}'.format(users_ultra_nonmos['receipt_mean'].describe()['mean']))"
   ]
  },
  {
   "cell_type": "markdown",
   "metadata": {},
   "source": [
    "Из проведенного выше анализа тариф ULTRA принёс Заказчику большую вырочку, средние выручки тарифа также больше аналогичных тарифа SMART. Переданные нам данные являются выборками из общего числа всех абонентов тарифов (генеральных совокупностей). Чтобы с уверенностью сказать какой из тарифов выгоднее, какой из них приносит больше выручки, необхдимо проверить есть ли статистически значимое различие между средними значениями генеральных совокупностей пользователей двух тарифов. Данную проверку можно осуществить проверив **нулевую гипотезу**:  \n",
    "  \n",
    "$$\n",
    "{H_0}^1: \\mu_1 = \\mu_2,\\\\\n",
    "$$\n",
    "  \n",
    "Тогда **альтернативная гипотеза** примет вид:  \n",
    "\n",
    "$$\n",
    "{H_1}^1: \\mu_1 \\neq \\mu_2,\\\\\n",
    "$$\n",
    "\n",
    "Нулевые и альтернативные гипотезы о равенстве средних значений вырички пользователей из Москвы и регионов примут вид:\n",
    "\n",
    "$$\n",
    "{H_0}^2: \\mu_1^1 = \\mu_1^2\\\\\n",
    "{H_0}^3: \\mu_2^1 = \\mu_2^2\\\\  \n",
    "{H_1}^2: \\mu_1^1 \\neq \\mu_1^2\\\\\n",
    "{H_1}^3: \\mu_2^1 \\neq \\mu_2^2\\\\\n",
    "$$\n",
    "где:  \n",
    "$\\mu_1$ - среднее значение выручки по пользователям тарифа SMART,  \n",
    "$\\mu_2$ - среднее значение выручки по пользователям тарифа ULTRA,  \n",
    "$\\mu_1^1$ - среднее значение выручки по пользователям тарифа SMART из Москвы,  \n",
    "$\\mu_1^2$ - среднее значение выручки по пользователям тарифа SMART из регионов,  \n",
    "$\\mu_2^1$ - среднее значение выручки по пользователям тарифа ULTRA из Москвы,  \n",
    "$\\mu_2^2$ - среднее значение выручки по пользователям тарифа ULTRA из регионов\n",
    "  \n",
    "Для проверки нулевых гипотез необходимо посчитать ***р-уровень*** значимости для статистического различия средних двух генеральных совокупностей по имеющимся у нас выборкам. В соответствии с теорией, поскольку размер выборки значительно больше 30, значимым ***р-уровнем*** ($\\alpha$) можно считать величину 0.05 (5%), поскольку t-распределение средних значений выборок стремиться к нормальному."
   ]
  },
  {
   "cell_type": "code",
   "execution_count": 80,
   "metadata": {},
   "outputs": [
    {
     "name": "stdout",
     "output_type": "stream",
     "text": [
      "p-значение 1:  7.738048730737773e-146\n",
      "p-значение 2:  0.12031509211663416\n",
      "p-значение 3:  0.7942554961534782\n"
     ]
    }
   ],
   "source": [
    "from scipy import stats as st\n",
    "import pandas as pd\n",
    "\n",
    "alpha = 0.05\n",
    "\n",
    "results_1 = st.ttest_ind(users_smart['receipt_mean'], users_ultra['receipt_mean'])\n",
    "results_2 = st.ttest_ind(users_smart_mos['receipt_mean'], users_smart_nonmos['receipt_mean'])\n",
    "results_3 = st.ttest_ind(users_ultra_mos['receipt_mean'], users_ultra_nonmos['receipt_mean'])\n",
    "\n",
    "print('p-значение 1: ', results_1.pvalue)\n",
    "print('p-значение 2: ', results_2.pvalue)\n",
    "print('p-значение 3: ', results_3.pvalue)"
   ]
  },
  {
   "cell_type": "markdown",
   "metadata": {},
   "source": [
    "***Промежуточный итог***  \n",
    "  \n",
    "Расчитанные значения ***р-уровня*** значимости показывают:\n",
    "- нулевая гипотеза ${H_0}^1$ может быть отвергнута;\n",
    "- оснований отвергнуть гипотезы ${H_0}^2, {H_0}^3$ у нас нет. \n",
    "\n",
    "Иными словами, считаем, что средние значения генеральных совокупностей тарифов различаются, причем имеют характер различий, соответствующий имеющимся у нас выборкам -- среднее значение генеральной совокупности тарифа ULTRA больше соответствующей средней тарифа SMART. При этом средние значения выручки по пользователям из Москвы и из регионов не отличаются для обоих тарифов."
   ]
  },
  {
   "cell_type": "markdown",
   "metadata": {},
   "source": [
    "# 3 Вывод"
   ]
  },
  {
   "cell_type": "markdown",
   "metadata": {},
   "source": [
    "В ходе обработки и анализа переданных данных были выполнены преобразования и сделаны выводы, описанные ниже.  \n",
    "  \n",
    "**Предобработка данных**  \n",
    "На этапе обзора данных, удаления null-значений, преобразования типов данных:\n",
    "- удалены столбцы:\n",
    " - таблица internet, столбец \"Unnamed 0\";\n",
    "- удалены пропуски:\n",
    " - таблица users, столбец churn_date;\n",
    "- тип данных заменен на DateTime:\n",
    " - таблица users, столбцы churn_date, reg_date;\n",
    " - таблица calls, столбец call_date;\n",
    " - таблица internet, столбец session_date;\n",
    " - таблица messages, столбец message_date;\n",
    "- не потребовали предобработки:\n",
    " - таблица tariffs.\n",
    "  \n",
    "На этапе поиска и удаления аномальных значений:\n",
    "- аномальные значения отсутствуют:\n",
    " - в таблице users;\n",
    " - в таблице internet;\n",
    " - в таблице messages;\n",
    " - в таблице tariff.\n",
    "  \n",
    "Аномальными значениями в таблице calls были вывзовы длительностью менее 6 секунд, которые из набора данных успешно удалены.  \n",
    "  \n",
    "По итогам проведённого анализа на этапе анализа данных были сделаны следующие выводы:\n",
    "\n",
    "- пользователи тарифа SMART в подавляющем большинстве разговаривают в среднем до 200 минут в месяц; при этом 11 пользователей (3% от общего числа) в среднем тратят на разговоры в месяц минут больше, чем предусмотрено в тарифе; это превышение составляет в среднем 8% от общей суммы всех разговоров; пользователи тарифа ULTRA в подавляющем большинстве разговаривают до 400 минут в месяц, при этом пользователи, которые выходили бы за лимиты тарифа по разговорам отсутствуют;\n",
    "\n",
    "- пользователи тарифа SMART активно используют интеренет -- подавляющее количество пользователей в среднем расходуют трафик до 15 ГБ в месяц; при этом 12% пользователей от общего их числа тратят трафика в месяц больше, чем предусмотрено в тарифе; это превышение составляет в среднем почти 25% от общего объёма всего трафика; пользователи тарифа ULTRA используют интернет меньше, основная масса -- в среднем в пределах 15 ГБ (из 30 ГБ предусмотренных в тарифе); при этом 1% пользователей от общего их числа тратят трафика в месяц больше, чем предусмотрено в тарифе; это превышение составляет в среднем почти 4% от общего объёма всего трафика.\n",
    "\n",
    "- пользователи тарифа SMART в подавляющем большинстве в среднем пересылают до 30 СМС в месяц. При этом 7% пользователей от их общего числа тратят СМС больше, чем предусмотрено в тарифе. Это превышение составляет в среднем 26% от общего количества всех СМС; пользователи тарифа ULTRA в подавляющем большинстве в среднем пересылают до 50 СМС в месяц, при этом пользователи, которые выходили бы за лимиты тарифа по количеству СМС отсутствуют.\n",
    "\n",
    "Результаты проверки гипотез позволили сделать вывод, что средние значения генеральных совокупностей тарифов различаются, причем имеют характер различий, соответствующий имеющимся у нас выборкам -- среднее значение генеральной совокупности тарифа ULTRA больше соответствующей средней тарифа SMART. При этом средние значения выручки по пользователям из Москвы и из регионов не отличаются для обоих тарифов.\n",
    "  \n",
    "Итак, проведённое исследование позволило полчуить следующие ответы:\n",
    "- средняя выручка пользователей тарифов «Ультра» и «Смарт» различается -- средняя выручка ULTRA больше средней выручки SMART;\n",
    "- средняя выручка пользователей из Москвы не отличается от выручки пользователей из других регионов.\n",
    "\n",
    "***Таким образом, \"лучше\", прибыльнее для Заказчика является тариф ULTRA***"
   ]
  }
 ],
 "metadata": {
  "kernelspec": {
   "display_name": "Python 3",
   "language": "python",
   "name": "python3"
  },
  "language_info": {
   "codemirror_mode": {
    "name": "ipython",
    "version": 3
   },
   "file_extension": ".py",
   "mimetype": "text/x-python",
   "name": "python",
   "nbconvert_exporter": "python",
   "pygments_lexer": "ipython3",
   "version": "3.8.3"
  },
  "toc": {
   "base_numbering": 1,
   "nav_menu": {},
   "number_sections": false,
   "sideBar": true,
   "skip_h1_title": false,
   "title_cell": "Table of Contents",
   "title_sidebar": "Contents",
   "toc_cell": false,
   "toc_position": {
    "height": "calc(100% - 180px)",
    "left": "10px",
    "top": "150px",
    "width": "376.806px"
   },
   "toc_section_display": true,
   "toc_window_display": true
  }
 },
 "nbformat": 4,
 "nbformat_minor": 4
}
